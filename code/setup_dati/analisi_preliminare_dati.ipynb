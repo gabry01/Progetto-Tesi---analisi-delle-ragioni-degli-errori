{
 "cells": [
  {
   "attachments": {},
   "cell_type": "markdown",
   "metadata": {},
   "source": [
    "# Import "
   ]
  },
  {
   "cell_type": "code",
   "execution_count": 1,
   "metadata": {},
   "outputs": [],
   "source": [
    "import pandas as pd\n",
    "import matplotlib.pyplot as plt\n",
    "import numpy as np\n",
    "import os\n",
    "import seaborn as sns"
   ]
  },
  {
   "cell_type": "code",
   "execution_count": 2,
   "metadata": {},
   "outputs": [],
   "source": [
    "dataFrameFolder = \"../../dataframe/\""
   ]
  },
  {
   "cell_type": "code",
   "execution_count": 3,
   "metadata": {},
   "outputs": [],
   "source": [
    "df_workers_data = pd.read_csv(dataFrameFolder+\"workers_acl_prolific_200.csv\", sep=',')\n",
    "df_data = pd.read_csv(dataFrameFolder+\"workers_data_prolific_200.csv\", sep=',')\n",
    "df_workers_dim = pd.read_csv(dataFrameFolder+\"workers_dim_sel_prolific_200.csv\", sep=',')\n",
    "df_workers_url = pd.read_csv(dataFrameFolder+\"workers_urls_prolific_200.csv\", sep=',')"
   ]
  },
  {
   "cell_type": "code",
   "execution_count": 4,
   "metadata": {},
   "outputs": [
    {
     "data": {
      "text/html": [
       "<div>\n",
       "<style scoped>\n",
       "    .dataframe tbody tr th:only-of-type {\n",
       "        vertical-align: middle;\n",
       "    }\n",
       "\n",
       "    .dataframe tbody tr th {\n",
       "        vertical-align: top;\n",
       "    }\n",
       "\n",
       "    .dataframe thead th {\n",
       "        text-align: right;\n",
       "    }\n",
       "</style>\n",
       "<table border=\"1\" class=\"dataframe\">\n",
       "  <thead>\n",
       "    <tr style=\"text-align: right;\">\n",
       "      <th></th>\n",
       "      <th>worker_id</th>\n",
       "      <th>paid</th>\n",
       "      <th>task_id</th>\n",
       "      <th>batch_name</th>\n",
       "      <th>unit_id</th>\n",
       "      <th>try_last</th>\n",
       "      <th>try_current</th>\n",
       "      <th>action</th>\n",
       "      <th>time_submit</th>\n",
       "      <th>time_submit_parsed</th>\n",
       "      <th>...</th>\n",
       "      <th>doc_confidence_description</th>\n",
       "      <th>doc_accesses</th>\n",
       "      <th>doc_time_elapsed</th>\n",
       "      <th>doc_time_start</th>\n",
       "      <th>doc_time_end</th>\n",
       "      <th>global_outcome</th>\n",
       "      <th>global_form_validity</th>\n",
       "      <th>gold_checks</th>\n",
       "      <th>time_spent_check</th>\n",
       "      <th>time_check_amount</th>\n",
       "    </tr>\n",
       "  </thead>\n",
       "  <tbody>\n",
       "    <tr>\n",
       "      <th>0</th>\n",
       "      <td>55b645b1fdf99b1c02906872</td>\n",
       "      <td>True</td>\n",
       "      <td>FakeNewsMultidimensional</td>\n",
       "      <td>V4-Prolific-1</td>\n",
       "      <td>unit_145</td>\n",
       "      <td>1</td>\n",
       "      <td>1</td>\n",
       "      <td>Next</td>\n",
       "      <td>Tue, 23 Aug 2022 12:21:27 GMT</td>\n",
       "      <td>2022-08-23 12:21:27 00:00</td>\n",
       "      <td>...</td>\n",
       "      <td>NaN</td>\n",
       "      <td>1.0</td>\n",
       "      <td>171.42</td>\n",
       "      <td>1.661257e+09</td>\n",
       "      <td>1.661257e+09</td>\n",
       "      <td>True</td>\n",
       "      <td>True</td>\n",
       "      <td>True</td>\n",
       "      <td>True</td>\n",
       "      <td>True</td>\n",
       "    </tr>\n",
       "    <tr>\n",
       "      <th>1</th>\n",
       "      <td>55b645b1fdf99b1c02906872</td>\n",
       "      <td>True</td>\n",
       "      <td>FakeNewsMultidimensional</td>\n",
       "      <td>V4-Prolific-1</td>\n",
       "      <td>unit_145</td>\n",
       "      <td>1</td>\n",
       "      <td>1</td>\n",
       "      <td>Finish</td>\n",
       "      <td>Tue, 23 Aug 2022 12:23:46 GMT</td>\n",
       "      <td>2022-08-23 12:23:46 00:00</td>\n",
       "      <td>...</td>\n",
       "      <td>NaN</td>\n",
       "      <td>1.0</td>\n",
       "      <td>156.75</td>\n",
       "      <td>1.661257e+09</td>\n",
       "      <td>1.661257e+09</td>\n",
       "      <td>True</td>\n",
       "      <td>True</td>\n",
       "      <td>True</td>\n",
       "      <td>True</td>\n",
       "      <td>True</td>\n",
       "    </tr>\n",
       "    <tr>\n",
       "      <th>2</th>\n",
       "      <td>55b645b1fdf99b1c02906872</td>\n",
       "      <td>True</td>\n",
       "      <td>FakeNewsMultidimensional</td>\n",
       "      <td>V4-Prolific-1</td>\n",
       "      <td>unit_145</td>\n",
       "      <td>1</td>\n",
       "      <td>1</td>\n",
       "      <td>Next</td>\n",
       "      <td>Tue, 23 Aug 2022 12:02:59 GMT</td>\n",
       "      <td>2022-08-23 12:02:59 00:00</td>\n",
       "      <td>...</td>\n",
       "      <td>NaN</td>\n",
       "      <td>1.0</td>\n",
       "      <td>15.74</td>\n",
       "      <td>1.661256e+09</td>\n",
       "      <td>1.661256e+09</td>\n",
       "      <td>True</td>\n",
       "      <td>True</td>\n",
       "      <td>True</td>\n",
       "      <td>True</td>\n",
       "      <td>True</td>\n",
       "    </tr>\n",
       "    <tr>\n",
       "      <th>3</th>\n",
       "      <td>55b645b1fdf99b1c02906872</td>\n",
       "      <td>True</td>\n",
       "      <td>FakeNewsMultidimensional</td>\n",
       "      <td>V4-Prolific-1</td>\n",
       "      <td>unit_145</td>\n",
       "      <td>1</td>\n",
       "      <td>1</td>\n",
       "      <td>Next</td>\n",
       "      <td>Tue, 23 Aug 2022 12:06:48 GMT</td>\n",
       "      <td>2022-08-23 12:06:48 00:00</td>\n",
       "      <td>...</td>\n",
       "      <td>NaN</td>\n",
       "      <td>1.0</td>\n",
       "      <td>58.01</td>\n",
       "      <td>1.661256e+09</td>\n",
       "      <td>1.661256e+09</td>\n",
       "      <td>True</td>\n",
       "      <td>True</td>\n",
       "      <td>True</td>\n",
       "      <td>True</td>\n",
       "      <td>True</td>\n",
       "    </tr>\n",
       "    <tr>\n",
       "      <th>4</th>\n",
       "      <td>55b645b1fdf99b1c02906872</td>\n",
       "      <td>True</td>\n",
       "      <td>FakeNewsMultidimensional</td>\n",
       "      <td>V4-Prolific-1</td>\n",
       "      <td>unit_145</td>\n",
       "      <td>1</td>\n",
       "      <td>1</td>\n",
       "      <td>Next</td>\n",
       "      <td>Tue, 23 Aug 2022 12:09:17 GMT</td>\n",
       "      <td>2022-08-23 12:09:17 00:00</td>\n",
       "      <td>...</td>\n",
       "      <td>NaN</td>\n",
       "      <td>1.0</td>\n",
       "      <td>34.99</td>\n",
       "      <td>1.661256e+09</td>\n",
       "      <td>1.661256e+09</td>\n",
       "      <td>True</td>\n",
       "      <td>True</td>\n",
       "      <td>True</td>\n",
       "      <td>True</td>\n",
       "      <td>True</td>\n",
       "    </tr>\n",
       "  </tbody>\n",
       "</table>\n",
       "<p>5 rows × 66 columns</p>\n",
       "</div>"
      ],
      "text/plain": [
       "                  worker_id  paid                   task_id     batch_name  \\\n",
       "0  55b645b1fdf99b1c02906872  True  FakeNewsMultidimensional  V4-Prolific-1   \n",
       "1  55b645b1fdf99b1c02906872  True  FakeNewsMultidimensional  V4-Prolific-1   \n",
       "2  55b645b1fdf99b1c02906872  True  FakeNewsMultidimensional  V4-Prolific-1   \n",
       "3  55b645b1fdf99b1c02906872  True  FakeNewsMultidimensional  V4-Prolific-1   \n",
       "4  55b645b1fdf99b1c02906872  True  FakeNewsMultidimensional  V4-Prolific-1   \n",
       "\n",
       "    unit_id  try_last  try_current  action                    time_submit  \\\n",
       "0  unit_145         1            1    Next  Tue, 23 Aug 2022 12:21:27 GMT   \n",
       "1  unit_145         1            1  Finish  Tue, 23 Aug 2022 12:23:46 GMT   \n",
       "2  unit_145         1            1    Next  Tue, 23 Aug 2022 12:02:59 GMT   \n",
       "3  unit_145         1            1    Next  Tue, 23 Aug 2022 12:06:48 GMT   \n",
       "4  unit_145         1            1    Next  Tue, 23 Aug 2022 12:09:17 GMT   \n",
       "\n",
       "          time_submit_parsed  ...  doc_confidence_description doc_accesses  \\\n",
       "0  2022-08-23 12:21:27 00:00  ...                         NaN          1.0   \n",
       "1  2022-08-23 12:23:46 00:00  ...                         NaN          1.0   \n",
       "2  2022-08-23 12:02:59 00:00  ...                         NaN          1.0   \n",
       "3  2022-08-23 12:06:48 00:00  ...                         NaN          1.0   \n",
       "4  2022-08-23 12:09:17 00:00  ...                         NaN          1.0   \n",
       "\n",
       "  doc_time_elapsed  doc_time_start  doc_time_end global_outcome  \\\n",
       "0           171.42    1.661257e+09  1.661257e+09           True   \n",
       "1           156.75    1.661257e+09  1.661257e+09           True   \n",
       "2            15.74    1.661256e+09  1.661256e+09           True   \n",
       "3            58.01    1.661256e+09  1.661256e+09           True   \n",
       "4            34.99    1.661256e+09  1.661256e+09           True   \n",
       "\n",
       "  global_form_validity gold_checks time_spent_check time_check_amount  \n",
       "0                 True        True             True              True  \n",
       "1                 True        True             True              True  \n",
       "2                 True        True             True              True  \n",
       "3                 True        True             True              True  \n",
       "4                 True        True             True              True  \n",
       "\n",
       "[5 rows x 66 columns]"
      ]
     },
     "execution_count": 4,
     "metadata": {},
     "output_type": "execute_result"
    }
   ],
   "source": [
    "df_data.head()"
   ]
  },
  {
   "attachments": {},
   "cell_type": "markdown",
   "metadata": {},
   "source": [
    "colonne"
   ]
  },
  {
   "cell_type": "code",
   "execution_count": 5,
   "metadata": {},
   "outputs": [
    {
     "name": "stdout",
     "output_type": "stream",
     "text": [
      "<class 'pandas.core.frame.DataFrame'>\n",
      "RangeIndex: 1599 entries, 0 to 1598\n",
      "Data columns (total 66 columns):\n",
      " #   Column                                     Non-Null Count  Dtype  \n",
      "---  ------                                     --------------  -----  \n",
      " 0   worker_id                                  1599 non-null   object \n",
      " 1   paid                                       1599 non-null   bool   \n",
      " 2   task_id                                    1599 non-null   object \n",
      " 3   batch_name                                 1599 non-null   object \n",
      " 4   unit_id                                    1599 non-null   object \n",
      " 5   try_last                                   1599 non-null   int64  \n",
      " 6   try_current                                1599 non-null   int64  \n",
      " 7   action                                     1599 non-null   object \n",
      " 8   time_submit                                1599 non-null   object \n",
      " 9   time_submit_parsed                         1599 non-null   object \n",
      " 10  doc_index                                  1599 non-null   float64\n",
      " 11  doc_id                                     1599 non-null   object \n",
      " 12  doc_fact_check_ground_truth_label          1599 non-null   object \n",
      " 13  doc_fact_check_ground_truth_value          1599 non-null   float64\n",
      " 14  doc_fact_check_source                      1599 non-null   object \n",
      " 15  doc_speaker_name                           1599 non-null   object \n",
      " 16  doc_speaker_party                          1399 non-null   object \n",
      " 17  doc_statement_date                         1541 non-null   object \n",
      " 18  doc_statement_description                  1540 non-null   object \n",
      " 19  doc_statement_text                         1599 non-null   object \n",
      " 20  doc_evidence_url                           1599 non-null   object \n",
      " 21  doc_completeness_value                     1599 non-null   float64\n",
      " 22  doc_completeness_label                     1599 non-null   object \n",
      " 23  doc_completeness_index                     1599 non-null   float64\n",
      " 24  doc_completeness_description               0 non-null      float64\n",
      " 25  doc_comprehensibility_value                1599 non-null   float64\n",
      " 26  doc_comprehensibility_label                1599 non-null   object \n",
      " 27  doc_comprehensibility_index                1599 non-null   float64\n",
      " 28  doc_comprehensibility_description          0 non-null      float64\n",
      " 29  doc_precision_value                        1599 non-null   float64\n",
      " 30  doc_precision_label                        1599 non-null   object \n",
      " 31  doc_precision_index                        1599 non-null   float64\n",
      " 32  doc_precision_description                  0 non-null      float64\n",
      " 33  doc_informativeness_value                  1599 non-null   float64\n",
      " 34  doc_informativeness_label                  1599 non-null   object \n",
      " 35  doc_informativeness_index                  1599 non-null   float64\n",
      " 36  doc_informativeness_description            0 non-null      float64\n",
      " 37  doc_unbiasedness_value                     1599 non-null   float64\n",
      " 38  doc_unbiasedness_label                     1599 non-null   object \n",
      " 39  doc_unbiasedness_index                     1599 non-null   float64\n",
      " 40  doc_unbiasedness_description               0 non-null      float64\n",
      " 41  doc_accuracy_value                         1599 non-null   float64\n",
      " 42  doc_accuracy_label                         1599 non-null   object \n",
      " 43  doc_accuracy_index                         1599 non-null   float64\n",
      " 44  doc_accuracy_description                   0 non-null      float64\n",
      " 45  doc_speaker's-trustworthiness_value        1599 non-null   float64\n",
      " 46  doc_speaker's-trustworthiness_label        1599 non-null   object \n",
      " 47  doc_speaker's-trustworthiness_index        1599 non-null   float64\n",
      " 48  doc_speaker's-trustworthiness_description  0 non-null      float64\n",
      " 49  doc_truthfulness_value                     1599 non-null   float64\n",
      " 50  doc_truthfulness_label                     1599 non-null   object \n",
      " 51  doc_truthfulness_index                     1599 non-null   float64\n",
      " 52  doc_truthfulness_description               0 non-null      float64\n",
      " 53  doc_confidence_value                       1599 non-null   float64\n",
      " 54  doc_confidence_label                       1599 non-null   object \n",
      " 55  doc_confidence_index                       1599 non-null   float64\n",
      " 56  doc_confidence_description                 0 non-null      float64\n",
      " 57  doc_accesses                               1599 non-null   float64\n",
      " 58  doc_time_elapsed                           1595 non-null   float64\n",
      " 59  doc_time_start                             1599 non-null   float64\n",
      " 60  doc_time_end                               1599 non-null   float64\n",
      " 61  global_outcome                             1599 non-null   bool   \n",
      " 62  global_form_validity                       1599 non-null   bool   \n",
      " 63  gold_checks                                1599 non-null   bool   \n",
      " 64  time_spent_check                           1599 non-null   bool   \n",
      " 65  time_check_amount                          1599 non-null   bool   \n",
      "dtypes: bool(6), float64(33), int64(2), object(25)\n",
      "memory usage: 759.0+ KB\n"
     ]
    }
   ],
   "source": [
    "df_data.info()"
   ]
  },
  {
   "attachments": {},
   "cell_type": "markdown",
   "metadata": {},
   "source": [
    "Cosa sono le colonne:\n",
    "\n",
    "INFO GENERALI\n",
    "\n",
    "- worker_id -> ID del worker\n",
    "- (paid -> True se il worker è stato pagato o False altrimenti)\n",
    "- (task_id -> FakeNewsMultidimensionale)\n",
    "- (batch_name -> V4-Prolific-1)\n",
    "- unit_id -> ID dell'unità\n",
    "- (try_last -> quante prove ha fatto un worker)\n",
    "- (try_current -> prova che sta facendo adesso)\n",
    "- (time_submit -> TIME che ha submittato una certa cosa)\n",
    "- (time_submit_parsed -> TIME parsato)\n",
    "\n",
    "STATEMENT \n",
    "\n",
    "- doc_index -> posizione con cui viene mostrata all'utente\n",
    "- doc_id -> ID identificativo dello statement che viene mostrato (rispetto alla banca dati che abbiamo di statement)\n",
    "\n",
    "STATEMENT GT\n",
    "\n",
    "- doc_fact_check_ground_truth_label -> GT dello statement -> uno tra : pants-on-fire - false - baerly-true - half-true - mostly-true - true\n",
    "- doc_fact_check_ground_truth_value ->  GT value dello statement: quelli di prima mappati in 0 (pants-on-fire) - 1 (false)  - 2 (baerly-true) - 3 (half-true) - 4 (mostly-true) - 5 (true)\n",
    "- doc_fact_check_source -> da dove viene lo statement => politifact / gold_question\n",
    "\n",
    "INFO speaker\n",
    "\n",
    "- doc_speaker_name -> chi ha pronunciato lo statement (NO NULL)\n",
    "- doc_speaker_party -> partito di chi ha pronunciato (DEM o REP)\n",
    "\n",
    "STATEMENT info generali\n",
    "\n",
    "- doc_statement_date -> data in cui è stato pronunciato lo statement\n",
    "- doc_statement_description -> DATE + descrizione dello statement \n",
    "- doc_statement_text -> testo dello statement (ciò che viene letto dal worker)\n",
    "\n",
    "URL\n",
    "\n",
    "- doc_evidence_url -> url fornito dall'utente per confermare/smentire statement\n",
    "\n",
    "COMPLETEZZA DELLO STATEMENT (per il worker)\n",
    "\n",
    "- doc_completeness_value -> -2 (completely-disagree)  -1 (partially-disagree) 0 (neutral) +1 (partially-agree) +2 (completely-agree)\n",
    "- doc_completeness_label -> completely-disagree - partially-disagree - neutral - partially-agree - completely-agree\n",
    "- doc_completeness_index -> 0 (completely-disagree)  - 1 (partially-disagree) - 2 (neutral) - 3 (partially-agree) - 4 (completely-agree)\n",
    "- (doc_completeness_description -> NULL)\n",
    "\n",
    "quanto lo statement è COMPRENSIBILE (per il worker)\n",
    "\n",
    "- doc_comprensibility_value -> -2 (completely-disagree)  -1 (partially-disagree) 0 (neutral) +1 (partially-agree) +2 (completely-agree)\n",
    "- doc_comprensibility_label -> completely-disagree - partially-disagree - neutral - partially-agree - completely-agree\n",
    "- doc_comprensibility_index -> 0 (completely-disagree)  - 1 (partially-disagree) - 2 (neutral) - 3 (partially-agree) - 4 (completely-agree)\n",
    "- (doc_comprensibility_description -> NULL)\n",
    "\n",
    "Quanto lo STATEMENT DA INFORMAZIONI per essere true/false (per il worker)\n",
    "\n",
    "- doc_informativeness_value -> -2 (completely-disagree)  -1 (partially-disagree) 0 (neutral) +1 (partially-agree) +2 (completely-agree)\n",
    "- doc_informativeness_label -> completely-disagree - partially-disagree - neutral - partially-agree - completely-agree\n",
    "- doc_informativeness_index -> 0 (completely-disagree)  - 1 (partially-disagree) - 2 (neutral) - 3 (partially-agree) - 4 (completely-agree)\n",
    "- (doc_informativeness_description -> NULL)\n",
    "\n",
    "imparzialità DELLO STATEMENT (per il worker)\n",
    "\n",
    "- doc_unbiasedness_value -> -2 (completely-disagree)  -1 (partially-disagree) 0 (neutral) +1 (partially-agree) +2 (completely-agree)\n",
    "- doc_unbiasedness_label -> completely-disagree - partially-disagree - neutral - partially-agree - completely-agree\n",
    "- doc_unbiasedness_index -> 0 (completely-disagree)  - 1 (partially-disagree) - 2 (neutral) - 3 (partially-agree) - 4 (completely-agree)\n",
    "- (doc_unbiasedness_description -> NULL)\n",
    "\n",
    "ACCURATEZZA DELLO STATEMENT (per il worker)\n",
    "\n",
    "- doc_accuracy_value -> -2 (completely-disagree)  -1 (partially-disagree) 0 (neutral) +1 (partially-agree) +2 (completely-agree)\n",
    "- doc_accuracy_label -> completely-disagree - partially-disagree - neutral - partially-agree - completely-agree\n",
    "- doc_accuracy_index -> 0 (completely-disagree)  - 1 (partially-disagree) - 2 (neutral) - 3 (partially-agree) - 4 (completely-agree)\n",
    "- (doc_accuracy_description -> NULL)\n",
    "\n",
    "quanto il worker si FIDA dello SPEAKER\n",
    "\n",
    "- doc_speaker's-trustworthiness_value -> -2 (completely-disagree)  -1 (partially-disagree) 0 (neutral) +1 (partially-agree) +2 (completely-agree)\n",
    "- doc_speaker's-trustworthiness_label -> completely-disagree - partially-disagree - neutral - partially-agree - completely-agree\n",
    "- doc_speaker's-trustworthiness_index -> 0 (completely-disagree)  - 1 (partially-disagree) - 2 (neutral) - 3 (partially-agree) - 4 (completely-agree)\n",
    "- (doc_speaker's-trustworthiness_description -> NULL)\n",
    "\n",
    "VERIDICITA' dello STATEMENT (per il worker)\n",
    "\n",
    "- doc_truthfulness_value -> 0 (lie)  - 1 (false) - 2 (barely-true) - 3 (half-true) - 4 (mostly-true) - 5 (true)\n",
    "- doc_truthfulness_label -> lie - false - berely-true - half-true - mostly-true - true\n",
    "- doc_truthfulness_index -> 0 (lie)  - 1 (false) - 2 (barely-true) - 3 (half-true) - 4 (mostly-true) - 5 (true)\n",
    "- (doc_truthfulness_description -> NULL)\n",
    "\n",
    "CONFIDENZA DELLLO STATEMENT (per il worker)\n",
    "\n",
    "- doc_confidence_value -> -2 (completely-disagree)  -1 (partially-disagree) 0 (neutral) +1 (partially-agree) +2 (completely-agree)\n",
    "- doc_confidence_label -> completely-disagree - partially-disagree - neutral - partially-agree - completely-agree\n",
    "- doc_confidence_index -> 0 (completely-disagree)  - 1 (partially-disagree) - 2 (neutral) - 3 (partially-agree) - 4 (completely-agree)\n",
    "- (doc_confidence_description -> NULL) \n",
    "\n",
    "TEMPI\n",
    "\n",
    "- doc_time_elapsed -> tempo per farlo\n",
    "- doc_time_start -> tempo di inizio\n",
    "- doc_time_end -> tempo di fine\n",
    "\n",
    "CHECKS\n",
    "\n",
    "- (global_outcome)\n",
    "- (global_form_validity)\n",
    "- (gold_checks ->)\n",
    "- (time_spent_checks)\n",
    "- (time spen)\n",
    "\n",
    "\n",
    "NOTA:\n",
    "- tra () quelle che sono inutili --> da eliminare\n",
    "- tengo solo index"
   ]
  },
  {
   "cell_type": "code",
   "execution_count": 6,
   "metadata": {},
   "outputs": [
    {
     "data": {
      "text/plain": [
       "55b645b1fdf99b1c02906872    8\n",
       "614f6bad672ef7cf5ecfd965    8\n",
       "615dbf532dce1f14ef1b3ddc    8\n",
       "6168b61ad8c0d63b37a92109    8\n",
       "6168cbfbad1cc13ba73ade6e    8\n",
       "                           ..\n",
       "5ee5e3b02eebe932ee9559c5    8\n",
       "5f067f5d65bf871ea04329ed    8\n",
       "5f0a7dec44c42c19a6c9f6d9    8\n",
       "6301b7caed960c3930057c7a    8\n",
       "61719bfec06e3136189edb55    7\n",
       "Name: worker_id, Length: 200, dtype: int64"
      ]
     },
     "execution_count": 6,
     "metadata": {},
     "output_type": "execute_result"
    }
   ],
   "source": [
    "df_data[\"worker_id\"].value_counts()"
   ]
  },
  {
   "attachments": {},
   "cell_type": "markdown",
   "metadata": {},
   "source": [
    "    ogni worker ha risposto a 8 domande (6 normali + 2 di controllo )"
   ]
  },
  {
   "cell_type": "code",
   "execution_count": 7,
   "metadata": {},
   "outputs": [
    {
     "data": {
      "text/plain": [
       "GOLD_HIGH                                             200\n",
       "GOLD_LOW                                              200\n",
       "joni-ernst-target-describing-11th-hour-obama-rule-     10\n",
       "joe-biden-said-mass-shootings-tripled-when-assault     10\n",
       "do-republicans-want-throw-doctors-who-break-aborti     10\n",
       "                                                     ... \n",
       "gop-senate-candidate-hinckley-says-there-no-money-     10\n",
       "fact-checking-bernie-sanders-attack-florida-gov-ro     10\n",
       "jd-vance-says-transgender-rights-drives-looming-co     10\n",
       "pennsylvania-us-senate-candidate-kathy-barnette-wa     10\n",
       "research-submitted-fda-consideration-vaccine-autho      9\n",
       "Name: doc_id, Length: 122, dtype: int64"
      ]
     },
     "execution_count": 7,
     "metadata": {},
     "output_type": "execute_result"
    }
   ],
   "source": [
    "df_data[\"doc_id\"].value_counts()"
   ]
  },
  {
   "attachments": {},
   "cell_type": "markdown",
   "metadata": {},
   "source": [
    "    GOLD_HIGH e GOLD_LOW sono state risposte da tutti\n",
    "    le altre sono state risposte da 10 worker ciascuna\n",
    "    in tutto ci sono 120 statement + 2 GOLD"
   ]
  },
  {
   "cell_type": "code",
   "execution_count": 8,
   "metadata": {},
   "outputs": [],
   "source": [
    "columns_to_mantain = [\"unit_id\", \n",
    "                      \"doc_fact_check_source\",\n",
    "                      \"doc_index\", \n",
    "                      \"doc_id\", \n",
    "                      \"doc_statement_text\",\n",
    "                      \"doc_statement_description\", \n",
    "                      \"doc_fact_check_ground_truth_label\", \n",
    "                      \"doc_fact_check_ground_truth_value\", \n",
    "                      \"doc_truthfulness_label\",\n",
    "                      \"doc_truthfulness_index\",\n",
    "                      \"doc_speaker_name\",\n",
    "                      \"doc_speaker_party\",\n",
    "                      \"doc_evidence_url\",\n",
    "                      \"doc_completeness_index\",\n",
    "                      \"doc_comprehensibility_index\",\n",
    "                      \"doc_informativeness_index\",\n",
    "                      \"doc_unbiasedness_index\",\n",
    "                      \"doc_accuracy_index\",\n",
    "                      \"doc_speaker's-trustworthiness_index\",\n",
    "                      \"doc_confidence_index\",\n",
    "                      \"doc_time_elapsed\",\n",
    "                      \"worker_id\"]"
   ]
  },
  {
   "attachments": {},
   "cell_type": "markdown",
   "metadata": {},
   "source": [
    "calcolo quanti statement ci sono per ciascun GT"
   ]
  },
  {
   "cell_type": "code",
   "execution_count": 9,
   "metadata": {},
   "outputs": [],
   "source": [
    "categorie_GT = [ \"pants-on-fire\" , \"false\", \"half-true\" , \"mostly-true\" , \"true\"]"
   ]
  },
  {
   "cell_type": "code",
   "execution_count": 10,
   "metadata": {},
   "outputs": [
    {
     "name": "stdout",
     "output_type": "stream",
     "text": [
      "numero per pants-on-fire = 21\n",
      "numero per false = 20\n",
      "numero per half-true = 20\n",
      "numero per mostly-true = 20\n",
      "numero per true = 21\n"
     ]
    }
   ],
   "source": [
    "for val in categorie_GT:\n",
    "    print(\"numero per \" + val +\" =\" ,len(df_data[df_data['doc_fact_check_ground_truth_label'] == val][\"doc_id\"].unique()))"
   ]
  },
  {
   "attachments": {},
   "cell_type": "markdown",
   "metadata": {},
   "source": [
    "    notiamo che gli estremi hanno 21 e gli altri hanno 20 => questo perchè ci sono le GOLD"
   ]
  },
  {
   "attachments": {},
   "cell_type": "markdown",
   "metadata": {},
   "source": [
    "HA SENSO MANTENRE LE GOLD? -> io le rimuovo (chiedi se ho fatto bene)"
   ]
  },
  {
   "cell_type": "code",
   "execution_count": 11,
   "metadata": {},
   "outputs": [
    {
     "data": {
      "text/html": [
       "<div>\n",
       "<style scoped>\n",
       "    .dataframe tbody tr th:only-of-type {\n",
       "        vertical-align: middle;\n",
       "    }\n",
       "\n",
       "    .dataframe tbody tr th {\n",
       "        vertical-align: top;\n",
       "    }\n",
       "\n",
       "    .dataframe thead th {\n",
       "        text-align: right;\n",
       "    }\n",
       "</style>\n",
       "<table border=\"1\" class=\"dataframe\">\n",
       "  <thead>\n",
       "    <tr style=\"text-align: right;\">\n",
       "      <th></th>\n",
       "      <th>doc_statement_text</th>\n",
       "      <th>worker_id</th>\n",
       "    </tr>\n",
       "  </thead>\n",
       "  <tbody>\n",
       "    <tr>\n",
       "      <th>3</th>\n",
       "      <td>Texas's public high school graduation rate is ...</td>\n",
       "      <td>55b645b1fdf99b1c02906872</td>\n",
       "    </tr>\n",
       "    <tr>\n",
       "      <th>14</th>\n",
       "      <td>Texas's public high school graduation rate is ...</td>\n",
       "      <td>55ca03e1fdf99b2735fc1dde</td>\n",
       "    </tr>\n",
       "    <tr>\n",
       "      <th>20</th>\n",
       "      <td>Texas's public high school graduation rate is ...</td>\n",
       "      <td>5658000ca9872d0011e1ba26</td>\n",
       "    </tr>\n",
       "    <tr>\n",
       "      <th>25</th>\n",
       "      <td>Texas's public high school graduation rate is ...</td>\n",
       "      <td>565bdfcec121fe0012fc3897</td>\n",
       "    </tr>\n",
       "    <tr>\n",
       "      <th>32</th>\n",
       "      <td>Texas's public high school graduation rate is ...</td>\n",
       "      <td>567dd32b4f0ef30006dbb718</td>\n",
       "    </tr>\n",
       "    <tr>\n",
       "      <th>...</th>\n",
       "      <td>...</td>\n",
       "      <td>...</td>\n",
       "    </tr>\n",
       "    <tr>\n",
       "      <th>1566</th>\n",
       "      <td>Texas's public high school graduation rate is ...</td>\n",
       "      <td>62fe9bebf5d09924e321a32c</td>\n",
       "    </tr>\n",
       "    <tr>\n",
       "      <th>1571</th>\n",
       "      <td>Texas's public high school graduation rate is ...</td>\n",
       "      <td>62ff8c9ff1c92a7c721d3fcc</td>\n",
       "    </tr>\n",
       "    <tr>\n",
       "      <th>1577</th>\n",
       "      <td>Texas's public high school graduation rate is ...</td>\n",
       "      <td>62ffe924cae68af25dd6c1d3</td>\n",
       "    </tr>\n",
       "    <tr>\n",
       "      <th>1584</th>\n",
       "      <td>Texas's public high school graduation rate is ...</td>\n",
       "      <td>63011587244386e361cd2f6c</td>\n",
       "    </tr>\n",
       "    <tr>\n",
       "      <th>1595</th>\n",
       "      <td>Texas's public high school graduation rate is ...</td>\n",
       "      <td>6301b7caed960c3930057c7a</td>\n",
       "    </tr>\n",
       "  </tbody>\n",
       "</table>\n",
       "<p>200 rows × 2 columns</p>\n",
       "</div>"
      ],
      "text/plain": [
       "                                     doc_statement_text  \\\n",
       "3     Texas's public high school graduation rate is ...   \n",
       "14    Texas's public high school graduation rate is ...   \n",
       "20    Texas's public high school graduation rate is ...   \n",
       "25    Texas's public high school graduation rate is ...   \n",
       "32    Texas's public high school graduation rate is ...   \n",
       "...                                                 ...   \n",
       "1566  Texas's public high school graduation rate is ...   \n",
       "1571  Texas's public high school graduation rate is ...   \n",
       "1577  Texas's public high school graduation rate is ...   \n",
       "1584  Texas's public high school graduation rate is ...   \n",
       "1595  Texas's public high school graduation rate is ...   \n",
       "\n",
       "                     worker_id  \n",
       "3     55b645b1fdf99b1c02906872  \n",
       "14    55ca03e1fdf99b2735fc1dde  \n",
       "20    5658000ca9872d0011e1ba26  \n",
       "25    565bdfcec121fe0012fc3897  \n",
       "32    567dd32b4f0ef30006dbb718  \n",
       "...                        ...  \n",
       "1566  62fe9bebf5d09924e321a32c  \n",
       "1571  62ff8c9ff1c92a7c721d3fcc  \n",
       "1577  62ffe924cae68af25dd6c1d3  \n",
       "1584  63011587244386e361cd2f6c  \n",
       "1595  6301b7caed960c3930057c7a  \n",
       "\n",
       "[200 rows x 2 columns]"
      ]
     },
     "execution_count": 11,
     "metadata": {},
     "output_type": "execute_result"
    }
   ],
   "source": [
    "df_data[df_data[\"doc_id\"] == \"GOLD_HIGH\"][[\"doc_statement_text\",\"worker_id\"]].drop_duplicates()"
   ]
  },
  {
   "cell_type": "code",
   "execution_count": 12,
   "metadata": {},
   "outputs": [
    {
     "data": {
      "text/plain": [
       "array(['Politifact', 'gold_question'], dtype=object)"
      ]
     },
     "execution_count": 12,
     "metadata": {},
     "output_type": "execute_result"
    }
   ],
   "source": [
    "df_data[\"doc_fact_check_source\"].unique()"
   ]
  },
  {
   "cell_type": "code",
   "execution_count": 13,
   "metadata": {},
   "outputs": [
    {
     "data": {
      "text/plain": [
       "0    joni-ernst-target-describing-11th-hour-obama-r...\n",
       "1    gop-challenger-overstates-parole-boards-record...\n",
       "2    greene-twists-logic-and-facts-pedophilia-charg...\n",
       "3                                            GOLD_HIGH\n",
       "4    barnes-partially-right-claim-johnson-has-recei...\n",
       "5    david-jolly-says-kathleen-peters-wont-take-sta...\n",
       "6                                             GOLD_LOW\n",
       "7    john-boehner-says-stimulus-bill-was-rushed-pas...\n",
       "Name: doc_id, dtype: object"
      ]
     },
     "execution_count": 13,
     "metadata": {},
     "output_type": "execute_result"
    }
   ],
   "source": [
    "df_data[df_data[\"worker_id\"] == \"55b645b1fdf99b1c02906872\"][\"doc_id\"]"
   ]
  },
  {
   "cell_type": "code",
   "execution_count": 14,
   "metadata": {},
   "outputs": [],
   "source": [
    "df_NO_golds_allData = df_data[df_data[\"doc_id\"] != \"GOLD_HIGH\"]\n",
    "df_NO_golds_allData = df_NO_golds_allData[df_NO_golds_allData[\"doc_id\"] != \"GOLD_LOW\"]"
   ]
  },
  {
   "cell_type": "code",
   "execution_count": 15,
   "metadata": {},
   "outputs": [
    {
     "data": {
      "text/plain": [
       "joni-ernst-target-describing-11th-hour-obama-rule-    10\n",
       "joe-biden-said-mass-shootings-tripled-when-assault    10\n",
       "do-republicans-want-throw-doctors-who-break-aborti    10\n",
       "do-160-million-americans-like-their-health-insur      10\n",
       "sen-stephen-wise-says-everybody-death-row-was-fost    10\n",
       "                                                      ..\n",
       "gop-senate-candidate-hinckley-says-there-no-money-    10\n",
       "fact-checking-bernie-sanders-attack-florida-gov-ro    10\n",
       "jd-vance-says-transgender-rights-drives-looming-co    10\n",
       "pennsylvania-us-senate-candidate-kathy-barnette-wa    10\n",
       "research-submitted-fda-consideration-vaccine-autho     9\n",
       "Name: doc_id, Length: 120, dtype: int64"
      ]
     },
     "execution_count": 15,
     "metadata": {},
     "output_type": "execute_result"
    }
   ],
   "source": [
    "df_NO_golds_allData[\"doc_id\"].value_counts()"
   ]
  },
  {
   "attachments": {},
   "cell_type": "markdown",
   "metadata": {},
   "source": [
    "Tengo solo alcune colonne"
   ]
  },
  {
   "cell_type": "code",
   "execution_count": 16,
   "metadata": {},
   "outputs": [],
   "source": [
    "# df_NO_golds_allData = df_NO_golds_allData[columns_to_mantain]"
   ]
  },
  {
   "cell_type": "code",
   "execution_count": 17,
   "metadata": {},
   "outputs": [
    {
     "data": {
      "text/html": [
       "<div>\n",
       "<style scoped>\n",
       "    .dataframe tbody tr th:only-of-type {\n",
       "        vertical-align: middle;\n",
       "    }\n",
       "\n",
       "    .dataframe tbody tr th {\n",
       "        vertical-align: top;\n",
       "    }\n",
       "\n",
       "    .dataframe thead th {\n",
       "        text-align: right;\n",
       "    }\n",
       "</style>\n",
       "<table border=\"1\" class=\"dataframe\">\n",
       "  <thead>\n",
       "    <tr style=\"text-align: right;\">\n",
       "      <th></th>\n",
       "      <th>worker_id</th>\n",
       "      <th>paid</th>\n",
       "      <th>task_id</th>\n",
       "      <th>batch_name</th>\n",
       "      <th>unit_id</th>\n",
       "      <th>try_last</th>\n",
       "      <th>try_current</th>\n",
       "      <th>action</th>\n",
       "      <th>time_submit</th>\n",
       "      <th>time_submit_parsed</th>\n",
       "      <th>...</th>\n",
       "      <th>doc_confidence_description</th>\n",
       "      <th>doc_accesses</th>\n",
       "      <th>doc_time_elapsed</th>\n",
       "      <th>doc_time_start</th>\n",
       "      <th>doc_time_end</th>\n",
       "      <th>global_outcome</th>\n",
       "      <th>global_form_validity</th>\n",
       "      <th>gold_checks</th>\n",
       "      <th>time_spent_check</th>\n",
       "      <th>time_check_amount</th>\n",
       "    </tr>\n",
       "  </thead>\n",
       "  <tbody>\n",
       "    <tr>\n",
       "      <th>0</th>\n",
       "      <td>55b645b1fdf99b1c02906872</td>\n",
       "      <td>True</td>\n",
       "      <td>FakeNewsMultidimensional</td>\n",
       "      <td>V4-Prolific-1</td>\n",
       "      <td>unit_145</td>\n",
       "      <td>1</td>\n",
       "      <td>1</td>\n",
       "      <td>Next</td>\n",
       "      <td>Tue, 23 Aug 2022 12:21:27 GMT</td>\n",
       "      <td>2022-08-23 12:21:27 00:00</td>\n",
       "      <td>...</td>\n",
       "      <td>NaN</td>\n",
       "      <td>1.0</td>\n",
       "      <td>171.42</td>\n",
       "      <td>1.661257e+09</td>\n",
       "      <td>1.661257e+09</td>\n",
       "      <td>True</td>\n",
       "      <td>True</td>\n",
       "      <td>True</td>\n",
       "      <td>True</td>\n",
       "      <td>True</td>\n",
       "    </tr>\n",
       "    <tr>\n",
       "      <th>1</th>\n",
       "      <td>55b645b1fdf99b1c02906872</td>\n",
       "      <td>True</td>\n",
       "      <td>FakeNewsMultidimensional</td>\n",
       "      <td>V4-Prolific-1</td>\n",
       "      <td>unit_145</td>\n",
       "      <td>1</td>\n",
       "      <td>1</td>\n",
       "      <td>Finish</td>\n",
       "      <td>Tue, 23 Aug 2022 12:23:46 GMT</td>\n",
       "      <td>2022-08-23 12:23:46 00:00</td>\n",
       "      <td>...</td>\n",
       "      <td>NaN</td>\n",
       "      <td>1.0</td>\n",
       "      <td>156.75</td>\n",
       "      <td>1.661257e+09</td>\n",
       "      <td>1.661257e+09</td>\n",
       "      <td>True</td>\n",
       "      <td>True</td>\n",
       "      <td>True</td>\n",
       "      <td>True</td>\n",
       "      <td>True</td>\n",
       "    </tr>\n",
       "    <tr>\n",
       "      <th>2</th>\n",
       "      <td>55b645b1fdf99b1c02906872</td>\n",
       "      <td>True</td>\n",
       "      <td>FakeNewsMultidimensional</td>\n",
       "      <td>V4-Prolific-1</td>\n",
       "      <td>unit_145</td>\n",
       "      <td>1</td>\n",
       "      <td>1</td>\n",
       "      <td>Next</td>\n",
       "      <td>Tue, 23 Aug 2022 12:02:59 GMT</td>\n",
       "      <td>2022-08-23 12:02:59 00:00</td>\n",
       "      <td>...</td>\n",
       "      <td>NaN</td>\n",
       "      <td>1.0</td>\n",
       "      <td>15.74</td>\n",
       "      <td>1.661256e+09</td>\n",
       "      <td>1.661256e+09</td>\n",
       "      <td>True</td>\n",
       "      <td>True</td>\n",
       "      <td>True</td>\n",
       "      <td>True</td>\n",
       "      <td>True</td>\n",
       "    </tr>\n",
       "    <tr>\n",
       "      <th>4</th>\n",
       "      <td>55b645b1fdf99b1c02906872</td>\n",
       "      <td>True</td>\n",
       "      <td>FakeNewsMultidimensional</td>\n",
       "      <td>V4-Prolific-1</td>\n",
       "      <td>unit_145</td>\n",
       "      <td>1</td>\n",
       "      <td>1</td>\n",
       "      <td>Next</td>\n",
       "      <td>Tue, 23 Aug 2022 12:09:17 GMT</td>\n",
       "      <td>2022-08-23 12:09:17 00:00</td>\n",
       "      <td>...</td>\n",
       "      <td>NaN</td>\n",
       "      <td>1.0</td>\n",
       "      <td>34.99</td>\n",
       "      <td>1.661256e+09</td>\n",
       "      <td>1.661256e+09</td>\n",
       "      <td>True</td>\n",
       "      <td>True</td>\n",
       "      <td>True</td>\n",
       "      <td>True</td>\n",
       "      <td>True</td>\n",
       "    </tr>\n",
       "    <tr>\n",
       "      <th>5</th>\n",
       "      <td>55b645b1fdf99b1c02906872</td>\n",
       "      <td>True</td>\n",
       "      <td>FakeNewsMultidimensional</td>\n",
       "      <td>V4-Prolific-1</td>\n",
       "      <td>unit_145</td>\n",
       "      <td>1</td>\n",
       "      <td>1</td>\n",
       "      <td>Next</td>\n",
       "      <td>Tue, 23 Aug 2022 12:12:09 GMT</td>\n",
       "      <td>2022-08-23 12:12:09 00:00</td>\n",
       "      <td>...</td>\n",
       "      <td>NaN</td>\n",
       "      <td>1.0</td>\n",
       "      <td>169.21</td>\n",
       "      <td>1.661256e+09</td>\n",
       "      <td>1.661256e+09</td>\n",
       "      <td>True</td>\n",
       "      <td>True</td>\n",
       "      <td>True</td>\n",
       "      <td>True</td>\n",
       "      <td>True</td>\n",
       "    </tr>\n",
       "  </tbody>\n",
       "</table>\n",
       "<p>5 rows × 66 columns</p>\n",
       "</div>"
      ],
      "text/plain": [
       "                  worker_id  paid                   task_id     batch_name  \\\n",
       "0  55b645b1fdf99b1c02906872  True  FakeNewsMultidimensional  V4-Prolific-1   \n",
       "1  55b645b1fdf99b1c02906872  True  FakeNewsMultidimensional  V4-Prolific-1   \n",
       "2  55b645b1fdf99b1c02906872  True  FakeNewsMultidimensional  V4-Prolific-1   \n",
       "4  55b645b1fdf99b1c02906872  True  FakeNewsMultidimensional  V4-Prolific-1   \n",
       "5  55b645b1fdf99b1c02906872  True  FakeNewsMultidimensional  V4-Prolific-1   \n",
       "\n",
       "    unit_id  try_last  try_current  action                    time_submit  \\\n",
       "0  unit_145         1            1    Next  Tue, 23 Aug 2022 12:21:27 GMT   \n",
       "1  unit_145         1            1  Finish  Tue, 23 Aug 2022 12:23:46 GMT   \n",
       "2  unit_145         1            1    Next  Tue, 23 Aug 2022 12:02:59 GMT   \n",
       "4  unit_145         1            1    Next  Tue, 23 Aug 2022 12:09:17 GMT   \n",
       "5  unit_145         1            1    Next  Tue, 23 Aug 2022 12:12:09 GMT   \n",
       "\n",
       "          time_submit_parsed  ...  doc_confidence_description doc_accesses  \\\n",
       "0  2022-08-23 12:21:27 00:00  ...                         NaN          1.0   \n",
       "1  2022-08-23 12:23:46 00:00  ...                         NaN          1.0   \n",
       "2  2022-08-23 12:02:59 00:00  ...                         NaN          1.0   \n",
       "4  2022-08-23 12:09:17 00:00  ...                         NaN          1.0   \n",
       "5  2022-08-23 12:12:09 00:00  ...                         NaN          1.0   \n",
       "\n",
       "  doc_time_elapsed  doc_time_start  doc_time_end global_outcome  \\\n",
       "0           171.42    1.661257e+09  1.661257e+09           True   \n",
       "1           156.75    1.661257e+09  1.661257e+09           True   \n",
       "2            15.74    1.661256e+09  1.661256e+09           True   \n",
       "4            34.99    1.661256e+09  1.661256e+09           True   \n",
       "5           169.21    1.661256e+09  1.661256e+09           True   \n",
       "\n",
       "  global_form_validity gold_checks time_spent_check time_check_amount  \n",
       "0                 True        True             True              True  \n",
       "1                 True        True             True              True  \n",
       "2                 True        True             True              True  \n",
       "4                 True        True             True              True  \n",
       "5                 True        True             True              True  \n",
       "\n",
       "[5 rows x 66 columns]"
      ]
     },
     "execution_count": 17,
     "metadata": {},
     "output_type": "execute_result"
    }
   ],
   "source": [
    "df_NO_golds_allData.head()"
   ]
  },
  {
   "cell_type": "code",
   "execution_count": 18,
   "metadata": {},
   "outputs": [],
   "source": [
    "def get_mean_values_by_column(df, column):\n",
    "    mean_values = []\n",
    "\n",
    "    unique_values = df[column].unique()\n",
    "\n",
    "    for id in unique_values:\n",
    "        filtered_df = df[df[column] == id]\n",
    "        values = filtered_df['doc_truthfulness_index'].to_numpy()\n",
    "        mean_values.append([id,values.mean(),df_NO_golds_allData[df_NO_golds_allData[\"doc_id\"] == id][\"doc_fact_check_ground_truth_label\"].unique()[0]]) \n",
    "\n",
    "    mean_values\n",
    "\n",
    "    return pd.DataFrame(mean_values, columns=['doc_id', 'mean', 'GT'])\n",
    "\n"
   ]
  },
  {
   "cell_type": "code",
   "execution_count": 19,
   "metadata": {},
   "outputs": [],
   "source": [
    "def creaBoxPlot(df, x_field, y_field, title,palette_array, color_of_points, add_stripplot):    \n",
    "    # boxplot\n",
    "    ax = sns.boxplot(x=x_field, y=y_field,palette=palette_array, data=df,order=['pants-on-fire', 'false', 'barely-true','half-true','mostly-true','true'])\n",
    "   \n",
    "    if add_stripplot:           \n",
    "        #ax = sns.stripplot(x=x_field, y=y_field, data=df,palette=[\"black\",\"red\",\"red\",\"red\",\"red\"],hue=\"quartile\", jitter=0.1, size=8, order=['pants-on-fire', 'false', 'barely-true','half-true','mostly-true','true'])\n",
    "        ax = sns.stripplot(x=x_field, y=y_field, data=df,palette=\"deep\",hue=\"quartile\", jitter=0.1, size=8, order=['pants-on-fire', 'false', 'barely-true','half-true','mostly-true','true'])\n",
    "\n",
    "    else:\n",
    "        ax = sns.stripplot(x=x_field, y=y_field, data=df,  palette=color_of_points, jitter=0.1, size=8, order=['pants-on-fire', 'false', 'barely-true','half-true','mostly-true','true'])\n",
    "\n",
    "    # add title\n",
    "    plt.title(title, loc=\"left\")\n",
    "    # show the graph\n",
    "    plt.show()"
   ]
  },
  {
   "cell_type": "code",
   "execution_count": 20,
   "metadata": {},
   "outputs": [],
   "source": [
    "df = get_mean_values_by_column(df_NO_golds_allData, \"doc_id\")"
   ]
  },
  {
   "cell_type": "code",
   "execution_count": 30,
   "metadata": {},
   "outputs": [
    {
     "name": "stderr",
     "output_type": "stream",
     "text": [
      "C:\\Users\\gabri\\AppData\\Local\\Temp\\ipykernel_4048\\3082281334.py:10: FutureWarning: Passing `palette` without assigning `hue` is deprecated.\n",
      "  ax = sns.stripplot(x=x_field, y=y_field, data=df,  palette=color_of_points, jitter=0.1, size=8, order=['pants-on-fire', 'false', 'barely-true','half-true','mostly-true','true'])\n"
     ]
    },
    {
     "data": {
      "image/png": "[encoded data removed]",
      "text/plain": [
       "<Figure size 640x480 with 1 Axes>"
      ]
     },
     "metadata": {},
     "output_type": "display_data"
    }
   ],
   "source": [
    "creaBoxPlot(df, \"GT\", \"mean\", \"Boxplot\", \"vlag_r\", \"coolwarm_r\", False)"
   ]
  },
  {
   "cell_type": "code",
   "execution_count": 19,
   "metadata": {},
   "outputs": [],
   "source": [
    "def extract_quartiles(df,column,value,quartile_value):\n",
    "    df_solo_quartili = df[df[column] == value]\n",
    "    q = df_solo_quartili['mean'].quantile(quartile_value)\n",
    "    if quartile_value == 0.25:\n",
    "        df_quartile = df_solo_quartili[df_solo_quartili['mean'] <= q]\n",
    "        return df_quartile.sort_values(by=['mean'])\n",
    "    else:\n",
    "        df_quartile = df_solo_quartili[df_solo_quartili['mean'] >= q]\n",
    "        return df_quartile.sort_values(by=['mean'])"
   ]
  },
  {
   "cell_type": "code",
   "execution_count": 20,
   "metadata": {},
   "outputs": [],
   "source": [
    "wrong_false = extract_quartiles(df,\"GT\",\"pants-on-fire\",0.75)\n",
    "correct_false = extract_quartiles(df,\"GT\",\"pants-on-fire\",0.25)\n",
    "wrong_true = extract_quartiles(df,\"GT\",\"true\",0.25)\n",
    "correct_true = extract_quartiles(df,\"GT\",\"true\",0.75)"
   ]
  },
  {
   "cell_type": "code",
   "execution_count": 21,
   "metadata": {},
   "outputs": [
    {
     "data": {
      "text/html": [
       "<div>\n",
       "<style scoped>\n",
       "    .dataframe tbody tr th:only-of-type {\n",
       "        vertical-align: middle;\n",
       "    }\n",
       "\n",
       "    .dataframe tbody tr th {\n",
       "        vertical-align: top;\n",
       "    }\n",
       "\n",
       "    .dataframe thead th {\n",
       "        text-align: right;\n",
       "    }\n",
       "</style>\n",
       "<table border=\"1\" class=\"dataframe\">\n",
       "  <thead>\n",
       "    <tr style=\"text-align: right;\">\n",
       "      <th></th>\n",
       "      <th>doc_id</th>\n",
       "      <th>mean</th>\n",
       "      <th>GT</th>\n",
       "    </tr>\n",
       "  </thead>\n",
       "  <tbody>\n",
       "    <tr>\n",
       "      <th>0</th>\n",
       "      <td>joni-ernst-target-describing-11th-hour-obama-r...</td>\n",
       "      <td>3.4</td>\n",
       "      <td>mostly-true</td>\n",
       "    </tr>\n",
       "    <tr>\n",
       "      <th>1</th>\n",
       "      <td>gop-challenger-overstates-parole-boards-record...</td>\n",
       "      <td>1.4</td>\n",
       "      <td>false</td>\n",
       "    </tr>\n",
       "    <tr>\n",
       "      <th>2</th>\n",
       "      <td>greene-twists-logic-and-facts-pedophilia-charg...</td>\n",
       "      <td>1.2</td>\n",
       "      <td>pants-on-fire</td>\n",
       "    </tr>\n",
       "    <tr>\n",
       "      <th>3</th>\n",
       "      <td>barnes-partially-right-claim-johnson-has-recei...</td>\n",
       "      <td>2.6</td>\n",
       "      <td>half-true</td>\n",
       "    </tr>\n",
       "    <tr>\n",
       "      <th>4</th>\n",
       "      <td>david-jolly-says-kathleen-peters-wont-take-sta...</td>\n",
       "      <td>2.7</td>\n",
       "      <td>barely-true</td>\n",
       "    </tr>\n",
       "    <tr>\n",
       "      <th>...</th>\n",
       "      <td>...</td>\n",
       "      <td>...</td>\n",
       "      <td>...</td>\n",
       "    </tr>\n",
       "    <tr>\n",
       "      <th>115</th>\n",
       "      <td>fact-checking-joe-biden-inflation-rates-among-...</td>\n",
       "      <td>2.3</td>\n",
       "      <td>half-true</td>\n",
       "    </tr>\n",
       "    <tr>\n",
       "      <th>116</th>\n",
       "      <td>david-dewhurst-says-he-never-supported-texas-p...</td>\n",
       "      <td>2.5</td>\n",
       "      <td>false</td>\n",
       "    </tr>\n",
       "    <tr>\n",
       "      <th>117</th>\n",
       "      <td>does-new-york-lead-nation-population-loss</td>\n",
       "      <td>4.1</td>\n",
       "      <td>true</td>\n",
       "    </tr>\n",
       "    <tr>\n",
       "      <th>118</th>\n",
       "      <td>yang-cites-maternal-mortality-stats-talk-about...</td>\n",
       "      <td>4.2</td>\n",
       "      <td>true</td>\n",
       "    </tr>\n",
       "    <tr>\n",
       "      <th>119</th>\n",
       "      <td>pennsylvania-us-senate-candidate-kathy-barnett...</td>\n",
       "      <td>2.8</td>\n",
       "      <td>mostly-true</td>\n",
       "    </tr>\n",
       "  </tbody>\n",
       "</table>\n",
       "<p>120 rows × 3 columns</p>\n",
       "</div>"
      ],
      "text/plain": [
       "                                                doc_id  mean             GT\n",
       "0    joni-ernst-target-describing-11th-hour-obama-r...   3.4    mostly-true\n",
       "1    gop-challenger-overstates-parole-boards-record...   1.4          false\n",
       "2    greene-twists-logic-and-facts-pedophilia-charg...   1.2  pants-on-fire\n",
       "3    barnes-partially-right-claim-johnson-has-recei...   2.6      half-true\n",
       "4    david-jolly-says-kathleen-peters-wont-take-sta...   2.7    barely-true\n",
       "..                                                 ...   ...            ...\n",
       "115  fact-checking-joe-biden-inflation-rates-among-...   2.3      half-true\n",
       "116  david-dewhurst-says-he-never-supported-texas-p...   2.5          false\n",
       "117          does-new-york-lead-nation-population-loss   4.1           true\n",
       "118  yang-cites-maternal-mortality-stats-talk-about...   4.2           true\n",
       "119  pennsylvania-us-senate-candidate-kathy-barnett...   2.8    mostly-true\n",
       "\n",
       "[120 rows x 3 columns]"
      ]
     },
     "execution_count": 21,
     "metadata": {},
     "output_type": "execute_result"
    }
   ],
   "source": [
    "df"
   ]
  },
  {
   "cell_type": "code",
   "execution_count": 22,
   "metadata": {},
   "outputs": [],
   "source": [
    "for index, row in df.iterrows():\n",
    "    if row['doc_id'] in wrong_false['doc_id'].values:\n",
    "       df.at[index,'quartile'] = \"wrong_false\"\n",
    "    elif row['doc_id'] in correct_false['doc_id'].values:\n",
    "       df.at[index,'quartile'] = \"correct_false\"\n",
    "    elif row['doc_id'] in wrong_true['doc_id'].values:\n",
    "       df.at[index,'quartile'] = \"wrong_true\"\n",
    "    elif row['doc_id'] in correct_true['doc_id'].values:\n",
    "       df.at[index,'quartile'] = \"correct_true\"\n",
    "    else:\n",
    "        df.at[index,'quartile'] = \"other\""
   ]
  },
  {
   "cell_type": "code",
   "execution_count": 23,
   "metadata": {},
   "outputs": [],
   "source": [
    "df_mean_true = df[df['GT'] == \"true\"]\n",
    "df_mean_false = df[df['GT'] == \"pants-on-fire\"]"
   ]
  },
  {
   "cell_type": "code",
   "execution_count": 24,
   "metadata": {},
   "outputs": [
    {
     "data": {
      "text/html": [
       "<div>\n",
       "<style scoped>\n",
       "    .dataframe tbody tr th:only-of-type {\n",
       "        vertical-align: middle;\n",
       "    }\n",
       "\n",
       "    .dataframe tbody tr th {\n",
       "        vertical-align: top;\n",
       "    }\n",
       "\n",
       "    .dataframe thead th {\n",
       "        text-align: right;\n",
       "    }\n",
       "</style>\n",
       "<table border=\"1\" class=\"dataframe\">\n",
       "  <thead>\n",
       "    <tr style=\"text-align: right;\">\n",
       "      <th></th>\n",
       "      <th>doc_id</th>\n",
       "      <th>mean</th>\n",
       "      <th>GT</th>\n",
       "      <th>quartile</th>\n",
       "    </tr>\n",
       "  </thead>\n",
       "  <tbody>\n",
       "    <tr>\n",
       "      <th>5</th>\n",
       "      <td>john-boehner-says-stimulus-bill-was-rushed-pas...</td>\n",
       "      <td>4.0</td>\n",
       "      <td>true</td>\n",
       "      <td>other</td>\n",
       "    </tr>\n",
       "    <tr>\n",
       "      <th>10</th>\n",
       "      <td>yes-tax-break-ron-johnson-pushed-2017-has-bene...</td>\n",
       "      <td>4.3</td>\n",
       "      <td>true</td>\n",
       "      <td>correct_true</td>\n",
       "    </tr>\n",
       "    <tr>\n",
       "      <th>16</th>\n",
       "      <td>susan-collins-says-year-overwhelming-majority-...</td>\n",
       "      <td>3.0</td>\n",
       "      <td>true</td>\n",
       "      <td>wrong_true</td>\n",
       "    </tr>\n",
       "    <tr>\n",
       "      <th>20</th>\n",
       "      <td>fact-checking-bernie-sanders-claim-us-spends-t...</td>\n",
       "      <td>3.6</td>\n",
       "      <td>true</td>\n",
       "      <td>other</td>\n",
       "    </tr>\n",
       "    <tr>\n",
       "      <th>22</th>\n",
       "      <td>more-50-years-ago-new-york-republican-support-...</td>\n",
       "      <td>3.7</td>\n",
       "      <td>true</td>\n",
       "      <td>other</td>\n",
       "    </tr>\n",
       "    <tr>\n",
       "      <th>25</th>\n",
       "      <td>state-crime-lab-doing-less-testing-and-general...</td>\n",
       "      <td>3.0</td>\n",
       "      <td>true</td>\n",
       "      <td>wrong_true</td>\n",
       "    </tr>\n",
       "    <tr>\n",
       "      <th>38</th>\n",
       "      <td>warrens-argument-millions-cant-afford-their-rx...</td>\n",
       "      <td>4.1</td>\n",
       "      <td>true</td>\n",
       "      <td>other</td>\n",
       "    </tr>\n",
       "    <tr>\n",
       "      <th>39</th>\n",
       "      <td>allan-fung-former-ri-gov-donald-carcieri-has-n...</td>\n",
       "      <td>2.7</td>\n",
       "      <td>true</td>\n",
       "      <td>wrong_true</td>\n",
       "    </tr>\n",
       "    <tr>\n",
       "      <th>45</th>\n",
       "      <td>virginia-blacks-eight-times-more-likely-whites...</td>\n",
       "      <td>4.5</td>\n",
       "      <td>true</td>\n",
       "      <td>correct_true</td>\n",
       "    </tr>\n",
       "    <tr>\n",
       "      <th>55</th>\n",
       "      <td>yes-its-true-cannabis-reform-supported-wiscons...</td>\n",
       "      <td>3.9</td>\n",
       "      <td>true</td>\n",
       "      <td>other</td>\n",
       "    </tr>\n",
       "    <tr>\n",
       "      <th>62</th>\n",
       "      <td>some-teachouts-donors-also-gave-super-pacs</td>\n",
       "      <td>3.2</td>\n",
       "      <td>true</td>\n",
       "      <td>wrong_true</td>\n",
       "    </tr>\n",
       "    <tr>\n",
       "      <th>70</th>\n",
       "      <td>yes-wisconsins-abortion-law-older-20-us-states</td>\n",
       "      <td>3.8</td>\n",
       "      <td>true</td>\n",
       "      <td>other</td>\n",
       "    </tr>\n",
       "    <tr>\n",
       "      <th>73</th>\n",
       "      <td>new-york-state-so-many-bills</td>\n",
       "      <td>4.3</td>\n",
       "      <td>true</td>\n",
       "      <td>correct_true</td>\n",
       "    </tr>\n",
       "    <tr>\n",
       "      <th>82</th>\n",
       "      <td>crist-says-reagan-was-democrat-converting-gop</td>\n",
       "      <td>4.4</td>\n",
       "      <td>true</td>\n",
       "      <td>correct_true</td>\n",
       "    </tr>\n",
       "    <tr>\n",
       "      <th>93</th>\n",
       "      <td>big-four-meat-packers-are-seeing-record-profit...</td>\n",
       "      <td>4.2</td>\n",
       "      <td>true</td>\n",
       "      <td>correct_true</td>\n",
       "    </tr>\n",
       "    <tr>\n",
       "      <th>95</th>\n",
       "      <td>yes-democrats-do-need-more-majority-codify-roe...</td>\n",
       "      <td>4.1</td>\n",
       "      <td>true</td>\n",
       "      <td>other</td>\n",
       "    </tr>\n",
       "    <tr>\n",
       "      <th>103</th>\n",
       "      <td>chris-christie-claims-states-gained-143000-new...</td>\n",
       "      <td>3.8</td>\n",
       "      <td>true</td>\n",
       "      <td>other</td>\n",
       "    </tr>\n",
       "    <tr>\n",
       "      <th>107</th>\n",
       "      <td>jim-jordan-says-seven-nations-10-wealthiest-co...</td>\n",
       "      <td>2.7</td>\n",
       "      <td>true</td>\n",
       "      <td>wrong_true</td>\n",
       "    </tr>\n",
       "    <tr>\n",
       "      <th>117</th>\n",
       "      <td>does-new-york-lead-nation-population-loss</td>\n",
       "      <td>4.1</td>\n",
       "      <td>true</td>\n",
       "      <td>other</td>\n",
       "    </tr>\n",
       "    <tr>\n",
       "      <th>118</th>\n",
       "      <td>yang-cites-maternal-mortality-stats-talk-about...</td>\n",
       "      <td>4.2</td>\n",
       "      <td>true</td>\n",
       "      <td>correct_true</td>\n",
       "    </tr>\n",
       "  </tbody>\n",
       "</table>\n",
       "</div>"
      ],
      "text/plain": [
       "                                                doc_id  mean    GT  \\\n",
       "5    john-boehner-says-stimulus-bill-was-rushed-pas...   4.0  true   \n",
       "10   yes-tax-break-ron-johnson-pushed-2017-has-bene...   4.3  true   \n",
       "16   susan-collins-says-year-overwhelming-majority-...   3.0  true   \n",
       "20   fact-checking-bernie-sanders-claim-us-spends-t...   3.6  true   \n",
       "22   more-50-years-ago-new-york-republican-support-...   3.7  true   \n",
       "25   state-crime-lab-doing-less-testing-and-general...   3.0  true   \n",
       "38   warrens-argument-millions-cant-afford-their-rx...   4.1  true   \n",
       "39   allan-fung-former-ri-gov-donald-carcieri-has-n...   2.7  true   \n",
       "45   virginia-blacks-eight-times-more-likely-whites...   4.5  true   \n",
       "55   yes-its-true-cannabis-reform-supported-wiscons...   3.9  true   \n",
       "62          some-teachouts-donors-also-gave-super-pacs   3.2  true   \n",
       "70      yes-wisconsins-abortion-law-older-20-us-states   3.8  true   \n",
       "73                        new-york-state-so-many-bills   4.3  true   \n",
       "82       crist-says-reagan-was-democrat-converting-gop   4.4  true   \n",
       "93   big-four-meat-packers-are-seeing-record-profit...   4.2  true   \n",
       "95   yes-democrats-do-need-more-majority-codify-roe...   4.1  true   \n",
       "103  chris-christie-claims-states-gained-143000-new...   3.8  true   \n",
       "107  jim-jordan-says-seven-nations-10-wealthiest-co...   2.7  true   \n",
       "117          does-new-york-lead-nation-population-loss   4.1  true   \n",
       "118  yang-cites-maternal-mortality-stats-talk-about...   4.2  true   \n",
       "\n",
       "         quartile  \n",
       "5           other  \n",
       "10   correct_true  \n",
       "16     wrong_true  \n",
       "20          other  \n",
       "22          other  \n",
       "25     wrong_true  \n",
       "38          other  \n",
       "39     wrong_true  \n",
       "45   correct_true  \n",
       "55          other  \n",
       "62     wrong_true  \n",
       "70          other  \n",
       "73   correct_true  \n",
       "82   correct_true  \n",
       "93   correct_true  \n",
       "95          other  \n",
       "103         other  \n",
       "107    wrong_true  \n",
       "117         other  \n",
       "118  correct_true  "
      ]
     },
     "execution_count": 24,
     "metadata": {},
     "output_type": "execute_result"
    }
   ],
   "source": [
    "df_mean_true"
   ]
  },
  {
   "cell_type": "code",
   "execution_count": 25,
   "metadata": {},
   "outputs": [],
   "source": [
    "df_solo_quartili = df[df['quartile'] != \"other\"]"
   ]
  },
  {
   "cell_type": "code",
   "execution_count": 26,
   "metadata": {},
   "outputs": [
    {
     "data": {
      "text/html": [
       "<div>\n",
       "<style scoped>\n",
       "    .dataframe tbody tr th:only-of-type {\n",
       "        vertical-align: middle;\n",
       "    }\n",
       "\n",
       "    .dataframe tbody tr th {\n",
       "        vertical-align: top;\n",
       "    }\n",
       "\n",
       "    .dataframe thead th {\n",
       "        text-align: right;\n",
       "    }\n",
       "</style>\n",
       "<table border=\"1\" class=\"dataframe\">\n",
       "  <thead>\n",
       "    <tr style=\"text-align: right;\">\n",
       "      <th></th>\n",
       "      <th>doc_id</th>\n",
       "      <th>mean</th>\n",
       "      <th>GT</th>\n",
       "      <th>quartile</th>\n",
       "    </tr>\n",
       "  </thead>\n",
       "  <tbody>\n",
       "    <tr>\n",
       "      <th>2</th>\n",
       "      <td>greene-twists-logic-and-facts-pedophilia-charg...</td>\n",
       "      <td>1.2</td>\n",
       "      <td>pants-on-fire</td>\n",
       "      <td>correct_false</td>\n",
       "    </tr>\n",
       "    <tr>\n",
       "      <th>7</th>\n",
       "      <td>ohios-mandel-repeats-false-claim-stolen-2020-e...</td>\n",
       "      <td>1.1</td>\n",
       "      <td>pants-on-fire</td>\n",
       "      <td>correct_false</td>\n",
       "    </tr>\n",
       "    <tr>\n",
       "      <th>10</th>\n",
       "      <td>yes-tax-break-ron-johnson-pushed-2017-has-bene...</td>\n",
       "      <td>4.3</td>\n",
       "      <td>true</td>\n",
       "      <td>correct_true</td>\n",
       "    </tr>\n",
       "    <tr>\n",
       "      <th>11</th>\n",
       "      <td>suozzi-calling-hochul-interim-governor-s-misle...</td>\n",
       "      <td>3.2</td>\n",
       "      <td>pants-on-fire</td>\n",
       "      <td>wrong_false</td>\n",
       "    </tr>\n",
       "    <tr>\n",
       "      <th>16</th>\n",
       "      <td>susan-collins-says-year-overwhelming-majority-...</td>\n",
       "      <td>3.0</td>\n",
       "      <td>true</td>\n",
       "      <td>wrong_true</td>\n",
       "    </tr>\n",
       "    <tr>\n",
       "      <th>25</th>\n",
       "      <td>state-crime-lab-doing-less-testing-and-general...</td>\n",
       "      <td>3.0</td>\n",
       "      <td>true</td>\n",
       "      <td>wrong_true</td>\n",
       "    </tr>\n",
       "    <tr>\n",
       "      <th>32</th>\n",
       "      <td>jd-vance-says-transgender-rights-drives-loomin...</td>\n",
       "      <td>1.2</td>\n",
       "      <td>pants-on-fire</td>\n",
       "      <td>correct_false</td>\n",
       "    </tr>\n",
       "    <tr>\n",
       "      <th>39</th>\n",
       "      <td>allan-fung-former-ri-gov-donald-carcieri-has-n...</td>\n",
       "      <td>2.7</td>\n",
       "      <td>true</td>\n",
       "      <td>wrong_true</td>\n",
       "    </tr>\n",
       "    <tr>\n",
       "      <th>44</th>\n",
       "      <td>common-core-testing-homosexual-possibly-can</td>\n",
       "      <td>0.7</td>\n",
       "      <td>pants-on-fire</td>\n",
       "      <td>correct_false</td>\n",
       "    </tr>\n",
       "    <tr>\n",
       "      <th>45</th>\n",
       "      <td>virginia-blacks-eight-times-more-likely-whites...</td>\n",
       "      <td>4.5</td>\n",
       "      <td>true</td>\n",
       "      <td>correct_true</td>\n",
       "    </tr>\n",
       "    <tr>\n",
       "      <th>57</th>\n",
       "      <td>no-these-mass-shootings-werent-plot-protect-hi...</td>\n",
       "      <td>0.8</td>\n",
       "      <td>pants-on-fire</td>\n",
       "      <td>correct_false</td>\n",
       "    </tr>\n",
       "    <tr>\n",
       "      <th>62</th>\n",
       "      <td>some-teachouts-donors-also-gave-super-pacs</td>\n",
       "      <td>3.2</td>\n",
       "      <td>true</td>\n",
       "      <td>wrong_true</td>\n",
       "    </tr>\n",
       "    <tr>\n",
       "      <th>64</th>\n",
       "      <td>tax-shift-lou-greenwald-sets-truth-o-meter-abl...</td>\n",
       "      <td>3.5</td>\n",
       "      <td>pants-on-fire</td>\n",
       "      <td>wrong_false</td>\n",
       "    </tr>\n",
       "    <tr>\n",
       "      <th>73</th>\n",
       "      <td>new-york-state-so-many-bills</td>\n",
       "      <td>4.3</td>\n",
       "      <td>true</td>\n",
       "      <td>correct_true</td>\n",
       "    </tr>\n",
       "    <tr>\n",
       "      <th>82</th>\n",
       "      <td>crist-says-reagan-was-democrat-converting-gop</td>\n",
       "      <td>4.4</td>\n",
       "      <td>true</td>\n",
       "      <td>correct_true</td>\n",
       "    </tr>\n",
       "    <tr>\n",
       "      <th>83</th>\n",
       "      <td>david-perdue-distorts-facts-georgia-agreement-...</td>\n",
       "      <td>2.5</td>\n",
       "      <td>pants-on-fire</td>\n",
       "      <td>wrong_false</td>\n",
       "    </tr>\n",
       "    <tr>\n",
       "      <th>93</th>\n",
       "      <td>big-four-meat-packers-are-seeing-record-profit...</td>\n",
       "      <td>4.2</td>\n",
       "      <td>true</td>\n",
       "      <td>correct_true</td>\n",
       "    </tr>\n",
       "    <tr>\n",
       "      <th>102</th>\n",
       "      <td>gov-john-kasich-says-his-turnpike-plan-would-l...</td>\n",
       "      <td>3.0</td>\n",
       "      <td>pants-on-fire</td>\n",
       "      <td>wrong_false</td>\n",
       "    </tr>\n",
       "    <tr>\n",
       "      <th>107</th>\n",
       "      <td>jim-jordan-says-seven-nations-10-wealthiest-co...</td>\n",
       "      <td>2.7</td>\n",
       "      <td>true</td>\n",
       "      <td>wrong_true</td>\n",
       "    </tr>\n",
       "    <tr>\n",
       "      <th>111</th>\n",
       "      <td>republican-senate-hopeful-claims-montana-sen-j...</td>\n",
       "      <td>3.3</td>\n",
       "      <td>pants-on-fire</td>\n",
       "      <td>wrong_false</td>\n",
       "    </tr>\n",
       "    <tr>\n",
       "      <th>118</th>\n",
       "      <td>yang-cites-maternal-mortality-stats-talk-about...</td>\n",
       "      <td>4.2</td>\n",
       "      <td>true</td>\n",
       "      <td>correct_true</td>\n",
       "    </tr>\n",
       "  </tbody>\n",
       "</table>\n",
       "</div>"
      ],
      "text/plain": [
       "                                                doc_id  mean             GT  \\\n",
       "2    greene-twists-logic-and-facts-pedophilia-charg...   1.2  pants-on-fire   \n",
       "7    ohios-mandel-repeats-false-claim-stolen-2020-e...   1.1  pants-on-fire   \n",
       "10   yes-tax-break-ron-johnson-pushed-2017-has-bene...   4.3           true   \n",
       "11   suozzi-calling-hochul-interim-governor-s-misle...   3.2  pants-on-fire   \n",
       "16   susan-collins-says-year-overwhelming-majority-...   3.0           true   \n",
       "25   state-crime-lab-doing-less-testing-and-general...   3.0           true   \n",
       "32   jd-vance-says-transgender-rights-drives-loomin...   1.2  pants-on-fire   \n",
       "39   allan-fung-former-ri-gov-donald-carcieri-has-n...   2.7           true   \n",
       "44         common-core-testing-homosexual-possibly-can   0.7  pants-on-fire   \n",
       "45   virginia-blacks-eight-times-more-likely-whites...   4.5           true   \n",
       "57   no-these-mass-shootings-werent-plot-protect-hi...   0.8  pants-on-fire   \n",
       "62          some-teachouts-donors-also-gave-super-pacs   3.2           true   \n",
       "64   tax-shift-lou-greenwald-sets-truth-o-meter-abl...   3.5  pants-on-fire   \n",
       "73                        new-york-state-so-many-bills   4.3           true   \n",
       "82       crist-says-reagan-was-democrat-converting-gop   4.4           true   \n",
       "83   david-perdue-distorts-facts-georgia-agreement-...   2.5  pants-on-fire   \n",
       "93   big-four-meat-packers-are-seeing-record-profit...   4.2           true   \n",
       "102  gov-john-kasich-says-his-turnpike-plan-would-l...   3.0  pants-on-fire   \n",
       "107  jim-jordan-says-seven-nations-10-wealthiest-co...   2.7           true   \n",
       "111  republican-senate-hopeful-claims-montana-sen-j...   3.3  pants-on-fire   \n",
       "118  yang-cites-maternal-mortality-stats-talk-about...   4.2           true   \n",
       "\n",
       "          quartile  \n",
       "2    correct_false  \n",
       "7    correct_false  \n",
       "10    correct_true  \n",
       "11     wrong_false  \n",
       "16      wrong_true  \n",
       "25      wrong_true  \n",
       "32   correct_false  \n",
       "39      wrong_true  \n",
       "44   correct_false  \n",
       "45    correct_true  \n",
       "57   correct_false  \n",
       "62      wrong_true  \n",
       "64     wrong_false  \n",
       "73    correct_true  \n",
       "82    correct_true  \n",
       "83     wrong_false  \n",
       "93    correct_true  \n",
       "102    wrong_false  \n",
       "107     wrong_true  \n",
       "111    wrong_false  \n",
       "118   correct_true  "
      ]
     },
     "execution_count": 26,
     "metadata": {},
     "output_type": "execute_result"
    }
   ],
   "source": [
    "df_solo_quartili"
   ]
  },
  {
   "cell_type": "code",
   "execution_count": 27,
   "metadata": {},
   "outputs": [
    {
     "data": {
      "image/png": "[encoded data removed]",
      "text/plain": [
       "<Figure size 640x480 with 1 Axes>"
      ]
     },
     "metadata": {},
     "output_type": "display_data"
    }
   ],
   "source": [
    "creaBoxPlot(df, \"GT\", \"mean\", \"Boxplot\", [\"grey\"],  [\"black\"], True)"
   ]
  },
  {
   "attachments": {},
   "cell_type": "markdown",
   "metadata": {},
   "source": [
    "CREA CSV ALL"
   ]
  },
  {
   "cell_type": "code",
   "execution_count": 28,
   "metadata": {},
   "outputs": [
    {
     "data": {
      "text/html": [
       "<div>\n",
       "<style scoped>\n",
       "    .dataframe tbody tr th:only-of-type {\n",
       "        vertical-align: middle;\n",
       "    }\n",
       "\n",
       "    .dataframe tbody tr th {\n",
       "        vertical-align: top;\n",
       "    }\n",
       "\n",
       "    .dataframe thead th {\n",
       "        text-align: right;\n",
       "    }\n",
       "</style>\n",
       "<table border=\"1\" class=\"dataframe\">\n",
       "  <thead>\n",
       "    <tr style=\"text-align: right;\">\n",
       "      <th></th>\n",
       "      <th>doc_id</th>\n",
       "      <th>mean</th>\n",
       "      <th>GT</th>\n",
       "      <th>quartile</th>\n",
       "    </tr>\n",
       "  </thead>\n",
       "  <tbody>\n",
       "    <tr>\n",
       "      <th>0</th>\n",
       "      <td>joni-ernst-target-describing-11th-hour-obama-r...</td>\n",
       "      <td>3.4</td>\n",
       "      <td>mostly-true</td>\n",
       "      <td>other</td>\n",
       "    </tr>\n",
       "    <tr>\n",
       "      <th>1</th>\n",
       "      <td>gop-challenger-overstates-parole-boards-record...</td>\n",
       "      <td>1.4</td>\n",
       "      <td>false</td>\n",
       "      <td>other</td>\n",
       "    </tr>\n",
       "    <tr>\n",
       "      <th>2</th>\n",
       "      <td>greene-twists-logic-and-facts-pedophilia-charg...</td>\n",
       "      <td>1.2</td>\n",
       "      <td>pants-on-fire</td>\n",
       "      <td>correct_false</td>\n",
       "    </tr>\n",
       "    <tr>\n",
       "      <th>3</th>\n",
       "      <td>barnes-partially-right-claim-johnson-has-recei...</td>\n",
       "      <td>2.6</td>\n",
       "      <td>half-true</td>\n",
       "      <td>other</td>\n",
       "    </tr>\n",
       "    <tr>\n",
       "      <th>4</th>\n",
       "      <td>david-jolly-says-kathleen-peters-wont-take-sta...</td>\n",
       "      <td>2.7</td>\n",
       "      <td>barely-true</td>\n",
       "      <td>other</td>\n",
       "    </tr>\n",
       "    <tr>\n",
       "      <th>...</th>\n",
       "      <td>...</td>\n",
       "      <td>...</td>\n",
       "      <td>...</td>\n",
       "      <td>...</td>\n",
       "    </tr>\n",
       "    <tr>\n",
       "      <th>115</th>\n",
       "      <td>fact-checking-joe-biden-inflation-rates-among-...</td>\n",
       "      <td>2.3</td>\n",
       "      <td>half-true</td>\n",
       "      <td>other</td>\n",
       "    </tr>\n",
       "    <tr>\n",
       "      <th>116</th>\n",
       "      <td>david-dewhurst-says-he-never-supported-texas-p...</td>\n",
       "      <td>2.5</td>\n",
       "      <td>false</td>\n",
       "      <td>other</td>\n",
       "    </tr>\n",
       "    <tr>\n",
       "      <th>117</th>\n",
       "      <td>does-new-york-lead-nation-population-loss</td>\n",
       "      <td>4.1</td>\n",
       "      <td>true</td>\n",
       "      <td>other</td>\n",
       "    </tr>\n",
       "    <tr>\n",
       "      <th>118</th>\n",
       "      <td>yang-cites-maternal-mortality-stats-talk-about...</td>\n",
       "      <td>4.2</td>\n",
       "      <td>true</td>\n",
       "      <td>correct_true</td>\n",
       "    </tr>\n",
       "    <tr>\n",
       "      <th>119</th>\n",
       "      <td>pennsylvania-us-senate-candidate-kathy-barnett...</td>\n",
       "      <td>2.8</td>\n",
       "      <td>mostly-true</td>\n",
       "      <td>other</td>\n",
       "    </tr>\n",
       "  </tbody>\n",
       "</table>\n",
       "<p>120 rows × 4 columns</p>\n",
       "</div>"
      ],
      "text/plain": [
       "                                                doc_id  mean             GT  \\\n",
       "0    joni-ernst-target-describing-11th-hour-obama-r...   3.4    mostly-true   \n",
       "1    gop-challenger-overstates-parole-boards-record...   1.4          false   \n",
       "2    greene-twists-logic-and-facts-pedophilia-charg...   1.2  pants-on-fire   \n",
       "3    barnes-partially-right-claim-johnson-has-recei...   2.6      half-true   \n",
       "4    david-jolly-says-kathleen-peters-wont-take-sta...   2.7    barely-true   \n",
       "..                                                 ...   ...            ...   \n",
       "115  fact-checking-joe-biden-inflation-rates-among-...   2.3      half-true   \n",
       "116  david-dewhurst-says-he-never-supported-texas-p...   2.5          false   \n",
       "117          does-new-york-lead-nation-population-loss   4.1           true   \n",
       "118  yang-cites-maternal-mortality-stats-talk-about...   4.2           true   \n",
       "119  pennsylvania-us-senate-candidate-kathy-barnett...   2.8    mostly-true   \n",
       "\n",
       "          quartile  \n",
       "0            other  \n",
       "1            other  \n",
       "2    correct_false  \n",
       "3            other  \n",
       "4            other  \n",
       "..             ...  \n",
       "115          other  \n",
       "116          other  \n",
       "117          other  \n",
       "118   correct_true  \n",
       "119          other  \n",
       "\n",
       "[120 rows x 4 columns]"
      ]
     },
     "execution_count": 28,
     "metadata": {},
     "output_type": "execute_result"
    }
   ],
   "source": [
    "df"
   ]
  },
  {
   "cell_type": "code",
   "execution_count": 29,
   "metadata": {},
   "outputs": [],
   "source": [
    "data = df_data[df_data[\"doc_id\"] != \"GOLD_HIGH\"]\n",
    "data = data[data[\"doc_id\"] != \"GOLD_LOW\"]"
   ]
  },
  {
   "cell_type": "code",
   "execution_count": 30,
   "metadata": {},
   "outputs": [],
   "source": [
    "data['quartile'] = 1\n",
    "data['mean'] = 0"
   ]
  },
  {
   "cell_type": "code",
   "execution_count": 31,
   "metadata": {},
   "outputs": [],
   "source": [
    "for index, row in data.iterrows():\n",
    "    id = row['doc_id']\n",
    "    data.at[index,'quartile'] = df[df[\"doc_id\"] == id]['quartile'].values[0]\n",
    "    data.at[index,'mean'] = df[df[\"doc_id\"] == id]['mean'].values[0]\n",
    "    "
   ]
  },
  {
   "cell_type": "code",
   "execution_count": 32,
   "metadata": {},
   "outputs": [],
   "source": [
    "for index, row in data.iterrows():\n",
    "    if row[\"doc_fact_check_ground_truth_label\"] == \"true\" and row['quartile'] == \"other\":\n",
    "        data.at[index,'quartile'] = \"other_true\"\n",
    "    if row[\"doc_fact_check_ground_truth_label\"] == \"pants-on-fire\" and row['quartile'] == \"other\":\n",
    "        data.at[index,'quartile'] = \"other_false\""
   ]
  },
  {
   "cell_type": "code",
   "execution_count": 33,
   "metadata": {},
   "outputs": [],
   "source": [
    "data[\"sovra\"] = 0\n",
    "for index, row in data.iterrows():\n",
    "    if row[\"doc_fact_check_ground_truth_label\"] == \"true\":\n",
    "        data.at[index,'sovra'] = \"true\"\n",
    "    elif row[\"doc_fact_check_ground_truth_label\"] == \"pants-on-fire\":\n",
    "        data.at[index,'sovra'] = \"pants-on-fire\"\n",
    "    else:\n",
    "        data.at[index,'sovra'] = \"other\""
   ]
  },
  {
   "cell_type": "code",
   "execution_count": 34,
   "metadata": {},
   "outputs": [
    {
     "data": {
      "text/html": [
       "<div>\n",
       "<style scoped>\n",
       "    .dataframe tbody tr th:only-of-type {\n",
       "        vertical-align: middle;\n",
       "    }\n",
       "\n",
       "    .dataframe tbody tr th {\n",
       "        vertical-align: top;\n",
       "    }\n",
       "\n",
       "    .dataframe thead th {\n",
       "        text-align: right;\n",
       "    }\n",
       "</style>\n",
       "<table border=\"1\" class=\"dataframe\">\n",
       "  <thead>\n",
       "    <tr style=\"text-align: right;\">\n",
       "      <th></th>\n",
       "      <th>doc_id</th>\n",
       "      <th>doc_fact_check_ground_truth_label</th>\n",
       "      <th>quartile</th>\n",
       "      <th>mean</th>\n",
       "    </tr>\n",
       "  </thead>\n",
       "  <tbody>\n",
       "    <tr>\n",
       "      <th>2</th>\n",
       "      <td>greene-twists-logic-and-facts-pedophilia-charg...</td>\n",
       "      <td>pants-on-fire</td>\n",
       "      <td>correct_false</td>\n",
       "      <td>1.2</td>\n",
       "    </tr>\n",
       "    <tr>\n",
       "      <th>9</th>\n",
       "      <td>ohios-mandel-repeats-false-claim-stolen-2020-e...</td>\n",
       "      <td>pants-on-fire</td>\n",
       "      <td>correct_false</td>\n",
       "      <td>1.1</td>\n",
       "    </tr>\n",
       "    <tr>\n",
       "      <th>16</th>\n",
       "      <td>suozzi-calling-hochul-interim-governor-s-misle...</td>\n",
       "      <td>pants-on-fire</td>\n",
       "      <td>wrong_false</td>\n",
       "      <td>3.2</td>\n",
       "    </tr>\n",
       "    <tr>\n",
       "      <th>31</th>\n",
       "      <td>graphic-labeled-top-ten-most-unhealthy-us-citi...</td>\n",
       "      <td>pants-on-fire</td>\n",
       "      <td>other_false</td>\n",
       "      <td>1.7</td>\n",
       "    </tr>\n",
       "    <tr>\n",
       "      <th>35</th>\n",
       "      <td>suozzi-calling-hochul-interim-governor-s-misle...</td>\n",
       "      <td>pants-on-fire</td>\n",
       "      <td>wrong_false</td>\n",
       "      <td>3.2</td>\n",
       "    </tr>\n",
       "    <tr>\n",
       "      <th>46</th>\n",
       "      <td>georgias-david-perdue-said-elections-were-stol...</td>\n",
       "      <td>pants-on-fire</td>\n",
       "      <td>other_false</td>\n",
       "      <td>2.1</td>\n",
       "    </tr>\n",
       "    <tr>\n",
       "      <th>54</th>\n",
       "      <td>jd-vance-says-transgender-rights-drives-loomin...</td>\n",
       "      <td>pants-on-fire</td>\n",
       "      <td>correct_false</td>\n",
       "      <td>1.2</td>\n",
       "    </tr>\n",
       "    <tr>\n",
       "      <th>59</th>\n",
       "      <td>claim-kids-more-likely-have-access-crack-pipes...</td>\n",
       "      <td>pants-on-fire</td>\n",
       "      <td>other_false</td>\n",
       "      <td>1.4</td>\n",
       "    </tr>\n",
       "    <tr>\n",
       "      <th>71</th>\n",
       "      <td>common-core-testing-homosexual-possibly-can</td>\n",
       "      <td>pants-on-fire</td>\n",
       "      <td>correct_false</td>\n",
       "      <td>0.7</td>\n",
       "    </tr>\n",
       "    <tr>\n",
       "      <th>76</th>\n",
       "      <td>claim-nominee-ketanji-brown-jackson-wants-defu...</td>\n",
       "      <td>pants-on-fire</td>\n",
       "      <td>other_false</td>\n",
       "      <td>1.5</td>\n",
       "    </tr>\n",
       "  </tbody>\n",
       "</table>\n",
       "</div>"
      ],
      "text/plain": [
       "                                               doc_id  \\\n",
       "2   greene-twists-logic-and-facts-pedophilia-charg...   \n",
       "9   ohios-mandel-repeats-false-claim-stolen-2020-e...   \n",
       "16  suozzi-calling-hochul-interim-governor-s-misle...   \n",
       "31  graphic-labeled-top-ten-most-unhealthy-us-citi...   \n",
       "35  suozzi-calling-hochul-interim-governor-s-misle...   \n",
       "46  georgias-david-perdue-said-elections-were-stol...   \n",
       "54  jd-vance-says-transgender-rights-drives-loomin...   \n",
       "59  claim-kids-more-likely-have-access-crack-pipes...   \n",
       "71        common-core-testing-homosexual-possibly-can   \n",
       "76  claim-nominee-ketanji-brown-jackson-wants-defu...   \n",
       "\n",
       "   doc_fact_check_ground_truth_label       quartile  mean  \n",
       "2                      pants-on-fire  correct_false   1.2  \n",
       "9                      pants-on-fire  correct_false   1.1  \n",
       "16                     pants-on-fire    wrong_false   3.2  \n",
       "31                     pants-on-fire    other_false   1.7  \n",
       "35                     pants-on-fire    wrong_false   3.2  \n",
       "46                     pants-on-fire    other_false   2.1  \n",
       "54                     pants-on-fire  correct_false   1.2  \n",
       "59                     pants-on-fire    other_false   1.4  \n",
       "71                     pants-on-fire  correct_false   0.7  \n",
       "76                     pants-on-fire    other_false   1.5  "
      ]
     },
     "execution_count": 34,
     "metadata": {},
     "output_type": "execute_result"
    }
   ],
   "source": [
    "data[data[\"doc_fact_check_ground_truth_label\"] == \"pants-on-fire\"][[\"doc_id\",\"doc_fact_check_ground_truth_label\",\"quartile\",\"mean\"]].head(10)"
   ]
  },
  {
   "cell_type": "code",
   "execution_count": 35,
   "metadata": {},
   "outputs": [
    {
     "data": {
      "text/html": [
       "<div>\n",
       "<style scoped>\n",
       "    .dataframe tbody tr th:only-of-type {\n",
       "        vertical-align: middle;\n",
       "    }\n",
       "\n",
       "    .dataframe tbody tr th {\n",
       "        vertical-align: top;\n",
       "    }\n",
       "\n",
       "    .dataframe thead th {\n",
       "        text-align: right;\n",
       "    }\n",
       "</style>\n",
       "<table border=\"1\" class=\"dataframe\">\n",
       "  <thead>\n",
       "    <tr style=\"text-align: right;\">\n",
       "      <th></th>\n",
       "      <th>doc_id</th>\n",
       "      <th>doc_fact_check_ground_truth_label</th>\n",
       "      <th>quartile</th>\n",
       "      <th>mean</th>\n",
       "      <th>sovra</th>\n",
       "    </tr>\n",
       "  </thead>\n",
       "  <tbody>\n",
       "    <tr>\n",
       "      <th>0</th>\n",
       "      <td>joni-ernst-target-describing-11th-hour-obama-r...</td>\n",
       "      <td>mostly-true</td>\n",
       "      <td>other</td>\n",
       "      <td>3.4</td>\n",
       "      <td>other</td>\n",
       "    </tr>\n",
       "    <tr>\n",
       "      <th>1</th>\n",
       "      <td>gop-challenger-overstates-parole-boards-record...</td>\n",
       "      <td>false</td>\n",
       "      <td>other</td>\n",
       "      <td>1.4</td>\n",
       "      <td>other</td>\n",
       "    </tr>\n",
       "    <tr>\n",
       "      <th>2</th>\n",
       "      <td>greene-twists-logic-and-facts-pedophilia-charg...</td>\n",
       "      <td>pants-on-fire</td>\n",
       "      <td>correct_false</td>\n",
       "      <td>1.2</td>\n",
       "      <td>pants-on-fire</td>\n",
       "    </tr>\n",
       "    <tr>\n",
       "      <th>4</th>\n",
       "      <td>barnes-partially-right-claim-johnson-has-recei...</td>\n",
       "      <td>half-true</td>\n",
       "      <td>other</td>\n",
       "      <td>2.6</td>\n",
       "      <td>other</td>\n",
       "    </tr>\n",
       "    <tr>\n",
       "      <th>5</th>\n",
       "      <td>david-jolly-says-kathleen-peters-wont-take-sta...</td>\n",
       "      <td>barely-true</td>\n",
       "      <td>other</td>\n",
       "      <td>2.7</td>\n",
       "      <td>other</td>\n",
       "    </tr>\n",
       "    <tr>\n",
       "      <th>7</th>\n",
       "      <td>john-boehner-says-stimulus-bill-was-rushed-pas...</td>\n",
       "      <td>true</td>\n",
       "      <td>other_true</td>\n",
       "      <td>4.0</td>\n",
       "      <td>true</td>\n",
       "    </tr>\n",
       "    <tr>\n",
       "      <th>8</th>\n",
       "      <td>ron-desantis-exaggerates-outstanding-graduate-...</td>\n",
       "      <td>barely-true</td>\n",
       "      <td>other</td>\n",
       "      <td>2.6</td>\n",
       "      <td>other</td>\n",
       "    </tr>\n",
       "    <tr>\n",
       "      <th>9</th>\n",
       "      <td>ohios-mandel-repeats-false-claim-stolen-2020-e...</td>\n",
       "      <td>pants-on-fire</td>\n",
       "      <td>correct_false</td>\n",
       "      <td>1.1</td>\n",
       "      <td>pants-on-fire</td>\n",
       "    </tr>\n",
       "    <tr>\n",
       "      <th>10</th>\n",
       "      <td>lauren-boebert-wrong-founding-fathers-intent-e...</td>\n",
       "      <td>false</td>\n",
       "      <td>other</td>\n",
       "      <td>2.1</td>\n",
       "      <td>other</td>\n",
       "    </tr>\n",
       "    <tr>\n",
       "      <th>11</th>\n",
       "      <td>hard-pin-down-growing-cost-unused-border-mater...</td>\n",
       "      <td>half-true</td>\n",
       "      <td>other</td>\n",
       "      <td>3.6</td>\n",
       "      <td>other</td>\n",
       "    </tr>\n",
       "  </tbody>\n",
       "</table>\n",
       "</div>"
      ],
      "text/plain": [
       "                                               doc_id  \\\n",
       "0   joni-ernst-target-describing-11th-hour-obama-r...   \n",
       "1   gop-challenger-overstates-parole-boards-record...   \n",
       "2   greene-twists-logic-and-facts-pedophilia-charg...   \n",
       "4   barnes-partially-right-claim-johnson-has-recei...   \n",
       "5   david-jolly-says-kathleen-peters-wont-take-sta...   \n",
       "7   john-boehner-says-stimulus-bill-was-rushed-pas...   \n",
       "8   ron-desantis-exaggerates-outstanding-graduate-...   \n",
       "9   ohios-mandel-repeats-false-claim-stolen-2020-e...   \n",
       "10  lauren-boebert-wrong-founding-fathers-intent-e...   \n",
       "11  hard-pin-down-growing-cost-unused-border-mater...   \n",
       "\n",
       "   doc_fact_check_ground_truth_label       quartile  mean          sovra  \n",
       "0                        mostly-true          other   3.4          other  \n",
       "1                              false          other   1.4          other  \n",
       "2                      pants-on-fire  correct_false   1.2  pants-on-fire  \n",
       "4                          half-true          other   2.6          other  \n",
       "5                        barely-true          other   2.7          other  \n",
       "7                               true     other_true   4.0           true  \n",
       "8                        barely-true          other   2.6          other  \n",
       "9                      pants-on-fire  correct_false   1.1  pants-on-fire  \n",
       "10                             false          other   2.1          other  \n",
       "11                         half-true          other   3.6          other  "
      ]
     },
     "execution_count": 35,
     "metadata": {},
     "output_type": "execute_result"
    }
   ],
   "source": [
    "data[[\"doc_id\",\"doc_fact_check_ground_truth_label\",\"quartile\",\"mean\",\"sovra\"]].head(10)"
   ]
  },
  {
   "cell_type": "code",
   "execution_count": 36,
   "metadata": {},
   "outputs": [],
   "source": [
    "data.to_csv(\"df_all_data.csv\")"
   ]
  },
  {
   "attachments": {},
   "cell_type": "markdown",
   "metadata": {},
   "source": [
    "CREA CSV per quartili"
   ]
  },
  {
   "cell_type": "code",
   "execution_count": 37,
   "metadata": {},
   "outputs": [],
   "source": [
    "df_allData_quartile = df_data[df_data[\"doc_id\"].isin(df_solo_quartili[\"doc_id\"])]\n"
   ]
  },
  {
   "cell_type": "code",
   "execution_count": 38,
   "metadata": {},
   "outputs": [
    {
     "data": {
      "text/plain": [
       "21"
      ]
     },
     "execution_count": 38,
     "metadata": {},
     "output_type": "execute_result"
    }
   ],
   "source": [
    "len(df_allData_quartile[[\"doc_id\"]].sort_values(by=['doc_id']).value_counts())"
   ]
  },
  {
   "cell_type": "code",
   "execution_count": 39,
   "metadata": {},
   "outputs": [
    {
     "name": "stderr",
     "output_type": "stream",
     "text": [
      "C:\\Users\\gabri\\AppData\\Local\\Temp\\ipykernel_18276\\269757852.py:1: SettingWithCopyWarning: \n",
      "A value is trying to be set on a copy of a slice from a DataFrame.\n",
      "Try using .loc[row_indexer,col_indexer] = value instead\n",
      "\n",
      "See the caveats in the documentation: https://pandas.pydata.org/pandas-docs/stable/user_guide/indexing.html#returning-a-view-versus-a-copy\n",
      "  df_allData_quartile['quartile'] = 1\n",
      "C:\\Users\\gabri\\AppData\\Local\\Temp\\ipykernel_18276\\269757852.py:2: SettingWithCopyWarning: \n",
      "A value is trying to be set on a copy of a slice from a DataFrame.\n",
      "Try using .loc[row_indexer,col_indexer] = value instead\n",
      "\n",
      "See the caveats in the documentation: https://pandas.pydata.org/pandas-docs/stable/user_guide/indexing.html#returning-a-view-versus-a-copy\n",
      "  df_allData_quartile['mean'] = 0\n"
     ]
    }
   ],
   "source": [
    "df_allData_quartile['quartile'] = 1\n",
    "df_allData_quartile['mean'] = 0"
   ]
  },
  {
   "cell_type": "code",
   "execution_count": 40,
   "metadata": {},
   "outputs": [],
   "source": [
    "for index, row in df_allData_quartile.iterrows():\n",
    "    if row['doc_id'] in wrong_false['doc_id'].values:\n",
    "       df_allData_quartile.at[index,'quartile'] = \"wrong_false\"\n",
    "       df_allData_quartile.at[index,'mean'] = wrong_false[wrong_false['doc_id'] == row['doc_id']]['mean'].values[0]\n",
    "    elif row['doc_id'] in correct_false['doc_id'].values:\n",
    "       df_allData_quartile.at[index,'quartile'] = \"correct_false\"\n",
    "       df_allData_quartile.at[index,'mean'] = correct_false[correct_false['doc_id'] == row['doc_id']]['mean'].values[0]\n",
    "    elif row['doc_id'] in wrong_true['doc_id'].values:\n",
    "       df_allData_quartile.at[index,'quartile'] = \"wrong_true\"\n",
    "       df_allData_quartile.at[index,'mean'] = wrong_true[wrong_true['doc_id'] == row['doc_id']]['mean'].values[0]\n",
    "    elif row['doc_id'] in correct_true['doc_id'].values:\n",
    "       df_allData_quartile.at[index,'quartile'] = \"correct_true\"\n",
    "       df_allData_quartile.at[index,'mean'] = correct_true[correct_true['doc_id'] == row['doc_id']]['mean'].values[0]\n",
    "    else:\n",
    "        print(\"errore\")"
   ]
  },
  {
   "cell_type": "code",
   "execution_count": 41,
   "metadata": {},
   "outputs": [
    {
     "data": {
      "text/plain": [
       "doc_id                                              quartile       mean\n",
       "allan-fung-former-ri-gov-donald-carcieri-has-not-b  wrong_true     2.7     10\n",
       "ohios-mandel-repeats-false-claim-stolen-2020-elect  correct_false  1.1     10\n",
       "yang-cites-maternal-mortality-stats-talk-about-rac  correct_true   4.2     10\n",
       "virginia-blacks-eight-times-more-likely-whites-be-  correct_true   4.5     10\n",
       "tax-shift-lou-greenwald-sets-truth-o-meter-ablaze-  wrong_false    3.5     10\n",
       "susan-collins-says-year-overwhelming-majority-new-  wrong_true     3.0     10\n",
       "suozzi-calling-hochul-interim-governor-s-misleadin  wrong_false    3.2     10\n",
       "state-crime-lab-doing-less-testing-and-generally-t  wrong_true     3.0     10\n",
       "some-teachouts-donors-also-gave-super-pacs          wrong_true     3.2     10\n",
       "republican-senate-hopeful-claims-montana-sen-jon-t  wrong_false    3.3     10\n",
       "no-these-mass-shootings-werent-plot-protect-hillar  correct_false  0.8     10\n",
       "big-four-meat-packers-are-seeing-record-profits-sp  correct_true   4.2     10\n",
       "new-york-state-so-many-bills                        correct_true   4.3     10\n",
       "jim-jordan-says-seven-nations-10-wealthiest-counti  wrong_true     2.7     10\n",
       "jd-vance-says-transgender-rights-drives-looming-co  correct_false  1.2     10\n",
       "greene-twists-logic-and-facts-pedophilia-charge-ag  correct_false  1.2     10\n",
       "gov-john-kasich-says-his-turnpike-plan-would-lower  wrong_false    3.0     10\n",
       "david-perdue-distorts-facts-georgia-agreement-abse  wrong_false    2.5     10\n",
       "crist-says-reagan-was-democrat-converting-gop       correct_true   4.4     10\n",
       "common-core-testing-homosexual-possibly-can         correct_false  0.7     10\n",
       "yes-tax-break-ron-johnson-pushed-2017-has-benefite  correct_true   4.3     10\n",
       "dtype: int64"
      ]
     },
     "execution_count": 41,
     "metadata": {},
     "output_type": "execute_result"
    }
   ],
   "source": [
    "df_allData_quartile[[\"doc_id\",'quartile','mean']].sort_values(by=['doc_id']).value_counts()"
   ]
  },
  {
   "cell_type": "code",
   "execution_count": 42,
   "metadata": {},
   "outputs": [],
   "source": [
    "df_allData_quartile.to_csv(\"df_quartiles.csv\")"
   ]
  },
  {
   "cell_type": "code",
   "execution_count": 43,
   "metadata": {},
   "outputs": [
    {
     "name": "stdout",
     "output_type": "stream",
     "text": [
      "numero per wrong_false = 5\n",
      "numero per correct_false = 5\n",
      "numero per wrong_true = 5\n",
      "numero per correct_true = 6\n"
     ]
    }
   ],
   "source": [
    "for val in [ \"wrong_false\", \"correct_false\", \"wrong_true\", \"correct_true\"]:\n",
    "    print(\"numero per \" + val +\" =\" ,len(df_allData_quartile[df_allData_quartile['quartile'] == val][\"doc_id\"].unique()))"
   ]
  },
  {
   "attachments": {},
   "cell_type": "markdown",
   "metadata": {},
   "source": [
    "    Crea CSV per TRUE e FALSE"
   ]
  },
  {
   "cell_type": "code",
   "execution_count": 44,
   "metadata": {},
   "outputs": [
    {
     "data": {
      "text/plain": [
       "20"
      ]
     },
     "execution_count": 44,
     "metadata": {},
     "output_type": "execute_result"
    }
   ],
   "source": [
    "df_true_all = df_data[df_data[\"doc_id\"].isin(df_mean_true[\"doc_id\"])]\n",
    "len(df_true_all[[\"doc_id\"]].sort_values(by=['doc_id']).value_counts())"
   ]
  },
  {
   "cell_type": "code",
   "execution_count": 45,
   "metadata": {},
   "outputs": [
    {
     "name": "stderr",
     "output_type": "stream",
     "text": [
      "C:\\Users\\gabri\\AppData\\Local\\Temp\\ipykernel_18276\\184496925.py:1: SettingWithCopyWarning: \n",
      "A value is trying to be set on a copy of a slice from a DataFrame.\n",
      "Try using .loc[row_indexer,col_indexer] = value instead\n",
      "\n",
      "See the caveats in the documentation: https://pandas.pydata.org/pandas-docs/stable/user_guide/indexing.html#returning-a-view-versus-a-copy\n",
      "  df_true_all['quartile'] = 1\n",
      "C:\\Users\\gabri\\AppData\\Local\\Temp\\ipykernel_18276\\184496925.py:2: SettingWithCopyWarning: \n",
      "A value is trying to be set on a copy of a slice from a DataFrame.\n",
      "Try using .loc[row_indexer,col_indexer] = value instead\n",
      "\n",
      "See the caveats in the documentation: https://pandas.pydata.org/pandas-docs/stable/user_guide/indexing.html#returning-a-view-versus-a-copy\n",
      "  df_true_all['mean'] = 0\n"
     ]
    }
   ],
   "source": [
    "df_true_all['quartile'] = 1\n",
    "df_true_all['mean'] = 0"
   ]
  },
  {
   "cell_type": "code",
   "execution_count": 46,
   "metadata": {},
   "outputs": [],
   "source": [
    "for index, row in df_true_all.iterrows():\n",
    "   if row['doc_id'] in wrong_true['doc_id'].values:\n",
    "      df_true_all.at[index,'quartile'] = \"wrong_true\"\n",
    "      df_true_all.at[index,'mean'] = df_mean_true[df_mean_true['doc_id'] == row['doc_id']]['mean'].values[0]\n",
    "   elif row['doc_id'] in correct_true['doc_id'].values:\n",
    "      df_true_all.at[index,'quartile'] = \"correct_true\"\n",
    "      df_true_all.at[index,'mean'] = df_mean_true[df_mean_true['doc_id'] == row['doc_id']]['mean'].values[0]\n",
    "   else:\n",
    "      df_true_all.at[index,'quartile'] = \"other\"\n",
    "      df_true_all.at[index,'mean'] = df_mean_true[df_mean_true['doc_id'] == row['doc_id']]['mean'].values[0]\n",
    "   \n",
    "    "
   ]
  },
  {
   "cell_type": "code",
   "execution_count": 47,
   "metadata": {},
   "outputs": [
    {
     "data": {
      "text/plain": [
       "doc_id                                              quartile      mean\n",
       "allan-fung-former-ri-gov-donald-carcieri-has-not-b  wrong_true    2.7     10\n",
       "big-four-meat-packers-are-seeing-record-profits-sp  correct_true  4.2     10\n",
       "yes-tax-break-ron-johnson-pushed-2017-has-benefite  correct_true  4.3     10\n",
       "yes-its-true-cannabis-reform-supported-wisconsin-i  other         3.9     10\n",
       "yes-democrats-do-need-more-majority-codify-roe-vs-  other         4.1     10\n",
       "yang-cites-maternal-mortality-stats-talk-about-rac  correct_true  4.2     10\n",
       "warrens-argument-millions-cant-afford-their-rx-dru  other         4.1     10\n",
       "virginia-blacks-eight-times-more-likely-whites-be-  correct_true  4.5     10\n",
       "susan-collins-says-year-overwhelming-majority-new-  wrong_true    3.0     10\n",
       "state-crime-lab-doing-less-testing-and-generally-t  wrong_true    3.0     10\n",
       "some-teachouts-donors-also-gave-super-pacs          wrong_true    3.2     10\n",
       "new-york-state-so-many-bills                        correct_true  4.3     10\n",
       "more-50-years-ago-new-york-republican-support-abor  other         3.7     10\n",
       "john-boehner-says-stimulus-bill-was-rushed-passage  other         4.0     10\n",
       "jim-jordan-says-seven-nations-10-wealthiest-counti  wrong_true    2.7     10\n",
       "fact-checking-bernie-sanders-claim-us-spends-three  other         3.6     10\n",
       "does-new-york-lead-nation-population-loss           other         4.1     10\n",
       "crist-says-reagan-was-democrat-converting-gop       correct_true  4.4     10\n",
       "chris-christie-claims-states-gained-143000-new-pri  other         3.8     10\n",
       "yes-wisconsins-abortion-law-older-20-us-states      other         3.8     10\n",
       "dtype: int64"
      ]
     },
     "execution_count": 47,
     "metadata": {},
     "output_type": "execute_result"
    }
   ],
   "source": [
    "df_true_all[[\"doc_id\",'quartile','mean']].sort_values(by=['doc_id']).value_counts()"
   ]
  },
  {
   "cell_type": "code",
   "execution_count": 48,
   "metadata": {},
   "outputs": [],
   "source": [
    "df_true_all.to_csv(\"df_true.csv\")"
   ]
  },
  {
   "attachments": {},
   "cell_type": "markdown",
   "metadata": {},
   "source": [
    "FALSE"
   ]
  },
  {
   "cell_type": "code",
   "execution_count": 49,
   "metadata": {},
   "outputs": [
    {
     "data": {
      "text/plain": [
       "20"
      ]
     },
     "execution_count": 49,
     "metadata": {},
     "output_type": "execute_result"
    }
   ],
   "source": [
    "df_false_all = df_data[df_data[\"doc_id\"].isin(df_mean_false[\"doc_id\"])]\n",
    "len(df_false_all[[\"doc_id\"]].sort_values(by=['doc_id']).value_counts())"
   ]
  },
  {
   "cell_type": "code",
   "execution_count": 50,
   "metadata": {},
   "outputs": [
    {
     "name": "stderr",
     "output_type": "stream",
     "text": [
      "C:\\Users\\gabri\\AppData\\Local\\Temp\\ipykernel_18276\\2749065718.py:1: SettingWithCopyWarning: \n",
      "A value is trying to be set on a copy of a slice from a DataFrame.\n",
      "Try using .loc[row_indexer,col_indexer] = value instead\n",
      "\n",
      "See the caveats in the documentation: https://pandas.pydata.org/pandas-docs/stable/user_guide/indexing.html#returning-a-view-versus-a-copy\n",
      "  df_false_all['quartile'] = 1\n",
      "C:\\Users\\gabri\\AppData\\Local\\Temp\\ipykernel_18276\\2749065718.py:2: SettingWithCopyWarning: \n",
      "A value is trying to be set on a copy of a slice from a DataFrame.\n",
      "Try using .loc[row_indexer,col_indexer] = value instead\n",
      "\n",
      "See the caveats in the documentation: https://pandas.pydata.org/pandas-docs/stable/user_guide/indexing.html#returning-a-view-versus-a-copy\n",
      "  df_false_all['mean'] = 0\n"
     ]
    }
   ],
   "source": [
    "df_false_all['quartile'] = 1\n",
    "df_false_all['mean'] = 0"
   ]
  },
  {
   "cell_type": "code",
   "execution_count": 51,
   "metadata": {},
   "outputs": [],
   "source": [
    "for index, row in df_false_all.iterrows():\n",
    "   if row['doc_id'] in wrong_false['doc_id'].values:\n",
    "      df_false_all.at[index,'quartile'] = \"wrong_false\"\n",
    "      df_false_all.at[index,'mean'] = df_mean_false[df_mean_false['doc_id'] == row['doc_id']]['mean'].values[0]\n",
    "   elif row['doc_id'] in correct_false['doc_id'].values:\n",
    "      df_false_all.at[index,'quartile'] = \"correct_false\"\n",
    "      df_false_all.at[index,'mean'] = df_mean_false[df_mean_false['doc_id'] == row['doc_id']]['mean'].values[0]\n",
    "   else:\n",
    "      df_false_all.at[index,'quartile'] = \"other\"\n",
    "      df_false_all.at[index,'mean'] = df_mean_false[df_mean_false['doc_id'] == row['doc_id']]['mean'].values[0]\n",
    "   \n",
    "    "
   ]
  },
  {
   "cell_type": "code",
   "execution_count": 52,
   "metadata": {},
   "outputs": [
    {
     "data": {
      "text/plain": [
       "doc_id                                              quartile       mean    \n",
       "bob-good-invents-position-ketanji-brown-jackson-la  other          1.600000    10\n",
       "claim-kids-more-likely-have-access-crack-pipes-mas  other          1.400000    10\n",
       "tax-shift-lou-greenwald-sets-truth-o-meter-ablaze-  wrong_false    3.500000    10\n",
       "suozzi-calling-hochul-interim-governor-s-misleadin  wrong_false    3.200000    10\n",
       "republican-senate-hopeful-claims-montana-sen-jon-t  wrong_false    3.300000    10\n",
       "ohios-mandel-repeats-false-claim-stolen-2020-elect  correct_false  1.100000    10\n",
       "ohio-gop-candidate-falsely-says-more-votes-registe  other          1.800000    10\n",
       "no-these-mass-shootings-werent-plot-protect-hillar  correct_false  0.800000    10\n",
       "jd-vance-says-transgender-rights-drives-looming-co  correct_false  1.200000    10\n",
       "greene-twists-logic-and-facts-pedophilia-charge-ag  correct_false  1.200000    10\n",
       "graphic-labeled-top-ten-most-unhealthy-us-cities-d  other          1.700000    10\n",
       "gov-john-kasich-says-his-turnpike-plan-would-lower  wrong_false    3.000000    10\n",
       "georgias-david-perdue-said-elections-were-stolen-h  other          2.100000    10\n",
       "do-republicans-want-throw-doctors-who-break-aborti  other          2.000000    10\n",
       "david-perdue-distorts-facts-georgia-agreement-abse  wrong_false    2.500000    10\n",
       "courts-have-repeatedly-upheld-grants-gableman-says  other          2.200000    10\n",
       "common-core-testing-homosexual-possibly-can         correct_false  0.700000    10\n",
       "claim-nominee-ketanji-brown-jackson-wants-defund-p  other          1.500000    10\n",
       "tulsi-gabbard-falsely-claims-us-not-so-different-r  other          2.100000    10\n",
       "research-submitted-fda-consideration-vaccine-autho  other          1.444444     9\n",
       "dtype: int64"
      ]
     },
     "execution_count": 52,
     "metadata": {},
     "output_type": "execute_result"
    }
   ],
   "source": [
    "df_false_all[[\"doc_id\",'quartile','mean']].sort_values(by=['doc_id']).value_counts()"
   ]
  },
  {
   "cell_type": "code",
   "execution_count": 53,
   "metadata": {},
   "outputs": [],
   "source": [
    "df_false_all.to_csv(\"df_false.csv\")"
   ]
  },
  {
   "attachments": {},
   "cell_type": "markdown",
   "metadata": {},
   "source": [
    "# TEST VARI"
   ]
  },
  {
   "cell_type": "code",
   "execution_count": 54,
   "metadata": {},
   "outputs": [],
   "source": [
    "analisi = df_data.drop_duplicates(subset=['doc_id'])"
   ]
  },
  {
   "cell_type": "code",
   "execution_count": 55,
   "metadata": {},
   "outputs": [
    {
     "data": {
      "text/plain": [
       "doc_speaker_party\n",
       "DEM                  65\n",
       "REP                  56\n",
       "dtype: int64"
      ]
     },
     "execution_count": 55,
     "metadata": {},
     "output_type": "execute_result"
    }
   ],
   "source": [
    "analisi[[\"doc_speaker_party\"]].value_counts()"
   ]
  },
  {
   "cell_type": "code",
   "execution_count": 56,
   "metadata": {},
   "outputs": [
    {
     "data": {
      "text/plain": [
       "Index(['worker_id', 'access_counter', 'token_input', 'user_agent_source',\n",
       "       'ip_address', 'generated', 'ip_source', 'time_removal', 'try_current',\n",
       "       'paid', 'batch_name', 'token_output', 'unit_id', 'session_i_d',\n",
       "       'time_completion', 'in_progress', 'user_agent', 'time_arrival',\n",
       "       'task_name', 'folder', 'time_expired', 'study_i_d', 'platform',\n",
       "       'try_left', 'source_acl', 'source_data', 'source_log', 'source_path',\n",
       "       'try_last', 'task_id', 'tries_amount', 'questionnaire_amount',\n",
       "       'questionnaire_amount_start', 'questionnaire_amount_end',\n",
       "       'documents_amount', 'dimensions_amount', 'time_arrival_parsed',\n",
       "       'time_completion_parsed', 'time_removal_parsed'],\n",
       "      dtype='object')"
      ]
     },
     "execution_count": 56,
     "metadata": {},
     "output_type": "execute_result"
    }
   ],
   "source": [
    "df_workers_data.columns"
   ]
  },
  {
   "cell_type": "code",
   "execution_count": 57,
   "metadata": {},
   "outputs": [
    {
     "data": {
      "text/plain": [
       "10.0    200\n",
       "Name: dimensions_amount, dtype: int64"
      ]
     },
     "execution_count": 57,
     "metadata": {},
     "output_type": "execute_result"
    }
   ],
   "source": [
    "df_workers_data[\"dimensions_amount\"].value_counts()"
   ]
  },
  {
   "cell_type": "code",
   "execution_count": 58,
   "metadata": {},
   "outputs": [
    {
     "data": {
      "text/plain": [
       "Index(['worker_id', 'paid', 'task_id', 'batch_name', 'unit_id', 'try_last',\n",
       "       'try_current', 'dimension_index', 'dimension_name', 'timestamp_start',\n",
       "       'timestamp_start_parsed', 'selection_index', 'selection_value',\n",
       "       'selection_label', 'selection_timestamp', 'selection_timestamp_parsed',\n",
       "       'selection_time_elapsed', 'timestamp_end', 'timestamp_end_parsed',\n",
       "       'document_index', 'document_id'],\n",
       "      dtype='object')"
      ]
     },
     "execution_count": 58,
     "metadata": {},
     "output_type": "execute_result"
    }
   ],
   "source": [
    "df_workers_dim.columns"
   ]
  },
  {
   "cell_type": "code",
   "execution_count": 59,
   "metadata": {},
   "outputs": [
    {
     "data": {
      "text/plain": [
       "Index(['worker_id', 'paid', 'try_last', 'try_current', 'document_index',\n",
       "       'document_id', 'dimension_index', 'dimension_name', 'query_index',\n",
       "       'query_text', 'query_timestamp', 'query_timestamp_parsed',\n",
       "       'response_index', 'response_url', 'response_name', 'response_snippet',\n",
       "       'response_uuid', 'index_selected'],\n",
       "      dtype='object')"
      ]
     },
     "execution_count": 59,
     "metadata": {},
     "output_type": "execute_result"
    }
   ],
   "source": [
    "df_workers_url.columns"
   ]
  },
  {
   "cell_type": "code",
   "execution_count": 60,
   "metadata": {},
   "outputs": [
    {
     "data": {
      "text/plain": [
       "0    49259\n",
       "Name: dimension_index, dtype: int64"
      ]
     },
     "execution_count": 60,
     "metadata": {},
     "output_type": "execute_result"
    }
   ],
   "source": [
    "df_workers_url[\"dimension_index\"].value_counts()"
   ]
  }
 ],
 "metadata": {
  "kernelspec": {
   "display_name": "Env_ForTesi",
   "language": "python",
   "name": "python3"
  },
  "language_info": {
   "codemirror_mode": {
    "name": "ipython",
    "version": 3
   },
   "file_extension": ".py",
   "mimetype": "text/x-python",
   "name": "python",
   "nbconvert_exporter": "python",
   "pygments_lexer": "ipython3",
   "version": "3.9.16"
  },
  "orig_nbformat": 4,
  "vscode": {
   "interpreter": {
    "hash": "ada4b6685d3b61fa4b35100c8d705078df534cc5b805208d05487efc16d32caa"
   }
  }
 },
 "nbformat": 4,
 "nbformat_minor": 2
}
