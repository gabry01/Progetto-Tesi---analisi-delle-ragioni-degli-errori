{
 "cells": [
  {
   "cell_type": "code",
   "execution_count": 8,
   "metadata": {},
   "outputs": [
    {
     "ename": "ImportError",
     "evalue": "cannot import name 'proportions_chisquare_allpairs' from 'statsmodels' (d:\\Programs\\anaconda3\\envs\\Env_ForTesi\\lib\\site-packages\\statsmodels\\__init__.py)",
     "output_type": "error",
     "traceback": [
      "\u001b[1;31m---------------------------------------------------------------------------\u001b[0m",
      "\u001b[1;31mImportError\u001b[0m                               Traceback (most recent call last)",
      "Cell \u001b[1;32mIn[8], line 1\u001b[0m\n\u001b[1;32m----> 1\u001b[0m \u001b[39mfrom\u001b[39;00m \u001b[39mstatsmodels\u001b[39;00m \u001b[39mimport\u001b[39;00m proportions_chisquare_allpairs\n\u001b[0;32m      3\u001b[0m \u001b[39m# definizione dei gruppi di dati\u001b[39;00m\n\u001b[0;32m      4\u001b[0m group1 \u001b[39m=\u001b[39m [\u001b[39m10\u001b[39m, \u001b[39m20\u001b[39m, \u001b[39m30\u001b[39m]\n",
      "\u001b[1;31mImportError\u001b[0m: cannot import name 'proportions_chisquare_allpairs' from 'statsmodels' (d:\\Programs\\anaconda3\\envs\\Env_ForTesi\\lib\\site-packages\\statsmodels\\__init__.py)"
     ]
    }
   ],
   "source": [
    "import statsmodels.stats.proportion as ssp\n",
    "\n",
    "# definizione dei gruppi di dati\n",
    "group1 = [10, 20, 30]\n",
    "group2 = [15, 25, 35]\n",
    "group3 = [5, 10, 15]\n",
    "\n",
    "# calcolo del chi-quadro per tutte le coppie di gruppi\n",
    "chi2, p, dof = proportions_chisquare_allpairs([group1, group2, group3])\n",
    "\n",
    "# stampa dei risultati\n",
    "print(\"Chi-quadro:\", chi2)\n",
    "print(\"p-value:\", p)\n",
    "print(\"Gradi di libertà:\", dof)\n"
   ]
  },
  {
   "cell_type": "code",
   "execution_count": null,
   "metadata": {},
   "outputs": [],
   "source": [
    "from rpy2.robjects.packages import importr"
   ]
  }
 ],
 "metadata": {
  "kernelspec": {
   "display_name": "Env_ForTesi",
   "language": "python",
   "name": "python3"
  },
  "language_info": {
   "codemirror_mode": {
    "name": "ipython",
    "version": 3
   },
   "file_extension": ".py",
   "mimetype": "text/x-python",
   "name": "python",
   "nbconvert_exporter": "python",
   "pygments_lexer": "ipython3",
   "version": "3.9.16"
  },
  "orig_nbformat": 4
 },
 "nbformat": 4,
 "nbformat_minor": 2
}
