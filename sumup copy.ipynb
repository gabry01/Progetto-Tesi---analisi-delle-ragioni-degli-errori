{
 "cells": [
  {
   "attachments": {},
   "cell_type": "markdown",
   "metadata": {},
   "source": [
    "# Setup"
   ]
  },
  {
   "cell_type": "code",
   "execution_count": null,
   "metadata": {},
   "outputs": [],
   "source": [
    "%run setup.ipynb"
   ]
  },
  {
   "cell_type": "code",
   "execution_count": null,
   "metadata": {},
   "outputs": [],
   "source": [
    "import warnings\n",
    "warnings.filterwarnings('ignore')"
   ]
  },
  {
   "cell_type": "code",
   "execution_count": null,
   "metadata": {},
   "outputs": [],
   "source": [
    "df_merge = pd.read_csv('Datasets/df_merge.csv')"
   ]
  },
  {
   "cell_type": "code",
   "execution_count": null,
   "metadata": {},
   "outputs": [],
   "source": [
    "df_merge = df_merge.rename(columns={\"doc_speaker's-trustworthiness_index\": \"doc_speaker_trustworthiness_index\"})"
   ]
  },
  {
   "cell_type": "code",
   "execution_count": null,
   "metadata": {},
   "outputs": [],
   "source": [
    "df_merge[\"fre_label\"]  = 0\n",
    "for index, row in df_merge.iterrows():\n",
    "    if row[\"fre\"] >= 70:\n",
    "        df_merge.loc[index, \"fre_label\"] = \"alta\"\n",
    "    elif row[\"fre\"] >= 40:\n",
    "        df_merge.loc[index, \"fre_label\"] = \"media\"\n",
    "    else:\n",
    "        df_merge.loc[index, \"fre_label\"] = \"bassa\"\n"
   ]
  },
  {
   "cell_type": "code",
   "execution_count": null,
   "metadata": {},
   "outputs": [],
   "source": [
    "df_merge[\"percentuale_parole_significative_label\"]  = 0\n",
    "for index, row in df_merge.iterrows():\n",
    "    if row[\"percentuale_parole_significative\"] >= 0.75:\n",
    "        df_merge.loc[index, \"percentuale_parole_significative_label\"] = \"alta\"\n",
    "    elif row[\"percentuale_parole_significative\"] >= 0.5:\n",
    "        df_merge.loc[index, \"percentuale_parole_significative_label\"] = \"media\"\n",
    "    else:\n",
    "        df_merge.loc[index, \"percentuale_parole_significative_label\"] = \"bassa\"\n"
   ]
  },
  {
   "cell_type": "code",
   "execution_count": null,
   "metadata": {},
   "outputs": [],
   "source": [
    "df_merge[\"quartile_val\"] = 0\n",
    "for index,row in df_merge.iterrows():\n",
    "    if row[\"quartile\"] == \"wrong_false\":\n",
    "        df_merge.loc[index,\"quartile_val\"] = 1\n",
    "    elif row[\"quartile\"] == \"other_false\":\n",
    "        df_merge.loc[index,\"quartile_val\"] = 2\n",
    "    elif row[\"quartile\"] == \"correct_false\":\n",
    "        df_merge.loc[index,\"quartile_val\"] = 3\n",
    "    elif row[\"quartile\"] == \"other\":\n",
    "        df_merge.loc[index,\"quartile_val\"] = 4\n",
    "    elif row[\"quartile\"] == \"wrong_true\":\n",
    "        df_merge.loc[index,\"quartile_val\"] = 5\n",
    "    elif row[\"quartile\"] == \"other_true\":\n",
    "        df_merge.loc[index,\"quartile_val\"] = 6\n",
    "    elif row[\"quartile\"] == \"correct_true\":\n",
    "        df_merge.loc[index,\"quartile_val\"] = 7\n",
    "    else:\n",
    "        print(\"Error\")"
   ]
  },
  {
   "cell_type": "code",
   "execution_count": null,
   "metadata": {},
   "outputs": [],
   "source": [
    "df_merge[\"doc_speaker_party_val\"] = 0\n",
    "for index,row in df_merge.iterrows():\n",
    "    if row[\"doc_speaker_party\"] == \"DEM\":\n",
    "        df_merge.loc[index,\"doc_speaker_party_val\"] = 1"
   ]
  },
  {
   "cell_type": "code",
   "execution_count": null,
   "metadata": {},
   "outputs": [],
   "source": [
    "# creo i vari df per le analisi\n",
    "def crea_df_per_analisi(df_analisi):\n",
    "    df_all = df_analisi.copy()\n",
    "\n",
    "    df_false = df_analisi[df_analisi[\"sovra\"] == \"pants-on-fire\"]\n",
    "    df_true = df_analisi[df_analisi[\"sovra\"] == \"true\"]\n",
    "\n",
    "    df_wrong_false = df_analisi[df_analisi[\"quartile\"] == \"wrong_false\"]\n",
    "    df_correct_false = df_analisi[df_analisi[\"quartile\"] == \"correct_false\"]\n",
    "    df_wrong_true = df_analisi[df_analisi[\"quartile\"] == \"wrong_true\"]\n",
    "    df_correct_true = df_analisi[df_analisi[\"quartile\"] == \"correct_true\"]\n",
    "\n",
    "    df_wrong = df_wrong_false.append(df_wrong_true)\n",
    "    df_correct = df_correct_true.append(df_correct_false)\n",
    "\n",
    "    DF_no_quartili = [[\"df_all\",df_all],[\"df_false\",df_false],[\"df_true\",df_true],[\"df_wrong\",df_wrong],[\"df_correct\",df_correct]]\n",
    "    DF = [[\"df_all\",df_all],[\"df_false\",df_false],[\"df_true\",df_true],[\"df_wrong\",df_wrong],[\"df_correct\",df_correct],[\"df_wrong_false\",df_wrong_false],[\"df_correct_false\",df_correct_false],[\"df_correct_true\",df_correct_true],[\"df_wrong_true\",df_wrong_true]]\n",
    "    return df_all, df_false, df_true , df_wrong, df_correct, df_wrong_false, df_correct_false, df_correct_true, df_wrong_true, DF_no_quartili, DF"
   ]
  },
  {
   "cell_type": "code",
   "execution_count": null,
   "metadata": {},
   "outputs": [],
   "source": [
    "df_all, df_false, df_true , df_wrong, df_correct, df_wrong_false, df_correct_false, df_correct_true, df_wrong_true, DF_no_quartili, DF = crea_df_per_analisi(df_merge)"
   ]
  },
  {
   "attachments": {},
   "cell_type": "markdown",
   "metadata": {},
   "source": [
    "# Analisi"
   ]
  },
  {
   "cell_type": "code",
   "execution_count": 45,
   "metadata": {},
   "outputs": [],
   "source": [
    "variabili_interesse = [\"scarto\",\"quartile_val\",\"doc_truthfulness_value\"]\n",
    "dimensioni_importanti = [# RQ2\n",
    "                         \"doc_speaker_party\",\n",
    "                         # RQ3\n",
    "                         \"doc_accuracy_index\",\"doc_speaker_trustworthiness_index\",\n",
    "                         # RQ1\n",
    "                         \"age_ans_label\",\"southern_border_ans_label\",\"k_info_1_ans_label\",\"k_ai_4_ans_label\",\"s_com_1_v2_ans_label\",\"s_info_4_ans_label\"]\n",
    "dimensioni_importanti1 = [\"age_ans_label\",\"southern_border_ans_label\",\"taxes_ans_label\",\"southern_border_ans_label\",\"political_views_ans_label\",\"consideration_ans_label\",\"k_info_1_ans_label\",\"k_ai_4_ans_label\",\"s_com_1_v2_ans_label\",\"s_info_4_ans_label\"]\n",
    "dimensioni_importanti2 = [\"doc_speaker_party\"]\n",
    "dimensioni_importanti3 = [\"doc_accuracy_index\",\"doc_speaker_trustworthiness_index\"]"
   ]
  },
  {
   "cell_type": "code",
   "execution_count": null,
   "metadata": {},
   "outputs": [],
   "source": [
    "for c in dimensioni_importanti:\n",
    "    print(c,df_all[c].isna().sum())\n",
    "\n",
    "df_all = df_all.dropna(subset=dimensioni_importanti)\n",
    "\n",
    "for c in dimensioni_importanti:\n",
    "    print(c,df_all[c].isna().sum())"
   ]
  },
  {
   "cell_type": "code",
   "execution_count": null,
   "metadata": {},
   "outputs": [],
   "source": [
    "for dim in variabili_interesse:\n",
    "    print(dim,dim in df_all.columns)"
   ]
  },
  {
   "cell_type": "code",
   "execution_count": null,
   "metadata": {},
   "outputs": [],
   "source": [
    "for dim in dimensioni_importanti:\n",
    "    print(dim,dim in df_all.columns)"
   ]
  },
  {
   "attachments": {},
   "cell_type": "markdown",
   "metadata": {},
   "source": [
    "Ci sono alcune linee guida generali che possono essere utilizzate per interpretare i valori di ω²:\n",
    "\n",
    "- Valori molto bassi: solitamente ω² inferiore a 0,01 indica che la variabile indipendente ha una relazione molto debole o trascurabile con la variabile dipendente.\n",
    "\n",
    "- Valori bassi: ω² compreso tra 0,01 e 0,06 indica una relazione debole o piccola tra la variabile indipendente e la variabile dipendente.\n",
    "\n",
    "- Valori medi: ω² compreso tra 0,06 e 0,14 indica una relazione moderata tra la variabile indipendente e la variabile dipendente.\n",
    "\n",
    "- Valori alti: ω² compreso tra 0,14 e 0,39 indica una relazione moderatamente forte tra la variabile indipendente e la variabile dipendente.\n",
    "\n",
    "- Valori molto alti: ω² superiore a 0,39 indica una relazione molto forte tra la variabile indipendente e la variabile dipendente."
   ]
  },
  {
   "cell_type": "code",
   "execution_count": null,
   "metadata": {},
   "outputs": [],
   "source": [
    "def crea_txt(dimensioni_importanti):\n",
    "    txt = \"\"\n",
    "    array = []\n",
    "    for t in dimensioni_importanti:\n",
    "        if \"label\" in t:\n",
    "            txt = txt + f\"\"\"C({t}) + \"\"\"\n",
    "        else:   \n",
    "            txt = txt + f\"\"\"{t} + \"\"\"\n",
    "        array.append([t])\n",
    "    return txt[:-2]"
   ]
  },
  {
   "cell_type": "code",
   "execution_count": null,
   "metadata": {},
   "outputs": [],
   "source": [
    "df_all"
   ]
  },
  {
   "cell_type": "code",
   "execution_count": null,
   "metadata": {},
   "outputs": [],
   "source": [
    "df_all[\"doc_speaker_party_value\"] = 0\n",
    "for index,row in df_all.iterrows():\n",
    "    if row[\"doc_speaker_party\"] == \"DEM\":\n",
    "        df_all.loc[index,\"doc_speaker_party_value\"] = 1\n",
    "        \n",
    "\n"
   ]
  },
  {
   "cell_type": "code",
   "execution_count": null,
   "metadata": {},
   "outputs": [],
   "source": [
    "index = \"doc_speaker_party_value:doc_statement_date\"\n",
    "valori = index.split(\":\")\n",
    "gr = []\n",
    "for val in valori:\n",
    "    if val[0:2] == \"C(\":\n",
    "        val = val[2:-1]\n",
    "        val = val[:-5]+\"index\"\n",
    "    gr.append(val)\n",
    "print(df_all[gr])"
   ]
  },
  {
   "cell_type": "code",
   "execution_count": null,
   "metadata": {},
   "outputs": [],
   "source": [
    "\n",
    "# Creazione di due variabili di esempio\n",
    "var1 = np.array([1, 2, 3, 4, 5])\n",
    "var2 = np.array([6, 7, 8, 9, 10,5,2])\n",
    "\n",
    "# Combina le due variabili in una singola variabile categorica\n",
    "groups = np.concatenate([np.repeat('Group1', len(var1)), np.repeat('Group2', len(var2))])\n",
    "\n",
    "# Crea un DataFrame per l'analisi\n",
    "data = pd.DataFrame({'Values': np.concatenate([var1, var2]), 'Groups': groups})\n",
    "\n",
    "# Applica la funzione pairwise_tukeyhsd\n",
    "result = pairwise_tukeyhsd(data['Values'], data['Groups'])\n",
    "\n",
    "# Stampa i risultati\n",
    "print(result)"
   ]
  },
  {
   "cell_type": "code",
   "execution_count": null,
   "metadata": {},
   "outputs": [],
   "source": [
    "data"
   ]
  },
  {
   "cell_type": "code",
   "execution_count": null,
   "metadata": {},
   "outputs": [],
   "source": [
    "\n",
    "# Creazione di due variabili di esempio\n",
    "var1 = np.array([1, 2, 3, 4, 5])\n",
    "var2 = np.array([6, 7, 8, 9, 10,5,2])\n",
    "\n",
    "# Combina le due variabili in una singola variabile categorica\n",
    "groups = np.concatenate([np.repeat('Group1', len(var1)), np.repeat('Group2', len(var2))])\n",
    "\n",
    "# Crea un DataFrame per l'analisi\n",
    "data = pd.DataFrame({'Values': np.concatenate([var1, var2]), 'Groups': groups})\n",
    "\n",
    "# Applica la funzione pairwise_tukeyhsd\n",
    "result = pairwise_tukeyhsd(data['Values'], data['Groups'])\n",
    "\n",
    "# Stampa i risultati\n",
    "print(result)"
   ]
  },
  {
   "cell_type": "code",
   "execution_count": null,
   "metadata": {},
   "outputs": [],
   "source": [
    "def create_df_for_turkey_test (df,varibile_interesse,variabili_indipendenti):\n",
    "    n = len(variabili_indipendenti)\n",
    "    \n",
    "    if n == 1:\n",
    "    \n",
    "        a = []\n",
    "\n",
    "        for val in df[variabili_indipendenti[0]].unique():\n",
    "            gr = df[df[variabili_indipendenti[0]] == val][varibile_interesse]\n",
    "            a.append([val,gr.values])\n",
    "            \n",
    "        groups = []\n",
    "        for valore in a:\n",
    "            groups = np.concatenate([groups,np.repeat(valore[0], len(valore[1]))])\n",
    "\n",
    "        data = pd.DataFrame({'Values': np.concatenate([valore[1] for valore in a]), 'Groups': groups})\n",
    "    \n",
    "    \n",
    "    elif n == 2:\n",
    "    \n",
    "        a = []\n",
    "\n",
    "        for val1 in df_all[variabili_indipendenti[0]].unique():\n",
    "            for val2 in df_all[variabili_indipendenti[1]].unique():\n",
    "                gr = df_all[(df_all[variabili_indipendenti[0]] == val1) & (df_all[variabili_indipendenti[1]] == val2)][varibile_interesse]\n",
    "                \n",
    "                a.append([str(val1)+\":\"+str(val2),gr.values])\n",
    "                \n",
    "        groups = []\n",
    "        for valore in a:\n",
    "            groups = np.concatenate([groups,np.repeat(valore[0], len(valore[1]))])\n",
    "\n",
    "        data = pd.DataFrame({'Values': np.concatenate([valore[1] for valore in a]), 'Groups': groups})\n",
    "    \n",
    "    elif n == 3:\n",
    "        \n",
    "        a = []\n",
    "        \n",
    "        for val1 in df_all[variabili_indipendenti[0]].unique():\n",
    "            for val2 in df_all[variabili_indipendenti[1]].unique():\n",
    "                for val3 in df_all[variabili_indipendenti[2]].unique():\n",
    "                    gr = df_all[(df_all[variabili_indipendenti[0]] == val1) & (df_all[variabili_indipendenti[1]] == val2) & (df_all[variabili_indipendenti[2]] == val3)][varibile_interesse]\n",
    "                    \n",
    "                    a.append([str(val1)+\":\"+str(val2)+\":\"+str(val3),gr.values])\n",
    "        \n",
    "        groups = []\n",
    "        for valore in a:\n",
    "            groups = np.concatenate([groups,np.repeat(valore[0], len(valore[1]))])\n",
    "        \n",
    "        data = pd.DataFrame({'Values': np.concatenate([valore[1] for valore in a]), 'Groups': groups})\n",
    "    \n",
    "    \n",
    "    return data"
   ]
  },
  {
   "cell_type": "code",
   "execution_count": null,
   "metadata": {},
   "outputs": [],
   "source": [
    "create_df_for_turkey_test(df_all,\"quartile_val\",[\"doc_speaker_party\",\"doc_statement_date\"])"
   ]
  },
  {
   "cell_type": "code",
   "execution_count": null,
   "metadata": {},
   "outputs": [],
   "source": [
    "create_df_for_turkey_test(df_all,\"quartile_val\",[\"doc_speaker_party\"])"
   ]
  },
  {
   "cell_type": "code",
   "execution_count": null,
   "metadata": {},
   "outputs": [],
   "source": [
    "df = df_all[[\"doc_speaker_party\",\"doc_statement_date\",\"quartile_val\"]]\n",
    "#df[\"gruppo\"] = 0 \n",
    "\n",
    "a = []\n",
    "\n",
    "for val1 in df_all[\"doc_speaker_party\"].unique():\n",
    "    for val2 in df_all[\"doc_statement_date\"].unique():\n",
    "        gr = df_all[(df_all[\"doc_speaker_party\"] == val1) & (df_all[\"doc_statement_date\"] == val2)][\"quartile_val\"]\n",
    "        \n",
    "        a.append([str(val1)+\":\"+str(val2),gr.values])\n",
    "        \n",
    "groups = []\n",
    "for valore in a:\n",
    "    groups = np.concatenate([groups,np.repeat(valore[0], len(valore[1]))])\n",
    "\n",
    "data = pd.DataFrame({'Values': np.concatenate([valore[1] for valore in a]), 'Groups': groups})\n",
    "\n",
    "result = pairwise_tukeyhsd(data['Values'], data['Groups'])\n",
    "\n",
    "print(result)\n",
    "        "
   ]
  },
  {
   "cell_type": "code",
   "execution_count": null,
   "metadata": {},
   "outputs": [],
   "source": [
    "data"
   ]
  },
  {
   "cell_type": "code",
   "execution_count": null,
   "metadata": {},
   "outputs": [],
   "source": [
    "a[0]"
   ]
  },
  {
   "cell_type": "code",
   "execution_count": null,
   "metadata": {},
   "outputs": [],
   "source": [
    "tukey_results = pairwise_tukeyhsd(endog=df_all[\"quartile_val\"], \n",
    "                                    groups= df_all[\"doc_speaker_party_value\"] + df_all[\"doc_statement_date\"], \n",
    "                                    alpha=0.05)"
   ]
  },
  {
   "cell_type": "code",
   "execution_count": null,
   "metadata": {},
   "outputs": [],
   "source": [
    "index = \"doc_speaker_party_value:doc_statement_date\"\n",
    "valori = index.split(\":\")\n",
    "gr = []\n",
    "for val in valori:\n",
    "    if val[0:2] == \"C(\":\n",
    "        val = val[2:-1]\n",
    "        val = val[:-5]+\"index\"\n",
    "    gr.append(val)\n",
    "print(gr)"
   ]
  },
  {
   "cell_type": "code",
   "execution_count": null,
   "metadata": {},
   "outputs": [],
   "source": [
    "def calcola_anova(variabili,df_riferimento,txt,valore_soglia):\n",
    "\n",
    "    for variabile_interesse in variabili:\n",
    "        for df in df_riferimento:\n",
    "            \n",
    "            \n",
    "            results = ols(\n",
    "                f'''\n",
    "                    {variabile_interesse} ~ {txt} \"\"\"\n",
    "                '''\n",
    "                , data=df[1]).fit()\n",
    "            \n",
    "            aov_table = sm.stats.anova_lm(results, typ=2)\n",
    "            anova_table_v = anova_table(aov_table)\n",
    "            if anova_table_v[\"omega_sq\"].max() > valore_soglia:\n",
    "                print(\"-\" * 100)\n",
    "                print(f\"\"\"{variabile_interesse} ~ {txt} in {df[0]}\"\"\")\n",
    "                display(anova_table_v.sort_values(by=\"omega_sq\", ascending=False).head(3))\n",
    "                \n",
    "            for index, row in anova_table_v.iterrows():\n",
    "                if row[\"omega_sq\"] > valore_soglia:\n",
    "                    print(index)\n",
    "                    \n",
    "                    if \":\" in index:\n",
    "                        valori = index.split(\":\")\n",
    "                        gr = []\n",
    "                        for val in valori:\n",
    "                            if val[0:2] == \"C(\":\n",
    "                                val = val[2:-1]\n",
    "                                val = val[:-5]+\"index\"\n",
    "                            gr.append(val)\n",
    "                        print(gr)\n",
    "                        \n",
    "                        data = create_df_for_turkey_test(df[1],variabile_interesse,gr)\n",
    "                        \n",
    "                        tukey_results = pairwise_tukeyhsd(data['Values'], data['Groups'],alpha=0.05)\n",
    "                        \n",
    "                    else:\n",
    "                    \n",
    "                        if index[0:2] == \"C(\":\n",
    "                            index = index[2:-1]\n",
    "                            index = index[:-5]+\"index\"\n",
    "                            \n",
    "                        data = create_df_for_turkey_test(df[1],variabile_interesse,[index])\n",
    "                        \n",
    "                        tukey_results = pairwise_tukeyhsd(data['Values'], data['Groups'],alpha=0.05)\n",
    "                    \n",
    "                    df_turkey = pd.DataFrame(data=tukey_results._results_table.data[1:], columns=tukey_results._results_table.data[0])\n",
    "                    display(df_turkey[df_turkey[\"reject\"] == True].sort_values(by=\"p-adj\", ascending=True).sort_values(by=\"meandiff\", ascending=False).head(3))\n",
    "        print(\"-\" * 100)\n",
    "        print(\"-\" * 100)"
   ]
  },
  {
   "cell_type": "code",
   "execution_count": null,
   "metadata": {},
   "outputs": [],
   "source": [
    "txt = \"doc_speaker_party*doc_statement_date\"\n",
    "valore_soglia = 0.01\n",
    "calcola_anova(variabili_interesse,DF_no_quartili,txt,valore_soglia)"
   ]
  },
  {
   "attachments": {},
   "cell_type": "markdown",
   "metadata": {},
   "source": [
    "Un'altra domanda: se voglio fare il turkey test userò la funzione pairwise_tukeyhsd. Come argomenti:\n",
    "- endog = colonna variabile d'interesse \n",
    "- groups = colonne con variabili che devo controllare se "
   ]
  },
  {
   "cell_type": "markdown",
   "metadata": {},
   "source": []
  },
  {
   "cell_type": "markdown",
   "metadata": {},
   "source": []
  },
  {
   "cell_type": "markdown",
   "metadata": {},
   "source": []
  },
  {
   "cell_type": "markdown",
   "metadata": {},
   "source": []
  },
  {
   "cell_type": "markdown",
   "metadata": {},
   "source": []
  },
  {
   "cell_type": "markdown",
   "metadata": {},
   "source": []
  },
  {
   "cell_type": "markdown",
   "metadata": {},
   "source": []
  },
  {
   "cell_type": "markdown",
   "metadata": {},
   "source": []
  },
  {
   "cell_type": "code",
   "execution_count": null,
   "metadata": {},
   "outputs": [],
   "source": [
    "txt = \"doc_speaker_party*doc_statement_date\"\n",
    "valore_soglia = 0.01\n",
    "calcola_anova(variabili_interesse,DF_no_quartili,txt,valore_soglia)"
   ]
  },
  {
   "cell_type": "code",
   "execution_count": null,
   "metadata": {},
   "outputs": [],
   "source": [
    "txt = crea_txt(dimensioni_importanti)\n",
    "valore_soglia = 0.01\n",
    "calcola_anova(variabili_interesse,DF_no_quartili,txt,valore_soglia)"
   ]
  },
  {
   "cell_type": "code",
   "execution_count": 52,
   "metadata": {},
   "outputs": [
    {
     "data": {
      "text/plain": [
       "['scarto', 'quartile_val', 'doc_truthfulness_value']"
      ]
     },
     "execution_count": 52,
     "metadata": {},
     "output_type": "execute_result"
    }
   ],
   "source": [
    "variabili_interesse"
   ]
  },
  {
   "cell_type": "code",
   "execution_count": 55,
   "metadata": {},
   "outputs": [
    {
     "name": "stdout",
     "output_type": "stream",
     "text": [
      "----------------------------------------------------------------------------------------------------\n",
      "quartile_val ~ C(age_ans_label) + C(southern_border_ans_label) + C(taxes_ans_label) + C(southern_border_ans_label) + C(political_views_ans_label) + C(consideration_ans_label) + C(k_info_1_ans_label) + C(k_ai_4_ans_label) + C(s_com_1_v2_ans_label) + C(s_info_4_ans_label)  in df_correct\n"
     ]
    },
    {
     "data": {
      "text/html": [
       "<div>\n",
       "<style scoped>\n",
       "    .dataframe tbody tr th:only-of-type {\n",
       "        vertical-align: middle;\n",
       "    }\n",
       "\n",
       "    .dataframe tbody tr th {\n",
       "        vertical-align: top;\n",
       "    }\n",
       "\n",
       "    .dataframe thead th {\n",
       "        text-align: right;\n",
       "    }\n",
       "</style>\n",
       "<table border=\"1\" class=\"dataframe\">\n",
       "  <thead>\n",
       "    <tr style=\"text-align: right;\">\n",
       "      <th></th>\n",
       "      <th>sum_sq</th>\n",
       "      <th>df</th>\n",
       "      <th>mean_sq</th>\n",
       "      <th>F</th>\n",
       "      <th>PR(&gt;F)</th>\n",
       "      <th>eta_sq</th>\n",
       "      <th>omega_sq</th>\n",
       "    </tr>\n",
       "  </thead>\n",
       "  <tbody>\n",
       "    <tr>\n",
       "      <th>C(k_info_1_ans_label)</th>\n",
       "      <td>30.845526</td>\n",
       "      <td>2.0</td>\n",
       "      <td>15.422763</td>\n",
       "      <td>3.728999</td>\n",
       "      <td>0.028580</td>\n",
       "      <td>0.071623</td>\n",
       "      <td>0.051918</td>\n",
       "    </tr>\n",
       "    <tr>\n",
       "      <th>C(s_info_4_ans_label)</th>\n",
       "      <td>11.543143</td>\n",
       "      <td>2.0</td>\n",
       "      <td>5.771571</td>\n",
       "      <td>1.395482</td>\n",
       "      <td>0.254071</td>\n",
       "      <td>0.026803</td>\n",
       "      <td>0.007524</td>\n",
       "    </tr>\n",
       "    <tr>\n",
       "      <th>C(southern_border_ans_label)</th>\n",
       "      <td>7.682686</td>\n",
       "      <td>2.0</td>\n",
       "      <td>3.841343</td>\n",
       "      <td>0.928781</td>\n",
       "      <td>0.399530</td>\n",
       "      <td>0.017839</td>\n",
       "      <td>-0.001355</td>\n",
       "    </tr>\n",
       "  </tbody>\n",
       "</table>\n",
       "</div>"
      ],
      "text/plain": [
       "                                 sum_sq   df    mean_sq         F    PR(>F)  \\\n",
       "C(k_info_1_ans_label)         30.845526  2.0  15.422763  3.728999  0.028580   \n",
       "C(s_info_4_ans_label)         11.543143  2.0   5.771571  1.395482  0.254071   \n",
       "C(southern_border_ans_label)   7.682686  2.0   3.841343  0.928781  0.399530   \n",
       "\n",
       "                                eta_sq  omega_sq  \n",
       "C(k_info_1_ans_label)         0.071623  0.051918  \n",
       "C(s_info_4_ans_label)         0.026803  0.007524  \n",
       "C(southern_border_ans_label)  0.017839 -0.001355  "
      ]
     },
     "metadata": {},
     "output_type": "display_data"
    },
    {
     "name": "stdout",
     "output_type": "stream",
     "text": [
      "C(k_info_1_ans_label)\n"
     ]
    },
    {
     "data": {
      "text/html": [
       "<div>\n",
       "<style scoped>\n",
       "    .dataframe tbody tr th:only-of-type {\n",
       "        vertical-align: middle;\n",
       "    }\n",
       "\n",
       "    .dataframe tbody tr th {\n",
       "        vertical-align: top;\n",
       "    }\n",
       "\n",
       "    .dataframe thead th {\n",
       "        text-align: right;\n",
       "    }\n",
       "</style>\n",
       "<table border=\"1\" class=\"dataframe\">\n",
       "  <thead>\n",
       "    <tr style=\"text-align: right;\">\n",
       "      <th></th>\n",
       "      <th>group1</th>\n",
       "      <th>group2</th>\n",
       "      <th>meandiff</th>\n",
       "      <th>p-adj</th>\n",
       "      <th>lower</th>\n",
       "      <th>upper</th>\n",
       "      <th>reject</th>\n",
       "    </tr>\n",
       "  </thead>\n",
       "  <tbody>\n",
       "    <tr>\n",
       "      <th>0</th>\n",
       "      <td>0.0</td>\n",
       "      <td>1.0</td>\n",
       "      <td>-1.5829</td>\n",
       "      <td>0.0194</td>\n",
       "      <td>-2.955</td>\n",
       "      <td>-0.2109</td>\n",
       "      <td>True</td>\n",
       "    </tr>\n",
       "  </tbody>\n",
       "</table>\n",
       "</div>"
      ],
      "text/plain": [
       "   group1  group2  meandiff   p-adj  lower   upper  reject\n",
       "0     0.0     1.0   -1.5829  0.0194 -2.955 -0.2109    True"
      ]
     },
     "metadata": {},
     "output_type": "display_data"
    },
    {
     "name": "stdout",
     "output_type": "stream",
     "text": [
      "----------------------------------------------------------------------------------------------------\n",
      "----------------------------------------------------------------------------------------------------\n",
      "----------------------------------------------------------------------------------------------------\n",
      "----------------------------------------------------------------------------------------------------\n"
     ]
    }
   ],
   "source": [
    "txt = crea_txt(dimensioni_importanti1)\n",
    "#txt = \"age_ans_label*southern_border_ans_label*taxes_ans_label*southern_border_ans_label*political_views_ans_label*consideration_ans_label\"\n",
    "valore_soglia = 0.05\n",
    "calcola_anova(['quartile_val', 'doc_truthfulness_value'],DF_no_quartili,txt,valore_soglia)"
   ]
  },
  {
   "cell_type": "code",
   "execution_count": null,
   "metadata": {},
   "outputs": [],
   "source": [
    "txt = crea_txt(dimensioni_importanti2)\n",
    "valore_soglia = 0.01\n",
    "calcola_anova(variabili_interesse,DF_no_quartili,txt,valore_soglia)"
   ]
  },
  {
   "cell_type": "code",
   "execution_count": null,
   "metadata": {},
   "outputs": [],
   "source": [
    "txt = crea_txt(dimensioni_importanti3)\n",
    "valore_soglia = 0.01\n",
    "calcola_anova(variabili_interesse,DF_no_quartili,txt,valore_soglia)"
   ]
  },
  {
   "cell_type": "code",
   "execution_count": null,
   "metadata": {},
   "outputs": [],
   "source": [
    "txt"
   ]
  },
  {
   "attachments": {},
   "cell_type": "markdown",
   "metadata": {},
   "source": []
  },
  {
   "attachments": {},
   "cell_type": "markdown",
   "metadata": {},
   "source": []
  },
  {
   "attachments": {},
   "cell_type": "markdown",
   "metadata": {},
   "source": []
  },
  {
   "attachments": {},
   "cell_type": "markdown",
   "metadata": {},
   "source": []
  },
  {
   "attachments": {},
   "cell_type": "markdown",
   "metadata": {},
   "source": []
  },
  {
   "cell_type": "code",
   "execution_count": null,
   "metadata": {},
   "outputs": [],
   "source": [
    "dimensioni_importanti"
   ]
  },
  {
   "cell_type": "code",
   "execution_count": null,
   "metadata": {},
   "outputs": [],
   "source": [
    "txt = \"age_ans_label*doc_speaker_trustworthiness_index\"\n",
    "valore_soglia = 0.06\n",
    "calcola_anova(variabili_interesse,DF_no_quartili,txt,valore_soglia)"
   ]
  },
  {
   "cell_type": "code",
   "execution_count": null,
   "metadata": {},
   "outputs": [],
   "source": [
    "txt = \"doc_speaker_party*doc_speaker_trustworthiness_index\"\n",
    "valore_soglia = 0.06\n",
    "calcola_anova(variabili_interesse,DF_no_quartili,txt,valore_soglia)"
   ]
  },
  {
   "cell_type": "code",
   "execution_count": null,
   "metadata": {},
   "outputs": [],
   "source": [
    "txt = \"doc_speaker_party*age_ans_label\"\n",
    "valore_soglia = 0.06\n",
    "calcola_anova(variabili_interesse,DF_no_quartili,txt,valore_soglia)"
   ]
  },
  {
   "cell_type": "code",
   "execution_count": null,
   "metadata": {},
   "outputs": [],
   "source": [
    "txt = \"doc_speaker_party*southern_border_ans_label*age_ans_label\"\n",
    "valore_soglia = 0.01\n",
    "calcola_anova(variabili_interesse,DF_no_quartili,txt,valore_soglia)"
   ]
  },
  {
   "cell_type": "code",
   "execution_count": null,
   "metadata": {},
   "outputs": [],
   "source": [
    "txt = \"k_info_1_ans_label*k_ai_4_ans_label\"\n",
    "valore_soglia = 0.06\n",
    "calcola_anova(variabili_interesse,DF_no_quartili,txt,valore_soglia)"
   ]
  },
  {
   "cell_type": "code",
   "execution_count": null,
   "metadata": {},
   "outputs": [],
   "source": [
    "txt = \"s_com_1_v2_ans_label*s_info_4_ans_label\"\n",
    "valore_soglia = 0.01\n",
    "calcola_anova(variabili_interesse,DF_no_quartili,txt,valore_soglia)"
   ]
  },
  {
   "cell_type": "code",
   "execution_count": null,
   "metadata": {},
   "outputs": [],
   "source": [
    "doc_speaker_party*doc_speaker_trustworthiness_index"
   ]
  },
  {
   "cell_type": "code",
   "execution_count": null,
   "metadata": {},
   "outputs": [],
   "source": [
    "txt = \"(consideration_ans_index + political_views_ans_label) * doc_speaker_party\"\n",
    "valore_soglia = 0.01\n",
    "calcola_anova(variabili_interesse,DF_no_quartili,txt,valore_soglia)"
   ]
  },
  {
   "cell_type": "code",
   "execution_count": null,
   "metadata": {},
   "outputs": [],
   "source": [
    "## interessante\n",
    "\n",
    "txt = \"(consideration_ans_index + political_views_ans_label) * (doc_speaker_party + doc_speaker_trustworthiness_index)\"\n",
    "valore_soglia = 0.01\n",
    "calcola_anova(variabili_interesse,DF_no_quartili,txt,valore_soglia)"
   ]
  },
  {
   "cell_type": "code",
   "execution_count": null,
   "metadata": {},
   "outputs": [],
   "source": [
    "## interessante\n",
    "\n",
    "txt = \"(s_com_1_v2_ans_label + k_ai_4_ans_label) * (k_info_1_ans_label + s_info_4_ans_label)\"\n",
    "valore_soglia = 0.01\n",
    "calcola_anova(variabili_interesse,DF_no_quartili,txt,valore_soglia)"
   ]
  },
  {
   "cell_type": "code",
   "execution_count": null,
   "metadata": {},
   "outputs": [],
   "source": [
    "## interessante\n",
    "\n",
    "txt = \"(doc_accuracy_index) * (doc_speaker_party + doc_speaker_trustworthiness_index + age_ans_label + southern_border_ans_label)\"\n",
    "valore_soglia = 0.06\n",
    "calcola_anova(variabili_interesse,DF_no_quartili,txt,valore_soglia)"
   ]
  },
  {
   "cell_type": "code",
   "execution_count": null,
   "metadata": {},
   "outputs": [],
   "source": [
    "## interessante taxes_ans_label\n",
    "\n",
    "txt = \"(taxes_ans_label) * (doc_speaker_party + doc_speaker_trustworthiness_index + age_ans_label + southern_border_ans_label)\"\n",
    "valore_soglia = 0.1\n",
    "calcola_anova(variabili_interesse,DF_no_quartili,txt,valore_soglia)"
   ]
  },
  {
   "cell_type": "code",
   "execution_count": null,
   "metadata": {},
   "outputs": [],
   "source": [
    "df_all.columns"
   ]
  },
  {
   "attachments": {},
   "cell_type": "markdown",
   "metadata": {},
   "source": [
    "## Caratteristiche worker"
   ]
  },
  {
   "attachments": {},
   "cell_type": "markdown",
   "metadata": {},
   "source": [
    "##### doc_truthfulness_value"
   ]
  },
  {
   "cell_type": "code",
   "execution_count": null,
   "metadata": {},
   "outputs": [],
   "source": [
    "## visione politica\n",
    "\n",
    "txt = \"doc_speaker_trustworthiness_index * (southern_border_ans_label + doc_speaker_party + political_views_ans_label + consideration_ans_label)\"\n",
    "valore_soglia = 0.1\n",
    "calcola_anova([\"doc_truthfulness_value\"],[[\"df_all\",df_all],[\"df_false\",df_false],[\"df_true\",df_true]],txt,valore_soglia)"
   ]
  },
  {
   "cell_type": "code",
   "execution_count": null,
   "metadata": {},
   "outputs": [],
   "source": [
    "df_false.groupby([\"doc_speaker_trustworthiness_index\"]).mean()[\"doc_truthfulness_value\"]"
   ]
  },
  {
   "cell_type": "code",
   "execution_count": null,
   "metadata": {},
   "outputs": [],
   "source": [
    "df_true.groupby([\"doc_speaker_trustworthiness_index\"]).mean()[\"doc_truthfulness_value\"]"
   ]
  },
  {
   "attachments": {},
   "cell_type": "markdown",
   "metadata": {},
   "source": [
    "Se mi fido dell'autore tendo a dare in media dei valori più alti"
   ]
  },
  {
   "cell_type": "code",
   "execution_count": null,
   "metadata": {},
   "outputs": [],
   "source": [
    "## domande\n",
    "\n",
    "txt = \"k_info_1_ans_label*(age_ans_label + southern_border_ans_label++k_ai_4_ans_label+s_com_1_v2_ans_label+s_info_4_ans_label)\"\n",
    "valore_soglia = 0.05\n",
    "calcola_anova([\"doc_truthfulness_value\"],[[\"df_all\",df_all],[\"df_false\",df_false],[\"df_true\",df_true]],txt,valore_soglia)\n"
   ]
  },
  {
   "cell_type": "code",
   "execution_count": null,
   "metadata": {},
   "outputs": [],
   "source": [
    "## domande\n",
    "\n",
    "txt = \"k_info_1_ans_label*k_ai_4_ans_label \"\n",
    "valore_soglia = 0.05\n",
    "calcola_anova([\"doc_truthfulness_value\"],[[\"df_all\",df_all],[\"df_false\",df_false],[\"df_true\",df_true]],txt,valore_soglia)\n"
   ]
  },
  {
   "cell_type": "code",
   "execution_count": null,
   "metadata": {},
   "outputs": [],
   "source": [
    "df_true.groupby([\"k_info_1_ans_label\"]).mean()[\"doc_truthfulness_value\"]"
   ]
  },
  {
   "cell_type": "code",
   "execution_count": null,
   "metadata": {},
   "outputs": [],
   "source": [
    "df_false.groupby([\"k_info_1_ans_label\"]).mean()[\"doc_truthfulness_value\"]"
   ]
  },
  {
   "attachments": {},
   "cell_type": "markdown",
   "metadata": {},
   "source": [
    "La domanda è importante"
   ]
  },
  {
   "attachments": {},
   "cell_type": "markdown",
   "metadata": {},
   "source": [
    "##### scarto"
   ]
  },
  {
   "cell_type": "code",
   "execution_count": null,
   "metadata": {},
   "outputs": [],
   "source": [
    "## visione politica\n",
    "\n",
    "txt = \"doc_speaker_party *  (southern_border_ans_label + doc_speaker_trustworthiness_index) * (political_views_ans_label + consideration_ans_label)\"\n",
    "valore_soglia = 0.05\n",
    "calcola_anova([\"scarto\"],[[\"df_all\",df_all],[\"df_false\",df_false],[\"df_true\",df_true]],txt,valore_soglia)"
   ]
  },
  {
   "cell_type": "code",
   "execution_count": null,
   "metadata": {},
   "outputs": [],
   "source": [
    "df_false.groupby([\"quartile\",\"doc_speaker_trustworthiness_index\"]).mean()[\"scarto\"]"
   ]
  },
  {
   "cell_type": "code",
   "execution_count": null,
   "metadata": {},
   "outputs": [],
   "source": [
    "df_true.groupby([\"doc_speaker_trustworthiness_index\"]).mean()[\"scarto\"]"
   ]
  },
  {
   "attachments": {},
   "cell_type": "markdown",
   "metadata": {},
   "source": [
    "Per le news vere:\n",
    "- se mi fido poco dello scrittore allora tendo ad allontanarmi molto dal GT\n",
    "\n",
    "Per le fake news:\n",
    "- se mi fido poco dello scrittore allora tendo ad allontanarmi molto dal GT"
   ]
  },
  {
   "cell_type": "code",
   "execution_count": null,
   "metadata": {},
   "outputs": [],
   "source": [
    "## domande\n",
    "\n",
    "txt = \"k_info_1_ans_label*k_ai_4_ans_label \"\n",
    "valore_soglia = 0.05\n",
    "calcola_anova([\"scarto\"],[[\"df_all\",df_all],[\"df_false\",df_false],[\"df_true\",df_true]],txt,valore_soglia)\n"
   ]
  },
  {
   "attachments": {},
   "cell_type": "markdown",
   "metadata": {},
   "source": [
    "##### quartile_val"
   ]
  },
  {
   "cell_type": "code",
   "execution_count": null,
   "metadata": {},
   "outputs": [],
   "source": [
    "## visione politica\n",
    "\n",
    "txt = \"doc_speaker_party +  (southern_border_ans_label + doc_speaker_trustworthiness_index) * (political_views_ans_label + consideration_ans_label)\"\n",
    "valore_soglia = 0.05\n",
    "calcola_anova([\"quartile_val\"],[[\"df_all\",df_all],[\"df_false\",df_false],[\"df_true\",df_true]],txt,valore_soglia)"
   ]
  },
  {
   "attachments": {},
   "cell_type": "markdown",
   "metadata": {},
   "source": [
    "SI nota che :\n",
    "- doc_speaker_party è molto rilevante per l'individuazione dei gruppi\n",
    "- doc_speaker_trustworthiness_index è molto importante per lo scarto e per doc_truthfulness_value => "
   ]
  },
  {
   "attachments": {},
   "cell_type": "markdown",
   "metadata": {},
   "source": [
    "## Valutazione del Worker su Statement"
   ]
  },
  {
   "cell_type": "code",
   "execution_count": null,
   "metadata": {},
   "outputs": [],
   "source": [
    "df_all.columns"
   ]
  },
  {
   "cell_type": "code",
   "execution_count": null,
   "metadata": {},
   "outputs": [],
   "source": [
    "## interessante taxes_ans_label\n",
    "\n",
    "txt = \"doc_accuracy_index * doc_informativeness_index * doc_comprehensibility_index * doc_precision_index * doc_confidence_index * doc_unbiasedness_index\" \n",
    "valore_soglia = 0.1\n",
    "calcola_anova(variabili_interesse,[[\"df_all\",df_all],[\"df_false\",df_false],[\"df_true\",df_true]],txt,valore_soglia)"
   ]
  },
  {
   "cell_type": "code",
   "execution_count": null,
   "metadata": {},
   "outputs": [],
   "source": [
    "## interessante taxes_ans_label\n",
    "\n",
    "txt = \"doc_accuracy_index + (doc_informativeness_index + doc_comprehensibility_index + doc_precision_index + doc_confidence_index) * doc_unbiasedness_index\" \n",
    "valore_soglia = 0.1\n",
    "calcola_anova(variabili_interesse,[[\"df_all\",df_all],[\"df_false\",df_false],[\"df_true\",df_true]],txt,valore_soglia)"
   ]
  },
  {
   "cell_type": "code",
   "execution_count": null,
   "metadata": {},
   "outputs": [],
   "source": [
    "df = df_all.groupby([\"quartile\"]).mean()[\"doc_speaker_trustworthiness_index\"]\n",
    "df = df.reset_index(inplace=False)\n",
    "df = df[(df[\"quartile\"] != \"other_true\") & (df[\"quartile\"] != \"other_false\") & (df[\"quartile\"] != \"other\")]\n",
    "df.sort_values(by=\"doc_speaker_trustworthiness_index\", ascending=False)\n",
    "display(df)\n",
    "sns.barplot(x=\"quartile\", y=\"doc_speaker_trustworthiness_index\", data=df,order=[\"correct_false\",\"wrong_false\",\"wrong_true\",\"correct_true\"])"
   ]
  },
  {
   "cell_type": "code",
   "execution_count": null,
   "metadata": {},
   "outputs": [],
   "source": [
    "df = df_all.groupby([\"quartile\"]).mean()[\"doc_accuracy_index\"]\n",
    "df = df.reset_index(inplace=False)\n",
    "df = df[(df[\"quartile\"] != \"other_true\") & (df[\"quartile\"] != \"other_false\") & (df[\"quartile\"] != \"other\")]\n",
    "df.sort_values(by=\"doc_accuracy_index\", ascending=False)\n",
    "display(df)\n",
    "sns.barplot(x=\"quartile\", y=\"doc_accuracy_index\", data=df,order=[\"correct_false\",\"wrong_false\",\"wrong_true\",\"correct_true\"])"
   ]
  },
  {
   "attachments": {},
   "cell_type": "markdown",
   "metadata": {},
   "source": [
    "- Con i statement FALSE ha più importanza la doc_speaker_trustworthiness_index\n",
    "- Con i statement TRUE ha più importanza la doc_accuracy_index"
   ]
  },
  {
   "attachments": {},
   "cell_type": "markdown",
   "metadata": {},
   "source": [
    "## Caratteristiche Statement"
   ]
  },
  {
   "attachments": {},
   "cell_type": "markdown",
   "metadata": {},
   "source": [
    "##### doc_truthfulness_value"
   ]
  },
  {
   "cell_type": "code",
   "execution_count": null,
   "metadata": {},
   "outputs": [],
   "source": [
    "## interessante sentiment_label e subjectivity_label e percentuale_parole_significative_label:subjectivity_label\n",
    "\n",
    "txt = \"sentiment_label * percentuale_parole_significative_label * subjectivity_label\"\n",
    "valore_soglia = 0.05\n",
    "calcola_anova([\"doc_truthfulness_value\"],[[\"df_all\",df_all],[\"df_false\",df_false],[\"df_true\",df_true]],txt,valore_soglia)"
   ]
  },
  {
   "cell_type": "code",
   "execution_count": null,
   "metadata": {},
   "outputs": [],
   "source": [
    "df_all.groupby([\"sentiment_label\",\"fre_label\",\"percentuale_parole_significative_label\"]).mean()[[\"doc_truthfulness_value\"]].reset_index().sort_values(by=\"doc_truthfulness_value\",ascending=False)"
   ]
  },
  {
   "cell_type": "code",
   "execution_count": null,
   "metadata": {},
   "outputs": [],
   "source": [
    "df_all.groupby([\"percentuale_parole_significative_label\"]).mean()[[\"doc_truthfulness_value\"]].reset_index()"
   ]
  },
  {
   "cell_type": "code",
   "execution_count": null,
   "metadata": {},
   "outputs": [],
   "source": [
    "df_all.groupby([\"sentiment_label\"]).mean()[[\"doc_truthfulness_value\"]].reset_index()"
   ]
  },
  {
   "cell_type": "code",
   "execution_count": null,
   "metadata": {},
   "outputs": [],
   "source": [
    "df_all.groupby([\"subjectivity_label\"]).mean()[[\"doc_truthfulness_value\"]].reset_index()"
   ]
  },
  {
   "cell_type": "code",
   "execution_count": null,
   "metadata": {},
   "outputs": [],
   "source": [
    "sns.boxplot(x = \"doc_truthfulness_value\", y = \"subjectivity\", data = df_all)"
   ]
  },
  {
   "attachments": {},
   "cell_type": "markdown",
   "metadata": {},
   "source": [
    "##### scarto"
   ]
  },
  {
   "cell_type": "code",
   "execution_count": null,
   "metadata": {},
   "outputs": [],
   "source": [
    "## interessante subjectivity_label:sentiment_label per lo scarto nel wrong \n",
    "\n",
    "# txt = \"subjectivity_label * (sentiment_label + fre_label) * percentuale_parole_significative_label\"\n",
    "# valore_soglia = 0.05\n",
    "# calcola_anova([\"scarto\"],[[\"df_all\",df_all],[\"df_false\",df_false],[\"df_true\",df_true],[\"df_wrong\",df_wrong],[\"df_correct\",df_correct]],txt,valore_soglia)"
   ]
  },
  {
   "cell_type": "code",
   "execution_count": null,
   "metadata": {},
   "outputs": [],
   "source": [
    "df_false.groupby([\"scarto\"]).mean()[[\"subjectivity\",\"percentuale_parole_significative\"]].reset_index()"
   ]
  },
  {
   "attachments": {},
   "cell_type": "markdown",
   "metadata": {},
   "source": [
    "##### quartile_val"
   ]
  },
  {
   "cell_type": "code",
   "execution_count": null,
   "metadata": {},
   "outputs": [],
   "source": [
    "## TUTTO\n",
    "\n",
    "## interessante \n",
    "\n",
    "txt = \"(subjectivity_label  + sentiment_label) * percentuale_parole_significative_label * fre_label\"\n",
    "valore_soglia = 0.05\n",
    "calcola_anova([\"quartile_val\"],[[\"df_all\",df_all],[\"df_false\",df_false],[\"df_true\",df_true],[\"df_wrong\",df_wrong],[\"df_correct\",df_correct]],txt,valore_soglia)"
   ]
  },
  {
   "cell_type": "code",
   "execution_count": null,
   "metadata": {},
   "outputs": [],
   "source": [
    "## SOLO FALSE\n",
    "\n",
    "## interessante \n",
    "\n",
    "txt = \"subjectivity_label  * (sentiment_label + percentuale_parole_significative_label + fre_label)\"\n",
    "valore_soglia = 0.1\n",
    "calcola_anova([\"quartile_val\"],[[\"df_all\",df_all],[\"df_false\",df_false]],txt,valore_soglia)"
   ]
  },
  {
   "cell_type": "code",
   "execution_count": null,
   "metadata": {},
   "outputs": [],
   "source": [
    "df_false.groupby(\"quartile\").mean()[[\"percentuale_parole_significative\",\"fre\",\"sentiment\", \"subjectivity\"]]"
   ]
  },
  {
   "cell_type": "code",
   "execution_count": null,
   "metadata": {},
   "outputs": [],
   "source": [
    "## SOLO TRUE\n",
    "\n",
    "## interessante \n",
    "\n",
    "txt = \"subjectivity_label * fre_label * percentuale_parole_significative_label\"\n",
    "valore_soglia = 0.1\n",
    "calcola_anova([\"quartile_val\"],[[\"df_false\",df_true]],txt,valore_soglia)"
   ]
  },
  {
   "cell_type": "code",
   "execution_count": null,
   "metadata": {},
   "outputs": [],
   "source": [
    "df_true.groupby(\"quartile\").mean()[[\"percentuale_parole_significative\",\"fre\",\"sentiment\", \"subjectivity\"]]"
   ]
  },
  {
   "attachments": {},
   "cell_type": "markdown",
   "metadata": {},
   "source": [
    "Notiamo che per quanto riguarda le fake news quelle che vengono azzeccate come tali:\n",
    "- hanno una percentuale di parole significative più alta, un fre maggiore, sentiment negativo e poca subjectivity.\n",
    "- contrario per le news che vengono classificate male (ricevono punteggio alto nonostante sono false)\n",
    "\n",
    "Notiamo che per quanto riguarda le news vere quelle che vengono azzeccate come tali (correct):\n",
    "- hanno un fre maggiore, sentiment minore e più subjectivity.\n",
    "- contrario per le news positive che vengono classificate male (ricevono punteggio basso nonostante sono vere)\n"
   ]
  },
  {
   "cell_type": "code",
   "execution_count": null,
   "metadata": {},
   "outputs": [],
   "source": [
    "def crea_box_plot(dimensioneX,dimensioneY):\n",
    "    # Creazione dei boxplot utilizzando seaborn\n",
    "    plt.figure(figsize=(15, 3))  # Dimensioni dell'immagine\n",
    "    plt.subplot(1, 3, 1)  # Primo boxplot\n",
    "    sns.boxplot(x = dimensioneX, y = dimensioneY,hue = \"sovra\", data = df_all[df_all[\"sovra\"] != \"other\"])\n",
    "    plt.title('ALL')\n",
    "\n",
    "    plt.subplot(1, 3, 2)  # Secondo boxplot\n",
    "    sns.boxplot(x = dimensioneX, y = dimensioneY,hue = \"quartile\", data = df_true[df_true[\"quartile\"] != \"other_true\"])\n",
    "    plt.title('TRUE')\n",
    "\n",
    "    plt.subplot(1, 3, 3)  # Terzo boxplot\n",
    "    sns.boxplot(x = dimensioneX, y = dimensioneY,hue = \"quartile\", data = df_false[df_false[\"quartile\"] != \"other_false\"])\n",
    "    plt.title('FALSE')\n",
    "\n",
    "    plt.tight_layout()  # Per evitare sovrapposizioni di elementi\n",
    "    plt.show()  # Mostra l'immagine con i tre boxplot"
   ]
  },
  {
   "cell_type": "code",
   "execution_count": null,
   "metadata": {},
   "outputs": [],
   "source": [
    "quartili = [\"wrong_false\", \"correct_false\", \"wrong_true\", \"correct_true\"]\n",
    "def crea_bar_plot_final(dimensioneX):\n",
    "    # analisi suando prop test sulle proporzioni\n",
    "    \n",
    "    raccoglitore_dimensioni = crea_raccoglitore_dimensioni(df_all, [dimensioneX], quartili)\n",
    "    tabella_p_value = costruisci_tabella_pvalue(raccoglitore_dimensioni, [dimensioneX], quartili,ignora_per_ptrend = [\"doc_speaker_party\"])\n",
    "    significativi = filtra_siglificativi(tabella_p_value, [dimensioneX], quartili, 0.05,\"pvalue_quartile_sovra\").sort_values(by=[\"dimensione\"], ascending=True)\n",
    "    crea_barplot_all_anova(raccoglitore_dimensioni,tabella_p_value, dimensioneX,\"valore\")\n",
    "    \n",
    "    "
   ]
  },
  {
   "cell_type": "code",
   "execution_count": null,
   "metadata": {},
   "outputs": [],
   "source": [
    "def crea_bar_plot(dimensioneX,dimensioneY):\n",
    "    # Creazione dei boxplot utilizzando seaborn\n",
    "    plt.figure(figsize=(15, 3))  # Dimensioni dell'immagine\n",
    "    plt.subplot(1, 3, 1)  # Primo boxplot\n",
    "    sns.barplot(x = dimensioneX, y = dimensioneY,hue = \"sovra\", data = df_all[df_all[\"sovra\"] != \"other\"])\n",
    "    plt.title('ALL')\n",
    "\n",
    "    plt.subplot(1, 3, 2)  # Secondo boxplot\n",
    "    sns.barplot(x = dimensioneX, y = dimensioneY,hue = \"quartile\", data = df_true[df_true[\"quartile\"] != \"other_true\"])\n",
    "    plt.title('TRUE')\n",
    "\n",
    "    plt.subplot(1, 3, 3)  # Terzo boxplot\n",
    "    sns.barplot(x = dimensioneX, y = dimensioneY,hue = \"quartile\", data = df_false[df_false[\"quartile\"] != \"other_false\"])\n",
    "    plt.title('FALSE')\n",
    "\n",
    "    plt.tight_layout()  # Per evitare sovrapposizioni di elementi\n",
    "    plt.show()  # Mostra l'immagine con i tre boxplot"
   ]
  },
  {
   "cell_type": "code",
   "execution_count": null,
   "metadata": {},
   "outputs": [],
   "source": [
    "def crea_bar_plot(dimensioneX):\n",
    "    # Creazione dei boxplot utilizzando seaborn\n",
    "    plt.figure(figsize=(15, 3))  # Dimensioni dell'immagine\n",
    "    plt.subplot(1, 3, 1)  # Primo boxplot\n",
    "    data = df_all[dimensioneX].tolist()\n",
    "    counts = pd.Series(data).value_counts().reset_index()\n",
    "    sns.barplot(x='index', y=0, data=counts)\n",
    "    plt.title('ALL')\n",
    "\n",
    "    plt.subplot(1, 3, 2)  # Secondo boxplot\n",
    "    data = df_true[dimensioneX].tolist()\n",
    "    counts = pd.Series(data).value_counts().reset_index()\n",
    "    sns.barplot(x='index', y=0, data=counts)\n",
    "    plt.title('TRUE')\n",
    "\n",
    "    plt.subplot(1, 3, 3)  # Terzo boxplot\n",
    "    data = df_false[dimensioneX].tolist()\n",
    "    counts = pd.Series(data).value_counts().reset_index()\n",
    "    sns.barplot(x='index', y=0, data=counts)\n",
    "    plt.title('FALSE')\n",
    "\n",
    "    plt.tight_layout()  # Per evitare sovrapposizioni di elementi\n",
    "    plt.show()  # Mostra l'immagine con i tre boxplot"
   ]
  },
  {
   "cell_type": "code",
   "execution_count": null,
   "metadata": {},
   "outputs": [],
   "source": [
    "\n",
    "def crea_box_plot_statement(dimensioni_da_plottare):\n",
    "    plt.figure(figsize=(15, 5))  # Dimensioni dell'immagine\n",
    "    \n",
    "    i = 1\n",
    "    for dimensione in dimensioni_da_plottare:\n",
    "    \n",
    "        # Creazione dei boxplot utilizzando seaborn\n",
    "        \n",
    "        plt.subplot(1, len(dimensioni_da_plottare), i)  # Primo boxplot\n",
    "        sns.boxplot(palette = \"pastel\",x=\"quartile\", y=dimensione, data=df_all,order=[\"correct_false\",\"wrong_false\",\"wrong_true\",\"correct_true\"])\n",
    "        sns.stripplot(palette = \"dark\",x=\"quartile\", y=dimensione, data=df_all, jitter=0.2, size=5, alpha=0.95,order=[\"correct_false\",\"wrong_false\",\"wrong_true\",\"correct_true\"])\n",
    "        plt.xticks(rotation=90)\n",
    "        plt.title(dimensione)\n",
    "        i += 1\n",
    "        \n",
    "    plt.tight_layout()  # Per evitare sovrapposizioni di elementi\n",
    "    plt.show()  # Mostra l'immagine con i tre boxplot"
   ]
  },
  {
   "attachments": {},
   "cell_type": "markdown",
   "metadata": {},
   "source": [
    "### RIASSUMENDO"
   ]
  },
  {
   "attachments": {},
   "cell_type": "markdown",
   "metadata": {},
   "source": [
    "- se i worker si fidano dell'autore tendono a dare valutazioni più alte in media (sia se lo statement è true sia se è fake)"
   ]
  },
  {
   "cell_type": "code",
   "execution_count": null,
   "metadata": {},
   "outputs": [],
   "source": [
    "## trust dello scrittore\n",
    "\n",
    "txt = \"(doc_precision_index + doc_completeness_index + doc_informativeness_index)+ doc_unbiasedness_index  + doc_speaker_trustworthiness_index\"\n",
    "valore_soglia = 0.1\n",
    "calcola_anova([\"doc_truthfulness_value\"],[[\"df_all\",df_all],[\"df_true\",df_true],[\"df_false\",df_all]],txt,valore_soglia)"
   ]
  },
  {
   "cell_type": "code",
   "execution_count": null,
   "metadata": {},
   "outputs": [],
   "source": [
    "crea_box_plot(\"doc_speaker_trustworthiness_index\",\"doc_truthfulness_value\")"
   ]
  },
  {
   "attachments": {},
   "cell_type": "markdown",
   "metadata": {},
   "source": [
    "- se lo statement è TRUE: più mi fido dell'autore più mi avvicino al GT\n",
    "- se lo statement è FAKE: se non mi fido dell'autore tendo ad azzeccare che è una FAKE"
   ]
  },
  {
   "cell_type": "code",
   "execution_count": null,
   "metadata": {},
   "outputs": [],
   "source": [
    "crea_box_plot(\"doc_speaker_trustworthiness_index\",\"scarto\")"
   ]
  },
  {
   "attachments": {},
   "cell_type": "markdown",
   "metadata": {},
   "source": [
    "- gli statement scritti da DEMOCRATICI ricevono valutazioni in media più alte (indipendentemente dal tipo di statement) "
   ]
  },
  {
   "cell_type": "code",
   "execution_count": null,
   "metadata": {},
   "outputs": [],
   "source": [
    "for df in [[\"df_all\",df_all],[\"df_false\",df_false],[\"df_true\",df_true]]:\n",
    "    print(\"-\" * 100)\n",
    "    print(df[0])\n",
    "    display(df[1].groupby(by=\"doc_speaker_party\").mean()[\"doc_truthfulness_value\"])"
   ]
  },
  {
   "attachments": {},
   "cell_type": "markdown",
   "metadata": {},
   "source": [
    "- il partito dello scrittore dello statement è rilevante per individuare il gruppo dello statement\n",
    "=> ciò è anche confermato dal prop-test"
   ]
  },
  {
   "cell_type": "code",
   "execution_count": null,
   "metadata": {},
   "outputs": [],
   "source": [
    "crea_bar_plot_final(\"doc_speaker_party\")"
   ]
  },
  {
   "attachments": {},
   "cell_type": "markdown",
   "metadata": {},
   "source": [
    "- età e doc_speaker_party posso essere combinate per determinare quartile_val"
   ]
  },
  {
   "cell_type": "code",
   "execution_count": null,
   "metadata": {},
   "outputs": [],
   "source": [
    "txt = \"(consideration_ans_index + political_views_ans_label + doc_speaker_party) * age_ans_label\"\n",
    "valore_soglia = 0.05\n",
    "calcola_anova([\"quartile_val\"],[[\"df_all\",df_all],[\"df_false\",df_false],[\"df_true\",df_true]],txt,valore_soglia)"
   ]
  },
  {
   "cell_type": "code",
   "execution_count": null,
   "metadata": {},
   "outputs": [],
   "source": [
    "for df in [[\"df_all\",df_all],[\"df_false\",df_false],[\"df_true\",df_true]]:\n",
    "    print(\"-\" * 100)\n",
    "    print(df[0])\n",
    "    display(df[1].groupby(by=\"age_ans_label\").mean()[\"doc_truthfulness_value\"])"
   ]
  },
  {
   "cell_type": "code",
   "execution_count": null,
   "metadata": {},
   "outputs": [],
   "source": [
    "df_true[df_true[\"quartile\"] != \"other_true\"].groupby(by=[\"age_ans_label\",\"quartile\"]).mean()[\"doc_truthfulness_value\"].unstack().plot(kind=\"bar\",figsize=(15, 3))"
   ]
  },
  {
   "attachments": {},
   "cell_type": "markdown",
   "metadata": {},
   "source": [
    "- se lo statement viene giudicato come poco accurato si tenderà a dare una valutazione bassa in media\n",
    "- se invece lo statement viene giudicato come molto accurato si tenderà a dare una valutazione alta in media"
   ]
  },
  {
   "cell_type": "code",
   "execution_count": null,
   "metadata": {},
   "outputs": [],
   "source": [
    "## accuratezza del testo\n",
    "\n",
    "txt = \"(doc_precision_index + doc_completeness_index + doc_informativeness_index)+ doc_unbiasedness_index + doc_accuracy_index + doc_speaker_trustworthiness_index\"\n",
    "valore_soglia = 0.1\n",
    "calcola_anova([\"doc_truthfulness_value\"],[[\"df_all\",df_all],[\"df_true\",df_true],[\"df_false\",df_all]],txt,valore_soglia)"
   ]
  },
  {
   "cell_type": "code",
   "execution_count": null,
   "metadata": {},
   "outputs": [],
   "source": [
    "crea_box_plot(\"doc_accuracy_index\",\"doc_truthfulness_value\")"
   ]
  },
  {
   "cell_type": "code",
   "execution_count": null,
   "metadata": {},
   "outputs": [],
   "source": [
    "df = df_all.groupby([\"quartile\"]).mean()[\"doc_accuracy_index\"]\n",
    "df = df.reset_index(inplace=False)\n",
    "df = df[(df[\"quartile\"] != \"other_true\") & (df[\"quartile\"] != \"other_false\") & (df[\"quartile\"] != \"other\")]\n",
    "df.sort_values(by=\"doc_accuracy_index\", ascending=False)\n",
    "display(df)\n",
    "sns.barplot(x=\"quartile\", y=\"doc_accuracy_index\", data=df,order=[\"correct_false\",\"wrong_false\",\"wrong_true\",\"correct_true\"])"
   ]
  },
  {
   "attachments": {},
   "cell_type": "markdown",
   "metadata": {},
   "source": [
    "- Con i statement FALSE ha più importanza la doc_speaker_trustworthiness_index\n",
    "- Con i statement TRUE ha più importanza la doc_accuracy_index"
   ]
  },
  {
   "cell_type": "code",
   "execution_count": null,
   "metadata": {},
   "outputs": [],
   "source": [
    "## confronto tra TRUE e FALSE\n",
    "\n",
    "txt = \"doc_accuracy_index + doc_speaker_trustworthiness_index\"\n",
    "valore_soglia = 0.1\n",
    "calcola_anova([\"doc_truthfulness_value\"],[[\"df_true\",df_true],[\"df_false\",df_false]],txt,valore_soglia)"
   ]
  },
  {
   "attachments": {},
   "cell_type": "markdown",
   "metadata": {},
   "source": [
    "- analizzando il testo dello statement:"
   ]
  },
  {
   "cell_type": "code",
   "execution_count": null,
   "metadata": {},
   "outputs": [],
   "source": [
    "crea_box_plot_statement([\"percentuale_parole_significative\",\"fre\",\"sentiment\", \"subjectivity\"])"
   ]
  },
  {
   "attachments": {},
   "cell_type": "markdown",
   "metadata": {},
   "source": [
    "Notiamo che per quanto riguarda le news false quelle che vengono azzeccate come tali:\n",
    "- hanno una percentuale di parole significative più alta, un fre maggiore, sentiment negativo e poca subjectivity.\n",
    "- contrario per le news che vengono classificate male (ricevono punteggio alto nonostante sono false)"
   ]
  },
  {
   "cell_type": "code",
   "execution_count": null,
   "metadata": {},
   "outputs": [],
   "source": [
    "## STATEMENT FALSE\n",
    "\n",
    "txt = \"(subjectivity_label  + sentiment_label) * percentuale_parole_significative_label * fre_label\"\n",
    "valore_soglia = 0.05\n",
    "calcola_anova([\"quartile_val\"],[[\"df_all\",df_all],[\"df_false\",df_false]],txt,valore_soglia)"
   ]
  },
  {
   "cell_type": "code",
   "execution_count": null,
   "metadata": {},
   "outputs": [],
   "source": [
    "df_false.groupby(\"quartile\").mean()[[\"percentuale_parole_significative\",\"fre\",\"sentiment\", \"subjectivity\"]].reset_index(inplace=False)"
   ]
  },
  {
   "attachments": {},
   "cell_type": "markdown",
   "metadata": {},
   "source": [
    "Notiamo che per quanto riguarda le news vere quelle che vengono azzeccate come tali (correct):\n",
    "- hanno un fre maggiore, sentiment minore e più subjectivity.\n",
    "- contrario per le news positive che vengono classificate male (ricevono punteggio basso nonostante sono vere)\n"
   ]
  },
  {
   "cell_type": "code",
   "execution_count": null,
   "metadata": {},
   "outputs": [],
   "source": [
    "## STATEMENT VERI\n",
    "\n",
    "txt = \"(subjectivity_label  + sentiment_label) * percentuale_parole_significative_label * fre_label\"\n",
    "valore_soglia = 0.1\n",
    "calcola_anova([\"quartile_val\"],[[\"df_all\",df_all],[\"df_true\",df_true]],txt,valore_soglia)"
   ]
  },
  {
   "cell_type": "code",
   "execution_count": null,
   "metadata": {},
   "outputs": [],
   "source": [
    "df_true.groupby(\"quartile\").mean()[[\"percentuale_parole_significative\",\"fre\",\"sentiment\", \"subjectivity\"]].reset_index(inplace=False)"
   ]
  },
  {
   "attachments": {},
   "cell_type": "markdown",
   "metadata": {},
   "source": [
    "##### RELAZIONI"
   ]
  },
  {
   "attachments": {},
   "cell_type": "markdown",
   "metadata": {},
   "source": [
    "Verifico se lo scrittore di un determinato partito politico ha delle caratteristiche specifiche con cui scrive lo statement"
   ]
  },
  {
   "cell_type": "code",
   "execution_count": null,
   "metadata": {},
   "outputs": [],
   "source": [
    "## relazione tra il partito dello scrittore e le caratteristiche del testo\n",
    "\n",
    "txt = \"(subjectivity_label * sentiment_label * fre_label  + numero_parole_frase)* percentuale_parole_significative_label \"\n",
    "valore_soglia = 0.12\n",
    "calcola_anova([\"doc_speaker_party_val\"],[[\"df_all\",df_all],[\"df_true\",df_true],[\"df_false\",df_all]],txt,valore_soglia)"
   ]
  },
  {
   "cell_type": "code",
   "execution_count": null,
   "metadata": {},
   "outputs": [],
   "source": [
    "df_all.groupby(\"doc_speaker_party\").mean()[[\"percentuale_parole_significative\",\"fre\",\"sentiment\", \"subjectivity\",\"numero_parole_frase\"]].T"
   ]
  },
  {
   "cell_type": "code",
   "execution_count": null,
   "metadata": {},
   "outputs": [],
   "source": [
    "df_false.groupby(\"doc_speaker_party\").mean()[[\"percentuale_parole_significative\",\"fre\",\"sentiment\", \"subjectivity\",\"numero_parole_frase\"]].T"
   ]
  },
  {
   "cell_type": "code",
   "execution_count": null,
   "metadata": {},
   "outputs": [],
   "source": [
    "df_true.groupby(\"doc_speaker_party\").mean()[[\"percentuale_parole_significative\",\"fre\",\"sentiment\", \"subjectivity\",\"numero_parole_frase\"]].T"
   ]
  },
  {
   "cell_type": "code",
   "execution_count": null,
   "metadata": {},
   "outputs": [],
   "source": [
    "## relazione tra l'accuratezza di un testo e le altre caratteristiche del testo\n",
    "\n",
    "txt = \"(doc_comprehensibility_index + doc_confidence_index + doc_precision_index + doc_completeness_index + doc_informativeness_index) * doc_unbiasedness_index\"\n",
    "valore_soglia = 0.05\n",
    "calcola_anova([\"doc_accuracy_index\"],[[\"df_all\",df_all],[\"df_true\",df_true],[\"df_false\",df_all]],txt,valore_soglia)"
   ]
  },
  {
   "cell_type": "code",
   "execution_count": null,
   "metadata": {},
   "outputs": [],
   "source": [
    "sns.boxplot(x=\"doc_unbiasedness_index\", y=\"doc_accuracy_index\", data=df_all)"
   ]
  },
  {
   "cell_type": "code",
   "execution_count": null,
   "metadata": {},
   "outputs": [],
   "source": [
    "sns.boxplot(x=\"doc_precision_index\", y=\"doc_accuracy_index\", data=df_all)"
   ]
  },
  {
   "attachments": {},
   "cell_type": "markdown",
   "metadata": {},
   "source": []
  },
  {
   "attachments": {},
   "cell_type": "markdown",
   "metadata": {},
   "source": []
  },
  {
   "attachments": {},
   "cell_type": "markdown",
   "metadata": {},
   "source": []
  },
  {
   "cell_type": "code",
   "execution_count": null,
   "metadata": {},
   "outputs": [],
   "source": []
  },
  {
   "cell_type": "code",
   "execution_count": null,
   "metadata": {},
   "outputs": [],
   "source": [
    "for df in [[\"df_all\",df_all]]:\n",
    "    print(\"-\" * 100)\n",
    "    print(df[0])\n",
    "    df = pd.DataFrame(df[1].groupby(\"quartile\").mean()[[\"doc_speaker_party_val\",\"doc_precision_index\",\"doc_unbiasedness_index\",\"doc_accuracy_index\",\"doc_speaker_trustworthiness_index\",\"percentuale_parole_significative\",\"numero_parole_frase\",\"fre\",\"sentiment\", \"subjectivity\"]].reset_index(inplace=False))    \n",
    "    df = df[(df[\"quartile\"] != \"other_true\") & (df[\"quartile\"] != \"other_false\") & (df[\"quartile\"] != \"other\")].T\n",
    "    df.columns = df.iloc[0].values.tolist()\n",
    "    df = df.drop(df.index[0])\n",
    "    \n",
    "    \n",
    "    display(df[[\"correct_false\"\t, \"wrong_false\",\"wrong_true\",\"correct_true\"\t]])"
   ]
  }
 ],
 "metadata": {
  "kernelspec": {
   "display_name": "Env_ForTesi",
   "language": "python",
   "name": "python3"
  },
  "language_info": {
   "codemirror_mode": {
    "name": "ipython",
    "version": 3
   },
   "file_extension": ".py",
   "mimetype": "text/x-python",
   "name": "python",
   "nbconvert_exporter": "python",
   "pygments_lexer": "ipython3",
   "version": "3.9.16"
  },
  "orig_nbformat": 4
 },
 "nbformat": 4,
 "nbformat_minor": 2
}
