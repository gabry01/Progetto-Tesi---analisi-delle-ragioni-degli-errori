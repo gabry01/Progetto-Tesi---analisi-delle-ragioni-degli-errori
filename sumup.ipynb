{
 "cells": [
  {
   "attachments": {},
   "cell_type": "markdown",
   "metadata": {},
   "source": [
    "# Setup"
   ]
  },
  {
   "cell_type": "code",
   "execution_count": 1,
   "metadata": {},
   "outputs": [],
   "source": [
    "%run setup.ipynb"
   ]
  },
  {
   "cell_type": "code",
   "execution_count": 2,
   "metadata": {},
   "outputs": [],
   "source": [
    "import warnings\n",
    "warnings.filterwarnings('ignore')"
   ]
  },
  {
   "cell_type": "code",
   "execution_count": 3,
   "metadata": {},
   "outputs": [],
   "source": [
    "df_merge = pd.read_csv('Datasets/df_merge.csv')"
   ]
  },
  {
   "cell_type": "code",
   "execution_count": 4,
   "metadata": {},
   "outputs": [],
   "source": [
    "df_merge = df_merge.rename(columns={\"doc_speaker's-trustworthiness_index\": \"doc_speaker_trustworthiness_index\"})"
   ]
  },
  {
   "cell_type": "code",
   "execution_count": 5,
   "metadata": {},
   "outputs": [],
   "source": [
    "df_merge[\"fre_label\"]  = 0\n",
    "for index, row in df_merge.iterrows():\n",
    "    if row[\"fre\"] >= 70:\n",
    "        df_merge.loc[index, \"fre_label\"] = \"alta\"\n",
    "    elif row[\"fre\"] >= 40:\n",
    "        df_merge.loc[index, \"fre_label\"] = \"media\"\n",
    "    else:\n",
    "        df_merge.loc[index, \"fre_label\"] = \"bassa\"\n"
   ]
  },
  {
   "cell_type": "code",
   "execution_count": 6,
   "metadata": {},
   "outputs": [],
   "source": [
    "df_merge[\"percentuale_parole_significative_label\"]  = 0\n",
    "for index, row in df_merge.iterrows():\n",
    "    if row[\"percentuale_parole_significative\"] >= 0.75:\n",
    "        df_merge.loc[index, \"percentuale_parole_significative_label\"] = \"alta\"\n",
    "    elif row[\"percentuale_parole_significative\"] >= 0.5:\n",
    "        df_merge.loc[index, \"percentuale_parole_significative_label\"] = \"media\"\n",
    "    else:\n",
    "        df_merge.loc[index, \"percentuale_parole_significative_label\"] = \"bassa\"\n"
   ]
  },
  {
   "cell_type": "code",
   "execution_count": 7,
   "metadata": {},
   "outputs": [],
   "source": [
    "df_merge[\"quartile_val\"] = 0\n",
    "for index,row in df_merge.iterrows():\n",
    "    if row[\"quartile\"] == \"wrong_false\":\n",
    "        df_merge.loc[index,\"quartile_val\"] = 1\n",
    "    elif row[\"quartile\"] == \"other_false\":\n",
    "        df_merge.loc[index,\"quartile_val\"] = 2\n",
    "    elif row[\"quartile\"] == \"correct_false\":\n",
    "        df_merge.loc[index,\"quartile_val\"] = 3\n",
    "    elif row[\"quartile\"] == \"other\":\n",
    "        df_merge.loc[index,\"quartile_val\"] = 4\n",
    "    elif row[\"quartile\"] == \"wrong_true\":\n",
    "        df_merge.loc[index,\"quartile_val\"] = 5\n",
    "    elif row[\"quartile\"] == \"other_true\":\n",
    "        df_merge.loc[index,\"quartile_val\"] = 6\n",
    "    elif row[\"quartile\"] == \"correct_true\":\n",
    "        df_merge.loc[index,\"quartile_val\"] = 7\n",
    "    else:\n",
    "        print(\"Error\")"
   ]
  },
  {
   "cell_type": "code",
   "execution_count": 8,
   "metadata": {},
   "outputs": [],
   "source": [
    "df_merge[\"doc_speaker_party_val\"] = 0\n",
    "for index,row in df_merge.iterrows():\n",
    "    if row[\"doc_speaker_party\"] == \"DEM\":\n",
    "        df_merge.loc[index,\"doc_speaker_party_val\"] = 1"
   ]
  },
  {
   "cell_type": "code",
   "execution_count": 9,
   "metadata": {},
   "outputs": [],
   "source": [
    "# creo i vari df per le analisi\n",
    "def crea_df_per_analisi(df_analisi):\n",
    "    df_all = df_analisi.copy()\n",
    "\n",
    "    df_false = df_analisi[df_analisi[\"sovra\"] == \"pants-on-fire\"]\n",
    "    df_true = df_analisi[df_analisi[\"sovra\"] == \"true\"]\n",
    "\n",
    "    df_wrong_false = df_analisi[df_analisi[\"quartile\"] == \"wrong_false\"]\n",
    "    df_correct_false = df_analisi[df_analisi[\"quartile\"] == \"correct_false\"]\n",
    "    df_wrong_true = df_analisi[df_analisi[\"quartile\"] == \"wrong_true\"]\n",
    "    df_correct_true = df_analisi[df_analisi[\"quartile\"] == \"correct_true\"]\n",
    "\n",
    "    df_wrong = df_wrong_false.append(df_wrong_true)\n",
    "    df_correct = df_correct_true.append(df_correct_false)\n",
    "\n",
    "    DF_no_quartili = [[\"df_all\",df_all],[\"df_false\",df_false],[\"df_true\",df_true],[\"df_wrong\",df_wrong],[\"df_correct\",df_correct]]\n",
    "    DF = [[\"df_all\",df_all],[\"df_false\",df_false],[\"df_true\",df_true],[\"df_wrong\",df_wrong],[\"df_correct\",df_correct],[\"df_wrong_false\",df_wrong_false],[\"df_correct_false\",df_correct_false],[\"df_correct_true\",df_correct_true],[\"df_wrong_true\",df_wrong_true]]\n",
    "    return df_all, df_false, df_true , df_wrong, df_correct, df_wrong_false, df_correct_false, df_correct_true, df_wrong_true, DF_no_quartili, DF"
   ]
  },
  {
   "cell_type": "code",
   "execution_count": 10,
   "metadata": {},
   "outputs": [],
   "source": [
    "df_all, df_false, df_true , df_wrong, df_correct, df_wrong_false, df_correct_false, df_correct_true, df_wrong_true, DF_no_quartili, DF = crea_df_per_analisi(df_merge)"
   ]
  },
  {
   "attachments": {},
   "cell_type": "markdown",
   "metadata": {},
   "source": [
    "# Analisi"
   ]
  },
  {
   "cell_type": "code",
   "execution_count": 11,
   "metadata": {},
   "outputs": [],
   "source": [
    "variabili_interesse = [\"scarto\",\"quartile_val\",\"doc_truthfulness_value\"]\n",
    "dimensioni_importanti = [# RQ2\n",
    "                         \"doc_speaker_party\",\n",
    "                         # RQ3\n",
    "                         \"doc_accuracy_index\",\"doc_speaker_trustworthiness_index\",\n",
    "                         # RQ1\n",
    "                         \"age_ans_label\",\"southern_border_ans_label\",\"k_info_1_ans_label\",\"k_ai_4_ans_label\",\"s_com_1_v2_ans_label\",\"s_info_4_ans_label\"]\n",
    "dimensioni_importanti1 = [\"age_ans_label\",\"southern_border_ans_label\",\"k_info_1_ans_label\",\"k_ai_4_ans_label\",\"s_com_1_v2_ans_label\",\"s_info_4_ans_label\"]\n",
    "dimensioni_importanti2 = [\"doc_speaker_party\"]\n",
    "dimensioni_importanti3 = [\"doc_accuracy_index\",\"doc_speaker_trustworthiness_index\"]"
   ]
  },
  {
   "cell_type": "code",
   "execution_count": null,
   "metadata": {},
   "outputs": [],
   "source": [
    "\n",
    "for c in dimensioni_importanti:\n",
    "    print(c,df_all[c].isna().sum())\n",
    "\n",
    "df_all = df_all.dropna(subset=dimensioni_importanti)\n",
    "\n",
    "for c in dimensioni_importanti:\n",
    "    print(c,df_all[c].isna().sum())"
   ]
  },
  {
   "cell_type": "code",
   "execution_count": null,
   "metadata": {},
   "outputs": [],
   "source": [
    "for dim in variabili_interesse:\n",
    "    print(dim,dim in df_all.columns)"
   ]
  },
  {
   "cell_type": "code",
   "execution_count": null,
   "metadata": {},
   "outputs": [],
   "source": [
    "for dim in dimensioni_importanti:\n",
    "    print(dim,dim in df_all.columns)"
   ]
  },
  {
   "attachments": {},
   "cell_type": "markdown",
   "metadata": {},
   "source": [
    "Ci sono alcune linee guida generali che possono essere utilizzate per interpretare i valori di ω²:\n",
    "\n",
    "- Valori molto bassi: solitamente ω² inferiore a 0,01 indica che la variabile indipendente ha una relazione molto debole o trascurabile con la variabile dipendente.\n",
    "\n",
    "- Valori bassi: ω² compreso tra 0,01 e 0,06 indica una relazione debole o piccola tra la variabile indipendente e la variabile dipendente.\n",
    "\n",
    "- Valori medi: ω² compreso tra 0,06 e 0,14 indica una relazione moderata tra la variabile indipendente e la variabile dipendente.\n",
    "\n",
    "- Valori alti: ω² compreso tra 0,14 e 0,39 indica una relazione moderatamente forte tra la variabile indipendente e la variabile dipendente.\n",
    "\n",
    "- Valori molto alti: ω² superiore a 0,39 indica una relazione molto forte tra la variabile indipendente e la variabile dipendente."
   ]
  },
  {
   "cell_type": "code",
   "execution_count": 12,
   "metadata": {},
   "outputs": [],
   "source": [
    "def crea_txt(dimensioni_importanti):\n",
    "    txt = \"\"\n",
    "    array = []\n",
    "    for t in dimensioni_importanti:\n",
    "        if \"label\" in t:\n",
    "            txt = txt + f\"\"\"C({t}) + \"\"\"\n",
    "        else:   \n",
    "            txt = txt + f\"\"\"{t} + \"\"\"\n",
    "        array.append([t])\n",
    "    return txt[:-2]"
   ]
  },
  {
   "cell_type": "code",
   "execution_count": null,
   "metadata": {},
   "outputs": [],
   "source": [
    "df_all"
   ]
  },
  {
   "cell_type": "code",
   "execution_count": null,
   "metadata": {},
   "outputs": [],
   "source": [
    "df_all[\"doc_speaker_party_value\"] = 0\n",
    "for index,row in df_all.iterrows():\n",
    "    if row[\"doc_speaker_party\"] == \"DEM\":\n",
    "        df_all.loc[index,\"doc_speaker_party_value\"] = 1\n",
    "        \n",
    "\n"
   ]
  },
  {
   "cell_type": "code",
   "execution_count": null,
   "metadata": {},
   "outputs": [],
   "source": [
    "index = \"doc_speaker_party_value:doc_statement_date\"\n",
    "valori = index.split(\":\")\n",
    "gr = []\n",
    "for val in valori:\n",
    "    if val[0:2] == \"C(\":\n",
    "        val = val[2:-1]\n",
    "        val = val[:-5]+\"index\"\n",
    "    gr.append(val)\n",
    "print(df_all[gr])"
   ]
  },
  {
   "cell_type": "code",
   "execution_count": null,
   "metadata": {},
   "outputs": [],
   "source": [
    "\n",
    "# Creazione di due variabili di esempio\n",
    "var1 = np.array([1, 2, 3, 4, 5])\n",
    "var2 = np.array([6, 7, 8, 9, 10,5,2])\n",
    "\n",
    "# Combina le due variabili in una singola variabile categorica\n",
    "groups = np.concatenate([np.repeat('Group1', len(var1)), np.repeat('Group2', len(var2))])\n",
    "\n",
    "# Crea un DataFrame per l'analisi\n",
    "data = pd.DataFrame({'Values': np.concatenate([var1, var2]), 'Groups': groups})\n",
    "\n",
    "# Applica la funzione pairwise_tukeyhsd\n",
    "result = pairwise_tukeyhsd(data['Values'], data['Groups'])\n",
    "\n",
    "# Stampa i risultati\n",
    "print(result)"
   ]
  },
  {
   "cell_type": "code",
   "execution_count": null,
   "metadata": {},
   "outputs": [],
   "source": [
    "data"
   ]
  },
  {
   "cell_type": "code",
   "execution_count": null,
   "metadata": {},
   "outputs": [],
   "source": [
    "\n",
    "# Creazione di due variabili di esempio\n",
    "var1 = np.array([1, 2, 3, 4, 5])\n",
    "var2 = np.array([6, 7, 8, 9, 10,5,2])\n",
    "\n",
    "# Combina le due variabili in una singola variabile categorica\n",
    "groups = np.concatenate([np.repeat('Group1', len(var1)), np.repeat('Group2', len(var2))])\n",
    "\n",
    "# Crea un DataFrame per l'analisi\n",
    "data = pd.DataFrame({'Values': np.concatenate([var1, var2]), 'Groups': groups})\n",
    "\n",
    "# Applica la funzione pairwise_tukeyhsd\n",
    "result = pairwise_tukeyhsd(data['Values'], data['Groups'])\n",
    "\n",
    "# Stampa i risultati\n",
    "print(result)"
   ]
  },
  {
   "cell_type": "code",
   "execution_count": 13,
   "metadata": {},
   "outputs": [],
   "source": [
    "def create_df_for_turkey_test (df,varibile_interesse,variabili_indipendenti):\n",
    "    n = len(variabili_indipendenti)\n",
    "    \n",
    "    if n == 1:\n",
    "    \n",
    "        a = []\n",
    "\n",
    "        for val in df[variabili_indipendenti[0]].unique():\n",
    "            gr = df[df[variabili_indipendenti[0]] == val][varibile_interesse]\n",
    "            a.append([val,gr.values])\n",
    "            \n",
    "        groups = []\n",
    "        for valore in a:\n",
    "            groups = np.concatenate([groups,np.repeat(valore[0], len(valore[1]))])\n",
    "\n",
    "        data = pd.DataFrame({'Values': np.concatenate([valore[1] for valore in a]), 'Groups': groups})\n",
    "    \n",
    "    \n",
    "    elif n == 2:\n",
    "    \n",
    "        a = []\n",
    "\n",
    "        for val1 in df_all[variabili_indipendenti[0]].unique():\n",
    "            for val2 in df_all[variabili_indipendenti[1]].unique():\n",
    "                gr = df_all[(df_all[variabili_indipendenti[0]] == val1) & (df_all[variabili_indipendenti[1]] == val2)][varibile_interesse]\n",
    "                \n",
    "                a.append([str(val1)+\":\"+str(val2),gr.values])\n",
    "                \n",
    "        groups = []\n",
    "        for valore in a:\n",
    "            groups = np.concatenate([groups,np.repeat(valore[0], len(valore[1]))])\n",
    "\n",
    "        data = pd.DataFrame({'Values': np.concatenate([valore[1] for valore in a]), 'Groups': groups})\n",
    "    \n",
    "    elif n == 3:\n",
    "        \n",
    "        a = []\n",
    "        \n",
    "        for val1 in df_all[variabili_indipendenti[0]].unique():\n",
    "            for val2 in df_all[variabili_indipendenti[1]].unique():\n",
    "                for val3 in df_all[variabili_indipendenti[2]].unique():\n",
    "                    gr = df_all[(df_all[variabili_indipendenti[0]] == val1) & (df_all[variabili_indipendenti[1]] == val2) & (df_all[variabili_indipendenti[2]] == val3)][varibile_interesse]\n",
    "                    \n",
    "                    a.append([str(val1)+\":\"+str(val2)+\":\"+str(val3),gr.values])\n",
    "        \n",
    "        groups = []\n",
    "        for valore in a:\n",
    "            groups = np.concatenate([groups,np.repeat(valore[0], len(valore[1]))])\n",
    "        \n",
    "        data = pd.DataFrame({'Values': np.concatenate([valore[1] for valore in a]), 'Groups': groups})\n",
    "    \n",
    "    \n",
    "    return data"
   ]
  },
  {
   "cell_type": "code",
   "execution_count": null,
   "metadata": {},
   "outputs": [],
   "source": [
    "create_df_for_turkey_test(df_all,\"quartile_val\",[\"doc_speaker_party\",\"doc_statement_date\"])"
   ]
  },
  {
   "cell_type": "code",
   "execution_count": null,
   "metadata": {},
   "outputs": [],
   "source": [
    "create_df_for_turkey_test(df_all,\"quartile_val\",[\"doc_speaker_party\"])"
   ]
  },
  {
   "cell_type": "code",
   "execution_count": null,
   "metadata": {},
   "outputs": [],
   "source": [
    "df = df_all[[\"doc_speaker_party\",\"doc_statement_date\",\"quartile_val\"]]\n",
    "#df[\"gruppo\"] = 0 \n",
    "\n",
    "a = []\n",
    "\n",
    "for val1 in df_all[\"doc_speaker_party\"].unique():\n",
    "    for val2 in df_all[\"doc_statement_date\"].unique():\n",
    "        gr = df_all[(df_all[\"doc_speaker_party\"] == val1) & (df_all[\"doc_statement_date\"] == val2)][\"quartile_val\"]\n",
    "        \n",
    "        a.append([str(val1)+\":\"+str(val2),gr.values])\n",
    "        \n",
    "groups = []\n",
    "for valore in a:\n",
    "    groups = np.concatenate([groups,np.repeat(valore[0], len(valore[1]))])\n",
    "\n",
    "data = pd.DataFrame({'Values': np.concatenate([valore[1] for valore in a]), 'Groups': groups})\n",
    "\n",
    "result = pairwise_tukeyhsd(data['Values'], data['Groups'])\n",
    "\n",
    "print(result)\n",
    "        "
   ]
  },
  {
   "cell_type": "code",
   "execution_count": null,
   "metadata": {},
   "outputs": [],
   "source": [
    "data"
   ]
  },
  {
   "cell_type": "code",
   "execution_count": null,
   "metadata": {},
   "outputs": [],
   "source": [
    "a[0]"
   ]
  },
  {
   "cell_type": "code",
   "execution_count": null,
   "metadata": {},
   "outputs": [],
   "source": [
    "tukey_results = pairwise_tukeyhsd(endog=df_all[\"quartile_val\"], \n",
    "                                    groups= df_all[\"doc_speaker_party_value\"] + df_all[\"doc_statement_date\"], \n",
    "                                    alpha=0.05)"
   ]
  },
  {
   "cell_type": "code",
   "execution_count": null,
   "metadata": {},
   "outputs": [],
   "source": [
    "index = \"doc_speaker_party_value:doc_statement_date\"\n",
    "valori = index.split(\":\")\n",
    "gr = []\n",
    "for val in valori:\n",
    "    if val[0:2] == \"C(\":\n",
    "        val = val[2:-1]\n",
    "        val = val[:-5]+\"index\"\n",
    "    gr.append(val)\n",
    "print(gr)"
   ]
  },
  {
   "cell_type": "code",
   "execution_count": 83,
   "metadata": {},
   "outputs": [],
   "source": [
    "def calcola_anova(variabili,df_riferimento,txt,valore_soglia):\n",
    "\n",
    "    for variabile_interesse in variabili:\n",
    "        for df in df_riferimento:\n",
    "            \n",
    "            \n",
    "            results = ols(\n",
    "                f'''\n",
    "                    {variabile_interesse} ~ {txt} \"\"\"\n",
    "                '''\n",
    "                , data=df[1]).fit()\n",
    "            \n",
    "            aov_table = sm.stats.anova_lm(results, typ=2)\n",
    "            anova_table_v = anova_table(aov_table)\n",
    "            if anova_table_v[\"omega_sq\"].max() > valore_soglia:\n",
    "                print(\"-\" * 100)\n",
    "                print(f\"\"\"{variabile_interesse} ~ {txt} in {df[0]}\"\"\")\n",
    "                display(anova_table_v.sort_values(by=\"omega_sq\", ascending=False).head(3))\n",
    "                \n",
    "            for index, row in anova_table_v.iterrows():\n",
    "                if row[\"omega_sq\"] > valore_soglia or row[\"PR(>F)\"] < 0.05:\n",
    "                    print(index)\n",
    "                    \n",
    "                    if \":\" in index:\n",
    "                        valori = index.split(\":\")\n",
    "                        gr = []\n",
    "                        for val in valori:\n",
    "                            if val[0:2] == \"C(\":\n",
    "                                val = val[2:-1]\n",
    "                                val = val[:-5]+\"index\"\n",
    "                            gr.append(val)\n",
    "                        print(gr)\n",
    "                        \n",
    "                        data = create_df_for_turkey_test(df[1],variabile_interesse,gr)\n",
    "                        \n",
    "                        tukey_results = pairwise_tukeyhsd(data['Values'], data['Groups'],alpha=0.05)\n",
    "                        \n",
    "                    else:\n",
    "                    \n",
    "                        if index[0:2] == \"C(\":\n",
    "                            index = index[2:-1]\n",
    "                            index = index[:-5]+\"index\"\n",
    "                            \n",
    "                        data = create_df_for_turkey_test(df[1],variabile_interesse,[index])\n",
    "                        \n",
    "                        tukey_results = pairwise_tukeyhsd(data['Values'], data['Groups'],alpha=0.05)\n",
    "                    \n",
    "                    df_turkey = pd.DataFrame(data=tukey_results._results_table.data[1:], columns=tukey_results._results_table.data[0])\n",
    "                    display(df_turkey[df_turkey[\"reject\"] == True].sort_values(by=\"p-adj\", ascending=True).sort_values(by=\"meandiff\", ascending=False).head(3))\n",
    "        print(\"-\" * 100)\n",
    "        print(\"-\" * 100)"
   ]
  },
  {
   "attachments": {},
   "cell_type": "markdown",
   "metadata": {},
   "source": [
    "Un'altra domanda: se voglio fare il turkey test userò la funzione pairwise_tukeyhsd. Come argomenti:\n",
    "- endog = colonna variabile d'interesse \n",
    "- groups = colonne con variabili che devo controllare se "
   ]
  },
  {
   "cell_type": "code",
   "execution_count": null,
   "metadata": {},
   "outputs": [],
   "source": [
    "txt = \"doc_speaker_party*doc_statement_date\"\n",
    "valore_soglia = 0.01\n",
    "calcola_anova(variabili_interesse,DF_no_quartili,txt,valore_soglia)"
   ]
  },
  {
   "cell_type": "code",
   "execution_count": null,
   "metadata": {},
   "outputs": [],
   "source": [
    "txt = crea_txt(dimensioni_importanti)\n",
    "valore_soglia = 0.01\n",
    "calcola_anova(variabili_interesse,DF_no_quartili,txt,valore_soglia)"
   ]
  },
  {
   "cell_type": "code",
   "execution_count": null,
   "metadata": {},
   "outputs": [],
   "source": [
    "txt = crea_txt(dimensioni_importanti1)\n",
    "valore_soglia = 0.01\n",
    "calcola_anova(variabili_interesse,DF_no_quartili,txt,valore_soglia)"
   ]
  },
  {
   "cell_type": "code",
   "execution_count": null,
   "metadata": {},
   "outputs": [],
   "source": [
    "txt = crea_txt(dimensioni_importanti2)\n",
    "valore_soglia = 0.01\n",
    "calcola_anova(variabili_interesse,DF_no_quartili,txt,valore_soglia)"
   ]
  },
  {
   "cell_type": "code",
   "execution_count": null,
   "metadata": {},
   "outputs": [],
   "source": [
    "txt = crea_txt(dimensioni_importanti3)\n",
    "valore_soglia = 0.01\n",
    "calcola_anova(variabili_interesse,DF_no_quartili,txt,valore_soglia)"
   ]
  },
  {
   "cell_type": "code",
   "execution_count": null,
   "metadata": {},
   "outputs": [],
   "source": [
    "txt"
   ]
  },
  {
   "attachments": {},
   "cell_type": "markdown",
   "metadata": {},
   "source": []
  },
  {
   "attachments": {},
   "cell_type": "markdown",
   "metadata": {},
   "source": []
  },
  {
   "attachments": {},
   "cell_type": "markdown",
   "metadata": {},
   "source": []
  },
  {
   "attachments": {},
   "cell_type": "markdown",
   "metadata": {},
   "source": []
  },
  {
   "attachments": {},
   "cell_type": "markdown",
   "metadata": {},
   "source": []
  },
  {
   "cell_type": "code",
   "execution_count": null,
   "metadata": {},
   "outputs": [],
   "source": [
    "dimensioni_importanti"
   ]
  },
  {
   "cell_type": "code",
   "execution_count": null,
   "metadata": {},
   "outputs": [],
   "source": [
    "txt = \"age_ans_label*doc_speaker_trustworthiness_index\"\n",
    "valore_soglia = 0.06\n",
    "calcola_anova(variabili_interesse,DF_no_quartili,txt,valore_soglia)"
   ]
  },
  {
   "cell_type": "code",
   "execution_count": null,
   "metadata": {},
   "outputs": [],
   "source": [
    "txt = \"doc_speaker_party*doc_speaker_trustworthiness_index\"\n",
    "valore_soglia = 0.06\n",
    "calcola_anova(variabili_interesse,DF_no_quartili,txt,valore_soglia)"
   ]
  },
  {
   "cell_type": "code",
   "execution_count": null,
   "metadata": {},
   "outputs": [],
   "source": [
    "txt = \"doc_speaker_party*age_ans_label\"\n",
    "valore_soglia = 0.06\n",
    "calcola_anova(variabili_interesse,DF_no_quartili,txt,valore_soglia)"
   ]
  },
  {
   "cell_type": "code",
   "execution_count": null,
   "metadata": {},
   "outputs": [],
   "source": [
    "txt = \"doc_speaker_party*southern_border_ans_label*age_ans_label\"\n",
    "valore_soglia = 0.01\n",
    "calcola_anova(variabili_interesse,DF_no_quartili,txt,valore_soglia)"
   ]
  },
  {
   "cell_type": "code",
   "execution_count": null,
   "metadata": {},
   "outputs": [],
   "source": [
    "txt = \"k_info_1_ans_label*k_ai_4_ans_label\"\n",
    "valore_soglia = 0.06\n",
    "calcola_anova(variabili_interesse,DF_no_quartili,txt,valore_soglia)"
   ]
  },
  {
   "cell_type": "code",
   "execution_count": null,
   "metadata": {},
   "outputs": [],
   "source": [
    "txt = \"s_com_1_v2_ans_label*s_info_4_ans_label\"\n",
    "valore_soglia = 0.01\n",
    "calcola_anova(variabili_interesse,DF_no_quartili,txt,valore_soglia)"
   ]
  },
  {
   "cell_type": "code",
   "execution_count": null,
   "metadata": {},
   "outputs": [],
   "source": [
    "doc_speaker_party*doc_speaker_trustworthiness_index"
   ]
  },
  {
   "cell_type": "code",
   "execution_count": null,
   "metadata": {},
   "outputs": [],
   "source": [
    "txt = \"(consideration_ans_index + political_views_ans_label) * doc_speaker_party\"\n",
    "valore_soglia = 0.01\n",
    "calcola_anova(variabili_interesse,DF_no_quartili,txt,valore_soglia)"
   ]
  },
  {
   "cell_type": "code",
   "execution_count": null,
   "metadata": {},
   "outputs": [],
   "source": [
    "## interessante\n",
    "\n",
    "txt = \"(consideration_ans_index + political_views_ans_label) * (doc_speaker_party + doc_speaker_trustworthiness_index)\"\n",
    "valore_soglia = 0.01\n",
    "calcola_anova(variabili_interesse,DF_no_quartili,txt,valore_soglia)"
   ]
  },
  {
   "cell_type": "code",
   "execution_count": null,
   "metadata": {},
   "outputs": [],
   "source": [
    "## interessante\n",
    "\n",
    "txt = \"(s_com_1_v2_ans_label + k_ai_4_ans_label) * (k_info_1_ans_label + s_info_4_ans_label)\"\n",
    "valore_soglia = 0.01\n",
    "calcola_anova(variabili_interesse,DF_no_quartili,txt,valore_soglia)"
   ]
  },
  {
   "cell_type": "code",
   "execution_count": null,
   "metadata": {},
   "outputs": [],
   "source": [
    "## interessante\n",
    "\n",
    "txt = \"(doc_accuracy_index) * (doc_speaker_party + doc_speaker_trustworthiness_index + age_ans_label + southern_border_ans_label)\"\n",
    "valore_soglia = 0.06\n",
    "calcola_anova(variabili_interesse,DF_no_quartili,txt,valore_soglia)"
   ]
  },
  {
   "cell_type": "code",
   "execution_count": null,
   "metadata": {},
   "outputs": [],
   "source": [
    "## interessante taxes_ans_label\n",
    "\n",
    "txt = \"(taxes_ans_label) * (doc_speaker_party + doc_speaker_trustworthiness_index + age_ans_label + southern_border_ans_label)\"\n",
    "valore_soglia = 0.1\n",
    "calcola_anova(variabili_interesse,DF_no_quartili,txt,valore_soglia)"
   ]
  },
  {
   "cell_type": "code",
   "execution_count": null,
   "metadata": {},
   "outputs": [],
   "source": [
    "df_all.columns"
   ]
  },
  {
   "attachments": {},
   "cell_type": "markdown",
   "metadata": {},
   "source": [
    "## Caratteristiche worker"
   ]
  },
  {
   "attachments": {},
   "cell_type": "markdown",
   "metadata": {},
   "source": [
    "##### doc_truthfulness_value"
   ]
  },
  {
   "cell_type": "code",
   "execution_count": null,
   "metadata": {},
   "outputs": [],
   "source": [
    "## visione politica\n",
    "\n",
    "txt = \"doc_speaker_trustworthiness_index * (southern_border_ans_label + doc_speaker_party + political_views_ans_label + consideration_ans_label)\"\n",
    "valore_soglia = 0.1\n",
    "calcola_anova([\"doc_truthfulness_value\"],[[\"df_all\",df_all],[\"df_false\",df_false],[\"df_true\",df_true]],txt,valore_soglia)"
   ]
  },
  {
   "cell_type": "code",
   "execution_count": null,
   "metadata": {},
   "outputs": [],
   "source": [
    "df_false.groupby([\"doc_speaker_trustworthiness_index\"]).mean()[\"doc_truthfulness_value\"]"
   ]
  },
  {
   "cell_type": "code",
   "execution_count": null,
   "metadata": {},
   "outputs": [],
   "source": [
    "df_true.groupby([\"doc_speaker_trustworthiness_index\"]).mean()[\"doc_truthfulness_value\"]"
   ]
  },
  {
   "attachments": {},
   "cell_type": "markdown",
   "metadata": {},
   "source": [
    "Se mi fido dell'autore tendo a dare in media dei valori più alti"
   ]
  },
  {
   "cell_type": "code",
   "execution_count": null,
   "metadata": {},
   "outputs": [],
   "source": [
    "## domande\n",
    "\n",
    "txt = \"k_info_1_ans_label*(age_ans_label + southern_border_ans_label++k_ai_4_ans_label+s_com_1_v2_ans_label+s_info_4_ans_label)\"\n",
    "valore_soglia = 0.05\n",
    "calcola_anova([\"doc_truthfulness_value\"],[[\"df_all\",df_all],[\"df_false\",df_false],[\"df_true\",df_true]],txt,valore_soglia)\n"
   ]
  },
  {
   "cell_type": "code",
   "execution_count": null,
   "metadata": {},
   "outputs": [],
   "source": [
    "## domande\n",
    "\n",
    "txt = \"k_info_1_ans_label*k_ai_4_ans_label \"\n",
    "valore_soglia = 0.05\n",
    "calcola_anova([\"doc_truthfulness_value\"],[[\"df_all\",df_all],[\"df_false\",df_false],[\"df_true\",df_true]],txt,valore_soglia)\n"
   ]
  },
  {
   "cell_type": "code",
   "execution_count": null,
   "metadata": {},
   "outputs": [],
   "source": [
    "df_true.groupby([\"k_info_1_ans_label\"]).mean()[\"doc_truthfulness_value\"]"
   ]
  },
  {
   "cell_type": "code",
   "execution_count": null,
   "metadata": {},
   "outputs": [],
   "source": [
    "df_false.groupby([\"k_info_1_ans_label\"]).mean()[\"doc_truthfulness_value\"]"
   ]
  },
  {
   "attachments": {},
   "cell_type": "markdown",
   "metadata": {},
   "source": [
    "La domanda è importante"
   ]
  },
  {
   "attachments": {},
   "cell_type": "markdown",
   "metadata": {},
   "source": [
    "##### scarto"
   ]
  },
  {
   "cell_type": "code",
   "execution_count": null,
   "metadata": {},
   "outputs": [],
   "source": [
    "## visione politica\n",
    "\n",
    "txt = \"doc_speaker_party *  (southern_border_ans_label + doc_speaker_trustworthiness_index) * (political_views_ans_label + consideration_ans_label)\"\n",
    "valore_soglia = 0.05\n",
    "calcola_anova([\"scarto\"],[[\"df_all\",df_all],[\"df_false\",df_false],[\"df_true\",df_true]],txt,valore_soglia)"
   ]
  },
  {
   "cell_type": "code",
   "execution_count": null,
   "metadata": {},
   "outputs": [],
   "source": [
    "df_false.groupby([\"quartile\",\"doc_speaker_trustworthiness_index\"]).mean()[\"scarto\"]"
   ]
  },
  {
   "cell_type": "code",
   "execution_count": null,
   "metadata": {},
   "outputs": [],
   "source": [
    "df_true.groupby([\"doc_speaker_trustworthiness_index\"]).mean()[\"scarto\"]"
   ]
  },
  {
   "attachments": {},
   "cell_type": "markdown",
   "metadata": {},
   "source": [
    "Per le news vere:\n",
    "- se mi fido poco dello scrittore allora tendo ad allontanarmi molto dal GT\n",
    "\n",
    "Per le fake news:\n",
    "- se mi fido poco dello scrittore allora tendo ad allontanarmi molto dal GT"
   ]
  },
  {
   "cell_type": "code",
   "execution_count": null,
   "metadata": {},
   "outputs": [],
   "source": [
    "## domande\n",
    "\n",
    "txt = \"k_info_1_ans_label*k_ai_4_ans_label \"\n",
    "valore_soglia = 0.05\n",
    "calcola_anova([\"scarto\"],[[\"df_all\",df_all],[\"df_false\",df_false],[\"df_true\",df_true]],txt,valore_soglia)\n"
   ]
  },
  {
   "attachments": {},
   "cell_type": "markdown",
   "metadata": {},
   "source": [
    "##### quartile_val"
   ]
  },
  {
   "cell_type": "code",
   "execution_count": null,
   "metadata": {},
   "outputs": [],
   "source": [
    "## visione politica\n",
    "\n",
    "txt = \"doc_speaker_party +  (southern_border_ans_label + doc_speaker_trustworthiness_index) * (political_views_ans_label + consideration_ans_label)\"\n",
    "valore_soglia = 0.05\n",
    "calcola_anova([\"quartile_val\"],[[\"df_all\",df_all],[\"df_false\",df_false],[\"df_true\",df_true]],txt,valore_soglia)"
   ]
  },
  {
   "attachments": {},
   "cell_type": "markdown",
   "metadata": {},
   "source": [
    "SI nota che :\n",
    "- doc_speaker_party è molto rilevante per l'individuazione dei gruppi\n",
    "- doc_speaker_trustworthiness_index è molto importante per lo scarto e per doc_truthfulness_value => "
   ]
  },
  {
   "attachments": {},
   "cell_type": "markdown",
   "metadata": {},
   "source": [
    "## Valutazione del Worker su Statement"
   ]
  },
  {
   "cell_type": "code",
   "execution_count": 17,
   "metadata": {},
   "outputs": [
    {
     "data": {
      "text/plain": [
       "Index(['Unnamed: 0', 'worker_id', 'doc_id',\n",
       "       'doc_fact_check_ground_truth_label',\n",
       "       'doc_fact_check_ground_truth_value', 'sovra', 'quartile',\n",
       "       'doc_truthfulness_value', 'mean', 'scarto', 'age_ans_index',\n",
       "       'school_ans_index', 'taxes_ans_index', 'political_views_ans_index',\n",
       "       'consideration_ans_index', 'southern_border_ans_index', 'age_ans_label',\n",
       "       'school_ans_label', 'taxes_ans_label', 'political_views_ans_label',\n",
       "       'consideration_ans_label', 'southern_border_ans_label',\n",
       "       's_info_1_ans_index', 's_info_3_v2_ans_index', 's_info_4_ans_index',\n",
       "       's_info_5_ans_index', 's_info_6_ans_index', 's_info_7_ans_index',\n",
       "       's_com_1_v2_ans_index', 's_com_2_ans_index', 's_info_1_ans_label',\n",
       "       's_info_3_v2_ans_label', 's_info_4_ans_label', 's_info_5_ans_label',\n",
       "       's_info_6_ans_label', 's_info_7_ans_label', 's_com_1_v2_ans_label',\n",
       "       's_com_2_ans_label', 'k_info_1_ans_index', 'k_info_2_ans_index',\n",
       "       'k_info_3_ans_index', 'k_crea_2_ans_index', 'k_ai_2_ans_index',\n",
       "       'k_ai_4_ans_index', 'k_info_1_ans_label', 'k_info_2_ans_label',\n",
       "       'k_info_3_ans_label', 'k_crea_2_ans_label', 'k_ai_2_ans_label',\n",
       "       'k_ai_4_ans_label', 'doc_index', 'doc_speaker_party',\n",
       "       'doc_statement_date', 'numero_parole_frase',\n",
       "       'numero_parole_significative', 'percentuale_parole_significative',\n",
       "       'fre', 'sentiment', 'subjectivity', 'sentiment_label',\n",
       "       'subjectivity_label', 'doc_completeness_index',\n",
       "       'doc_comprehensibility_index', 'doc_precision_index',\n",
       "       'doc_informativeness_index', 'doc_unbiasedness_index',\n",
       "       'doc_accuracy_index', 'doc_speaker_trustworthiness_index',\n",
       "       'doc_confidence_index', 'doc_time_elapsed', 'query_amount_per_doc',\n",
       "       'response_position', 'selected_amount_per_doc', 'sim_statem_query',\n",
       "       'sim_statem_resname', 'sim_statem_ressnip', 'fre_label',\n",
       "       'percentuale_parole_significative_label', 'quartile_val',\n",
       "       'doc_speaker_party_val'],\n",
       "      dtype='object')"
      ]
     },
     "execution_count": 17,
     "metadata": {},
     "output_type": "execute_result"
    }
   ],
   "source": [
    "df_all.columns"
   ]
  },
  {
   "cell_type": "code",
   "execution_count": 21,
   "metadata": {},
   "outputs": [],
   "source": [
    "variabili_interesse = [\"quartile_val\",\"doc_truthfulness_value\"]"
   ]
  },
  {
   "cell_type": "code",
   "execution_count": 23,
   "metadata": {},
   "outputs": [
    {
     "name": "stdout",
     "output_type": "stream",
     "text": [
      "----------------------------------------------------------------------------------------------------\n",
      "----------------------------------------------------------------------------------------------------\n",
      "----------------------------------------------------------------------------------------------------\n",
      "doc_truthfulness_value ~ school_ans_label + taxes_ans_label + age_ans_label in df_false\n"
     ]
    },
    {
     "data": {
      "text/html": [
       "<div>\n",
       "<style scoped>\n",
       "    .dataframe tbody tr th:only-of-type {\n",
       "        vertical-align: middle;\n",
       "    }\n",
       "\n",
       "    .dataframe tbody tr th {\n",
       "        vertical-align: top;\n",
       "    }\n",
       "\n",
       "    .dataframe thead th {\n",
       "        text-align: right;\n",
       "    }\n",
       "</style>\n",
       "<table border=\"1\" class=\"dataframe\">\n",
       "  <thead>\n",
       "    <tr style=\"text-align: right;\">\n",
       "      <th></th>\n",
       "      <th>sum_sq</th>\n",
       "      <th>df</th>\n",
       "      <th>mean_sq</th>\n",
       "      <th>F</th>\n",
       "      <th>PR(&gt;F)</th>\n",
       "      <th>eta_sq</th>\n",
       "      <th>omega_sq</th>\n",
       "    </tr>\n",
       "  </thead>\n",
       "  <tbody>\n",
       "    <tr>\n",
       "      <th>age_ans_label</th>\n",
       "      <td>28.678790</td>\n",
       "      <td>5.0</td>\n",
       "      <td>5.735758</td>\n",
       "      <td>2.020328</td>\n",
       "      <td>0.077867</td>\n",
       "      <td>0.050146</td>\n",
       "      <td>0.025200</td>\n",
       "    </tr>\n",
       "    <tr>\n",
       "      <th>taxes_ans_label</th>\n",
       "      <td>23.063821</td>\n",
       "      <td>8.0</td>\n",
       "      <td>2.882978</td>\n",
       "      <td>1.015482</td>\n",
       "      <td>0.425989</td>\n",
       "      <td>0.040328</td>\n",
       "      <td>0.000612</td>\n",
       "    </tr>\n",
       "    <tr>\n",
       "      <th>school_ans_label</th>\n",
       "      <td>11.981389</td>\n",
       "      <td>5.0</td>\n",
       "      <td>2.396278</td>\n",
       "      <td>0.844050</td>\n",
       "      <td>0.520148</td>\n",
       "      <td>0.020950</td>\n",
       "      <td>-0.003852</td>\n",
       "    </tr>\n",
       "  </tbody>\n",
       "</table>\n",
       "</div>"
      ],
      "text/plain": [
       "                     sum_sq   df   mean_sq         F    PR(>F)    eta_sq  \\\n",
       "age_ans_label     28.678790  5.0  5.735758  2.020328  0.077867  0.050146   \n",
       "taxes_ans_label   23.063821  8.0  2.882978  1.015482  0.425989  0.040328   \n",
       "school_ans_label  11.981389  5.0  2.396278  0.844050  0.520148  0.020950   \n",
       "\n",
       "                  omega_sq  \n",
       "age_ans_label     0.025200  \n",
       "taxes_ans_label   0.000612  \n",
       "school_ans_label -0.003852  "
      ]
     },
     "metadata": {},
     "output_type": "display_data"
    },
    {
     "name": "stdout",
     "output_type": "stream",
     "text": [
      "age_ans_label\n"
     ]
    },
    {
     "data": {
      "text/html": [
       "<div>\n",
       "<style scoped>\n",
       "    .dataframe tbody tr th:only-of-type {\n",
       "        vertical-align: middle;\n",
       "    }\n",
       "\n",
       "    .dataframe tbody tr th {\n",
       "        vertical-align: top;\n",
       "    }\n",
       "\n",
       "    .dataframe thead th {\n",
       "        text-align: right;\n",
       "    }\n",
       "</style>\n",
       "<table border=\"1\" class=\"dataframe\">\n",
       "  <thead>\n",
       "    <tr style=\"text-align: right;\">\n",
       "      <th></th>\n",
       "      <th>group1</th>\n",
       "      <th>group2</th>\n",
       "      <th>meandiff</th>\n",
       "      <th>p-adj</th>\n",
       "      <th>lower</th>\n",
       "      <th>upper</th>\n",
       "      <th>reject</th>\n",
       "    </tr>\n",
       "  </thead>\n",
       "  <tbody>\n",
       "  </tbody>\n",
       "</table>\n",
       "</div>"
      ],
      "text/plain": [
       "Empty DataFrame\n",
       "Columns: [group1, group2, meandiff, p-adj, lower, upper, reject]\n",
       "Index: []"
      ]
     },
     "metadata": {},
     "output_type": "display_data"
    },
    {
     "name": "stdout",
     "output_type": "stream",
     "text": [
      "----------------------------------------------------------------------------------------------------\n",
      "doc_truthfulness_value ~ school_ans_label + taxes_ans_label + age_ans_label in df_true\n"
     ]
    },
    {
     "data": {
      "text/html": [
       "<div>\n",
       "<style scoped>\n",
       "    .dataframe tbody tr th:only-of-type {\n",
       "        vertical-align: middle;\n",
       "    }\n",
       "\n",
       "    .dataframe tbody tr th {\n",
       "        vertical-align: top;\n",
       "    }\n",
       "\n",
       "    .dataframe thead th {\n",
       "        text-align: right;\n",
       "    }\n",
       "</style>\n",
       "<table border=\"1\" class=\"dataframe\">\n",
       "  <thead>\n",
       "    <tr style=\"text-align: right;\">\n",
       "      <th></th>\n",
       "      <th>sum_sq</th>\n",
       "      <th>df</th>\n",
       "      <th>mean_sq</th>\n",
       "      <th>F</th>\n",
       "      <th>PR(&gt;F)</th>\n",
       "      <th>eta_sq</th>\n",
       "      <th>omega_sq</th>\n",
       "    </tr>\n",
       "  </thead>\n",
       "  <tbody>\n",
       "    <tr>\n",
       "      <th>age_ans_label</th>\n",
       "      <td>21.636517</td>\n",
       "      <td>5.0</td>\n",
       "      <td>4.327303</td>\n",
       "      <td>2.298866</td>\n",
       "      <td>0.046927</td>\n",
       "      <td>0.055697</td>\n",
       "      <td>0.031317</td>\n",
       "    </tr>\n",
       "    <tr>\n",
       "      <th>school_ans_label</th>\n",
       "      <td>16.510918</td>\n",
       "      <td>5.0</td>\n",
       "      <td>3.302184</td>\n",
       "      <td>1.754275</td>\n",
       "      <td>0.124529</td>\n",
       "      <td>0.042503</td>\n",
       "      <td>0.018187</td>\n",
       "    </tr>\n",
       "    <tr>\n",
       "      <th>taxes_ans_label</th>\n",
       "      <td>11.494132</td>\n",
       "      <td>8.0</td>\n",
       "      <td>1.436766</td>\n",
       "      <td>0.763278</td>\n",
       "      <td>0.635552</td>\n",
       "      <td>0.029588</td>\n",
       "      <td>-0.009132</td>\n",
       "    </tr>\n",
       "  </tbody>\n",
       "</table>\n",
       "</div>"
      ],
      "text/plain": [
       "                     sum_sq   df   mean_sq         F    PR(>F)    eta_sq  \\\n",
       "age_ans_label     21.636517  5.0  4.327303  2.298866  0.046927  0.055697   \n",
       "school_ans_label  16.510918  5.0  3.302184  1.754275  0.124529  0.042503   \n",
       "taxes_ans_label   11.494132  8.0  1.436766  0.763278  0.635552  0.029588   \n",
       "\n",
       "                  omega_sq  \n",
       "age_ans_label     0.031317  \n",
       "school_ans_label  0.018187  \n",
       "taxes_ans_label  -0.009132  "
      ]
     },
     "metadata": {},
     "output_type": "display_data"
    },
    {
     "name": "stdout",
     "output_type": "stream",
     "text": [
      "school_ans_label\n"
     ]
    },
    {
     "data": {
      "text/html": [
       "<div>\n",
       "<style scoped>\n",
       "    .dataframe tbody tr th:only-of-type {\n",
       "        vertical-align: middle;\n",
       "    }\n",
       "\n",
       "    .dataframe tbody tr th {\n",
       "        vertical-align: top;\n",
       "    }\n",
       "\n",
       "    .dataframe thead th {\n",
       "        text-align: right;\n",
       "    }\n",
       "</style>\n",
       "<table border=\"1\" class=\"dataframe\">\n",
       "  <thead>\n",
       "    <tr style=\"text-align: right;\">\n",
       "      <th></th>\n",
       "      <th>group1</th>\n",
       "      <th>group2</th>\n",
       "      <th>meandiff</th>\n",
       "      <th>p-adj</th>\n",
       "      <th>lower</th>\n",
       "      <th>upper</th>\n",
       "      <th>reject</th>\n",
       "    </tr>\n",
       "  </thead>\n",
       "  <tbody>\n",
       "  </tbody>\n",
       "</table>\n",
       "</div>"
      ],
      "text/plain": [
       "Empty DataFrame\n",
       "Columns: [group1, group2, meandiff, p-adj, lower, upper, reject]\n",
       "Index: []"
      ]
     },
     "metadata": {},
     "output_type": "display_data"
    },
    {
     "name": "stdout",
     "output_type": "stream",
     "text": [
      "age_ans_label\n"
     ]
    },
    {
     "data": {
      "text/html": [
       "<div>\n",
       "<style scoped>\n",
       "    .dataframe tbody tr th:only-of-type {\n",
       "        vertical-align: middle;\n",
       "    }\n",
       "\n",
       "    .dataframe tbody tr th {\n",
       "        vertical-align: top;\n",
       "    }\n",
       "\n",
       "    .dataframe thead th {\n",
       "        text-align: right;\n",
       "    }\n",
       "</style>\n",
       "<table border=\"1\" class=\"dataframe\">\n",
       "  <thead>\n",
       "    <tr style=\"text-align: right;\">\n",
       "      <th></th>\n",
       "      <th>group1</th>\n",
       "      <th>group2</th>\n",
       "      <th>meandiff</th>\n",
       "      <th>p-adj</th>\n",
       "      <th>lower</th>\n",
       "      <th>upper</th>\n",
       "      <th>reject</th>\n",
       "    </tr>\n",
       "  </thead>\n",
       "  <tbody>\n",
       "  </tbody>\n",
       "</table>\n",
       "</div>"
      ],
      "text/plain": [
       "Empty DataFrame\n",
       "Columns: [group1, group2, meandiff, p-adj, lower, upper, reject]\n",
       "Index: []"
      ]
     },
     "metadata": {},
     "output_type": "display_data"
    },
    {
     "name": "stdout",
     "output_type": "stream",
     "text": [
      "----------------------------------------------------------------------------------------------------\n",
      "----------------------------------------------------------------------------------------------------\n"
     ]
    }
   ],
   "source": [
    "\n",
    "\n",
    "txt = \"school_ans_label + taxes_ans_label + age_ans_label\" \n",
    "valore_soglia = 0.01\n",
    "calcola_anova(variabili_interesse,[[\"df_all\",df_all],[\"df_false\",df_false],[\"df_true\",df_true]],txt,valore_soglia)"
   ]
  },
  {
   "cell_type": "code",
   "execution_count": null,
   "metadata": {},
   "outputs": [],
   "source": [
    "## interessante taxes_ans_label\n",
    "\n",
    "txt = \"doc_accuracy_index * doc_informativeness_index * doc_comprehensibility_index * doc_precision_index * doc_confidence_index * doc_unbiasedness_index\" \n",
    "valore_soglia = 0.1\n",
    "calcola_anova(variabili_interesse,[[\"df_all\",df_all],[\"df_false\",df_false],[\"df_true\",df_true]],txt,valore_soglia)"
   ]
  },
  {
   "cell_type": "code",
   "execution_count": null,
   "metadata": {},
   "outputs": [],
   "source": [
    "## interessante taxes_ans_label\n",
    "\n",
    "txt = \"doc_accuracy_index + (doc_informativeness_index + doc_comprehensibility_index + doc_precision_index + doc_confidence_index) * doc_unbiasedness_index\" \n",
    "valore_soglia = 0.1\n",
    "calcola_anova(variabili_interesse,[[\"df_all\",df_all],[\"df_false\",df_false],[\"df_true\",df_true]],txt,valore_soglia)"
   ]
  },
  {
   "cell_type": "code",
   "execution_count": null,
   "metadata": {},
   "outputs": [],
   "source": [
    "df = df_all.groupby([\"quartile\"]).mean()[\"doc_speaker_trustworthiness_index\"]\n",
    "df = df.reset_index(inplace=False)\n",
    "df = df[(df[\"quartile\"] != \"other_true\") & (df[\"quartile\"] != \"other_false\") & (df[\"quartile\"] != \"other\")]\n",
    "df.sort_values(by=\"doc_speaker_trustworthiness_index\", ascending=False)\n",
    "display(df)\n",
    "sns.barplot(x=\"quartile\", y=\"doc_speaker_trustworthiness_index\", data=df,order=[\"correct_false\",\"wrong_false\",\"wrong_true\",\"correct_true\"])"
   ]
  },
  {
   "cell_type": "code",
   "execution_count": null,
   "metadata": {},
   "outputs": [],
   "source": [
    "df = df_all.groupby([\"quartile\"]).mean()[\"doc_accuracy_index\"]\n",
    "df = df.reset_index(inplace=False)\n",
    "df = df[(df[\"quartile\"] != \"other_true\") & (df[\"quartile\"] != \"other_false\") & (df[\"quartile\"] != \"other\")]\n",
    "df.sort_values(by=\"doc_accuracy_index\", ascending=False)\n",
    "display(df)\n",
    "sns.barplot(x=\"quartile\", y=\"doc_accuracy_index\", data=df,order=[\"correct_false\",\"wrong_false\",\"wrong_true\",\"correct_true\"])"
   ]
  },
  {
   "attachments": {},
   "cell_type": "markdown",
   "metadata": {},
   "source": [
    "- Con i statement FALSE ha più importanza la doc_speaker_trustworthiness_index\n",
    "- Con i statement TRUE ha più importanza la doc_accuracy_index"
   ]
  },
  {
   "attachments": {},
   "cell_type": "markdown",
   "metadata": {},
   "source": [
    "## Caratteristiche Statement"
   ]
  },
  {
   "attachments": {},
   "cell_type": "markdown",
   "metadata": {},
   "source": [
    "##### doc_truthfulness_value"
   ]
  },
  {
   "cell_type": "code",
   "execution_count": 24,
   "metadata": {},
   "outputs": [
    {
     "name": "stdout",
     "output_type": "stream",
     "text": [
      "----------------------------------------------------------------------------------------------------\n",
      "doc_truthfulness_value ~ sentiment_label * percentuale_parole_significative_label * subjectivity_label in df_all\n"
     ]
    },
    {
     "data": {
      "text/html": [
       "<div>\n",
       "<style scoped>\n",
       "    .dataframe tbody tr th:only-of-type {\n",
       "        vertical-align: middle;\n",
       "    }\n",
       "\n",
       "    .dataframe tbody tr th {\n",
       "        vertical-align: top;\n",
       "    }\n",
       "\n",
       "    .dataframe thead th {\n",
       "        text-align: right;\n",
       "    }\n",
       "</style>\n",
       "<table border=\"1\" class=\"dataframe\">\n",
       "  <thead>\n",
       "    <tr style=\"text-align: right;\">\n",
       "      <th></th>\n",
       "      <th>sum_sq</th>\n",
       "      <th>df</th>\n",
       "      <th>mean_sq</th>\n",
       "      <th>F</th>\n",
       "      <th>PR(&gt;F)</th>\n",
       "      <th>eta_sq</th>\n",
       "      <th>omega_sq</th>\n",
       "    </tr>\n",
       "  </thead>\n",
       "  <tbody>\n",
       "    <tr>\n",
       "      <th>subjectivity_label</th>\n",
       "      <td>1091.761095</td>\n",
       "      <td>4.0</td>\n",
       "      <td>272.940274</td>\n",
       "      <td>102.323856</td>\n",
       "      <td>4.045753e-23</td>\n",
       "      <td>0.236078</td>\n",
       "      <td>0.233636</td>\n",
       "    </tr>\n",
       "    <tr>\n",
       "      <th>sentiment_label:subjectivity_label</th>\n",
       "      <td>156.024118</td>\n",
       "      <td>8.0</td>\n",
       "      <td>19.503015</td>\n",
       "      <td>7.311576</td>\n",
       "      <td>8.143928e-06</td>\n",
       "      <td>0.033738</td>\n",
       "      <td>0.029107</td>\n",
       "    </tr>\n",
       "    <tr>\n",
       "      <th>sentiment_label:percentuale_parole_significative_label:subjectivity_label</th>\n",
       "      <td>127.197518</td>\n",
       "      <td>16.0</td>\n",
       "      <td>7.949845</td>\n",
       "      <td>2.980355</td>\n",
       "      <td>1.628298e-03</td>\n",
       "      <td>0.027505</td>\n",
       "      <td>0.018265</td>\n",
       "    </tr>\n",
       "  </tbody>\n",
       "</table>\n",
       "</div>"
      ],
      "text/plain": [
       "                                                         sum_sq    df  \\\n",
       "subjectivity_label                                  1091.761095   4.0   \n",
       "sentiment_label:subjectivity_label                   156.024118   8.0   \n",
       "sentiment_label:percentuale_parole_significativ...   127.197518  16.0   \n",
       "\n",
       "                                                       mean_sq           F  \\\n",
       "subjectivity_label                                  272.940274  102.323856   \n",
       "sentiment_label:subjectivity_label                   19.503015    7.311576   \n",
       "sentiment_label:percentuale_parole_significativ...    7.949845    2.980355   \n",
       "\n",
       "                                                          PR(>F)    eta_sq  \\\n",
       "subjectivity_label                                  4.045753e-23  0.236078   \n",
       "sentiment_label:subjectivity_label                  8.143928e-06  0.033738   \n",
       "sentiment_label:percentuale_parole_significativ...  1.628298e-03  0.027505   \n",
       "\n",
       "                                                    omega_sq  \n",
       "subjectivity_label                                  0.233636  \n",
       "sentiment_label:subjectivity_label                  0.029107  \n",
       "sentiment_label:percentuale_parole_significativ...  0.018265  "
      ]
     },
     "metadata": {},
     "output_type": "display_data"
    },
    {
     "name": "stdout",
     "output_type": "stream",
     "text": [
      "subjectivity_label\n"
     ]
    },
    {
     "data": {
      "text/html": [
       "<div>\n",
       "<style scoped>\n",
       "    .dataframe tbody tr th:only-of-type {\n",
       "        vertical-align: middle;\n",
       "    }\n",
       "\n",
       "    .dataframe tbody tr th {\n",
       "        vertical-align: top;\n",
       "    }\n",
       "\n",
       "    .dataframe thead th {\n",
       "        text-align: right;\n",
       "    }\n",
       "</style>\n",
       "<table border=\"1\" class=\"dataframe\">\n",
       "  <thead>\n",
       "    <tr style=\"text-align: right;\">\n",
       "      <th></th>\n",
       "      <th>group1</th>\n",
       "      <th>group2</th>\n",
       "      <th>meandiff</th>\n",
       "      <th>p-adj</th>\n",
       "      <th>lower</th>\n",
       "      <th>upper</th>\n",
       "      <th>reject</th>\n",
       "    </tr>\n",
       "  </thead>\n",
       "  <tbody>\n",
       "  </tbody>\n",
       "</table>\n",
       "</div>"
      ],
      "text/plain": [
       "Empty DataFrame\n",
       "Columns: [group1, group2, meandiff, p-adj, lower, upper, reject]\n",
       "Index: []"
      ]
     },
     "metadata": {},
     "output_type": "display_data"
    },
    {
     "name": "stdout",
     "output_type": "stream",
     "text": [
      "----------------------------------------------------------------------------------------------------\n",
      "----------------------------------------------------------------------------------------------------\n"
     ]
    }
   ],
   "source": [
    "## interessante sentiment_label e subjectivity_label e percentuale_parole_significative_label:subjectivity_label\n",
    "\n",
    "txt = \"sentiment_label * percentuale_parole_significative_label * subjectivity_label\"\n",
    "valore_soglia = 0.05\n",
    "calcola_anova([\"doc_truthfulness_value\"],[[\"df_all\",df_all],[\"df_false\",df_false],[\"df_true\",df_true]],txt,valore_soglia)"
   ]
  },
  {
   "cell_type": "code",
   "execution_count": null,
   "metadata": {},
   "outputs": [],
   "source": [
    "df_all.groupby([\"sentiment_label\",\"fre_label\",\"percentuale_parole_significative_label\"]).mean()[[\"doc_truthfulness_value\"]].reset_index().sort_values(by=\"doc_truthfulness_value\",ascending=False)"
   ]
  },
  {
   "cell_type": "code",
   "execution_count": null,
   "metadata": {},
   "outputs": [],
   "source": [
    "df_all.groupby([\"percentuale_parole_significative_label\"]).mean()[[\"doc_truthfulness_value\"]].reset_index()"
   ]
  },
  {
   "cell_type": "code",
   "execution_count": null,
   "metadata": {},
   "outputs": [],
   "source": [
    "df_all.groupby([\"sentiment_label\"]).mean()[[\"doc_truthfulness_value\"]].reset_index()"
   ]
  },
  {
   "cell_type": "code",
   "execution_count": null,
   "metadata": {},
   "outputs": [],
   "source": [
    "df_all.groupby([\"subjectivity_label\"]).mean()[[\"doc_truthfulness_value\"]].reset_index()"
   ]
  },
  {
   "cell_type": "code",
   "execution_count": null,
   "metadata": {},
   "outputs": [],
   "source": [
    "sns.boxplot(x = \"doc_truthfulness_value\", y = \"subjectivity\", data = df_all)"
   ]
  },
  {
   "attachments": {},
   "cell_type": "markdown",
   "metadata": {},
   "source": [
    "##### scarto"
   ]
  },
  {
   "cell_type": "code",
   "execution_count": null,
   "metadata": {},
   "outputs": [],
   "source": [
    "## interessante subjectivity_label:sentiment_label per lo scarto nel wrong \n",
    "\n",
    "# txt = \"subjectivity_label * (sentiment_label + fre_label) * percentuale_parole_significative_label\"\n",
    "# valore_soglia = 0.05\n",
    "# calcola_anova([\"scarto\"],[[\"df_all\",df_all],[\"df_false\",df_false],[\"df_true\",df_true],[\"df_wrong\",df_wrong],[\"df_correct\",df_correct]],txt,valore_soglia)"
   ]
  },
  {
   "cell_type": "code",
   "execution_count": null,
   "metadata": {},
   "outputs": [],
   "source": [
    "df_false.groupby([\"scarto\"]).mean()[[\"subjectivity\",\"percentuale_parole_significative\"]].reset_index()"
   ]
  },
  {
   "attachments": {},
   "cell_type": "markdown",
   "metadata": {},
   "source": [
    "##### quartile_val"
   ]
  },
  {
   "cell_type": "code",
   "execution_count": null,
   "metadata": {},
   "outputs": [],
   "source": [
    "## TUTTO\n",
    "\n",
    "## interessante \n",
    "\n",
    "txt = \"(subjectivity_label  + sentiment_label) * percentuale_parole_significative_label * fre_label\"\n",
    "valore_soglia = 0.05\n",
    "calcola_anova([\"quartile_val\"],[[\"df_all\",df_all],[\"df_false\",df_false],[\"df_true\",df_true],[\"df_wrong\",df_wrong],[\"df_correct\",df_correct]],txt,valore_soglia)"
   ]
  },
  {
   "cell_type": "code",
   "execution_count": 16,
   "metadata": {},
   "outputs": [
    {
     "name": "stdout",
     "output_type": "stream",
     "text": [
      "----------------------------------------------------------------------------------------------------\n",
      "quartile_val ~ subjectivity_label  * (sentiment_label + percentuale_parole_significative_label + fre_label) in df_all\n"
     ]
    },
    {
     "data": {
      "text/html": [
       "<div>\n",
       "<style scoped>\n",
       "    .dataframe tbody tr th:only-of-type {\n",
       "        vertical-align: middle;\n",
       "    }\n",
       "\n",
       "    .dataframe tbody tr th {\n",
       "        vertical-align: top;\n",
       "    }\n",
       "\n",
       "    .dataframe thead th {\n",
       "        text-align: right;\n",
       "    }\n",
       "</style>\n",
       "<table border=\"1\" class=\"dataframe\">\n",
       "  <thead>\n",
       "    <tr style=\"text-align: right;\">\n",
       "      <th></th>\n",
       "      <th>sum_sq</th>\n",
       "      <th>df</th>\n",
       "      <th>mean_sq</th>\n",
       "      <th>F</th>\n",
       "      <th>PR(&gt;F)</th>\n",
       "      <th>eta_sq</th>\n",
       "      <th>omega_sq</th>\n",
       "    </tr>\n",
       "  </thead>\n",
       "  <tbody>\n",
       "    <tr>\n",
       "      <th>subjectivity_label</th>\n",
       "      <td>2318.380180</td>\n",
       "      <td>4.0</td>\n",
       "      <td>579.595045</td>\n",
       "      <td>589.765753</td>\n",
       "      <td>7.980774e-106</td>\n",
       "      <td>0.588262</td>\n",
       "      <td>0.587119</td>\n",
       "    </tr>\n",
       "    <tr>\n",
       "      <th>subjectivity_label:sentiment_label</th>\n",
       "      <td>149.911889</td>\n",
       "      <td>8.0</td>\n",
       "      <td>18.738986</td>\n",
       "      <td>19.067817</td>\n",
       "      <td>3.128207e-24</td>\n",
       "      <td>0.038038</td>\n",
       "      <td>0.036035</td>\n",
       "    </tr>\n",
       "    <tr>\n",
       "      <th>subjectivity_label:fre_label</th>\n",
       "      <td>122.657536</td>\n",
       "      <td>8.0</td>\n",
       "      <td>15.332192</td>\n",
       "      <td>15.601241</td>\n",
       "      <td>1.190665e-19</td>\n",
       "      <td>0.031123</td>\n",
       "      <td>0.029121</td>\n",
       "    </tr>\n",
       "  </tbody>\n",
       "</table>\n",
       "</div>"
      ],
      "text/plain": [
       "                                         sum_sq   df     mean_sq           F  \\\n",
       "subjectivity_label                  2318.380180  4.0  579.595045  589.765753   \n",
       "subjectivity_label:sentiment_label   149.911889  8.0   18.738986   19.067817   \n",
       "subjectivity_label:fre_label         122.657536  8.0   15.332192   15.601241   \n",
       "\n",
       "                                           PR(>F)    eta_sq  omega_sq  \n",
       "subjectivity_label                  7.980774e-106  0.588262  0.587119  \n",
       "subjectivity_label:sentiment_label   3.128207e-24  0.038038  0.036035  \n",
       "subjectivity_label:fre_label         1.190665e-19  0.031123  0.029121  "
      ]
     },
     "metadata": {},
     "output_type": "display_data"
    },
    {
     "name": "stdout",
     "output_type": "stream",
     "text": [
      "subjectivity_label\n"
     ]
    },
    {
     "data": {
      "text/html": [
       "<div>\n",
       "<style scoped>\n",
       "    .dataframe tbody tr th:only-of-type {\n",
       "        vertical-align: middle;\n",
       "    }\n",
       "\n",
       "    .dataframe tbody tr th {\n",
       "        vertical-align: top;\n",
       "    }\n",
       "\n",
       "    .dataframe thead th {\n",
       "        text-align: right;\n",
       "    }\n",
       "</style>\n",
       "<table border=\"1\" class=\"dataframe\">\n",
       "  <thead>\n",
       "    <tr style=\"text-align: right;\">\n",
       "      <th></th>\n",
       "      <th>group1</th>\n",
       "      <th>group2</th>\n",
       "      <th>meandiff</th>\n",
       "      <th>p-adj</th>\n",
       "      <th>lower</th>\n",
       "      <th>upper</th>\n",
       "      <th>reject</th>\n",
       "    </tr>\n",
       "  </thead>\n",
       "  <tbody>\n",
       "    <tr>\n",
       "      <th>1</th>\n",
       "      <td>alta</td>\n",
       "      <td>media</td>\n",
       "      <td>1.2795</td>\n",
       "      <td>0.0</td>\n",
       "      <td>0.8323</td>\n",
       "      <td>1.7267</td>\n",
       "      <td>True</td>\n",
       "    </tr>\n",
       "    <tr>\n",
       "      <th>2</th>\n",
       "      <td>alta</td>\n",
       "      <td>media-alta</td>\n",
       "      <td>0.9643</td>\n",
       "      <td>0.0</td>\n",
       "      <td>0.4716</td>\n",
       "      <td>1.4570</td>\n",
       "      <td>True</td>\n",
       "    </tr>\n",
       "    <tr>\n",
       "      <th>4</th>\n",
       "      <td>bassa</td>\n",
       "      <td>media</td>\n",
       "      <td>0.6891</td>\n",
       "      <td>0.0</td>\n",
       "      <td>0.4318</td>\n",
       "      <td>0.9464</td>\n",
       "      <td>True</td>\n",
       "    </tr>\n",
       "  </tbody>\n",
       "</table>\n",
       "</div>"
      ],
      "text/plain": [
       "  group1      group2  meandiff  p-adj   lower   upper  reject\n",
       "1   alta       media    1.2795    0.0  0.8323  1.7267    True\n",
       "2   alta  media-alta    0.9643    0.0  0.4716  1.4570    True\n",
       "4  bassa       media    0.6891    0.0  0.4318  0.9464    True"
      ]
     },
     "metadata": {},
     "output_type": "display_data"
    },
    {
     "name": "stdout",
     "output_type": "stream",
     "text": [
      "----------------------------------------------------------------------------------------------------\n",
      "quartile_val ~ subjectivity_label  * (sentiment_label + percentuale_parole_significative_label + fre_label) in df_false\n"
     ]
    },
    {
     "data": {
      "text/html": [
       "<div>\n",
       "<style scoped>\n",
       "    .dataframe tbody tr th:only-of-type {\n",
       "        vertical-align: middle;\n",
       "    }\n",
       "\n",
       "    .dataframe tbody tr th {\n",
       "        vertical-align: top;\n",
       "    }\n",
       "\n",
       "    .dataframe thead th {\n",
       "        text-align: right;\n",
       "    }\n",
       "</style>\n",
       "<table border=\"1\" class=\"dataframe\">\n",
       "  <thead>\n",
       "    <tr style=\"text-align: right;\">\n",
       "      <th></th>\n",
       "      <th>sum_sq</th>\n",
       "      <th>df</th>\n",
       "      <th>mean_sq</th>\n",
       "      <th>F</th>\n",
       "      <th>PR(&gt;F)</th>\n",
       "      <th>eta_sq</th>\n",
       "      <th>omega_sq</th>\n",
       "    </tr>\n",
       "  </thead>\n",
       "  <tbody>\n",
       "    <tr>\n",
       "      <th>subjectivity_label:percentuale_parole_significative_label</th>\n",
       "      <td>37.049746</td>\n",
       "      <td>4.0</td>\n",
       "      <td>9.262436</td>\n",
       "      <td>45.075822</td>\n",
       "      <td>1.983987e-26</td>\n",
       "      <td>0.254306</td>\n",
       "      <td>0.248314</td>\n",
       "    </tr>\n",
       "    <tr>\n",
       "      <th>subjectivity_label:fre_label</th>\n",
       "      <td>32.242744</td>\n",
       "      <td>4.0</td>\n",
       "      <td>8.060686</td>\n",
       "      <td>39.227480</td>\n",
       "      <td>8.550664e-24</td>\n",
       "      <td>0.221311</td>\n",
       "      <td>0.215366</td>\n",
       "    </tr>\n",
       "    <tr>\n",
       "      <th>subjectivity_label:sentiment_label</th>\n",
       "      <td>21.225855</td>\n",
       "      <td>8.0</td>\n",
       "      <td>2.653232</td>\n",
       "      <td>12.912003</td>\n",
       "      <td>8.711154e-11</td>\n",
       "      <td>0.145692</td>\n",
       "      <td>0.134220</td>\n",
       "    </tr>\n",
       "  </tbody>\n",
       "</table>\n",
       "</div>"
      ],
      "text/plain": [
       "                                                       sum_sq   df   mean_sq  \\\n",
       "subjectivity_label:percentuale_parole_significa...  37.049746  4.0  9.262436   \n",
       "subjectivity_label:fre_label                        32.242744  4.0  8.060686   \n",
       "subjectivity_label:sentiment_label                  21.225855  8.0  2.653232   \n",
       "\n",
       "                                                            F        PR(>F)  \\\n",
       "subjectivity_label:percentuale_parole_significa...  45.075822  1.983987e-26   \n",
       "subjectivity_label:fre_label                        39.227480  8.550664e-24   \n",
       "subjectivity_label:sentiment_label                  12.912003  8.711154e-11   \n",
       "\n",
       "                                                      eta_sq  omega_sq  \n",
       "subjectivity_label:percentuale_parole_significa...  0.254306  0.248314  \n",
       "subjectivity_label:fre_label                        0.221311  0.215366  \n",
       "subjectivity_label:sentiment_label                  0.145692  0.134220  "
      ]
     },
     "metadata": {},
     "output_type": "display_data"
    },
    {
     "name": "stdout",
     "output_type": "stream",
     "text": [
      "subjectivity_label:sentiment_label\n",
      "['subjectivity_label', 'sentiment_label']\n"
     ]
    },
    {
     "data": {
      "text/html": [
       "<div>\n",
       "<style scoped>\n",
       "    .dataframe tbody tr th:only-of-type {\n",
       "        vertical-align: middle;\n",
       "    }\n",
       "\n",
       "    .dataframe tbody tr th {\n",
       "        vertical-align: top;\n",
       "    }\n",
       "\n",
       "    .dataframe thead th {\n",
       "        text-align: right;\n",
       "    }\n",
       "</style>\n",
       "<table border=\"1\" class=\"dataframe\">\n",
       "  <thead>\n",
       "    <tr style=\"text-align: right;\">\n",
       "      <th></th>\n",
       "      <th>group1</th>\n",
       "      <th>group2</th>\n",
       "      <th>meandiff</th>\n",
       "      <th>p-adj</th>\n",
       "      <th>lower</th>\n",
       "      <th>upper</th>\n",
       "      <th>reject</th>\n",
       "    </tr>\n",
       "  </thead>\n",
       "  <tbody>\n",
       "    <tr>\n",
       "      <th>30</th>\n",
       "      <td>alta:positive</td>\n",
       "      <td>media-alta:positive</td>\n",
       "      <td>4.00</td>\n",
       "      <td>0.0</td>\n",
       "      <td>2.7126</td>\n",
       "      <td>5.2874</td>\n",
       "      <td>True</td>\n",
       "    </tr>\n",
       "    <tr>\n",
       "      <th>35</th>\n",
       "      <td>alta:positive</td>\n",
       "      <td>media:positive</td>\n",
       "      <td>3.75</td>\n",
       "      <td>0.0</td>\n",
       "      <td>2.5287</td>\n",
       "      <td>4.9713</td>\n",
       "      <td>True</td>\n",
       "    </tr>\n",
       "    <tr>\n",
       "      <th>33</th>\n",
       "      <td>alta:positive</td>\n",
       "      <td>media-bassa:positive</td>\n",
       "      <td>3.00</td>\n",
       "      <td>0.0</td>\n",
       "      <td>1.7663</td>\n",
       "      <td>4.2337</td>\n",
       "      <td>True</td>\n",
       "    </tr>\n",
       "  </tbody>\n",
       "</table>\n",
       "</div>"
      ],
      "text/plain": [
       "           group1                group2  meandiff  p-adj   lower   upper  \\\n",
       "30  alta:positive   media-alta:positive      4.00    0.0  2.7126  5.2874   \n",
       "35  alta:positive        media:positive      3.75    0.0  2.5287  4.9713   \n",
       "33  alta:positive  media-bassa:positive      3.00    0.0  1.7663  4.2337   \n",
       "\n",
       "    reject  \n",
       "30    True  \n",
       "35    True  \n",
       "33    True  "
      ]
     },
     "metadata": {},
     "output_type": "display_data"
    },
    {
     "name": "stdout",
     "output_type": "stream",
     "text": [
      "subjectivity_label:percentuale_parole_significative_label\n",
      "['subjectivity_label', 'percentuale_parole_significative_label']\n"
     ]
    },
    {
     "data": {
      "text/html": [
       "<div>\n",
       "<style scoped>\n",
       "    .dataframe tbody tr th:only-of-type {\n",
       "        vertical-align: middle;\n",
       "    }\n",
       "\n",
       "    .dataframe tbody tr th {\n",
       "        vertical-align: top;\n",
       "    }\n",
       "\n",
       "    .dataframe thead th {\n",
       "        text-align: right;\n",
       "    }\n",
       "</style>\n",
       "<table border=\"1\" class=\"dataframe\">\n",
       "  <thead>\n",
       "    <tr style=\"text-align: right;\">\n",
       "      <th></th>\n",
       "      <th>group1</th>\n",
       "      <th>group2</th>\n",
       "      <th>meandiff</th>\n",
       "      <th>p-adj</th>\n",
       "      <th>lower</th>\n",
       "      <th>upper</th>\n",
       "      <th>reject</th>\n",
       "    </tr>\n",
       "  </thead>\n",
       "  <tbody>\n",
       "    <tr>\n",
       "      <th>3</th>\n",
       "      <td>alta:media</td>\n",
       "      <td>media-alta:alta</td>\n",
       "      <td>3.7143</td>\n",
       "      <td>0.0</td>\n",
       "      <td>2.4620</td>\n",
       "      <td>4.9666</td>\n",
       "      <td>True</td>\n",
       "    </tr>\n",
       "    <tr>\n",
       "      <th>1</th>\n",
       "      <td>alta:media</td>\n",
       "      <td>bassa:bassa</td>\n",
       "      <td>3.7143</td>\n",
       "      <td>0.0</td>\n",
       "      <td>2.4620</td>\n",
       "      <td>4.9666</td>\n",
       "      <td>True</td>\n",
       "    </tr>\n",
       "    <tr>\n",
       "      <th>30</th>\n",
       "      <td>bassa:media</td>\n",
       "      <td>media-alta:alta</td>\n",
       "      <td>3.2808</td>\n",
       "      <td>0.0</td>\n",
       "      <td>2.0927</td>\n",
       "      <td>4.4689</td>\n",
       "      <td>True</td>\n",
       "    </tr>\n",
       "  </tbody>\n",
       "</table>\n",
       "</div>"
      ],
      "text/plain": [
       "         group1           group2  meandiff  p-adj   lower   upper  reject\n",
       "3    alta:media  media-alta:alta    3.7143    0.0  2.4620  4.9666    True\n",
       "1    alta:media      bassa:bassa    3.7143    0.0  2.4620  4.9666    True\n",
       "30  bassa:media  media-alta:alta    3.2808    0.0  2.0927  4.4689    True"
      ]
     },
     "metadata": {},
     "output_type": "display_data"
    },
    {
     "name": "stdout",
     "output_type": "stream",
     "text": [
      "subjectivity_label:fre_label\n",
      "['subjectivity_label', 'fre_label']\n"
     ]
    },
    {
     "data": {
      "text/html": [
       "<div>\n",
       "<style scoped>\n",
       "    .dataframe tbody tr th:only-of-type {\n",
       "        vertical-align: middle;\n",
       "    }\n",
       "\n",
       "    .dataframe tbody tr th {\n",
       "        vertical-align: top;\n",
       "    }\n",
       "\n",
       "    .dataframe thead th {\n",
       "        text-align: right;\n",
       "    }\n",
       "</style>\n",
       "<table border=\"1\" class=\"dataframe\">\n",
       "  <thead>\n",
       "    <tr style=\"text-align: right;\">\n",
       "      <th></th>\n",
       "      <th>group1</th>\n",
       "      <th>group2</th>\n",
       "      <th>meandiff</th>\n",
       "      <th>p-adj</th>\n",
       "      <th>lower</th>\n",
       "      <th>upper</th>\n",
       "      <th>reject</th>\n",
       "    </tr>\n",
       "  </thead>\n",
       "  <tbody>\n",
       "    <tr>\n",
       "      <th>11</th>\n",
       "      <td>alta:alta</td>\n",
       "      <td>media:alta</td>\n",
       "      <td>4.5</td>\n",
       "      <td>0.0</td>\n",
       "      <td>3.3131</td>\n",
       "      <td>5.6869</td>\n",
       "      <td>True</td>\n",
       "    </tr>\n",
       "    <tr>\n",
       "      <th>6</th>\n",
       "      <td>alta:alta</td>\n",
       "      <td>media-alta:bassa</td>\n",
       "      <td>4.5</td>\n",
       "      <td>0.0</td>\n",
       "      <td>3.1295</td>\n",
       "      <td>5.8705</td>\n",
       "      <td>True</td>\n",
       "    </tr>\n",
       "    <tr>\n",
       "      <th>5</th>\n",
       "      <td>alta:alta</td>\n",
       "      <td>media-alta:alta</td>\n",
       "      <td>4.0</td>\n",
       "      <td>0.0</td>\n",
       "      <td>2.7489</td>\n",
       "      <td>5.2511</td>\n",
       "      <td>True</td>\n",
       "    </tr>\n",
       "  </tbody>\n",
       "</table>\n",
       "</div>"
      ],
      "text/plain": [
       "       group1            group2  meandiff  p-adj   lower   upper  reject\n",
       "11  alta:alta        media:alta       4.5    0.0  3.3131  5.6869    True\n",
       "6   alta:alta  media-alta:bassa       4.5    0.0  3.1295  5.8705    True\n",
       "5   alta:alta   media-alta:alta       4.0    0.0  2.7489  5.2511    True"
      ]
     },
     "metadata": {},
     "output_type": "display_data"
    },
    {
     "name": "stdout",
     "output_type": "stream",
     "text": [
      "----------------------------------------------------------------------------------------------------\n",
      "----------------------------------------------------------------------------------------------------\n"
     ]
    }
   ],
   "source": [
    "## SOLO FALSE\n",
    "\n",
    "## interessante \n",
    "\n",
    "txt = \"subjectivity_label  * (sentiment_label + percentuale_parole_significative_label + fre_label)\"\n",
    "valore_soglia = 0.1\n",
    "calcola_anova([\"quartile_val\"],[[\"df_all\",df_all],[\"df_false\",df_false]],txt,valore_soglia)"
   ]
  },
  {
   "cell_type": "code",
   "execution_count": null,
   "metadata": {},
   "outputs": [],
   "source": [
    "df_false.groupby(\"quartile\").mean()[[\"percentuale_parole_significative\",\"fre\",\"sentiment\", \"subjectivity\"]]"
   ]
  },
  {
   "cell_type": "code",
   "execution_count": 15,
   "metadata": {},
   "outputs": [
    {
     "name": "stdout",
     "output_type": "stream",
     "text": [
      "----------------------------------------------------------------------------------------------------\n",
      "quartile_val ~ subjectivity_label * fre_label * percentuale_parole_significative_label in df_false\n"
     ]
    },
    {
     "data": {
      "text/html": [
       "<div>\n",
       "<style scoped>\n",
       "    .dataframe tbody tr th:only-of-type {\n",
       "        vertical-align: middle;\n",
       "    }\n",
       "\n",
       "    .dataframe tbody tr th {\n",
       "        vertical-align: top;\n",
       "    }\n",
       "\n",
       "    .dataframe thead th {\n",
       "        text-align: right;\n",
       "    }\n",
       "</style>\n",
       "<table border=\"1\" class=\"dataframe\">\n",
       "  <thead>\n",
       "    <tr style=\"text-align: right;\">\n",
       "      <th></th>\n",
       "      <th>sum_sq</th>\n",
       "      <th>df</th>\n",
       "      <th>mean_sq</th>\n",
       "      <th>F</th>\n",
       "      <th>PR(&gt;F)</th>\n",
       "      <th>eta_sq</th>\n",
       "      <th>omega_sq</th>\n",
       "    </tr>\n",
       "  </thead>\n",
       "  <tbody>\n",
       "    <tr>\n",
       "      <th>percentuale_parole_significative_label</th>\n",
       "      <td>25.641276</td>\n",
       "      <td>2.0</td>\n",
       "      <td>12.820638</td>\n",
       "      <td>65.385254</td>\n",
       "      <td>7.526560e-14</td>\n",
       "      <td>0.278077</td>\n",
       "      <td>0.273243</td>\n",
       "    </tr>\n",
       "    <tr>\n",
       "      <th>subjectivity_label:fre_label:percentuale_parole_significative_label</th>\n",
       "      <td>12.814877</td>\n",
       "      <td>12.0</td>\n",
       "      <td>1.067906</td>\n",
       "      <td>5.446323</td>\n",
       "      <td>5.023628e-03</td>\n",
       "      <td>0.138976</td>\n",
       "      <td>0.113218</td>\n",
       "    </tr>\n",
       "    <tr>\n",
       "      <th>subjectivity_label:fre_label</th>\n",
       "      <td>6.407439</td>\n",
       "      <td>6.0</td>\n",
       "      <td>1.067906</td>\n",
       "      <td>5.446323</td>\n",
       "      <td>5.023628e-03</td>\n",
       "      <td>0.069488</td>\n",
       "      <td>0.056609</td>\n",
       "    </tr>\n",
       "  </tbody>\n",
       "</table>\n",
       "</div>"
      ],
      "text/plain": [
       "                                                       sum_sq    df  \\\n",
       "percentuale_parole_significative_label              25.641276   2.0   \n",
       "subjectivity_label:fre_label:percentuale_parole...  12.814877  12.0   \n",
       "subjectivity_label:fre_label                         6.407439   6.0   \n",
       "\n",
       "                                                      mean_sq          F  \\\n",
       "percentuale_parole_significative_label              12.820638  65.385254   \n",
       "subjectivity_label:fre_label:percentuale_parole...   1.067906   5.446323   \n",
       "subjectivity_label:fre_label                         1.067906   5.446323   \n",
       "\n",
       "                                                          PR(>F)    eta_sq  \\\n",
       "percentuale_parole_significative_label              7.526560e-14  0.278077   \n",
       "subjectivity_label:fre_label:percentuale_parole...  5.023628e-03  0.138976   \n",
       "subjectivity_label:fre_label                        5.023628e-03  0.069488   \n",
       "\n",
       "                                                    omega_sq  \n",
       "percentuale_parole_significative_label              0.273243  \n",
       "subjectivity_label:fre_label:percentuale_parole...  0.113218  \n",
       "subjectivity_label:fre_label                        0.056609  "
      ]
     },
     "metadata": {},
     "output_type": "display_data"
    },
    {
     "name": "stdout",
     "output_type": "stream",
     "text": [
      "percentuale_parole_significative_label\n"
     ]
    },
    {
     "data": {
      "text/html": [
       "<div>\n",
       "<style scoped>\n",
       "    .dataframe tbody tr th:only-of-type {\n",
       "        vertical-align: middle;\n",
       "    }\n",
       "\n",
       "    .dataframe tbody tr th {\n",
       "        vertical-align: top;\n",
       "    }\n",
       "\n",
       "    .dataframe thead th {\n",
       "        text-align: right;\n",
       "    }\n",
       "</style>\n",
       "<table border=\"1\" class=\"dataframe\">\n",
       "  <thead>\n",
       "    <tr style=\"text-align: right;\">\n",
       "      <th></th>\n",
       "      <th>group1</th>\n",
       "      <th>group2</th>\n",
       "      <th>meandiff</th>\n",
       "      <th>p-adj</th>\n",
       "      <th>lower</th>\n",
       "      <th>upper</th>\n",
       "      <th>reject</th>\n",
       "    </tr>\n",
       "  </thead>\n",
       "  <tbody>\n",
       "    <tr>\n",
       "      <th>0</th>\n",
       "      <td>alta</td>\n",
       "      <td>bassa</td>\n",
       "      <td>0.8571</td>\n",
       "      <td>0.0012</td>\n",
       "      <td>0.2948</td>\n",
       "      <td>1.4195</td>\n",
       "      <td>True</td>\n",
       "    </tr>\n",
       "    <tr>\n",
       "      <th>2</th>\n",
       "      <td>bassa</td>\n",
       "      <td>media</td>\n",
       "      <td>-1.0833</td>\n",
       "      <td>0.0000</td>\n",
       "      <td>-1.6308</td>\n",
       "      <td>-0.5358</td>\n",
       "      <td>True</td>\n",
       "    </tr>\n",
       "  </tbody>\n",
       "</table>\n",
       "</div>"
      ],
      "text/plain": [
       "  group1 group2  meandiff   p-adj   lower   upper  reject\n",
       "0   alta  bassa    0.8571  0.0012  0.2948  1.4195    True\n",
       "2  bassa  media   -1.0833  0.0000 -1.6308 -0.5358    True"
      ]
     },
     "metadata": {},
     "output_type": "display_data"
    },
    {
     "name": "stdout",
     "output_type": "stream",
     "text": [
      "subjectivity_label:fre_label:percentuale_parole_significative_label\n",
      "['subjectivity_label', 'fre_label', 'percentuale_parole_significative_label']\n"
     ]
    },
    {
     "data": {
      "text/html": [
       "<div>\n",
       "<style scoped>\n",
       "    .dataframe tbody tr th:only-of-type {\n",
       "        vertical-align: middle;\n",
       "    }\n",
       "\n",
       "    .dataframe tbody tr th {\n",
       "        vertical-align: top;\n",
       "    }\n",
       "\n",
       "    .dataframe thead th {\n",
       "        text-align: right;\n",
       "    }\n",
       "</style>\n",
       "<table border=\"1\" class=\"dataframe\">\n",
       "  <thead>\n",
       "    <tr style=\"text-align: right;\">\n",
       "      <th></th>\n",
       "      <th>group1</th>\n",
       "      <th>group2</th>\n",
       "      <th>meandiff</th>\n",
       "      <th>p-adj</th>\n",
       "      <th>lower</th>\n",
       "      <th>upper</th>\n",
       "      <th>reject</th>\n",
       "    </tr>\n",
       "  </thead>\n",
       "  <tbody>\n",
       "    <tr>\n",
       "      <th>5</th>\n",
       "      <td>alta:alta:media</td>\n",
       "      <td>bassa:bassa:bassa</td>\n",
       "      <td>6.0</td>\n",
       "      <td>0.0</td>\n",
       "      <td>4.3582</td>\n",
       "      <td>7.6418</td>\n",
       "      <td>True</td>\n",
       "    </tr>\n",
       "    <tr>\n",
       "      <th>10</th>\n",
       "      <td>alta:alta:media</td>\n",
       "      <td>media-alta:bassa:alta</td>\n",
       "      <td>6.0</td>\n",
       "      <td>0.0</td>\n",
       "      <td>4.3582</td>\n",
       "      <td>7.6418</td>\n",
       "      <td>True</td>\n",
       "    </tr>\n",
       "    <tr>\n",
       "      <th>19</th>\n",
       "      <td>alta:alta:media</td>\n",
       "      <td>media:alta:alta</td>\n",
       "      <td>5.0</td>\n",
       "      <td>0.0</td>\n",
       "      <td>3.5781</td>\n",
       "      <td>6.4219</td>\n",
       "      <td>True</td>\n",
       "    </tr>\n",
       "  </tbody>\n",
       "</table>\n",
       "</div>"
      ],
      "text/plain": [
       "             group1                 group2  meandiff  p-adj   lower   upper  \\\n",
       "5   alta:alta:media      bassa:bassa:bassa       6.0    0.0  4.3582  7.6418   \n",
       "10  alta:alta:media  media-alta:bassa:alta       6.0    0.0  4.3582  7.6418   \n",
       "19  alta:alta:media        media:alta:alta       5.0    0.0  3.5781  6.4219   \n",
       "\n",
       "    reject  \n",
       "5     True  \n",
       "10    True  \n",
       "19    True  "
      ]
     },
     "metadata": {},
     "output_type": "display_data"
    },
    {
     "name": "stdout",
     "output_type": "stream",
     "text": [
      "----------------------------------------------------------------------------------------------------\n",
      "----------------------------------------------------------------------------------------------------\n"
     ]
    }
   ],
   "source": [
    "## SOLO TRUE\n",
    "\n",
    "## interessante \n",
    "\n",
    "txt = \"subjectivity_label * fre_label * percentuale_parole_significative_label\"\n",
    "valore_soglia = 0.1\n",
    "calcola_anova([\"quartile_val\"],[[\"df_false\",df_true]],txt,valore_soglia)"
   ]
  },
  {
   "cell_type": "code",
   "execution_count": null,
   "metadata": {},
   "outputs": [],
   "source": [
    "df_true.groupby(\"quartile\").mean()[[\"percentuale_parole_significative\",\"fre\",\"sentiment\", \"subjectivity\"]]"
   ]
  },
  {
   "attachments": {},
   "cell_type": "markdown",
   "metadata": {},
   "source": [
    "Notiamo che per quanto riguarda le fake news quelle che vengono azzeccate come tali:\n",
    "- hanno una percentuale di parole significative più alta, un fre maggiore, sentiment negativo e poca subjectivity.\n",
    "- contrario per le news che vengono classificate male (ricevono punteggio alto nonostante sono false)\n",
    "\n",
    "Notiamo che per quanto riguarda le news vere quelle che vengono azzeccate come tali (correct):\n",
    "- hanno un fre maggiore, sentiment minore e più subjectivity.\n",
    "- contrario per le news positive che vengono classificate male (ricevono punteggio basso nonostante sono vere)\n"
   ]
  },
  {
   "cell_type": "code",
   "execution_count": 31,
   "metadata": {},
   "outputs": [],
   "source": [
    "def crea_box_plot(dimensioneX,dimensioneY):\n",
    "    # Creazione dei boxplot utilizzando seaborn\n",
    "    plt.figure(figsize=(15, 3))  # Dimensioni dell'immagine\n",
    "    plt.subplot(1, 3, 1)  # Primo boxplot\n",
    "    sns.boxplot(x = dimensioneX, y = dimensioneY,hue = \"sovra\", data = df_all[df_all[\"sovra\"] != \"other\"])\n",
    "    plt.title('ALL')\n",
    "\n",
    "    plt.subplot(1, 3, 2)  # Secondo boxplot\n",
    "    sns.boxplot(x = dimensioneX, y = dimensioneY,hue = \"quartile\", data = df_true[df_true[\"quartile\"] != \"other_true\"])\n",
    "    plt.title('TRUE')\n",
    "\n",
    "    plt.subplot(1, 3, 3)  # Terzo boxplot\n",
    "    sns.boxplot(x = dimensioneX, y = dimensioneY,hue = \"quartile\", data = df_false[df_false[\"quartile\"] != \"other_false\"])\n",
    "    plt.title('FALSE')\n",
    "\n",
    "    plt.tight_layout()  # Per evitare sovrapposizioni di elementi\n",
    "    plt.show()  # Mostra l'immagine con i tre boxplot"
   ]
  },
  {
   "cell_type": "code",
   "execution_count": 32,
   "metadata": {},
   "outputs": [],
   "source": [
    "quartili = [\"wrong_false\", \"correct_false\", \"wrong_true\", \"correct_true\"]\n",
    "def crea_bar_plot_final(dimensioneX):\n",
    "    # analisi suando prop test sulle proporzioni\n",
    "    \n",
    "    raccoglitore_dimensioni = crea_raccoglitore_dimensioni(df_all, [dimensioneX], quartili)\n",
    "    tabella_p_value = costruisci_tabella_pvalue(raccoglitore_dimensioni, [dimensioneX], quartili,ignora_per_ptrend = [\"doc_speaker_party\"])\n",
    "    significativi = filtra_siglificativi(tabella_p_value, [dimensioneX], quartili, 0.05,\"pvalue_quartile_sovra\").sort_values(by=[\"dimensione\"], ascending=True)\n",
    "    crea_barplot_all_anova(raccoglitore_dimensioni,tabella_p_value, dimensioneX,\"valore\")\n",
    "    \n",
    "    "
   ]
  },
  {
   "cell_type": "code",
   "execution_count": 30,
   "metadata": {},
   "outputs": [],
   "source": [
    "def crea_bar_plot(dimensioneX,dimensioneY):\n",
    "    # Creazione dei boxplot utilizzando seaborn\n",
    "    plt.figure(figsize=(15, 3))  # Dimensioni dell'immagine\n",
    "    plt.subplot(1, 3, 1)  # Primo boxplot\n",
    "    sns.barplot(x = dimensioneX, y = dimensioneY,hue = \"sovra\", data = df_all[df_all[\"sovra\"] != \"other\"])\n",
    "    plt.title('ALL')\n",
    "\n",
    "    plt.subplot(1, 3, 2)  # Secondo boxplot\n",
    "    sns.barplot(x = dimensioneX, y = dimensioneY,hue = \"quartile\", data = df_true[df_true[\"quartile\"] != \"other_true\"])\n",
    "    plt.title('TRUE')\n",
    "\n",
    "    plt.subplot(1, 3, 3)  # Terzo boxplot\n",
    "    sns.barplot(x = dimensioneX, y = dimensioneY,hue = \"quartile\", data = df_false[df_false[\"quartile\"] != \"other_false\"])\n",
    "    plt.title('FALSE')\n",
    "\n",
    "    plt.tight_layout()  # Per evitare sovrapposizioni di elementi\n",
    "    plt.show()  # Mostra l'immagine con i tre boxplot"
   ]
  },
  {
   "cell_type": "code",
   "execution_count": 29,
   "metadata": {},
   "outputs": [],
   "source": [
    "def crea_bar_plot(dimensioneX):\n",
    "    # Creazione dei boxplot utilizzando seaborn\n",
    "    plt.figure(figsize=(15, 3))  # Dimensioni dell'immagine\n",
    "    plt.subplot(1, 3, 1)  # Primo boxplot\n",
    "    data = df_all[dimensioneX].tolist()\n",
    "    counts = pd.Series(data).value_counts().reset_index()\n",
    "    sns.barplot(x='index', y=0, data=counts)\n",
    "    plt.title('ALL')\n",
    "\n",
    "    plt.subplot(1, 3, 2)  # Secondo boxplot\n",
    "    data = df_true[dimensioneX].tolist()\n",
    "    counts = pd.Series(data).value_counts().reset_index()\n",
    "    sns.barplot(x='index', y=0, data=counts)\n",
    "    plt.title('TRUE')\n",
    "\n",
    "    plt.subplot(1, 3, 3)  # Terzo boxplot\n",
    "    data = df_false[dimensioneX].tolist()\n",
    "    counts = pd.Series(data).value_counts().reset_index()\n",
    "    sns.barplot(x='index', y=0, data=counts)\n",
    "    plt.title('FALSE')\n",
    "\n",
    "    plt.tight_layout()  # Per evitare sovrapposizioni di elementi\n",
    "    plt.show()  # Mostra l'immagine con i tre boxplot"
   ]
  },
  {
   "cell_type": "code",
   "execution_count": 28,
   "metadata": {},
   "outputs": [],
   "source": [
    "\n",
    "def crea_box_plot_statement(dimensioni_da_plottare):\n",
    "    plt.figure(figsize=(15, 5))  # Dimensioni dell'immagine\n",
    "    \n",
    "    i = 1\n",
    "    for dimensione in dimensioni_da_plottare:\n",
    "    \n",
    "        # Creazione dei boxplot utilizzando seaborn\n",
    "        \n",
    "        plt.subplot(1, len(dimensioni_da_plottare), i)  # Primo boxplot\n",
    "        sns.boxplot(palette = \"pastel\",x=\"quartile\", y=dimensione, data=df_all,order=[\"correct_false\",\"wrong_false\",\"wrong_true\",\"correct_true\"])\n",
    "        sns.stripplot(palette = \"dark\",x=\"quartile\", y=dimensione, data=df_all, jitter=0.2, size=5, alpha=0.95,order=[\"correct_false\",\"wrong_false\",\"wrong_true\",\"correct_true\"])\n",
    "        plt.xticks(rotation=90)\n",
    "        plt.title(dimensione)\n",
    "        i += 1\n",
    "        \n",
    "    plt.tight_layout()  # Per evitare sovrapposizioni di elementi\n",
    "    plt.show()  # Mostra l'immagine con i tre boxplot"
   ]
  },
  {
   "attachments": {},
   "cell_type": "markdown",
   "metadata": {},
   "source": [
    "### RIASSUMENDO"
   ]
  },
  {
   "cell_type": "code",
   "execution_count": 85,
   "metadata": {},
   "outputs": [
    {
     "name": "stdout",
     "output_type": "stream",
     "text": [
      "doc_speaker_party\n"
     ]
    },
    {
     "data": {
      "text/html": [
       "<div>\n",
       "<style scoped>\n",
       "    .dataframe tbody tr th:only-of-type {\n",
       "        vertical-align: middle;\n",
       "    }\n",
       "\n",
       "    .dataframe tbody tr th {\n",
       "        vertical-align: top;\n",
       "    }\n",
       "\n",
       "    .dataframe thead th {\n",
       "        text-align: right;\n",
       "    }\n",
       "</style>\n",
       "<table border=\"1\" class=\"dataframe\">\n",
       "  <thead>\n",
       "    <tr style=\"text-align: right;\">\n",
       "      <th></th>\n",
       "      <th>group1</th>\n",
       "      <th>group2</th>\n",
       "      <th>meandiff</th>\n",
       "      <th>p-adj</th>\n",
       "      <th>lower</th>\n",
       "      <th>upper</th>\n",
       "      <th>reject</th>\n",
       "    </tr>\n",
       "  </thead>\n",
       "  <tbody>\n",
       "    <tr>\n",
       "      <th>0</th>\n",
       "      <td>DEM</td>\n",
       "      <td>REP</td>\n",
       "      <td>-0.4461</td>\n",
       "      <td>0.0</td>\n",
       "      <td>-0.6346</td>\n",
       "      <td>-0.2576</td>\n",
       "      <td>True</td>\n",
       "    </tr>\n",
       "  </tbody>\n",
       "</table>\n",
       "</div>"
      ],
      "text/plain": [
       "  group1 group2  meandiff  p-adj   lower   upper  reject\n",
       "0    DEM    REP   -0.4461    0.0 -0.6346 -0.2576    True"
      ]
     },
     "metadata": {},
     "output_type": "display_data"
    },
    {
     "name": "stdout",
     "output_type": "stream",
     "text": [
      "----------------------------------------------------------------------------------------------------\n",
      "----------------------------------------------------------------------------------------------------\n"
     ]
    }
   ],
   "source": [
    "### TESI\n",
    "\n",
    "txt = \"doc_speaker_party\"\n",
    "valore_soglia = 0.14\n",
    "calcola_anova([\"doc_truthfulness_value\"],[[\"df_all\",df_all]],txt,valore_soglia)\n",
    "\n"
   ]
  },
  {
   "cell_type": "code",
   "execution_count": 96,
   "metadata": {},
   "outputs": [
    {
     "name": "stdout",
     "output_type": "stream",
     "text": [
      "----------------------------------------------------------------------------------------------------\n",
      "doc_truthfulness_value ~ (doc_completeness_index)*(doc_informativeness_index)*(doc_unbiasedness_index)*(doc_accuracy_index) in df_all\n"
     ]
    },
    {
     "data": {
      "text/html": [
       "<div>\n",
       "<style scoped>\n",
       "    .dataframe tbody tr th:only-of-type {\n",
       "        vertical-align: middle;\n",
       "    }\n",
       "\n",
       "    .dataframe tbody tr th {\n",
       "        vertical-align: top;\n",
       "    }\n",
       "\n",
       "    .dataframe thead th {\n",
       "        text-align: right;\n",
       "    }\n",
       "</style>\n",
       "<table border=\"1\" class=\"dataframe\">\n",
       "  <thead>\n",
       "    <tr style=\"text-align: right;\">\n",
       "      <th></th>\n",
       "      <th>sum_sq</th>\n",
       "      <th>df</th>\n",
       "      <th>mean_sq</th>\n",
       "      <th>F</th>\n",
       "      <th>PR(&gt;F)</th>\n",
       "      <th>eta_sq</th>\n",
       "      <th>omega_sq</th>\n",
       "    </tr>\n",
       "  </thead>\n",
       "  <tbody>\n",
       "    <tr>\n",
       "      <th>doc_accuracy_index</th>\n",
       "      <td>552.689212</td>\n",
       "      <td>1.0</td>\n",
       "      <td>552.689212</td>\n",
       "      <td>433.292142</td>\n",
       "      <td>3.028369e-82</td>\n",
       "      <td>0.262390</td>\n",
       "      <td>0.261626</td>\n",
       "    </tr>\n",
       "    <tr>\n",
       "      <th>doc_unbiasedness_index</th>\n",
       "      <td>13.466197</td>\n",
       "      <td>1.0</td>\n",
       "      <td>13.466197</td>\n",
       "      <td>10.557104</td>\n",
       "      <td>1.189980e-03</td>\n",
       "      <td>0.006393</td>\n",
       "      <td>0.005784</td>\n",
       "    </tr>\n",
       "    <tr>\n",
       "      <th>doc_unbiasedness_index:doc_accuracy_index</th>\n",
       "      <td>12.060897</td>\n",
       "      <td>1.0</td>\n",
       "      <td>12.060897</td>\n",
       "      <td>9.455390</td>\n",
       "      <td>2.153554e-03</td>\n",
       "      <td>0.005726</td>\n",
       "      <td>0.005117</td>\n",
       "    </tr>\n",
       "  </tbody>\n",
       "</table>\n",
       "</div>"
      ],
      "text/plain": [
       "                                               sum_sq   df     mean_sq  \\\n",
       "doc_accuracy_index                         552.689212  1.0  552.689212   \n",
       "doc_unbiasedness_index                      13.466197  1.0   13.466197   \n",
       "doc_unbiasedness_index:doc_accuracy_index   12.060897  1.0   12.060897   \n",
       "\n",
       "                                                    F        PR(>F)    eta_sq  \\\n",
       "doc_accuracy_index                         433.292142  3.028369e-82  0.262390   \n",
       "doc_unbiasedness_index                      10.557104  1.189980e-03  0.006393   \n",
       "doc_unbiasedness_index:doc_accuracy_index    9.455390  2.153554e-03  0.005726   \n",
       "\n",
       "                                           omega_sq  \n",
       "doc_accuracy_index                         0.261626  \n",
       "doc_unbiasedness_index                     0.005784  \n",
       "doc_unbiasedness_index:doc_accuracy_index  0.005117  "
      ]
     },
     "metadata": {},
     "output_type": "display_data"
    },
    {
     "name": "stdout",
     "output_type": "stream",
     "text": [
      "doc_unbiasedness_index\n"
     ]
    },
    {
     "data": {
      "text/html": [
       "<div>\n",
       "<style scoped>\n",
       "    .dataframe tbody tr th:only-of-type {\n",
       "        vertical-align: middle;\n",
       "    }\n",
       "\n",
       "    .dataframe tbody tr th {\n",
       "        vertical-align: top;\n",
       "    }\n",
       "\n",
       "    .dataframe thead th {\n",
       "        text-align: right;\n",
       "    }\n",
       "</style>\n",
       "<table border=\"1\" class=\"dataframe\">\n",
       "  <thead>\n",
       "    <tr style=\"text-align: right;\">\n",
       "      <th></th>\n",
       "      <th>group1</th>\n",
       "      <th>group2</th>\n",
       "      <th>meandiff</th>\n",
       "      <th>p-adj</th>\n",
       "      <th>lower</th>\n",
       "      <th>upper</th>\n",
       "      <th>reject</th>\n",
       "    </tr>\n",
       "  </thead>\n",
       "  <tbody>\n",
       "    <tr>\n",
       "      <th>3</th>\n",
       "      <td>0.0</td>\n",
       "      <td>4.0</td>\n",
       "      <td>2.6131</td>\n",
       "      <td>0.0</td>\n",
       "      <td>2.2728</td>\n",
       "      <td>2.9535</td>\n",
       "      <td>True</td>\n",
       "    </tr>\n",
       "    <tr>\n",
       "      <th>2</th>\n",
       "      <td>0.0</td>\n",
       "      <td>3.0</td>\n",
       "      <td>2.2344</td>\n",
       "      <td>0.0</td>\n",
       "      <td>1.8896</td>\n",
       "      <td>2.5792</td>\n",
       "      <td>True</td>\n",
       "    </tr>\n",
       "    <tr>\n",
       "      <th>1</th>\n",
       "      <td>0.0</td>\n",
       "      <td>2.0</td>\n",
       "      <td>1.7289</td>\n",
       "      <td>0.0</td>\n",
       "      <td>1.4176</td>\n",
       "      <td>2.0402</td>\n",
       "      <td>True</td>\n",
       "    </tr>\n",
       "  </tbody>\n",
       "</table>\n",
       "</div>"
      ],
      "text/plain": [
       "   group1  group2  meandiff  p-adj   lower   upper  reject\n",
       "3     0.0     4.0    2.6131    0.0  2.2728  2.9535    True\n",
       "2     0.0     3.0    2.2344    0.0  1.8896  2.5792    True\n",
       "1     0.0     2.0    1.7289    0.0  1.4176  2.0402    True"
      ]
     },
     "metadata": {},
     "output_type": "display_data"
    },
    {
     "name": "stdout",
     "output_type": "stream",
     "text": [
      "doc_accuracy_index\n"
     ]
    },
    {
     "data": {
      "text/html": [
       "<div>\n",
       "<style scoped>\n",
       "    .dataframe tbody tr th:only-of-type {\n",
       "        vertical-align: middle;\n",
       "    }\n",
       "\n",
       "    .dataframe tbody tr th {\n",
       "        vertical-align: top;\n",
       "    }\n",
       "\n",
       "    .dataframe thead th {\n",
       "        text-align: right;\n",
       "    }\n",
       "</style>\n",
       "<table border=\"1\" class=\"dataframe\">\n",
       "  <thead>\n",
       "    <tr style=\"text-align: right;\">\n",
       "      <th></th>\n",
       "      <th>group1</th>\n",
       "      <th>group2</th>\n",
       "      <th>meandiff</th>\n",
       "      <th>p-adj</th>\n",
       "      <th>lower</th>\n",
       "      <th>upper</th>\n",
       "      <th>reject</th>\n",
       "    </tr>\n",
       "  </thead>\n",
       "  <tbody>\n",
       "    <tr>\n",
       "      <th>3</th>\n",
       "      <td>0.0</td>\n",
       "      <td>4.0</td>\n",
       "      <td>3.4046</td>\n",
       "      <td>0.0</td>\n",
       "      <td>3.1150</td>\n",
       "      <td>3.6942</td>\n",
       "      <td>True</td>\n",
       "    </tr>\n",
       "    <tr>\n",
       "      <th>2</th>\n",
       "      <td>0.0</td>\n",
       "      <td>3.0</td>\n",
       "      <td>2.8735</td>\n",
       "      <td>0.0</td>\n",
       "      <td>2.6014</td>\n",
       "      <td>3.1456</td>\n",
       "      <td>True</td>\n",
       "    </tr>\n",
       "    <tr>\n",
       "      <th>6</th>\n",
       "      <td>1.0</td>\n",
       "      <td>4.0</td>\n",
       "      <td>2.3929</td>\n",
       "      <td>0.0</td>\n",
       "      <td>2.1026</td>\n",
       "      <td>2.6833</td>\n",
       "      <td>True</td>\n",
       "    </tr>\n",
       "  </tbody>\n",
       "</table>\n",
       "</div>"
      ],
      "text/plain": [
       "   group1  group2  meandiff  p-adj   lower   upper  reject\n",
       "3     0.0     4.0    3.4046    0.0  3.1150  3.6942    True\n",
       "2     0.0     3.0    2.8735    0.0  2.6014  3.1456    True\n",
       "6     1.0     4.0    2.3929    0.0  2.1026  2.6833    True"
      ]
     },
     "metadata": {},
     "output_type": "display_data"
    },
    {
     "name": "stdout",
     "output_type": "stream",
     "text": [
      "doc_completeness_index:doc_accuracy_index\n",
      "['doc_completeness_index', 'doc_accuracy_index']\n"
     ]
    },
    {
     "data": {
      "text/html": [
       "<div>\n",
       "<style scoped>\n",
       "    .dataframe tbody tr th:only-of-type {\n",
       "        vertical-align: middle;\n",
       "    }\n",
       "\n",
       "    .dataframe tbody tr th {\n",
       "        vertical-align: top;\n",
       "    }\n",
       "\n",
       "    .dataframe thead th {\n",
       "        text-align: right;\n",
       "    }\n",
       "</style>\n",
       "<table border=\"1\" class=\"dataframe\">\n",
       "  <thead>\n",
       "    <tr style=\"text-align: right;\">\n",
       "      <th></th>\n",
       "      <th>group1</th>\n",
       "      <th>group2</th>\n",
       "      <th>meandiff</th>\n",
       "      <th>p-adj</th>\n",
       "      <th>lower</th>\n",
       "      <th>upper</th>\n",
       "      <th>reject</th>\n",
       "    </tr>\n",
       "  </thead>\n",
       "  <tbody>\n",
       "    <tr>\n",
       "      <th>230</th>\n",
       "      <td>2.0:4.0</td>\n",
       "      <td>4.0:4.0</td>\n",
       "      <td>4.2376</td>\n",
       "      <td>0.0000</td>\n",
       "      <td>1.3445</td>\n",
       "      <td>7.1307</td>\n",
       "      <td>True</td>\n",
       "    </tr>\n",
       "    <tr>\n",
       "      <th>7</th>\n",
       "      <td>0.0:0.0</td>\n",
       "      <td>1.0:4.0</td>\n",
       "      <td>4.1056</td>\n",
       "      <td>0.0000</td>\n",
       "      <td>2.4906</td>\n",
       "      <td>5.7206</td>\n",
       "      <td>True</td>\n",
       "    </tr>\n",
       "    <tr>\n",
       "      <th>225</th>\n",
       "      <td>2.0:4.0</td>\n",
       "      <td>3.0:4.0</td>\n",
       "      <td>3.7879</td>\n",
       "      <td>0.0009</td>\n",
       "      <td>0.8230</td>\n",
       "      <td>6.7527</td>\n",
       "      <td>True</td>\n",
       "    </tr>\n",
       "  </tbody>\n",
       "</table>\n",
       "</div>"
      ],
      "text/plain": [
       "      group1   group2  meandiff   p-adj   lower   upper  reject\n",
       "230  2.0:4.0  4.0:4.0    4.2376  0.0000  1.3445  7.1307    True\n",
       "7    0.0:0.0  1.0:4.0    4.1056  0.0000  2.4906  5.7206    True\n",
       "225  2.0:4.0  3.0:4.0    3.7879  0.0009  0.8230  6.7527    True"
      ]
     },
     "metadata": {},
     "output_type": "display_data"
    },
    {
     "name": "stdout",
     "output_type": "stream",
     "text": [
      "doc_unbiasedness_index:doc_accuracy_index\n",
      "['doc_unbiasedness_index', 'doc_accuracy_index']\n"
     ]
    },
    {
     "data": {
      "text/html": [
       "<div>\n",
       "<style scoped>\n",
       "    .dataframe tbody tr th:only-of-type {\n",
       "        vertical-align: middle;\n",
       "    }\n",
       "\n",
       "    .dataframe tbody tr th {\n",
       "        vertical-align: top;\n",
       "    }\n",
       "\n",
       "    .dataframe thead th {\n",
       "        text-align: right;\n",
       "    }\n",
       "</style>\n",
       "<table border=\"1\" class=\"dataframe\">\n",
       "  <thead>\n",
       "    <tr style=\"text-align: right;\">\n",
       "      <th></th>\n",
       "      <th>group1</th>\n",
       "      <th>group2</th>\n",
       "      <th>meandiff</th>\n",
       "      <th>p-adj</th>\n",
       "      <th>lower</th>\n",
       "      <th>upper</th>\n",
       "      <th>reject</th>\n",
       "    </tr>\n",
       "  </thead>\n",
       "  <tbody>\n",
       "    <tr>\n",
       "      <th>3</th>\n",
       "      <td>0.0:0.0</td>\n",
       "      <td>0.0:4.0</td>\n",
       "      <td>4.1929</td>\n",
       "      <td>0.0</td>\n",
       "      <td>2.3263</td>\n",
       "      <td>6.0595</td>\n",
       "      <td>True</td>\n",
       "    </tr>\n",
       "    <tr>\n",
       "      <th>23</th>\n",
       "      <td>0.0:0.0</td>\n",
       "      <td>4.0:4.0</td>\n",
       "      <td>3.6446</td>\n",
       "      <td>0.0</td>\n",
       "      <td>3.1766</td>\n",
       "      <td>4.1126</td>\n",
       "      <td>True</td>\n",
       "    </tr>\n",
       "    <tr>\n",
       "      <th>8</th>\n",
       "      <td>0.0:0.0</td>\n",
       "      <td>1.0:4.0</td>\n",
       "      <td>3.5804</td>\n",
       "      <td>0.0</td>\n",
       "      <td>2.5042</td>\n",
       "      <td>4.6565</td>\n",
       "      <td>True</td>\n",
       "    </tr>\n",
       "  </tbody>\n",
       "</table>\n",
       "</div>"
      ],
      "text/plain": [
       "     group1   group2  meandiff  p-adj   lower   upper  reject\n",
       "3   0.0:0.0  0.0:4.0    4.1929    0.0  2.3263  6.0595    True\n",
       "23  0.0:0.0  4.0:4.0    3.6446    0.0  3.1766  4.1126    True\n",
       "8   0.0:0.0  1.0:4.0    3.5804    0.0  2.5042  4.6565    True"
      ]
     },
     "metadata": {},
     "output_type": "display_data"
    },
    {
     "name": "stdout",
     "output_type": "stream",
     "text": [
      "----------------------------------------------------------------------------------------------------\n",
      "----------------------------------------------------------------------------------------------------\n"
     ]
    }
   ],
   "source": [
    "## TESI\n",
    "\n",
    "txt = \"(doc_completeness_index)*(doc_informativeness_index)*(doc_unbiasedness_index)*(doc_accuracy_index)\"\n",
    "valore_soglia = 0.1\n",
    "calcola_anova([\"doc_truthfulness_value\"],[[\"df_all\",df_all]],txt,valore_soglia)"
   ]
  },
  {
   "cell_type": "code",
   "execution_count": 97,
   "metadata": {},
   "outputs": [
    {
     "data": {
      "text/plain": [
       "0.6071428571428571"
      ]
     },
     "execution_count": 97,
     "metadata": {},
     "output_type": "execute_result"
    }
   ],
   "source": [
    "df_all[(df_all[\"doc_unbiasedness_index\"] == 0.0) & \n",
    "       (df_all[\"doc_accuracy_index\"] == 0.0)\n",
    "       ][\"doc_truthfulness_value\"].mean()"
   ]
  },
  {
   "cell_type": "code",
   "execution_count": 98,
   "metadata": {},
   "outputs": [
    {
     "data": {
      "text/plain": [
       "4.251748251748252"
      ]
     },
     "execution_count": 98,
     "metadata": {},
     "output_type": "execute_result"
    }
   ],
   "source": [
    "df_all[(df_all[\"doc_unbiasedness_index\"] == 4.0) & \n",
    "       (df_all[\"doc_accuracy_index\"] == 4.0)\n",
    "       ][\"doc_truthfulness_value\"].mean()"
   ]
  },
  {
   "attachments": {},
   "cell_type": "markdown",
   "metadata": {},
   "source": [
    "- se i worker si fidano dell'autore tendono a dare valutazioni più alte in media (sia se lo statement è true sia se è fake)"
   ]
  },
  {
   "cell_type": "code",
   "execution_count": 33,
   "metadata": {},
   "outputs": [
    {
     "name": "stdout",
     "output_type": "stream",
     "text": [
      "----------------------------------------------------------------------------------------------------\n",
      "doc_truthfulness_value ~ (doc_precision_index + doc_completeness_index + doc_informativeness_index)+ doc_unbiasedness_index  + doc_speaker_trustworthiness_index in df_all\n"
     ]
    },
    {
     "data": {
      "text/html": [
       "<div>\n",
       "<style scoped>\n",
       "    .dataframe tbody tr th:only-of-type {\n",
       "        vertical-align: middle;\n",
       "    }\n",
       "\n",
       "    .dataframe tbody tr th {\n",
       "        vertical-align: top;\n",
       "    }\n",
       "\n",
       "    .dataframe thead th {\n",
       "        text-align: right;\n",
       "    }\n",
       "</style>\n",
       "<table border=\"1\" class=\"dataframe\">\n",
       "  <thead>\n",
       "    <tr style=\"text-align: right;\">\n",
       "      <th></th>\n",
       "      <th>sum_sq</th>\n",
       "      <th>df</th>\n",
       "      <th>mean_sq</th>\n",
       "      <th>F</th>\n",
       "      <th>PR(&gt;F)</th>\n",
       "      <th>eta_sq</th>\n",
       "      <th>omega_sq</th>\n",
       "    </tr>\n",
       "  </thead>\n",
       "  <tbody>\n",
       "    <tr>\n",
       "      <th>doc_speaker_trustworthiness_index</th>\n",
       "      <td>318.862945</td>\n",
       "      <td>1.0</td>\n",
       "      <td>318.862945</td>\n",
       "      <td>214.400261</td>\n",
       "      <td>9.016453e-45</td>\n",
       "      <td>0.148246</td>\n",
       "      <td>0.147453</td>\n",
       "    </tr>\n",
       "    <tr>\n",
       "      <th>doc_unbiasedness_index</th>\n",
       "      <td>29.100460</td>\n",
       "      <td>1.0</td>\n",
       "      <td>29.100460</td>\n",
       "      <td>19.566859</td>\n",
       "      <td>1.060066e-05</td>\n",
       "      <td>0.013529</td>\n",
       "      <td>0.012829</td>\n",
       "    </tr>\n",
       "    <tr>\n",
       "      <th>doc_informativeness_index</th>\n",
       "      <td>20.274079</td>\n",
       "      <td>1.0</td>\n",
       "      <td>20.274079</td>\n",
       "      <td>13.632088</td>\n",
       "      <td>2.324007e-04</td>\n",
       "      <td>0.009426</td>\n",
       "      <td>0.008728</td>\n",
       "    </tr>\n",
       "  </tbody>\n",
       "</table>\n",
       "</div>"
      ],
      "text/plain": [
       "                                       sum_sq   df     mean_sq           F  \\\n",
       "doc_speaker_trustworthiness_index  318.862945  1.0  318.862945  214.400261   \n",
       "doc_unbiasedness_index              29.100460  1.0   29.100460   19.566859   \n",
       "doc_informativeness_index           20.274079  1.0   20.274079   13.632088   \n",
       "\n",
       "                                         PR(>F)    eta_sq  omega_sq  \n",
       "doc_speaker_trustworthiness_index  9.016453e-45  0.148246  0.147453  \n",
       "doc_unbiasedness_index             1.060066e-05  0.013529  0.012829  \n",
       "doc_informativeness_index          2.324007e-04  0.009426  0.008728  "
      ]
     },
     "metadata": {},
     "output_type": "display_data"
    },
    {
     "name": "stdout",
     "output_type": "stream",
     "text": [
      "doc_speaker_trustworthiness_index\n"
     ]
    },
    {
     "data": {
      "text/html": [
       "<div>\n",
       "<style scoped>\n",
       "    .dataframe tbody tr th:only-of-type {\n",
       "        vertical-align: middle;\n",
       "    }\n",
       "\n",
       "    .dataframe tbody tr th {\n",
       "        vertical-align: top;\n",
       "    }\n",
       "\n",
       "    .dataframe thead th {\n",
       "        text-align: right;\n",
       "    }\n",
       "</style>\n",
       "<table border=\"1\" class=\"dataframe\">\n",
       "  <thead>\n",
       "    <tr style=\"text-align: right;\">\n",
       "      <th></th>\n",
       "      <th>group1</th>\n",
       "      <th>group2</th>\n",
       "      <th>meandiff</th>\n",
       "      <th>p-adj</th>\n",
       "      <th>lower</th>\n",
       "      <th>upper</th>\n",
       "      <th>reject</th>\n",
       "    </tr>\n",
       "  </thead>\n",
       "  <tbody>\n",
       "    <tr>\n",
       "      <th>3</th>\n",
       "      <td>0.0</td>\n",
       "      <td>4.0</td>\n",
       "      <td>3.3391</td>\n",
       "      <td>0.0</td>\n",
       "      <td>2.9843</td>\n",
       "      <td>3.6939</td>\n",
       "      <td>True</td>\n",
       "    </tr>\n",
       "    <tr>\n",
       "      <th>2</th>\n",
       "      <td>0.0</td>\n",
       "      <td>3.0</td>\n",
       "      <td>2.7801</td>\n",
       "      <td>0.0</td>\n",
       "      <td>2.4749</td>\n",
       "      <td>3.0853</td>\n",
       "      <td>True</td>\n",
       "    </tr>\n",
       "    <tr>\n",
       "      <th>6</th>\n",
       "      <td>1.0</td>\n",
       "      <td>4.0</td>\n",
       "      <td>2.1430</td>\n",
       "      <td>0.0</td>\n",
       "      <td>1.7885</td>\n",
       "      <td>2.4975</td>\n",
       "      <td>True</td>\n",
       "    </tr>\n",
       "  </tbody>\n",
       "</table>\n",
       "</div>"
      ],
      "text/plain": [
       "   group1  group2  meandiff  p-adj   lower   upper  reject\n",
       "3     0.0     4.0    3.3391    0.0  2.9843  3.6939    True\n",
       "2     0.0     3.0    2.7801    0.0  2.4749  3.0853    True\n",
       "6     1.0     4.0    2.1430    0.0  1.7885  2.4975    True"
      ]
     },
     "metadata": {},
     "output_type": "display_data"
    },
    {
     "name": "stdout",
     "output_type": "stream",
     "text": [
      "----------------------------------------------------------------------------------------------------\n",
      "----------------------------------------------------------------------------------------------------\n"
     ]
    }
   ],
   "source": [
    "## trust dello scrittore\n",
    "\n",
    "txt = \"(doc_precision_index + doc_completeness_index + doc_informativeness_index)+ doc_unbiasedness_index  + doc_speaker_trustworthiness_index\"\n",
    "valore_soglia = 0.1\n",
    "calcola_anova([\"doc_truthfulness_value\"],[[\"df_all\",df_all]],txt,valore_soglia)"
   ]
  },
  {
   "cell_type": "code",
   "execution_count": 92,
   "metadata": {},
   "outputs": [
    {
     "data": {
      "text/plain": [
       "0.8584474885844748"
      ]
     },
     "execution_count": 92,
     "metadata": {},
     "output_type": "execute_result"
    }
   ],
   "source": [
    "df_all[df_all[\"doc_speaker_trustworthiness_index\"] == 0.0][\"doc_truthfulness_value\"].mean()"
   ]
  },
  {
   "cell_type": "code",
   "execution_count": 93,
   "metadata": {},
   "outputs": [
    {
     "data": {
      "text/plain": [
       "4.197530864197531"
      ]
     },
     "execution_count": 93,
     "metadata": {},
     "output_type": "execute_result"
    }
   ],
   "source": [
    "df_all[df_all[\"doc_speaker_trustworthiness_index\"] == 4.0][\"doc_truthfulness_value\"].mean()"
   ]
  },
  {
   "cell_type": "code",
   "execution_count": 34,
   "metadata": {},
   "outputs": [
    {
     "data": {
      "image/png": "[encoded data removed]",
      "text/plain": [
       "<Figure size 1500x300 with 3 Axes>"
      ]
     },
     "metadata": {},
     "output_type": "display_data"
    }
   ],
   "source": [
    "crea_box_plot(\"doc_speaker_trustworthiness_index\",\"doc_truthfulness_value\")"
   ]
  },
  {
   "attachments": {},
   "cell_type": "markdown",
   "metadata": {},
   "source": [
    "- se lo statement è TRUE: più mi fido dell'autore più mi avvicino al GT\n",
    "- se lo statement è FAKE: se non mi fido dell'autore tendo ad azzeccare che è una FAKE"
   ]
  },
  {
   "cell_type": "code",
   "execution_count": 35,
   "metadata": {},
   "outputs": [
    {
     "data": {
      "image/png": "[encoded data removed]",
      "text/plain": [
       "<Figure size 1500x300 with 3 Axes>"
      ]
     },
     "metadata": {},
     "output_type": "display_data"
    }
   ],
   "source": [
    "crea_box_plot(\"doc_speaker_trustworthiness_index\",\"scarto\")"
   ]
  },
  {
   "attachments": {},
   "cell_type": "markdown",
   "metadata": {},
   "source": [
    "- gli statement scritti da DEMOCRATICI ricevono valutazioni in media più alte (indipendentemente dal tipo di statement) "
   ]
  },
  {
   "cell_type": "code",
   "execution_count": 36,
   "metadata": {},
   "outputs": [
    {
     "name": "stdout",
     "output_type": "stream",
     "text": [
      "----------------------------------------------------------------------------------------------------\n",
      "df_all\n"
     ]
    },
    {
     "data": {
      "text/plain": [
       "doc_speaker_party\n",
       "DEM    2.941538\n",
       "REP    2.495446\n",
       "Name: doc_truthfulness_value, dtype: float64"
      ]
     },
     "metadata": {},
     "output_type": "display_data"
    },
    {
     "name": "stdout",
     "output_type": "stream",
     "text": [
      "----------------------------------------------------------------------------------------------------\n",
      "df_false\n"
     ]
    },
    {
     "data": {
      "text/plain": [
       "doc_speaker_party\n",
       "DEM    2.416667\n",
       "REP    1.705036\n",
       "Name: doc_truthfulness_value, dtype: float64"
      ]
     },
     "metadata": {},
     "output_type": "display_data"
    },
    {
     "name": "stdout",
     "output_type": "stream",
     "text": [
      "----------------------------------------------------------------------------------------------------\n",
      "df_true\n"
     ]
    },
    {
     "data": {
      "text/plain": [
       "doc_speaker_party\n",
       "DEM    4.091667\n",
       "REP    3.312500\n",
       "Name: doc_truthfulness_value, dtype: float64"
      ]
     },
     "metadata": {},
     "output_type": "display_data"
    }
   ],
   "source": [
    "for df in [[\"df_all\",df_all],[\"df_false\",df_false],[\"df_true\",df_true]]:\n",
    "    print(\"-\" * 100)\n",
    "    print(df[0])\n",
    "    display(df[1].groupby(by=\"doc_speaker_party\").mean()[\"doc_truthfulness_value\"])"
   ]
  },
  {
   "attachments": {},
   "cell_type": "markdown",
   "metadata": {},
   "source": [
    "- il partito dello scrittore dello statement è rilevante per individuare il gruppo dello statement\n",
    "=> ciò è anche confermato dal prop-test"
   ]
  },
  {
   "cell_type": "code",
   "execution_count": 37,
   "metadata": {},
   "outputs": [
    {
     "data": {
      "image/png": "[encoded data removed]",
      "text/plain": [
       "<Figure size 1500x1000 with 4 Axes>"
      ]
     },
     "metadata": {},
     "output_type": "display_data"
    }
   ],
   "source": [
    "crea_bar_plot_final(\"doc_speaker_party\")"
   ]
  },
  {
   "attachments": {},
   "cell_type": "markdown",
   "metadata": {},
   "source": [
    "- età e doc_speaker_party posso essere combinate per determinare quartile_val"
   ]
  },
  {
   "cell_type": "code",
   "execution_count": 58,
   "metadata": {},
   "outputs": [
    {
     "name": "stdout",
     "output_type": "stream",
     "text": [
      "----------------------------------------------------------------------------------------------------\n",
      "quartile_val ~ (consideration_ans_index + political_views_ans_label + doc_speaker_party) * C(age_ans_label) in df_all\n"
     ]
    },
    {
     "data": {
      "text/html": [
       "<div>\n",
       "<style scoped>\n",
       "    .dataframe tbody tr th:only-of-type {\n",
       "        vertical-align: middle;\n",
       "    }\n",
       "\n",
       "    .dataframe tbody tr th {\n",
       "        vertical-align: top;\n",
       "    }\n",
       "\n",
       "    .dataframe thead th {\n",
       "        text-align: right;\n",
       "    }\n",
       "</style>\n",
       "<table border=\"1\" class=\"dataframe\">\n",
       "  <thead>\n",
       "    <tr style=\"text-align: right;\">\n",
       "      <th></th>\n",
       "      <th>sum_sq</th>\n",
       "      <th>df</th>\n",
       "      <th>mean_sq</th>\n",
       "      <th>F</th>\n",
       "      <th>PR(&gt;F)</th>\n",
       "      <th>eta_sq</th>\n",
       "      <th>omega_sq</th>\n",
       "    </tr>\n",
       "  </thead>\n",
       "  <tbody>\n",
       "    <tr>\n",
       "      <th>C(age_ans_label)</th>\n",
       "      <td>2733.688347</td>\n",
       "      <td>5.0</td>\n",
       "      <td>546.737669</td>\n",
       "      <td>360.818974</td>\n",
       "      <td>2.445658e-233</td>\n",
       "      <td>0.597273</td>\n",
       "      <td>0.595421</td>\n",
       "    </tr>\n",
       "    <tr>\n",
       "      <th>doc_speaker_party</th>\n",
       "      <td>77.494804</td>\n",
       "      <td>1.0</td>\n",
       "      <td>77.494804</td>\n",
       "      <td>51.142618</td>\n",
       "      <td>1.517372e-12</td>\n",
       "      <td>0.016932</td>\n",
       "      <td>0.016595</td>\n",
       "    </tr>\n",
       "    <tr>\n",
       "      <th>consideration_ans_index</th>\n",
       "      <td>0.063082</td>\n",
       "      <td>1.0</td>\n",
       "      <td>0.063082</td>\n",
       "      <td>0.041631</td>\n",
       "      <td>8.383611e-01</td>\n",
       "      <td>0.000014</td>\n",
       "      <td>-0.000317</td>\n",
       "    </tr>\n",
       "  </tbody>\n",
       "</table>\n",
       "</div>"
      ],
      "text/plain": [
       "                              sum_sq   df     mean_sq           F  \\\n",
       "C(age_ans_label)         2733.688347  5.0  546.737669  360.818974   \n",
       "doc_speaker_party          77.494804  1.0   77.494804   51.142618   \n",
       "consideration_ans_index     0.063082  1.0    0.063082    0.041631   \n",
       "\n",
       "                                PR(>F)    eta_sq  omega_sq  \n",
       "C(age_ans_label)         2.445658e-233  0.597273  0.595421  \n",
       "doc_speaker_party         1.517372e-12  0.016932  0.016595  \n",
       "consideration_ans_index   8.383611e-01  0.000014 -0.000317  "
      ]
     },
     "metadata": {},
     "output_type": "display_data"
    },
    {
     "name": "stdout",
     "output_type": "stream",
     "text": [
      "C(age_ans_label)\n"
     ]
    },
    {
     "data": {
      "text/html": [
       "<div>\n",
       "<style scoped>\n",
       "    .dataframe tbody tr th:only-of-type {\n",
       "        vertical-align: middle;\n",
       "    }\n",
       "\n",
       "    .dataframe tbody tr th {\n",
       "        vertical-align: top;\n",
       "    }\n",
       "\n",
       "    .dataframe thead th {\n",
       "        text-align: right;\n",
       "    }\n",
       "</style>\n",
       "<table border=\"1\" class=\"dataframe\">\n",
       "  <thead>\n",
       "    <tr style=\"text-align: right;\">\n",
       "      <th></th>\n",
       "      <th>group1</th>\n",
       "      <th>group2</th>\n",
       "      <th>meandiff</th>\n",
       "      <th>p-adj</th>\n",
       "      <th>lower</th>\n",
       "      <th>upper</th>\n",
       "      <th>reject</th>\n",
       "    </tr>\n",
       "  </thead>\n",
       "  <tbody>\n",
       "  </tbody>\n",
       "</table>\n",
       "</div>"
      ],
      "text/plain": [
       "Empty DataFrame\n",
       "Columns: [group1, group2, meandiff, p-adj, lower, upper, reject]\n",
       "Index: []"
      ]
     },
     "metadata": {},
     "output_type": "display_data"
    },
    {
     "name": "stdout",
     "output_type": "stream",
     "text": [
      "----------------------------------------------------------------------------------------------------\n",
      "quartile_val ~ (consideration_ans_index + political_views_ans_label + doc_speaker_party) * C(age_ans_label) in df_false\n"
     ]
    },
    {
     "data": {
      "text/html": [
       "<div>\n",
       "<style scoped>\n",
       "    .dataframe tbody tr th:only-of-type {\n",
       "        vertical-align: middle;\n",
       "    }\n",
       "\n",
       "    .dataframe tbody tr th {\n",
       "        vertical-align: top;\n",
       "    }\n",
       "\n",
       "    .dataframe thead th {\n",
       "        text-align: right;\n",
       "    }\n",
       "</style>\n",
       "<table border=\"1\" class=\"dataframe\">\n",
       "  <thead>\n",
       "    <tr style=\"text-align: right;\">\n",
       "      <th></th>\n",
       "      <th>sum_sq</th>\n",
       "      <th>df</th>\n",
       "      <th>mean_sq</th>\n",
       "      <th>F</th>\n",
       "      <th>PR(&gt;F)</th>\n",
       "      <th>eta_sq</th>\n",
       "      <th>omega_sq</th>\n",
       "    </tr>\n",
       "  </thead>\n",
       "  <tbody>\n",
       "    <tr>\n",
       "      <th>doc_speaker_party</th>\n",
       "      <td>10.386173</td>\n",
       "      <td>1.0</td>\n",
       "      <td>10.386173</td>\n",
       "      <td>23.028229</td>\n",
       "      <td>0.000004</td>\n",
       "      <td>0.098587</td>\n",
       "      <td>0.093904</td>\n",
       "    </tr>\n",
       "    <tr>\n",
       "      <th>political_views_ans_label:C(age_ans_label)</th>\n",
       "      <td>14.912969</td>\n",
       "      <td>25.0</td>\n",
       "      <td>0.596519</td>\n",
       "      <td>1.322602</td>\n",
       "      <td>0.179329</td>\n",
       "      <td>0.141556</td>\n",
       "      <td>0.034380</td>\n",
       "    </tr>\n",
       "    <tr>\n",
       "      <th>consideration_ans_index</th>\n",
       "      <td>0.076440</td>\n",
       "      <td>1.0</td>\n",
       "      <td>0.076440</td>\n",
       "      <td>0.169482</td>\n",
       "      <td>0.681100</td>\n",
       "      <td>0.000726</td>\n",
       "      <td>-0.003540</td>\n",
       "    </tr>\n",
       "  </tbody>\n",
       "</table>\n",
       "</div>"
      ],
      "text/plain": [
       "                                               sum_sq    df    mean_sq  \\\n",
       "doc_speaker_party                           10.386173   1.0  10.386173   \n",
       "political_views_ans_label:C(age_ans_label)  14.912969  25.0   0.596519   \n",
       "consideration_ans_index                      0.076440   1.0   0.076440   \n",
       "\n",
       "                                                    F    PR(>F)    eta_sq  \\\n",
       "doc_speaker_party                           23.028229  0.000004  0.098587   \n",
       "political_views_ans_label:C(age_ans_label)   1.322602  0.179329  0.141556   \n",
       "consideration_ans_index                      0.169482  0.681100  0.000726   \n",
       "\n",
       "                                            omega_sq  \n",
       "doc_speaker_party                           0.093904  \n",
       "political_views_ans_label:C(age_ans_label)  0.034380  \n",
       "consideration_ans_index                    -0.003540  "
      ]
     },
     "metadata": {},
     "output_type": "display_data"
    },
    {
     "name": "stdout",
     "output_type": "stream",
     "text": [
      "doc_speaker_party\n"
     ]
    },
    {
     "data": {
      "text/html": [
       "<div>\n",
       "<style scoped>\n",
       "    .dataframe tbody tr th:only-of-type {\n",
       "        vertical-align: middle;\n",
       "    }\n",
       "\n",
       "    .dataframe tbody tr th {\n",
       "        vertical-align: top;\n",
       "    }\n",
       "\n",
       "    .dataframe thead th {\n",
       "        text-align: right;\n",
       "    }\n",
       "</style>\n",
       "<table border=\"1\" class=\"dataframe\">\n",
       "  <thead>\n",
       "    <tr style=\"text-align: right;\">\n",
       "      <th></th>\n",
       "      <th>group1</th>\n",
       "      <th>group2</th>\n",
       "      <th>meandiff</th>\n",
       "      <th>p-adj</th>\n",
       "      <th>lower</th>\n",
       "      <th>upper</th>\n",
       "      <th>reject</th>\n",
       "    </tr>\n",
       "  </thead>\n",
       "  <tbody>\n",
       "    <tr>\n",
       "      <th>0</th>\n",
       "      <td>DEM</td>\n",
       "      <td>REP</td>\n",
       "      <td>0.4772</td>\n",
       "      <td>0.0</td>\n",
       "      <td>0.2708</td>\n",
       "      <td>0.6836</td>\n",
       "      <td>True</td>\n",
       "    </tr>\n",
       "  </tbody>\n",
       "</table>\n",
       "</div>"
      ],
      "text/plain": [
       "  group1 group2  meandiff  p-adj   lower   upper  reject\n",
       "0    DEM    REP    0.4772    0.0  0.2708  0.6836    True"
      ]
     },
     "metadata": {},
     "output_type": "display_data"
    },
    {
     "name": "stdout",
     "output_type": "stream",
     "text": [
      "----------------------------------------------------------------------------------------------------\n",
      "quartile_val ~ (consideration_ans_index + political_views_ans_label + doc_speaker_party) * C(age_ans_label) in df_true\n"
     ]
    },
    {
     "data": {
      "text/html": [
       "<div>\n",
       "<style scoped>\n",
       "    .dataframe tbody tr th:only-of-type {\n",
       "        vertical-align: middle;\n",
       "    }\n",
       "\n",
       "    .dataframe tbody tr th {\n",
       "        vertical-align: top;\n",
       "    }\n",
       "\n",
       "    .dataframe thead th {\n",
       "        text-align: right;\n",
       "    }\n",
       "</style>\n",
       "<table border=\"1\" class=\"dataframe\">\n",
       "  <thead>\n",
       "    <tr style=\"text-align: right;\">\n",
       "      <th></th>\n",
       "      <th>sum_sq</th>\n",
       "      <th>df</th>\n",
       "      <th>mean_sq</th>\n",
       "      <th>F</th>\n",
       "      <th>PR(&gt;F)</th>\n",
       "      <th>eta_sq</th>\n",
       "      <th>omega_sq</th>\n",
       "    </tr>\n",
       "  </thead>\n",
       "  <tbody>\n",
       "    <tr>\n",
       "      <th>C(age_ans_label)</th>\n",
       "      <td>336.225609</td>\n",
       "      <td>5.0</td>\n",
       "      <td>67.245122</td>\n",
       "      <td>272.044320</td>\n",
       "      <td>5.804759e-37</td>\n",
       "      <td>0.753491</td>\n",
       "      <td>0.750305</td>\n",
       "    </tr>\n",
       "    <tr>\n",
       "      <th>doc_speaker_party</th>\n",
       "      <td>45.424643</td>\n",
       "      <td>1.0</td>\n",
       "      <td>45.424643</td>\n",
       "      <td>183.768219</td>\n",
       "      <td>9.284366e-29</td>\n",
       "      <td>0.101798</td>\n",
       "      <td>0.101188</td>\n",
       "    </tr>\n",
       "    <tr>\n",
       "      <th>doc_speaker_party:C(age_ans_label)</th>\n",
       "      <td>12.021375</td>\n",
       "      <td>5.0</td>\n",
       "      <td>2.404275</td>\n",
       "      <td>9.726644</td>\n",
       "      <td>3.552045e-08</td>\n",
       "      <td>0.026940</td>\n",
       "      <td>0.024157</td>\n",
       "    </tr>\n",
       "  </tbody>\n",
       "</table>\n",
       "</div>"
      ],
      "text/plain": [
       "                                        sum_sq   df    mean_sq           F  \\\n",
       "C(age_ans_label)                    336.225609  5.0  67.245122  272.044320   \n",
       "doc_speaker_party                    45.424643  1.0  45.424643  183.768219   \n",
       "doc_speaker_party:C(age_ans_label)   12.021375  5.0   2.404275    9.726644   \n",
       "\n",
       "                                          PR(>F)    eta_sq  omega_sq  \n",
       "C(age_ans_label)                    5.804759e-37  0.753491  0.750305  \n",
       "doc_speaker_party                   9.284366e-29  0.101798  0.101188  \n",
       "doc_speaker_party:C(age_ans_label)  3.552045e-08  0.026940  0.024157  "
      ]
     },
     "metadata": {},
     "output_type": "display_data"
    },
    {
     "name": "stdout",
     "output_type": "stream",
     "text": [
      "doc_speaker_party\n"
     ]
    },
    {
     "data": {
      "text/html": [
       "<div>\n",
       "<style scoped>\n",
       "    .dataframe tbody tr th:only-of-type {\n",
       "        vertical-align: middle;\n",
       "    }\n",
       "\n",
       "    .dataframe tbody tr th {\n",
       "        vertical-align: top;\n",
       "    }\n",
       "\n",
       "    .dataframe thead th {\n",
       "        text-align: right;\n",
       "    }\n",
       "</style>\n",
       "<table border=\"1\" class=\"dataframe\">\n",
       "  <thead>\n",
       "    <tr style=\"text-align: right;\">\n",
       "      <th></th>\n",
       "      <th>group1</th>\n",
       "      <th>group2</th>\n",
       "      <th>meandiff</th>\n",
       "      <th>p-adj</th>\n",
       "      <th>lower</th>\n",
       "      <th>upper</th>\n",
       "      <th>reject</th>\n",
       "    </tr>\n",
       "  </thead>\n",
       "  <tbody>\n",
       "    <tr>\n",
       "      <th>0</th>\n",
       "      <td>DEM</td>\n",
       "      <td>REP</td>\n",
       "      <td>-1.125</td>\n",
       "      <td>0.0</td>\n",
       "      <td>-1.2662</td>\n",
       "      <td>-0.9838</td>\n",
       "      <td>True</td>\n",
       "    </tr>\n",
       "  </tbody>\n",
       "</table>\n",
       "</div>"
      ],
      "text/plain": [
       "  group1 group2  meandiff  p-adj   lower   upper  reject\n",
       "0    DEM    REP    -1.125    0.0 -1.2662 -0.9838    True"
      ]
     },
     "metadata": {},
     "output_type": "display_data"
    },
    {
     "name": "stdout",
     "output_type": "stream",
     "text": [
      "C(age_ans_label)\n"
     ]
    },
    {
     "data": {
      "text/html": [
       "<div>\n",
       "<style scoped>\n",
       "    .dataframe tbody tr th:only-of-type {\n",
       "        vertical-align: middle;\n",
       "    }\n",
       "\n",
       "    .dataframe tbody tr th {\n",
       "        vertical-align: top;\n",
       "    }\n",
       "\n",
       "    .dataframe thead th {\n",
       "        text-align: right;\n",
       "    }\n",
       "</style>\n",
       "<table border=\"1\" class=\"dataframe\">\n",
       "  <thead>\n",
       "    <tr style=\"text-align: right;\">\n",
       "      <th></th>\n",
       "      <th>group1</th>\n",
       "      <th>group2</th>\n",
       "      <th>meandiff</th>\n",
       "      <th>p-adj</th>\n",
       "      <th>lower</th>\n",
       "      <th>upper</th>\n",
       "      <th>reject</th>\n",
       "    </tr>\n",
       "  </thead>\n",
       "  <tbody>\n",
       "  </tbody>\n",
       "</table>\n",
       "</div>"
      ],
      "text/plain": [
       "Empty DataFrame\n",
       "Columns: [group1, group2, meandiff, p-adj, lower, upper, reject]\n",
       "Index: []"
      ]
     },
     "metadata": {},
     "output_type": "display_data"
    },
    {
     "name": "stdout",
     "output_type": "stream",
     "text": [
      "----------------------------------------------------------------------------------------------------\n",
      "----------------------------------------------------------------------------------------------------\n"
     ]
    }
   ],
   "source": [
    "txt = \"(consideration_ans_index + political_views_ans_label + doc_speaker_party) * C(age_ans_label)\"\n",
    "valore_soglia = 0.05\n",
    "calcola_anova([\"quartile_val\"],[[\"df_all\",df_all],[\"df_false\",df_false],[\"df_true\",df_true]],txt,valore_soglia)"
   ]
  },
  {
   "cell_type": "code",
   "execution_count": 39,
   "metadata": {},
   "outputs": [
    {
     "name": "stdout",
     "output_type": "stream",
     "text": [
      "----------------------------------------------------------------------------------------------------\n",
      "df_all\n"
     ]
    },
    {
     "data": {
      "text/plain": [
       "age_ans_label\n",
       "0-18     2.500000\n",
       "19-25    2.700000\n",
       "26-35    2.898305\n",
       "36-50    2.619490\n",
       "51-80    2.710145\n",
       "81+      4.000000\n",
       "Name: doc_truthfulness_value, dtype: float64"
      ]
     },
     "metadata": {},
     "output_type": "display_data"
    },
    {
     "name": "stdout",
     "output_type": "stream",
     "text": [
      "----------------------------------------------------------------------------------------------------\n",
      "df_false\n"
     ]
    },
    {
     "data": {
      "text/plain": [
       "age_ans_label\n",
       "0-18     4.000000\n",
       "19-25    1.600000\n",
       "26-35    2.423729\n",
       "36-50    1.619718\n",
       "51-80    1.826087\n",
       "81+      4.000000\n",
       "Name: doc_truthfulness_value, dtype: float64"
      ]
     },
     "metadata": {},
     "output_type": "display_data"
    },
    {
     "name": "stdout",
     "output_type": "stream",
     "text": [
      "----------------------------------------------------------------------------------------------------\n",
      "df_true\n"
     ]
    },
    {
     "data": {
      "text/plain": [
       "age_ans_label\n",
       "0-18     2.000000\n",
       "19-25    3.550000\n",
       "26-35    3.762712\n",
       "36-50    3.555556\n",
       "51-80    4.239130\n",
       "81+      5.000000\n",
       "Name: doc_truthfulness_value, dtype: float64"
      ]
     },
     "metadata": {},
     "output_type": "display_data"
    }
   ],
   "source": [
    "for df in [[\"df_all\",df_all],[\"df_false\",df_false],[\"df_true\",df_true]]:\n",
    "    print(\"-\" * 100)\n",
    "    print(df[0])\n",
    "    display(df[1].groupby(by=\"age_ans_label\").mean()[\"doc_truthfulness_value\"])"
   ]
  },
  {
   "cell_type": "code",
   "execution_count": 40,
   "metadata": {},
   "outputs": [
    {
     "data": {
      "text/plain": [
       "<Axes: xlabel='age_ans_label'>"
      ]
     },
     "execution_count": 40,
     "metadata": {},
     "output_type": "execute_result"
    },
    {
     "data": {
      "image/png": "[encoded data removed]",
      "text/plain": [
       "<Figure size 1500x300 with 1 Axes>"
      ]
     },
     "metadata": {},
     "output_type": "display_data"
    }
   ],
   "source": [
    "df_true[df_true[\"quartile\"] != \"other_true\"].groupby(by=[\"age_ans_label\",\"quartile\"]).mean()[\"doc_truthfulness_value\"].unstack().plot(kind=\"bar\",figsize=(15, 3))"
   ]
  },
  {
   "attachments": {},
   "cell_type": "markdown",
   "metadata": {},
   "source": [
    "- se lo statement viene giudicato come poco accurato si tenderà a dare una valutazione bassa in media\n",
    "- se invece lo statement viene giudicato come molto accurato si tenderà a dare una valutazione alta in media"
   ]
  },
  {
   "cell_type": "code",
   "execution_count": null,
   "metadata": {},
   "outputs": [],
   "source": [
    "df_all[df_all[\"doc_speaker_trustworthiness_index\"] == 4.0][\"doc_truthfulness_value\"].mean()"
   ]
  },
  {
   "cell_type": "code",
   "execution_count": 95,
   "metadata": {},
   "outputs": [
    {
     "name": "stdout",
     "output_type": "stream",
     "text": [
      "----------------------------------------------------------------------------------------------------\n",
      "doc_truthfulness_value ~ (doc_precision_index + doc_completeness_index + doc_informativeness_index)+ doc_unbiasedness_index + doc_accuracy_index + doc_speaker_trustworthiness_index in df_all\n"
     ]
    },
    {
     "data": {
      "text/html": [
       "<div>\n",
       "<style scoped>\n",
       "    .dataframe tbody tr th:only-of-type {\n",
       "        vertical-align: middle;\n",
       "    }\n",
       "\n",
       "    .dataframe tbody tr th {\n",
       "        vertical-align: top;\n",
       "    }\n",
       "\n",
       "    .dataframe thead th {\n",
       "        text-align: right;\n",
       "    }\n",
       "</style>\n",
       "<table border=\"1\" class=\"dataframe\">\n",
       "  <thead>\n",
       "    <tr style=\"text-align: right;\">\n",
       "      <th></th>\n",
       "      <th>sum_sq</th>\n",
       "      <th>df</th>\n",
       "      <th>mean_sq</th>\n",
       "      <th>F</th>\n",
       "      <th>PR(&gt;F)</th>\n",
       "      <th>eta_sq</th>\n",
       "      <th>omega_sq</th>\n",
       "    </tr>\n",
       "  </thead>\n",
       "  <tbody>\n",
       "    <tr>\n",
       "      <th>doc_accuracy_index</th>\n",
       "      <td>288.784440</td>\n",
       "      <td>1.0</td>\n",
       "      <td>288.784440</td>\n",
       "      <td>231.729986</td>\n",
       "      <td>5.941031e-48</td>\n",
       "      <td>0.157498</td>\n",
       "      <td>0.156712</td>\n",
       "    </tr>\n",
       "    <tr>\n",
       "      <th>doc_speaker_trustworthiness_index</th>\n",
       "      <td>56.690103</td>\n",
       "      <td>1.0</td>\n",
       "      <td>56.690103</td>\n",
       "      <td>45.489975</td>\n",
       "      <td>2.386532e-11</td>\n",
       "      <td>0.030918</td>\n",
       "      <td>0.030218</td>\n",
       "    </tr>\n",
       "    <tr>\n",
       "      <th>doc_informativeness_index</th>\n",
       "      <td>1.299446</td>\n",
       "      <td>1.0</td>\n",
       "      <td>1.299446</td>\n",
       "      <td>1.042718</td>\n",
       "      <td>3.073975e-01</td>\n",
       "      <td>0.000709</td>\n",
       "      <td>0.000029</td>\n",
       "    </tr>\n",
       "  </tbody>\n",
       "</table>\n",
       "</div>"
      ],
      "text/plain": [
       "                                       sum_sq   df     mean_sq           F  \\\n",
       "doc_accuracy_index                 288.784440  1.0  288.784440  231.729986   \n",
       "doc_speaker_trustworthiness_index   56.690103  1.0   56.690103   45.489975   \n",
       "doc_informativeness_index            1.299446  1.0    1.299446    1.042718   \n",
       "\n",
       "                                         PR(>F)    eta_sq  omega_sq  \n",
       "doc_accuracy_index                 5.941031e-48  0.157498  0.156712  \n",
       "doc_speaker_trustworthiness_index  2.386532e-11  0.030918  0.030218  \n",
       "doc_informativeness_index          3.073975e-01  0.000709  0.000029  "
      ]
     },
     "metadata": {},
     "output_type": "display_data"
    },
    {
     "name": "stdout",
     "output_type": "stream",
     "text": [
      "doc_accuracy_index\n"
     ]
    },
    {
     "data": {
      "text/html": [
       "<div>\n",
       "<style scoped>\n",
       "    .dataframe tbody tr th:only-of-type {\n",
       "        vertical-align: middle;\n",
       "    }\n",
       "\n",
       "    .dataframe tbody tr th {\n",
       "        vertical-align: top;\n",
       "    }\n",
       "\n",
       "    .dataframe thead th {\n",
       "        text-align: right;\n",
       "    }\n",
       "</style>\n",
       "<table border=\"1\" class=\"dataframe\">\n",
       "  <thead>\n",
       "    <tr style=\"text-align: right;\">\n",
       "      <th></th>\n",
       "      <th>group1</th>\n",
       "      <th>group2</th>\n",
       "      <th>meandiff</th>\n",
       "      <th>p-adj</th>\n",
       "      <th>lower</th>\n",
       "      <th>upper</th>\n",
       "      <th>reject</th>\n",
       "    </tr>\n",
       "  </thead>\n",
       "  <tbody>\n",
       "    <tr>\n",
       "      <th>3</th>\n",
       "      <td>0.0</td>\n",
       "      <td>4.0</td>\n",
       "      <td>3.4046</td>\n",
       "      <td>0.0</td>\n",
       "      <td>3.1150</td>\n",
       "      <td>3.6942</td>\n",
       "      <td>True</td>\n",
       "    </tr>\n",
       "    <tr>\n",
       "      <th>2</th>\n",
       "      <td>0.0</td>\n",
       "      <td>3.0</td>\n",
       "      <td>2.8735</td>\n",
       "      <td>0.0</td>\n",
       "      <td>2.6014</td>\n",
       "      <td>3.1456</td>\n",
       "      <td>True</td>\n",
       "    </tr>\n",
       "    <tr>\n",
       "      <th>6</th>\n",
       "      <td>1.0</td>\n",
       "      <td>4.0</td>\n",
       "      <td>2.3929</td>\n",
       "      <td>0.0</td>\n",
       "      <td>2.1026</td>\n",
       "      <td>2.6833</td>\n",
       "      <td>True</td>\n",
       "    </tr>\n",
       "  </tbody>\n",
       "</table>\n",
       "</div>"
      ],
      "text/plain": [
       "   group1  group2  meandiff  p-adj   lower   upper  reject\n",
       "3     0.0     4.0    3.4046    0.0  3.1150  3.6942    True\n",
       "2     0.0     3.0    2.8735    0.0  2.6014  3.1456    True\n",
       "6     1.0     4.0    2.3929    0.0  2.1026  2.6833    True"
      ]
     },
     "metadata": {},
     "output_type": "display_data"
    },
    {
     "name": "stdout",
     "output_type": "stream",
     "text": [
      "doc_speaker_trustworthiness_index\n"
     ]
    },
    {
     "data": {
      "text/html": [
       "<div>\n",
       "<style scoped>\n",
       "    .dataframe tbody tr th:only-of-type {\n",
       "        vertical-align: middle;\n",
       "    }\n",
       "\n",
       "    .dataframe tbody tr th {\n",
       "        vertical-align: top;\n",
       "    }\n",
       "\n",
       "    .dataframe thead th {\n",
       "        text-align: right;\n",
       "    }\n",
       "</style>\n",
       "<table border=\"1\" class=\"dataframe\">\n",
       "  <thead>\n",
       "    <tr style=\"text-align: right;\">\n",
       "      <th></th>\n",
       "      <th>group1</th>\n",
       "      <th>group2</th>\n",
       "      <th>meandiff</th>\n",
       "      <th>p-adj</th>\n",
       "      <th>lower</th>\n",
       "      <th>upper</th>\n",
       "      <th>reject</th>\n",
       "    </tr>\n",
       "  </thead>\n",
       "  <tbody>\n",
       "    <tr>\n",
       "      <th>3</th>\n",
       "      <td>0.0</td>\n",
       "      <td>4.0</td>\n",
       "      <td>3.3391</td>\n",
       "      <td>0.0</td>\n",
       "      <td>2.9843</td>\n",
       "      <td>3.6939</td>\n",
       "      <td>True</td>\n",
       "    </tr>\n",
       "    <tr>\n",
       "      <th>2</th>\n",
       "      <td>0.0</td>\n",
       "      <td>3.0</td>\n",
       "      <td>2.7801</td>\n",
       "      <td>0.0</td>\n",
       "      <td>2.4749</td>\n",
       "      <td>3.0853</td>\n",
       "      <td>True</td>\n",
       "    </tr>\n",
       "    <tr>\n",
       "      <th>6</th>\n",
       "      <td>1.0</td>\n",
       "      <td>4.0</td>\n",
       "      <td>2.1430</td>\n",
       "      <td>0.0</td>\n",
       "      <td>1.7885</td>\n",
       "      <td>2.4975</td>\n",
       "      <td>True</td>\n",
       "    </tr>\n",
       "  </tbody>\n",
       "</table>\n",
       "</div>"
      ],
      "text/plain": [
       "   group1  group2  meandiff  p-adj   lower   upper  reject\n",
       "3     0.0     4.0    3.3391    0.0  2.9843  3.6939    True\n",
       "2     0.0     3.0    2.7801    0.0  2.4749  3.0853    True\n",
       "6     1.0     4.0    2.1430    0.0  1.7885  2.4975    True"
      ]
     },
     "metadata": {},
     "output_type": "display_data"
    },
    {
     "name": "stdout",
     "output_type": "stream",
     "text": [
      "----------------------------------------------------------------------------------------------------\n",
      "----------------------------------------------------------------------------------------------------\n"
     ]
    }
   ],
   "source": [
    "## accuratezza del testo\n",
    "\n",
    "txt = \"(doc_precision_index + doc_completeness_index + doc_informativeness_index)+ doc_unbiasedness_index + doc_accuracy_index + doc_speaker_trustworthiness_index\"\n",
    "valore_soglia = 0.1\n",
    "calcola_anova([\"doc_truthfulness_value\"],[[\"df_all\",df_all]],txt,valore_soglia)"
   ]
  },
  {
   "cell_type": "code",
   "execution_count": 42,
   "metadata": {},
   "outputs": [
    {
     "data": {
      "image/png": "[encoded data removed]",
      "text/plain": [
       "<Figure size 1500x300 with 3 Axes>"
      ]
     },
     "metadata": {},
     "output_type": "display_data"
    }
   ],
   "source": [
    "crea_box_plot(\"doc_accuracy_index\",\"doc_truthfulness_value\")"
   ]
  },
  {
   "cell_type": "code",
   "execution_count": 43,
   "metadata": {},
   "outputs": [
    {
     "data": {
      "text/html": [
       "<div>\n",
       "<style scoped>\n",
       "    .dataframe tbody tr th:only-of-type {\n",
       "        vertical-align: middle;\n",
       "    }\n",
       "\n",
       "    .dataframe tbody tr th {\n",
       "        vertical-align: top;\n",
       "    }\n",
       "\n",
       "    .dataframe thead th {\n",
       "        text-align: right;\n",
       "    }\n",
       "</style>\n",
       "<table border=\"1\" class=\"dataframe\">\n",
       "  <thead>\n",
       "    <tr style=\"text-align: right;\">\n",
       "      <th></th>\n",
       "      <th>quartile</th>\n",
       "      <th>doc_accuracy_index</th>\n",
       "    </tr>\n",
       "  </thead>\n",
       "  <tbody>\n",
       "    <tr>\n",
       "      <th>0</th>\n",
       "      <td>correct_false</td>\n",
       "      <td>1.120000</td>\n",
       "    </tr>\n",
       "    <tr>\n",
       "      <th>1</th>\n",
       "      <td>correct_true</td>\n",
       "      <td>3.183333</td>\n",
       "    </tr>\n",
       "    <tr>\n",
       "      <th>5</th>\n",
       "      <td>wrong_false</td>\n",
       "      <td>2.160000</td>\n",
       "    </tr>\n",
       "    <tr>\n",
       "      <th>6</th>\n",
       "      <td>wrong_true</td>\n",
       "      <td>2.400000</td>\n",
       "    </tr>\n",
       "  </tbody>\n",
       "</table>\n",
       "</div>"
      ],
      "text/plain": [
       "        quartile  doc_accuracy_index\n",
       "0  correct_false            1.120000\n",
       "1   correct_true            3.183333\n",
       "5    wrong_false            2.160000\n",
       "6     wrong_true            2.400000"
      ]
     },
     "metadata": {},
     "output_type": "display_data"
    },
    {
     "data": {
      "text/plain": [
       "<Axes: xlabel='quartile', ylabel='doc_accuracy_index'>"
      ]
     },
     "execution_count": 43,
     "metadata": {},
     "output_type": "execute_result"
    },
    {
     "data": {
      "image/png": "[encoded data removed]",
      "text/plain": [
       "<Figure size 640x480 with 1 Axes>"
      ]
     },
     "metadata": {},
     "output_type": "display_data"
    }
   ],
   "source": [
    "df = df_all.groupby([\"quartile\"]).mean()[\"doc_accuracy_index\"]\n",
    "df = df.reset_index(inplace=False)\n",
    "df = df[(df[\"quartile\"] != \"other_true\") & (df[\"quartile\"] != \"other_false\") & (df[\"quartile\"] != \"other\")]\n",
    "df.sort_values(by=\"doc_accuracy_index\", ascending=False)\n",
    "display(df)\n",
    "sns.barplot(x=\"quartile\", y=\"doc_accuracy_index\", data=df,order=[\"correct_false\",\"wrong_false\",\"wrong_true\",\"correct_true\"])"
   ]
  },
  {
   "attachments": {},
   "cell_type": "markdown",
   "metadata": {},
   "source": [
    "- Con i statement FALSE ha più importanza la doc_speaker_trustworthiness_index\n",
    "- Con i statement TRUE ha più importanza la doc_accuracy_index"
   ]
  },
  {
   "cell_type": "code",
   "execution_count": 44,
   "metadata": {},
   "outputs": [
    {
     "name": "stdout",
     "output_type": "stream",
     "text": [
      "----------------------------------------------------------------------------------------------------\n",
      "doc_truthfulness_value ~ doc_accuracy_index + doc_speaker_trustworthiness_index in df_true\n"
     ]
    },
    {
     "data": {
      "text/html": [
       "<div>\n",
       "<style scoped>\n",
       "    .dataframe tbody tr th:only-of-type {\n",
       "        vertical-align: middle;\n",
       "    }\n",
       "\n",
       "    .dataframe tbody tr th {\n",
       "        vertical-align: top;\n",
       "    }\n",
       "\n",
       "    .dataframe thead th {\n",
       "        text-align: right;\n",
       "    }\n",
       "</style>\n",
       "<table border=\"1\" class=\"dataframe\">\n",
       "  <thead>\n",
       "    <tr style=\"text-align: right;\">\n",
       "      <th></th>\n",
       "      <th>sum_sq</th>\n",
       "      <th>df</th>\n",
       "      <th>mean_sq</th>\n",
       "      <th>F</th>\n",
       "      <th>PR(&gt;F)</th>\n",
       "      <th>eta_sq</th>\n",
       "      <th>omega_sq</th>\n",
       "    </tr>\n",
       "  </thead>\n",
       "  <tbody>\n",
       "    <tr>\n",
       "      <th>doc_accuracy_index</th>\n",
       "      <td>81.179638</td>\n",
       "      <td>1.0</td>\n",
       "      <td>81.179638</td>\n",
       "      <td>97.000752</td>\n",
       "      <td>7.298248e-19</td>\n",
       "      <td>0.317308</td>\n",
       "      <td>0.313013</td>\n",
       "    </tr>\n",
       "    <tr>\n",
       "      <th>doc_speaker_trustworthiness_index</th>\n",
       "      <td>9.790213</td>\n",
       "      <td>1.0</td>\n",
       "      <td>9.790213</td>\n",
       "      <td>11.698230</td>\n",
       "      <td>7.604361e-04</td>\n",
       "      <td>0.038267</td>\n",
       "      <td>0.034882</td>\n",
       "    </tr>\n",
       "    <tr>\n",
       "      <th>Residual</th>\n",
       "      <td>164.868708</td>\n",
       "      <td>197.0</td>\n",
       "      <td>0.836897</td>\n",
       "      <td>NaN</td>\n",
       "      <td>NaN</td>\n",
       "      <td>NaN</td>\n",
       "      <td>NaN</td>\n",
       "    </tr>\n",
       "  </tbody>\n",
       "</table>\n",
       "</div>"
      ],
      "text/plain": [
       "                                       sum_sq     df    mean_sq          F  \\\n",
       "doc_accuracy_index                  81.179638    1.0  81.179638  97.000752   \n",
       "doc_speaker_trustworthiness_index    9.790213    1.0   9.790213  11.698230   \n",
       "Residual                           164.868708  197.0   0.836897        NaN   \n",
       "\n",
       "                                         PR(>F)    eta_sq  omega_sq  \n",
       "doc_accuracy_index                 7.298248e-19  0.317308  0.313013  \n",
       "doc_speaker_trustworthiness_index  7.604361e-04  0.038267  0.034882  \n",
       "Residual                                    NaN       NaN       NaN  "
      ]
     },
     "metadata": {},
     "output_type": "display_data"
    },
    {
     "name": "stdout",
     "output_type": "stream",
     "text": [
      "doc_accuracy_index\n"
     ]
    },
    {
     "data": {
      "text/html": [
       "<div>\n",
       "<style scoped>\n",
       "    .dataframe tbody tr th:only-of-type {\n",
       "        vertical-align: middle;\n",
       "    }\n",
       "\n",
       "    .dataframe tbody tr th {\n",
       "        vertical-align: top;\n",
       "    }\n",
       "\n",
       "    .dataframe thead th {\n",
       "        text-align: right;\n",
       "    }\n",
       "</style>\n",
       "<table border=\"1\" class=\"dataframe\">\n",
       "  <thead>\n",
       "    <tr style=\"text-align: right;\">\n",
       "      <th></th>\n",
       "      <th>group1</th>\n",
       "      <th>group2</th>\n",
       "      <th>meandiff</th>\n",
       "      <th>p-adj</th>\n",
       "      <th>lower</th>\n",
       "      <th>upper</th>\n",
       "      <th>reject</th>\n",
       "    </tr>\n",
       "  </thead>\n",
       "  <tbody>\n",
       "    <tr>\n",
       "      <th>3</th>\n",
       "      <td>0.0</td>\n",
       "      <td>4.0</td>\n",
       "      <td>3.2682</td>\n",
       "      <td>0.0</td>\n",
       "      <td>2.4895</td>\n",
       "      <td>4.0469</td>\n",
       "      <td>True</td>\n",
       "    </tr>\n",
       "    <tr>\n",
       "      <th>6</th>\n",
       "      <td>1.0</td>\n",
       "      <td>4.0</td>\n",
       "      <td>2.8012</td>\n",
       "      <td>0.0</td>\n",
       "      <td>2.0465</td>\n",
       "      <td>3.5558</td>\n",
       "      <td>True</td>\n",
       "    </tr>\n",
       "    <tr>\n",
       "      <th>2</th>\n",
       "      <td>0.0</td>\n",
       "      <td>3.0</td>\n",
       "      <td>2.5235</td>\n",
       "      <td>0.0</td>\n",
       "      <td>1.7388</td>\n",
       "      <td>3.3083</td>\n",
       "      <td>True</td>\n",
       "    </tr>\n",
       "  </tbody>\n",
       "</table>\n",
       "</div>"
      ],
      "text/plain": [
       "   group1  group2  meandiff  p-adj   lower   upper  reject\n",
       "3     0.0     4.0    3.2682    0.0  2.4895  4.0469    True\n",
       "6     1.0     4.0    2.8012    0.0  2.0465  3.5558    True\n",
       "2     0.0     3.0    2.5235    0.0  1.7388  3.3083    True"
      ]
     },
     "metadata": {},
     "output_type": "display_data"
    },
    {
     "name": "stdout",
     "output_type": "stream",
     "text": [
      "----------------------------------------------------------------------------------------------------\n",
      "doc_truthfulness_value ~ doc_accuracy_index + doc_speaker_trustworthiness_index in df_false\n"
     ]
    },
    {
     "data": {
      "text/html": [
       "<div>\n",
       "<style scoped>\n",
       "    .dataframe tbody tr th:only-of-type {\n",
       "        vertical-align: middle;\n",
       "    }\n",
       "\n",
       "    .dataframe tbody tr th {\n",
       "        vertical-align: top;\n",
       "    }\n",
       "\n",
       "    .dataframe thead th {\n",
       "        text-align: right;\n",
       "    }\n",
       "</style>\n",
       "<table border=\"1\" class=\"dataframe\">\n",
       "  <thead>\n",
       "    <tr style=\"text-align: right;\">\n",
       "      <th></th>\n",
       "      <th>sum_sq</th>\n",
       "      <th>df</th>\n",
       "      <th>mean_sq</th>\n",
       "      <th>F</th>\n",
       "      <th>PR(&gt;F)</th>\n",
       "      <th>eta_sq</th>\n",
       "      <th>omega_sq</th>\n",
       "    </tr>\n",
       "  </thead>\n",
       "  <tbody>\n",
       "    <tr>\n",
       "      <th>doc_speaker_trustworthiness_index</th>\n",
       "      <td>49.762731</td>\n",
       "      <td>1.0</td>\n",
       "      <td>49.762731</td>\n",
       "      <td>40.991004</td>\n",
       "      <td>1.105929e-09</td>\n",
       "      <td>0.161395</td>\n",
       "      <td>0.156840</td>\n",
       "    </tr>\n",
       "    <tr>\n",
       "      <th>doc_accuracy_index</th>\n",
       "      <td>20.623409</td>\n",
       "      <td>1.0</td>\n",
       "      <td>20.623409</td>\n",
       "      <td>16.988100</td>\n",
       "      <td>5.549142e-05</td>\n",
       "      <td>0.066888</td>\n",
       "      <td>0.062704</td>\n",
       "    </tr>\n",
       "    <tr>\n",
       "      <th>Residual</th>\n",
       "      <td>237.942338</td>\n",
       "      <td>196.0</td>\n",
       "      <td>1.213992</td>\n",
       "      <td>NaN</td>\n",
       "      <td>NaN</td>\n",
       "      <td>NaN</td>\n",
       "      <td>NaN</td>\n",
       "    </tr>\n",
       "  </tbody>\n",
       "</table>\n",
       "</div>"
      ],
      "text/plain": [
       "                                       sum_sq     df    mean_sq          F  \\\n",
       "doc_speaker_trustworthiness_index   49.762731    1.0  49.762731  40.991004   \n",
       "doc_accuracy_index                  20.623409    1.0  20.623409  16.988100   \n",
       "Residual                           237.942338  196.0   1.213992        NaN   \n",
       "\n",
       "                                         PR(>F)    eta_sq  omega_sq  \n",
       "doc_speaker_trustworthiness_index  1.105929e-09  0.161395  0.156840  \n",
       "doc_accuracy_index                 5.549142e-05  0.066888  0.062704  \n",
       "Residual                                    NaN       NaN       NaN  "
      ]
     },
     "metadata": {},
     "output_type": "display_data"
    },
    {
     "name": "stdout",
     "output_type": "stream",
     "text": [
      "doc_speaker_trustworthiness_index\n"
     ]
    },
    {
     "data": {
      "text/html": [
       "<div>\n",
       "<style scoped>\n",
       "    .dataframe tbody tr th:only-of-type {\n",
       "        vertical-align: middle;\n",
       "    }\n",
       "\n",
       "    .dataframe tbody tr th {\n",
       "        vertical-align: top;\n",
       "    }\n",
       "\n",
       "    .dataframe thead th {\n",
       "        text-align: right;\n",
       "    }\n",
       "</style>\n",
       "<table border=\"1\" class=\"dataframe\">\n",
       "  <thead>\n",
       "    <tr style=\"text-align: right;\">\n",
       "      <th></th>\n",
       "      <th>group1</th>\n",
       "      <th>group2</th>\n",
       "      <th>meandiff</th>\n",
       "      <th>p-adj</th>\n",
       "      <th>lower</th>\n",
       "      <th>upper</th>\n",
       "      <th>reject</th>\n",
       "    </tr>\n",
       "  </thead>\n",
       "  <tbody>\n",
       "    <tr>\n",
       "      <th>3</th>\n",
       "      <td>0.0</td>\n",
       "      <td>4.0</td>\n",
       "      <td>3.4391</td>\n",
       "      <td>0.0</td>\n",
       "      <td>2.6567</td>\n",
       "      <td>4.2216</td>\n",
       "      <td>True</td>\n",
       "    </tr>\n",
       "    <tr>\n",
       "      <th>2</th>\n",
       "      <td>0.0</td>\n",
       "      <td>3.0</td>\n",
       "      <td>3.1361</td>\n",
       "      <td>0.0</td>\n",
       "      <td>2.4552</td>\n",
       "      <td>3.8170</td>\n",
       "      <td>True</td>\n",
       "    </tr>\n",
       "    <tr>\n",
       "      <th>6</th>\n",
       "      <td>1.0</td>\n",
       "      <td>4.0</td>\n",
       "      <td>2.3558</td>\n",
       "      <td>0.0</td>\n",
       "      <td>1.5036</td>\n",
       "      <td>3.2081</td>\n",
       "      <td>True</td>\n",
       "    </tr>\n",
       "  </tbody>\n",
       "</table>\n",
       "</div>"
      ],
      "text/plain": [
       "   group1  group2  meandiff  p-adj   lower   upper  reject\n",
       "3     0.0     4.0    3.4391    0.0  2.6567  4.2216    True\n",
       "2     0.0     3.0    3.1361    0.0  2.4552  3.8170    True\n",
       "6     1.0     4.0    2.3558    0.0  1.5036  3.2081    True"
      ]
     },
     "metadata": {},
     "output_type": "display_data"
    },
    {
     "name": "stdout",
     "output_type": "stream",
     "text": [
      "----------------------------------------------------------------------------------------------------\n",
      "----------------------------------------------------------------------------------------------------\n"
     ]
    }
   ],
   "source": [
    "## confronto tra TRUE e FALSE\n",
    "\n",
    "txt = \"doc_accuracy_index + doc_speaker_trustworthiness_index\"\n",
    "valore_soglia = 0.1\n",
    "calcola_anova([\"doc_truthfulness_value\"],[[\"df_true\",df_true],[\"df_false\",df_false]],txt,valore_soglia)"
   ]
  },
  {
   "attachments": {},
   "cell_type": "markdown",
   "metadata": {},
   "source": [
    "- analizzando il testo dello statement:"
   ]
  },
  {
   "cell_type": "code",
   "execution_count": 45,
   "metadata": {},
   "outputs": [
    {
     "data": {
      "image/png": "[encoded data removed]",
      "text/plain": [
       "<Figure size 1500x500 with 4 Axes>"
      ]
     },
     "metadata": {},
     "output_type": "display_data"
    }
   ],
   "source": [
    "crea_box_plot_statement([\"percentuale_parole_significative\",\"fre\",\"sentiment\", \"subjectivity\"])"
   ]
  },
  {
   "attachments": {},
   "cell_type": "markdown",
   "metadata": {},
   "source": [
    "Notiamo che per quanto riguarda le news false quelle che vengono azzeccate come tali:\n",
    "- hanno una percentuale di parole significative più alta, un fre maggiore, sentiment negativo e poca subjectivity.\n",
    "- contrario per le news che vengono classificate male (ricevono punteggio alto nonostante sono false)"
   ]
  },
  {
   "cell_type": "code",
   "execution_count": 46,
   "metadata": {},
   "outputs": [
    {
     "name": "stdout",
     "output_type": "stream",
     "text": [
      "----------------------------------------------------------------------------------------------------\n",
      "quartile_val ~ (subjectivity_label  + sentiment_label) * percentuale_parole_significative_label * fre_label in df_all\n"
     ]
    },
    {
     "data": {
      "text/html": [
       "<div>\n",
       "<style scoped>\n",
       "    .dataframe tbody tr th:only-of-type {\n",
       "        vertical-align: middle;\n",
       "    }\n",
       "\n",
       "    .dataframe tbody tr th {\n",
       "        vertical-align: top;\n",
       "    }\n",
       "\n",
       "    .dataframe thead th {\n",
       "        text-align: right;\n",
       "    }\n",
       "</style>\n",
       "<table border=\"1\" class=\"dataframe\">\n",
       "  <thead>\n",
       "    <tr style=\"text-align: right;\">\n",
       "      <th></th>\n",
       "      <th>sum_sq</th>\n",
       "      <th>df</th>\n",
       "      <th>mean_sq</th>\n",
       "      <th>F</th>\n",
       "      <th>PR(&gt;F)</th>\n",
       "      <th>eta_sq</th>\n",
       "      <th>omega_sq</th>\n",
       "    </tr>\n",
       "  </thead>\n",
       "  <tbody>\n",
       "    <tr>\n",
       "      <th>subjectivity_label:percentuale_parole_significative_label:fre_label</th>\n",
       "      <td>478.553074</td>\n",
       "      <td>16.0</td>\n",
       "      <td>29.909567</td>\n",
       "      <td>33.369085</td>\n",
       "      <td>1.598127e-52</td>\n",
       "      <td>0.238346</td>\n",
       "      <td>0.231100</td>\n",
       "    </tr>\n",
       "    <tr>\n",
       "      <th>sentiment_label:fre_label</th>\n",
       "      <td>171.605446</td>\n",
       "      <td>4.0</td>\n",
       "      <td>42.901361</td>\n",
       "      <td>47.863587</td>\n",
       "      <td>1.056119e-20</td>\n",
       "      <td>0.085469</td>\n",
       "      <td>0.083646</td>\n",
       "    </tr>\n",
       "    <tr>\n",
       "      <th>sentiment_label:percentuale_parole_significative_label:fre_label</th>\n",
       "      <td>128.790656</td>\n",
       "      <td>8.0</td>\n",
       "      <td>16.098832</td>\n",
       "      <td>17.960918</td>\n",
       "      <td>5.284703e-20</td>\n",
       "      <td>0.064145</td>\n",
       "      <td>0.060547</td>\n",
       "    </tr>\n",
       "  </tbody>\n",
       "</table>\n",
       "</div>"
      ],
      "text/plain": [
       "                                                        sum_sq    df  \\\n",
       "subjectivity_label:percentuale_parole_significa...  478.553074  16.0   \n",
       "sentiment_label:fre_label                           171.605446   4.0   \n",
       "sentiment_label:percentuale_parole_significativ...  128.790656   8.0   \n",
       "\n",
       "                                                      mean_sq          F  \\\n",
       "subjectivity_label:percentuale_parole_significa...  29.909567  33.369085   \n",
       "sentiment_label:fre_label                           42.901361  47.863587   \n",
       "sentiment_label:percentuale_parole_significativ...  16.098832  17.960918   \n",
       "\n",
       "                                                          PR(>F)    eta_sq  \\\n",
       "subjectivity_label:percentuale_parole_significa...  1.598127e-52  0.238346   \n",
       "sentiment_label:fre_label                           1.056119e-20  0.085469   \n",
       "sentiment_label:percentuale_parole_significativ...  5.284703e-20  0.064145   \n",
       "\n",
       "                                                    omega_sq  \n",
       "subjectivity_label:percentuale_parole_significa...  0.231100  \n",
       "sentiment_label:fre_label                           0.083646  \n",
       "sentiment_label:percentuale_parole_significativ...  0.060547  "
      ]
     },
     "metadata": {},
     "output_type": "display_data"
    },
    {
     "name": "stdout",
     "output_type": "stream",
     "text": [
      "sentiment_label:fre_label\n",
      "['sentiment_label', 'fre_label']\n"
     ]
    },
    {
     "data": {
      "text/html": [
       "<div>\n",
       "<style scoped>\n",
       "    .dataframe tbody tr th:only-of-type {\n",
       "        vertical-align: middle;\n",
       "    }\n",
       "\n",
       "    .dataframe tbody tr th {\n",
       "        vertical-align: top;\n",
       "    }\n",
       "\n",
       "    .dataframe thead th {\n",
       "        text-align: right;\n",
       "    }\n",
       "</style>\n",
       "<table border=\"1\" class=\"dataframe\">\n",
       "  <thead>\n",
       "    <tr style=\"text-align: right;\">\n",
       "      <th></th>\n",
       "      <th>group1</th>\n",
       "      <th>group2</th>\n",
       "      <th>meandiff</th>\n",
       "      <th>p-adj</th>\n",
       "      <th>lower</th>\n",
       "      <th>upper</th>\n",
       "      <th>reject</th>\n",
       "    </tr>\n",
       "  </thead>\n",
       "  <tbody>\n",
       "    <tr>\n",
       "      <th>16</th>\n",
       "      <td>negative:media</td>\n",
       "      <td>neutral:bassa</td>\n",
       "      <td>1.4615</td>\n",
       "      <td>0.0</td>\n",
       "      <td>0.8800</td>\n",
       "      <td>2.0431</td>\n",
       "      <td>True</td>\n",
       "    </tr>\n",
       "    <tr>\n",
       "      <th>3</th>\n",
       "      <td>negative:alta</td>\n",
       "      <td>neutral:bassa</td>\n",
       "      <td>1.3333</td>\n",
       "      <td>0.0</td>\n",
       "      <td>0.6642</td>\n",
       "      <td>2.0025</td>\n",
       "      <td>True</td>\n",
       "    </tr>\n",
       "    <tr>\n",
       "      <th>30</th>\n",
       "      <td>neutral:media</td>\n",
       "      <td>positive:alta</td>\n",
       "      <td>1.3250</td>\n",
       "      <td>0.0</td>\n",
       "      <td>1.0028</td>\n",
       "      <td>1.6472</td>\n",
       "      <td>True</td>\n",
       "    </tr>\n",
       "  </tbody>\n",
       "</table>\n",
       "</div>"
      ],
      "text/plain": [
       "            group1         group2  meandiff  p-adj   lower   upper  reject\n",
       "16  negative:media  neutral:bassa    1.4615    0.0  0.8800  2.0431    True\n",
       "3    negative:alta  neutral:bassa    1.3333    0.0  0.6642  2.0025    True\n",
       "30   neutral:media  positive:alta    1.3250    0.0  1.0028  1.6472    True"
      ]
     },
     "metadata": {},
     "output_type": "display_data"
    },
    {
     "name": "stdout",
     "output_type": "stream",
     "text": [
      "subjectivity_label:percentuale_parole_significative_label:fre_label\n",
      "['subjectivity_label', 'percentuale_parole_significative_label', 'fre_label']\n"
     ]
    },
    {
     "data": {
      "text/html": [
       "<div>\n",
       "<style scoped>\n",
       "    .dataframe tbody tr th:only-of-type {\n",
       "        vertical-align: middle;\n",
       "    }\n",
       "\n",
       "    .dataframe tbody tr th {\n",
       "        vertical-align: top;\n",
       "    }\n",
       "\n",
       "    .dataframe thead th {\n",
       "        text-align: right;\n",
       "    }\n",
       "</style>\n",
       "<table border=\"1\" class=\"dataframe\">\n",
       "  <thead>\n",
       "    <tr style=\"text-align: right;\">\n",
       "      <th></th>\n",
       "      <th>group1</th>\n",
       "      <th>group2</th>\n",
       "      <th>meandiff</th>\n",
       "      <th>p-adj</th>\n",
       "      <th>lower</th>\n",
       "      <th>upper</th>\n",
       "      <th>reject</th>\n",
       "    </tr>\n",
       "  </thead>\n",
       "  <tbody>\n",
       "    <tr>\n",
       "      <th>9</th>\n",
       "      <td>alta:media:alta</td>\n",
       "      <td>media-alta:alta:bassa</td>\n",
       "      <td>6.0</td>\n",
       "      <td>0.0</td>\n",
       "      <td>4.3582</td>\n",
       "      <td>7.6418</td>\n",
       "      <td>True</td>\n",
       "    </tr>\n",
       "    <tr>\n",
       "      <th>5</th>\n",
       "      <td>alta:media:alta</td>\n",
       "      <td>bassa:bassa:bassa</td>\n",
       "      <td>6.0</td>\n",
       "      <td>0.0</td>\n",
       "      <td>4.3582</td>\n",
       "      <td>7.6418</td>\n",
       "      <td>True</td>\n",
       "    </tr>\n",
       "    <tr>\n",
       "      <th>19</th>\n",
       "      <td>alta:media:alta</td>\n",
       "      <td>media:alta:alta</td>\n",
       "      <td>5.0</td>\n",
       "      <td>0.0</td>\n",
       "      <td>3.5781</td>\n",
       "      <td>6.4219</td>\n",
       "      <td>True</td>\n",
       "    </tr>\n",
       "  </tbody>\n",
       "</table>\n",
       "</div>"
      ],
      "text/plain": [
       "             group1                 group2  meandiff  p-adj   lower   upper  \\\n",
       "9   alta:media:alta  media-alta:alta:bassa       6.0    0.0  4.3582  7.6418   \n",
       "5   alta:media:alta      bassa:bassa:bassa       6.0    0.0  4.3582  7.6418   \n",
       "19  alta:media:alta        media:alta:alta       5.0    0.0  3.5781  6.4219   \n",
       "\n",
       "    reject  \n",
       "9     True  \n",
       "5     True  \n",
       "19    True  "
      ]
     },
     "metadata": {},
     "output_type": "display_data"
    },
    {
     "name": "stdout",
     "output_type": "stream",
     "text": [
      "sentiment_label:percentuale_parole_significative_label:fre_label\n",
      "['sentiment_label', 'percentuale_parole_significative_label', 'fre_label']\n"
     ]
    },
    {
     "data": {
      "text/html": [
       "<div>\n",
       "<style scoped>\n",
       "    .dataframe tbody tr th:only-of-type {\n",
       "        vertical-align: middle;\n",
       "    }\n",
       "\n",
       "    .dataframe tbody tr th {\n",
       "        vertical-align: top;\n",
       "    }\n",
       "\n",
       "    .dataframe thead th {\n",
       "        text-align: right;\n",
       "    }\n",
       "</style>\n",
       "<table border=\"1\" class=\"dataframe\">\n",
       "  <thead>\n",
       "    <tr style=\"text-align: right;\">\n",
       "      <th></th>\n",
       "      <th>group1</th>\n",
       "      <th>group2</th>\n",
       "      <th>meandiff</th>\n",
       "      <th>p-adj</th>\n",
       "      <th>lower</th>\n",
       "      <th>upper</th>\n",
       "      <th>reject</th>\n",
       "    </tr>\n",
       "  </thead>\n",
       "  <tbody>\n",
       "    <tr>\n",
       "      <th>25</th>\n",
       "      <td>negative:alta:media</td>\n",
       "      <td>neutral:bassa:bassa</td>\n",
       "      <td>4.000</td>\n",
       "      <td>0.0</td>\n",
       "      <td>2.5042</td>\n",
       "      <td>5.4958</td>\n",
       "      <td>True</td>\n",
       "    </tr>\n",
       "    <tr>\n",
       "      <th>42</th>\n",
       "      <td>negative:media:alta</td>\n",
       "      <td>neutral:bassa:bassa</td>\n",
       "      <td>3.400</td>\n",
       "      <td>0.0</td>\n",
       "      <td>2.0621</td>\n",
       "      <td>4.7379</td>\n",
       "      <td>True</td>\n",
       "    </tr>\n",
       "    <tr>\n",
       "      <th>112</th>\n",
       "      <td>neutral:alta:media</td>\n",
       "      <td>neutral:bassa:bassa</td>\n",
       "      <td>3.375</td>\n",
       "      <td>0.0</td>\n",
       "      <td>2.0796</td>\n",
       "      <td>4.6704</td>\n",
       "      <td>True</td>\n",
       "    </tr>\n",
       "  </tbody>\n",
       "</table>\n",
       "</div>"
      ],
      "text/plain": [
       "                  group1               group2  meandiff  p-adj   lower  \\\n",
       "25   negative:alta:media  neutral:bassa:bassa     4.000    0.0  2.5042   \n",
       "42   negative:media:alta  neutral:bassa:bassa     3.400    0.0  2.0621   \n",
       "112   neutral:alta:media  neutral:bassa:bassa     3.375    0.0  2.0796   \n",
       "\n",
       "      upper  reject  \n",
       "25   5.4958    True  \n",
       "42   4.7379    True  \n",
       "112  4.6704    True  "
      ]
     },
     "metadata": {},
     "output_type": "display_data"
    },
    {
     "name": "stdout",
     "output_type": "stream",
     "text": [
      "----------------------------------------------------------------------------------------------------\n",
      "quartile_val ~ (subjectivity_label  + sentiment_label) * percentuale_parole_significative_label * fre_label in df_false\n"
     ]
    },
    {
     "data": {
      "text/html": [
       "<div>\n",
       "<style scoped>\n",
       "    .dataframe tbody tr th:only-of-type {\n",
       "        vertical-align: middle;\n",
       "    }\n",
       "\n",
       "    .dataframe tbody tr th {\n",
       "        vertical-align: top;\n",
       "    }\n",
       "\n",
       "    .dataframe thead th {\n",
       "        text-align: right;\n",
       "    }\n",
       "</style>\n",
       "<table border=\"1\" class=\"dataframe\">\n",
       "  <thead>\n",
       "    <tr style=\"text-align: right;\">\n",
       "      <th></th>\n",
       "      <th>sum_sq</th>\n",
       "      <th>df</th>\n",
       "      <th>mean_sq</th>\n",
       "      <th>F</th>\n",
       "      <th>PR(&gt;F)</th>\n",
       "      <th>eta_sq</th>\n",
       "      <th>omega_sq</th>\n",
       "    </tr>\n",
       "  </thead>\n",
       "  <tbody>\n",
       "    <tr>\n",
       "      <th>subjectivity_label</th>\n",
       "      <td>195.394235</td>\n",
       "      <td>4.0</td>\n",
       "      <td>48.848559</td>\n",
       "      <td>237.722432</td>\n",
       "      <td>2.219501e-63</td>\n",
       "      <td>0.484208</td>\n",
       "      <td>0.481925</td>\n",
       "    </tr>\n",
       "    <tr>\n",
       "      <th>sentiment_label</th>\n",
       "      <td>77.383554</td>\n",
       "      <td>2.0</td>\n",
       "      <td>38.691777</td>\n",
       "      <td>188.294261</td>\n",
       "      <td>4.671044e-30</td>\n",
       "      <td>0.191765</td>\n",
       "      <td>0.190649</td>\n",
       "    </tr>\n",
       "    <tr>\n",
       "      <th>subjectivity_label:percentuale_parole_significative_label:fre_label</th>\n",
       "      <td>25.816676</td>\n",
       "      <td>4.0</td>\n",
       "      <td>6.454169</td>\n",
       "      <td>31.409335</td>\n",
       "      <td>5.504084e-20</td>\n",
       "      <td>0.063976</td>\n",
       "      <td>0.061908</td>\n",
       "    </tr>\n",
       "  </tbody>\n",
       "</table>\n",
       "</div>"
      ],
      "text/plain": [
       "                                                        sum_sq   df  \\\n",
       "subjectivity_label                                  195.394235  4.0   \n",
       "sentiment_label                                      77.383554  2.0   \n",
       "subjectivity_label:percentuale_parole_significa...   25.816676  4.0   \n",
       "\n",
       "                                                      mean_sq           F  \\\n",
       "subjectivity_label                                  48.848559  237.722432   \n",
       "sentiment_label                                     38.691777  188.294261   \n",
       "subjectivity_label:percentuale_parole_significa...   6.454169   31.409335   \n",
       "\n",
       "                                                          PR(>F)    eta_sq  \\\n",
       "subjectivity_label                                  2.219501e-63  0.484208   \n",
       "sentiment_label                                     4.671044e-30  0.191765   \n",
       "subjectivity_label:percentuale_parole_significa...  5.504084e-20  0.063976   \n",
       "\n",
       "                                                    omega_sq  \n",
       "subjectivity_label                                  0.481925  \n",
       "sentiment_label                                     0.190649  \n",
       "subjectivity_label:percentuale_parole_significa...  0.061908  "
      ]
     },
     "metadata": {},
     "output_type": "display_data"
    },
    {
     "name": "stdout",
     "output_type": "stream",
     "text": [
      "subjectivity_label\n"
     ]
    },
    {
     "data": {
      "text/html": [
       "<div>\n",
       "<style scoped>\n",
       "    .dataframe tbody tr th:only-of-type {\n",
       "        vertical-align: middle;\n",
       "    }\n",
       "\n",
       "    .dataframe tbody tr th {\n",
       "        vertical-align: top;\n",
       "    }\n",
       "\n",
       "    .dataframe thead th {\n",
       "        text-align: right;\n",
       "    }\n",
       "</style>\n",
       "<table border=\"1\" class=\"dataframe\">\n",
       "  <thead>\n",
       "    <tr style=\"text-align: right;\">\n",
       "      <th></th>\n",
       "      <th>group1</th>\n",
       "      <th>group2</th>\n",
       "      <th>meandiff</th>\n",
       "      <th>p-adj</th>\n",
       "      <th>lower</th>\n",
       "      <th>upper</th>\n",
       "      <th>reject</th>\n",
       "    </tr>\n",
       "  </thead>\n",
       "  <tbody>\n",
       "    <tr>\n",
       "      <th>2</th>\n",
       "      <td>alta</td>\n",
       "      <td>media-alta</td>\n",
       "      <td>0.8333</td>\n",
       "      <td>0.0002</td>\n",
       "      <td>0.3049</td>\n",
       "      <td>1.3618</td>\n",
       "      <td>True</td>\n",
       "    </tr>\n",
       "    <tr>\n",
       "      <th>0</th>\n",
       "      <td>alta</td>\n",
       "      <td>bassa</td>\n",
       "      <td>0.5917</td>\n",
       "      <td>0.0030</td>\n",
       "      <td>0.1464</td>\n",
       "      <td>1.0371</td>\n",
       "      <td>True</td>\n",
       "    </tr>\n",
       "    <tr>\n",
       "      <th>6</th>\n",
       "      <td>bassa</td>\n",
       "      <td>media-bassa</td>\n",
       "      <td>-0.5917</td>\n",
       "      <td>0.0030</td>\n",
       "      <td>-1.0371</td>\n",
       "      <td>-0.1464</td>\n",
       "      <td>True</td>\n",
       "    </tr>\n",
       "  </tbody>\n",
       "</table>\n",
       "</div>"
      ],
      "text/plain": [
       "  group1       group2  meandiff   p-adj   lower   upper  reject\n",
       "2   alta   media-alta    0.8333  0.0002  0.3049  1.3618    True\n",
       "0   alta        bassa    0.5917  0.0030  0.1464  1.0371    True\n",
       "6  bassa  media-bassa   -0.5917  0.0030 -1.0371 -0.1464    True"
      ]
     },
     "metadata": {},
     "output_type": "display_data"
    },
    {
     "name": "stdout",
     "output_type": "stream",
     "text": [
      "sentiment_label\n"
     ]
    },
    {
     "data": {
      "text/html": [
       "<div>\n",
       "<style scoped>\n",
       "    .dataframe tbody tr th:only-of-type {\n",
       "        vertical-align: middle;\n",
       "    }\n",
       "\n",
       "    .dataframe tbody tr th {\n",
       "        vertical-align: top;\n",
       "    }\n",
       "\n",
       "    .dataframe thead th {\n",
       "        text-align: right;\n",
       "    }\n",
       "</style>\n",
       "<table border=\"1\" class=\"dataframe\">\n",
       "  <thead>\n",
       "    <tr style=\"text-align: right;\">\n",
       "      <th></th>\n",
       "      <th>group1</th>\n",
       "      <th>group2</th>\n",
       "      <th>meandiff</th>\n",
       "      <th>p-adj</th>\n",
       "      <th>lower</th>\n",
       "      <th>upper</th>\n",
       "      <th>reject</th>\n",
       "    </tr>\n",
       "  </thead>\n",
       "  <tbody>\n",
       "    <tr>\n",
       "      <th>2</th>\n",
       "      <td>neutral</td>\n",
       "      <td>positive</td>\n",
       "      <td>-0.334</td>\n",
       "      <td>0.0268</td>\n",
       "      <td>-0.6371</td>\n",
       "      <td>-0.0309</td>\n",
       "      <td>True</td>\n",
       "    </tr>\n",
       "  </tbody>\n",
       "</table>\n",
       "</div>"
      ],
      "text/plain": [
       "    group1    group2  meandiff   p-adj   lower   upper  reject\n",
       "2  neutral  positive    -0.334  0.0268 -0.6371 -0.0309    True"
      ]
     },
     "metadata": {},
     "output_type": "display_data"
    },
    {
     "name": "stdout",
     "output_type": "stream",
     "text": [
      "subjectivity_label:percentuale_parole_significative_label:fre_label\n",
      "['subjectivity_label', 'percentuale_parole_significative_label', 'fre_label']\n"
     ]
    },
    {
     "data": {
      "text/html": [
       "<div>\n",
       "<style scoped>\n",
       "    .dataframe tbody tr th:only-of-type {\n",
       "        vertical-align: middle;\n",
       "    }\n",
       "\n",
       "    .dataframe tbody tr th {\n",
       "        vertical-align: top;\n",
       "    }\n",
       "\n",
       "    .dataframe thead th {\n",
       "        text-align: right;\n",
       "    }\n",
       "</style>\n",
       "<table border=\"1\" class=\"dataframe\">\n",
       "  <thead>\n",
       "    <tr style=\"text-align: right;\">\n",
       "      <th></th>\n",
       "      <th>group1</th>\n",
       "      <th>group2</th>\n",
       "      <th>meandiff</th>\n",
       "      <th>p-adj</th>\n",
       "      <th>lower</th>\n",
       "      <th>upper</th>\n",
       "      <th>reject</th>\n",
       "    </tr>\n",
       "  </thead>\n",
       "  <tbody>\n",
       "    <tr>\n",
       "      <th>9</th>\n",
       "      <td>alta:media:alta</td>\n",
       "      <td>media-alta:alta:bassa</td>\n",
       "      <td>6.0</td>\n",
       "      <td>0.0</td>\n",
       "      <td>4.3582</td>\n",
       "      <td>7.6418</td>\n",
       "      <td>True</td>\n",
       "    </tr>\n",
       "    <tr>\n",
       "      <th>5</th>\n",
       "      <td>alta:media:alta</td>\n",
       "      <td>bassa:bassa:bassa</td>\n",
       "      <td>6.0</td>\n",
       "      <td>0.0</td>\n",
       "      <td>4.3582</td>\n",
       "      <td>7.6418</td>\n",
       "      <td>True</td>\n",
       "    </tr>\n",
       "    <tr>\n",
       "      <th>19</th>\n",
       "      <td>alta:media:alta</td>\n",
       "      <td>media:alta:alta</td>\n",
       "      <td>5.0</td>\n",
       "      <td>0.0</td>\n",
       "      <td>3.5781</td>\n",
       "      <td>6.4219</td>\n",
       "      <td>True</td>\n",
       "    </tr>\n",
       "  </tbody>\n",
       "</table>\n",
       "</div>"
      ],
      "text/plain": [
       "             group1                 group2  meandiff  p-adj   lower   upper  \\\n",
       "9   alta:media:alta  media-alta:alta:bassa       6.0    0.0  4.3582  7.6418   \n",
       "5   alta:media:alta      bassa:bassa:bassa       6.0    0.0  4.3582  7.6418   \n",
       "19  alta:media:alta        media:alta:alta       5.0    0.0  3.5781  6.4219   \n",
       "\n",
       "    reject  \n",
       "9     True  \n",
       "5     True  \n",
       "19    True  "
      ]
     },
     "metadata": {},
     "output_type": "display_data"
    },
    {
     "name": "stdout",
     "output_type": "stream",
     "text": [
      "----------------------------------------------------------------------------------------------------\n",
      "----------------------------------------------------------------------------------------------------\n"
     ]
    }
   ],
   "source": [
    "## STATEMENT FALSE\n",
    "\n",
    "txt = \"(subjectivity_label  + sentiment_label) * percentuale_parole_significative_label * fre_label\"\n",
    "valore_soglia = 0.05\n",
    "calcola_anova([\"quartile_val\"],[[\"df_all\",df_all],[\"df_false\",df_false]],txt,valore_soglia)"
   ]
  },
  {
   "cell_type": "code",
   "execution_count": 47,
   "metadata": {},
   "outputs": [
    {
     "data": {
      "text/html": [
       "<div>\n",
       "<style scoped>\n",
       "    .dataframe tbody tr th:only-of-type {\n",
       "        vertical-align: middle;\n",
       "    }\n",
       "\n",
       "    .dataframe tbody tr th {\n",
       "        vertical-align: top;\n",
       "    }\n",
       "\n",
       "    .dataframe thead th {\n",
       "        text-align: right;\n",
       "    }\n",
       "</style>\n",
       "<table border=\"1\" class=\"dataframe\">\n",
       "  <thead>\n",
       "    <tr style=\"text-align: right;\">\n",
       "      <th></th>\n",
       "      <th>quartile</th>\n",
       "      <th>percentuale_parole_significative</th>\n",
       "      <th>fre</th>\n",
       "      <th>sentiment</th>\n",
       "      <th>subjectivity</th>\n",
       "    </tr>\n",
       "  </thead>\n",
       "  <tbody>\n",
       "    <tr>\n",
       "      <th>0</th>\n",
       "      <td>correct_false</td>\n",
       "      <td>0.754828</td>\n",
       "      <td>70.598000</td>\n",
       "      <td>-0.030000</td>\n",
       "      <td>0.150000</td>\n",
       "    </tr>\n",
       "    <tr>\n",
       "      <th>1</th>\n",
       "      <td>other_false</td>\n",
       "      <td>0.647294</td>\n",
       "      <td>60.149596</td>\n",
       "      <td>0.050084</td>\n",
       "      <td>0.385101</td>\n",
       "    </tr>\n",
       "    <tr>\n",
       "      <th>2</th>\n",
       "      <td>wrong_false</td>\n",
       "      <td>0.593333</td>\n",
       "      <td>58.588000</td>\n",
       "      <td>0.075000</td>\n",
       "      <td>0.252778</td>\n",
       "    </tr>\n",
       "  </tbody>\n",
       "</table>\n",
       "</div>"
      ],
      "text/plain": [
       "        quartile  percentuale_parole_significative        fre  sentiment  \\\n",
       "0  correct_false                          0.754828  70.598000  -0.030000   \n",
       "1    other_false                          0.647294  60.149596   0.050084   \n",
       "2    wrong_false                          0.593333  58.588000   0.075000   \n",
       "\n",
       "   subjectivity  \n",
       "0      0.150000  \n",
       "1      0.385101  \n",
       "2      0.252778  "
      ]
     },
     "execution_count": 47,
     "metadata": {},
     "output_type": "execute_result"
    }
   ],
   "source": [
    "df_false.groupby(\"quartile\").mean()[[\"percentuale_parole_significative\",\"fre\",\"sentiment\", \"subjectivity\"]].reset_index(inplace=False)"
   ]
  },
  {
   "attachments": {},
   "cell_type": "markdown",
   "metadata": {},
   "source": [
    "Notiamo che per quanto riguarda le news vere quelle che vengono azzeccate come tali (correct):\n",
    "- hanno un fre maggiore, sentiment minore e più subjectivity.\n",
    "- contrario per le news positive che vengono classificate male (ricevono punteggio basso nonostante sono vere)\n"
   ]
  },
  {
   "cell_type": "code",
   "execution_count": 74,
   "metadata": {},
   "outputs": [
    {
     "name": "stdout",
     "output_type": "stream",
     "text": [
      "----------------------------------------------------------------------------------------------------\n",
      "quartile_val ~ (subjectivity_label  + sentiment_label) * percentuale_parole_significative_label * fre_label in df_all\n"
     ]
    },
    {
     "data": {
      "text/html": [
       "<div>\n",
       "<style scoped>\n",
       "    .dataframe tbody tr th:only-of-type {\n",
       "        vertical-align: middle;\n",
       "    }\n",
       "\n",
       "    .dataframe tbody tr th {\n",
       "        vertical-align: top;\n",
       "    }\n",
       "\n",
       "    .dataframe thead th {\n",
       "        text-align: right;\n",
       "    }\n",
       "</style>\n",
       "<table border=\"1\" class=\"dataframe\">\n",
       "  <thead>\n",
       "    <tr style=\"text-align: right;\">\n",
       "      <th></th>\n",
       "      <th>sum_sq</th>\n",
       "      <th>df</th>\n",
       "      <th>mean_sq</th>\n",
       "      <th>F</th>\n",
       "      <th>PR(&gt;F)</th>\n",
       "      <th>eta_sq</th>\n",
       "      <th>omega_sq</th>\n",
       "    </tr>\n",
       "  </thead>\n",
       "  <tbody>\n",
       "    <tr>\n",
       "      <th>subjectivity_label:percentuale_parole_significative_label:fre_label</th>\n",
       "      <td>478.553074</td>\n",
       "      <td>16.0</td>\n",
       "      <td>29.909567</td>\n",
       "      <td>33.369085</td>\n",
       "      <td>1.598127e-52</td>\n",
       "      <td>0.238346</td>\n",
       "      <td>0.231100</td>\n",
       "    </tr>\n",
       "    <tr>\n",
       "      <th>sentiment_label:fre_label</th>\n",
       "      <td>171.605446</td>\n",
       "      <td>4.0</td>\n",
       "      <td>42.901361</td>\n",
       "      <td>47.863587</td>\n",
       "      <td>1.056119e-20</td>\n",
       "      <td>0.085469</td>\n",
       "      <td>0.083646</td>\n",
       "    </tr>\n",
       "    <tr>\n",
       "      <th>sentiment_label:percentuale_parole_significative_label:fre_label</th>\n",
       "      <td>128.790656</td>\n",
       "      <td>8.0</td>\n",
       "      <td>16.098832</td>\n",
       "      <td>17.960918</td>\n",
       "      <td>5.284703e-20</td>\n",
       "      <td>0.064145</td>\n",
       "      <td>0.060547</td>\n",
       "    </tr>\n",
       "  </tbody>\n",
       "</table>\n",
       "</div>"
      ],
      "text/plain": [
       "                                                        sum_sq    df  \\\n",
       "subjectivity_label:percentuale_parole_significa...  478.553074  16.0   \n",
       "sentiment_label:fre_label                           171.605446   4.0   \n",
       "sentiment_label:percentuale_parole_significativ...  128.790656   8.0   \n",
       "\n",
       "                                                      mean_sq          F  \\\n",
       "subjectivity_label:percentuale_parole_significa...  29.909567  33.369085   \n",
       "sentiment_label:fre_label                           42.901361  47.863587   \n",
       "sentiment_label:percentuale_parole_significativ...  16.098832  17.960918   \n",
       "\n",
       "                                                          PR(>F)    eta_sq  \\\n",
       "subjectivity_label:percentuale_parole_significa...  1.598127e-52  0.238346   \n",
       "sentiment_label:fre_label                           1.056119e-20  0.085469   \n",
       "sentiment_label:percentuale_parole_significativ...  5.284703e-20  0.064145   \n",
       "\n",
       "                                                    omega_sq  \n",
       "subjectivity_label:percentuale_parole_significa...  0.231100  \n",
       "sentiment_label:fre_label                           0.083646  \n",
       "sentiment_label:percentuale_parole_significativ...  0.060547  "
      ]
     },
     "metadata": {},
     "output_type": "display_data"
    },
    {
     "name": "stdout",
     "output_type": "stream",
     "text": [
      "subjectivity_label:percentuale_parole_significative_label:fre_label\n",
      "['subjectivity_label', 'percentuale_parole_significative_label', 'fre_label']\n"
     ]
    },
    {
     "data": {
      "text/html": [
       "<div>\n",
       "<style scoped>\n",
       "    .dataframe tbody tr th:only-of-type {\n",
       "        vertical-align: middle;\n",
       "    }\n",
       "\n",
       "    .dataframe tbody tr th {\n",
       "        vertical-align: top;\n",
       "    }\n",
       "\n",
       "    .dataframe thead th {\n",
       "        text-align: right;\n",
       "    }\n",
       "</style>\n",
       "<table border=\"1\" class=\"dataframe\">\n",
       "  <thead>\n",
       "    <tr style=\"text-align: right;\">\n",
       "      <th></th>\n",
       "      <th>group1</th>\n",
       "      <th>group2</th>\n",
       "      <th>meandiff</th>\n",
       "      <th>p-adj</th>\n",
       "      <th>lower</th>\n",
       "      <th>upper</th>\n",
       "      <th>reject</th>\n",
       "    </tr>\n",
       "  </thead>\n",
       "  <tbody>\n",
       "    <tr>\n",
       "      <th>9</th>\n",
       "      <td>alta:media:alta</td>\n",
       "      <td>media-alta:alta:bassa</td>\n",
       "      <td>6.0</td>\n",
       "      <td>0.0</td>\n",
       "      <td>4.3582</td>\n",
       "      <td>7.6418</td>\n",
       "      <td>True</td>\n",
       "    </tr>\n",
       "    <tr>\n",
       "      <th>5</th>\n",
       "      <td>alta:media:alta</td>\n",
       "      <td>bassa:bassa:bassa</td>\n",
       "      <td>6.0</td>\n",
       "      <td>0.0</td>\n",
       "      <td>4.3582</td>\n",
       "      <td>7.6418</td>\n",
       "      <td>True</td>\n",
       "    </tr>\n",
       "    <tr>\n",
       "      <th>19</th>\n",
       "      <td>alta:media:alta</td>\n",
       "      <td>media:alta:alta</td>\n",
       "      <td>5.0</td>\n",
       "      <td>0.0</td>\n",
       "      <td>3.5781</td>\n",
       "      <td>6.4219</td>\n",
       "      <td>True</td>\n",
       "    </tr>\n",
       "  </tbody>\n",
       "</table>\n",
       "</div>"
      ],
      "text/plain": [
       "             group1                 group2  meandiff  p-adj   lower   upper  \\\n",
       "9   alta:media:alta  media-alta:alta:bassa       6.0    0.0  4.3582  7.6418   \n",
       "5   alta:media:alta      bassa:bassa:bassa       6.0    0.0  4.3582  7.6418   \n",
       "19  alta:media:alta        media:alta:alta       5.0    0.0  3.5781  6.4219   \n",
       "\n",
       "    reject  \n",
       "9     True  \n",
       "5     True  \n",
       "19    True  "
      ]
     },
     "metadata": {},
     "output_type": "display_data"
    },
    {
     "name": "stdout",
     "output_type": "stream",
     "text": [
      "----------------------------------------------------------------------------------------------------\n",
      "----------------------------------------------------------------------------------------------------\n"
     ]
    }
   ],
   "source": [
    "####################### TESI\n",
    "\n",
    "txt = \"(subjectivity_label  + sentiment_label) * percentuale_parole_significative_label * fre_label\"\n",
    "valore_soglia = 0.1\n",
    "calcola_anova([\"quartile_val\"],[[\"df_all\",df_all]],txt,valore_soglia)"
   ]
  },
  {
   "cell_type": "code",
   "execution_count": 67,
   "metadata": {},
   "outputs": [
    {
     "data": {
      "text/plain": [
       "3.0"
      ]
     },
     "execution_count": 67,
     "metadata": {},
     "output_type": "execute_result"
    }
   ],
   "source": [
    "df_all[(df_all[\"subjectivity_label\"] == \"alta\") & \n",
    "       (df_all[\"percentuale_parole_significative_label\"] == \"media\") &\n",
    "       (df_all[\"fre_label\"] == \"alta\")][\"doc_truthfulness_value\"].mean()"
   ]
  },
  {
   "cell_type": "code",
   "execution_count": 72,
   "metadata": {},
   "outputs": [
    {
     "data": {
      "text/plain": [
       "4.4"
      ]
     },
     "execution_count": 72,
     "metadata": {},
     "output_type": "execute_result"
    }
   ],
   "source": [
    "df_all[(df_all[\"subjectivity_label\"] == \"bassa\") & \n",
    "       (df_all[\"percentuale_parole_significative_label\"] == \"bassa\") &\n",
    "       (df_all[\"fre_label\"] == \"bassa\")][\"doc_truthfulness_value\"].mean()"
   ]
  },
  {
   "attachments": {},
   "cell_type": "markdown",
   "metadata": {},
   "source": [
    "##### RELAZIONI"
   ]
  },
  {
   "attachments": {},
   "cell_type": "markdown",
   "metadata": {},
   "source": [
    "Verifico se lo scrittore di un determinato partito politico ha delle caratteristiche specifiche con cui scrive lo statement"
   ]
  },
  {
   "cell_type": "code",
   "execution_count": 50,
   "metadata": {},
   "outputs": [
    {
     "name": "stdout",
     "output_type": "stream",
     "text": [
      "----------------------------------------------------------------------------------------------------\n",
      "doc_speaker_party_val ~ (subjectivity_label * sentiment_label * fre_label  + numero_parole_frase)* percentuale_parole_significative_label  in df_all\n"
     ]
    },
    {
     "data": {
      "text/html": [
       "<div>\n",
       "<style scoped>\n",
       "    .dataframe tbody tr th:only-of-type {\n",
       "        vertical-align: middle;\n",
       "    }\n",
       "\n",
       "    .dataframe tbody tr th {\n",
       "        vertical-align: top;\n",
       "    }\n",
       "\n",
       "    .dataframe thead th {\n",
       "        text-align: right;\n",
       "    }\n",
       "</style>\n",
       "<table border=\"1\" class=\"dataframe\">\n",
       "  <thead>\n",
       "    <tr style=\"text-align: right;\">\n",
       "      <th></th>\n",
       "      <th>sum_sq</th>\n",
       "      <th>df</th>\n",
       "      <th>mean_sq</th>\n",
       "      <th>F</th>\n",
       "      <th>PR(&gt;F)</th>\n",
       "      <th>eta_sq</th>\n",
       "      <th>omega_sq</th>\n",
       "    </tr>\n",
       "  </thead>\n",
       "  <tbody>\n",
       "    <tr>\n",
       "      <th>subjectivity_label:sentiment_label:fre_label</th>\n",
       "      <td>81.435545</td>\n",
       "      <td>16.0</td>\n",
       "      <td>5.089722</td>\n",
       "      <td>30.411389</td>\n",
       "      <td>1.344348e-13</td>\n",
       "      <td>0.166573</td>\n",
       "      <td>0.161041</td>\n",
       "    </tr>\n",
       "    <tr>\n",
       "      <th>subjectivity_label:sentiment_label:fre_label:percentuale_parole_significative_label</th>\n",
       "      <td>52.693576</td>\n",
       "      <td>32.0</td>\n",
       "      <td>1.646674</td>\n",
       "      <td>9.838977</td>\n",
       "      <td>3.071822e-17</td>\n",
       "      <td>0.107783</td>\n",
       "      <td>0.096795</td>\n",
       "    </tr>\n",
       "    <tr>\n",
       "      <th>subjectivity_label:fre_label:percentuale_parole_significative_label</th>\n",
       "      <td>41.420372</td>\n",
       "      <td>16.0</td>\n",
       "      <td>2.588773</td>\n",
       "      <td>15.468074</td>\n",
       "      <td>2.347963e-07</td>\n",
       "      <td>0.084724</td>\n",
       "      <td>0.079219</td>\n",
       "    </tr>\n",
       "  </tbody>\n",
       "</table>\n",
       "</div>"
      ],
      "text/plain": [
       "                                                       sum_sq    df   mean_sq  \\\n",
       "subjectivity_label:sentiment_label:fre_label        81.435545  16.0  5.089722   \n",
       "subjectivity_label:sentiment_label:fre_label:pe...  52.693576  32.0  1.646674   \n",
       "subjectivity_label:fre_label:percentuale_parole...  41.420372  16.0  2.588773   \n",
       "\n",
       "                                                            F        PR(>F)  \\\n",
       "subjectivity_label:sentiment_label:fre_label        30.411389  1.344348e-13   \n",
       "subjectivity_label:sentiment_label:fre_label:pe...   9.838977  3.071822e-17   \n",
       "subjectivity_label:fre_label:percentuale_parole...  15.468074  2.347963e-07   \n",
       "\n",
       "                                                      eta_sq  omega_sq  \n",
       "subjectivity_label:sentiment_label:fre_label        0.166573  0.161041  \n",
       "subjectivity_label:sentiment_label:fre_label:pe...  0.107783  0.096795  \n",
       "subjectivity_label:fre_label:percentuale_parole...  0.084724  0.079219  "
      ]
     },
     "metadata": {},
     "output_type": "display_data"
    },
    {
     "name": "stdout",
     "output_type": "stream",
     "text": [
      "subjectivity_label:sentiment_label:fre_label\n",
      "['subjectivity_label', 'sentiment_label', 'fre_label']\n"
     ]
    },
    {
     "data": {
      "text/html": [
       "<div>\n",
       "<style scoped>\n",
       "    .dataframe tbody tr th:only-of-type {\n",
       "        vertical-align: middle;\n",
       "    }\n",
       "\n",
       "    .dataframe tbody tr th {\n",
       "        vertical-align: top;\n",
       "    }\n",
       "\n",
       "    .dataframe thead th {\n",
       "        text-align: right;\n",
       "    }\n",
       "</style>\n",
       "<table border=\"1\" class=\"dataframe\">\n",
       "  <thead>\n",
       "    <tr style=\"text-align: right;\">\n",
       "      <th></th>\n",
       "      <th>group1</th>\n",
       "      <th>group2</th>\n",
       "      <th>meandiff</th>\n",
       "      <th>p-adj</th>\n",
       "      <th>lower</th>\n",
       "      <th>upper</th>\n",
       "      <th>reject</th>\n",
       "    </tr>\n",
       "  </thead>\n",
       "  <tbody>\n",
       "    <tr>\n",
       "      <th>118</th>\n",
       "      <td>bassa:negative:alta</td>\n",
       "      <td>media-bassa:neutral:media</td>\n",
       "      <td>1.0</td>\n",
       "      <td>0.0002</td>\n",
       "      <td>0.2599</td>\n",
       "      <td>1.7401</td>\n",
       "      <td>True</td>\n",
       "    </tr>\n",
       "    <tr>\n",
       "      <th>117</th>\n",
       "      <td>bassa:negative:alta</td>\n",
       "      <td>media-bassa:negative:media</td>\n",
       "      <td>1.0</td>\n",
       "      <td>0.0000</td>\n",
       "      <td>0.4149</td>\n",
       "      <td>1.5851</td>\n",
       "      <td>True</td>\n",
       "    </tr>\n",
       "    <tr>\n",
       "      <th>334</th>\n",
       "      <td>media-alta:positive:media</td>\n",
       "      <td>media-bassa:negative:media</td>\n",
       "      <td>1.0</td>\n",
       "      <td>0.0000</td>\n",
       "      <td>0.5468</td>\n",
       "      <td>1.4532</td>\n",
       "      <td>True</td>\n",
       "    </tr>\n",
       "  </tbody>\n",
       "</table>\n",
       "</div>"
      ],
      "text/plain": [
       "                        group1                      group2  meandiff   p-adj  \\\n",
       "118        bassa:negative:alta   media-bassa:neutral:media       1.0  0.0002   \n",
       "117        bassa:negative:alta  media-bassa:negative:media       1.0  0.0000   \n",
       "334  media-alta:positive:media  media-bassa:negative:media       1.0  0.0000   \n",
       "\n",
       "      lower   upper  reject  \n",
       "118  0.2599  1.7401    True  \n",
       "117  0.4149  1.5851    True  \n",
       "334  0.5468  1.4532    True  "
      ]
     },
     "metadata": {},
     "output_type": "display_data"
    },
    {
     "name": "stdout",
     "output_type": "stream",
     "text": [
      "----------------------------------------------------------------------------------------------------\n",
      "doc_speaker_party_val ~ (subjectivity_label * sentiment_label * fre_label  + numero_parole_frase)* percentuale_parole_significative_label  in df_false\n"
     ]
    },
    {
     "data": {
      "text/html": [
       "<div>\n",
       "<style scoped>\n",
       "    .dataframe tbody tr th:only-of-type {\n",
       "        vertical-align: middle;\n",
       "    }\n",
       "\n",
       "    .dataframe tbody tr th {\n",
       "        vertical-align: top;\n",
       "    }\n",
       "\n",
       "    .dataframe thead th {\n",
       "        text-align: right;\n",
       "    }\n",
       "</style>\n",
       "<table border=\"1\" class=\"dataframe\">\n",
       "  <thead>\n",
       "    <tr style=\"text-align: right;\">\n",
       "      <th></th>\n",
       "      <th>sum_sq</th>\n",
       "      <th>df</th>\n",
       "      <th>mean_sq</th>\n",
       "      <th>F</th>\n",
       "      <th>PR(&gt;F)</th>\n",
       "      <th>eta_sq</th>\n",
       "      <th>omega_sq</th>\n",
       "    </tr>\n",
       "  </thead>\n",
       "  <tbody>\n",
       "    <tr>\n",
       "      <th>subjectivity_label:sentiment_label:fre_label</th>\n",
       "      <td>81.435545</td>\n",
       "      <td>16.0</td>\n",
       "      <td>5.089722</td>\n",
       "      <td>30.411389</td>\n",
       "      <td>1.344348e-13</td>\n",
       "      <td>0.166573</td>\n",
       "      <td>0.161041</td>\n",
       "    </tr>\n",
       "    <tr>\n",
       "      <th>subjectivity_label:sentiment_label:fre_label:percentuale_parole_significative_label</th>\n",
       "      <td>52.693576</td>\n",
       "      <td>32.0</td>\n",
       "      <td>1.646674</td>\n",
       "      <td>9.838977</td>\n",
       "      <td>3.071822e-17</td>\n",
       "      <td>0.107783</td>\n",
       "      <td>0.096795</td>\n",
       "    </tr>\n",
       "    <tr>\n",
       "      <th>subjectivity_label:fre_label:percentuale_parole_significative_label</th>\n",
       "      <td>41.420372</td>\n",
       "      <td>16.0</td>\n",
       "      <td>2.588773</td>\n",
       "      <td>15.468074</td>\n",
       "      <td>2.347963e-07</td>\n",
       "      <td>0.084724</td>\n",
       "      <td>0.079219</td>\n",
       "    </tr>\n",
       "  </tbody>\n",
       "</table>\n",
       "</div>"
      ],
      "text/plain": [
       "                                                       sum_sq    df   mean_sq  \\\n",
       "subjectivity_label:sentiment_label:fre_label        81.435545  16.0  5.089722   \n",
       "subjectivity_label:sentiment_label:fre_label:pe...  52.693576  32.0  1.646674   \n",
       "subjectivity_label:fre_label:percentuale_parole...  41.420372  16.0  2.588773   \n",
       "\n",
       "                                                            F        PR(>F)  \\\n",
       "subjectivity_label:sentiment_label:fre_label        30.411389  1.344348e-13   \n",
       "subjectivity_label:sentiment_label:fre_label:pe...   9.838977  3.071822e-17   \n",
       "subjectivity_label:fre_label:percentuale_parole...  15.468074  2.347963e-07   \n",
       "\n",
       "                                                      eta_sq  omega_sq  \n",
       "subjectivity_label:sentiment_label:fre_label        0.166573  0.161041  \n",
       "subjectivity_label:sentiment_label:fre_label:pe...  0.107783  0.096795  \n",
       "subjectivity_label:fre_label:percentuale_parole...  0.084724  0.079219  "
      ]
     },
     "metadata": {},
     "output_type": "display_data"
    },
    {
     "name": "stdout",
     "output_type": "stream",
     "text": [
      "subjectivity_label:sentiment_label:fre_label\n",
      "['subjectivity_label', 'sentiment_label', 'fre_label']\n"
     ]
    },
    {
     "data": {
      "text/html": [
       "<div>\n",
       "<style scoped>\n",
       "    .dataframe tbody tr th:only-of-type {\n",
       "        vertical-align: middle;\n",
       "    }\n",
       "\n",
       "    .dataframe tbody tr th {\n",
       "        vertical-align: top;\n",
       "    }\n",
       "\n",
       "    .dataframe thead th {\n",
       "        text-align: right;\n",
       "    }\n",
       "</style>\n",
       "<table border=\"1\" class=\"dataframe\">\n",
       "  <thead>\n",
       "    <tr style=\"text-align: right;\">\n",
       "      <th></th>\n",
       "      <th>group1</th>\n",
       "      <th>group2</th>\n",
       "      <th>meandiff</th>\n",
       "      <th>p-adj</th>\n",
       "      <th>lower</th>\n",
       "      <th>upper</th>\n",
       "      <th>reject</th>\n",
       "    </tr>\n",
       "  </thead>\n",
       "  <tbody>\n",
       "    <tr>\n",
       "      <th>118</th>\n",
       "      <td>bassa:negative:alta</td>\n",
       "      <td>media-bassa:neutral:media</td>\n",
       "      <td>1.0</td>\n",
       "      <td>0.0002</td>\n",
       "      <td>0.2599</td>\n",
       "      <td>1.7401</td>\n",
       "      <td>True</td>\n",
       "    </tr>\n",
       "    <tr>\n",
       "      <th>117</th>\n",
       "      <td>bassa:negative:alta</td>\n",
       "      <td>media-bassa:negative:media</td>\n",
       "      <td>1.0</td>\n",
       "      <td>0.0000</td>\n",
       "      <td>0.4149</td>\n",
       "      <td>1.5851</td>\n",
       "      <td>True</td>\n",
       "    </tr>\n",
       "    <tr>\n",
       "      <th>334</th>\n",
       "      <td>media-alta:positive:media</td>\n",
       "      <td>media-bassa:negative:media</td>\n",
       "      <td>1.0</td>\n",
       "      <td>0.0000</td>\n",
       "      <td>0.5468</td>\n",
       "      <td>1.4532</td>\n",
       "      <td>True</td>\n",
       "    </tr>\n",
       "  </tbody>\n",
       "</table>\n",
       "</div>"
      ],
      "text/plain": [
       "                        group1                      group2  meandiff   p-adj  \\\n",
       "118        bassa:negative:alta   media-bassa:neutral:media       1.0  0.0002   \n",
       "117        bassa:negative:alta  media-bassa:negative:media       1.0  0.0000   \n",
       "334  media-alta:positive:media  media-bassa:negative:media       1.0  0.0000   \n",
       "\n",
       "      lower   upper  reject  \n",
       "118  0.2599  1.7401    True  \n",
       "117  0.4149  1.5851    True  \n",
       "334  0.5468  1.4532    True  "
      ]
     },
     "metadata": {},
     "output_type": "display_data"
    },
    {
     "name": "stdout",
     "output_type": "stream",
     "text": [
      "----------------------------------------------------------------------------------------------------\n",
      "----------------------------------------------------------------------------------------------------\n"
     ]
    }
   ],
   "source": [
    "## relazione tra il partito dello scrittore e le caratteristiche del testo\n",
    "\n",
    "txt = \"(subjectivity_label * sentiment_label * fre_label  + numero_parole_frase)* percentuale_parole_significative_label \"\n",
    "valore_soglia = 0.12\n",
    "calcola_anova([\"doc_speaker_party_val\"],[[\"df_all\",df_all],[\"df_true\",df_true],[\"df_false\",df_all]],txt,valore_soglia)"
   ]
  },
  {
   "cell_type": "code",
   "execution_count": 51,
   "metadata": {},
   "outputs": [
    {
     "data": {
      "text/html": [
       "<div>\n",
       "<style scoped>\n",
       "    .dataframe tbody tr th:only-of-type {\n",
       "        vertical-align: middle;\n",
       "    }\n",
       "\n",
       "    .dataframe tbody tr th {\n",
       "        vertical-align: top;\n",
       "    }\n",
       "\n",
       "    .dataframe thead th {\n",
       "        text-align: right;\n",
       "    }\n",
       "</style>\n",
       "<table border=\"1\" class=\"dataframe\">\n",
       "  <thead>\n",
       "    <tr style=\"text-align: right;\">\n",
       "      <th>doc_speaker_party</th>\n",
       "      <th>DEM</th>\n",
       "      <th>REP</th>\n",
       "    </tr>\n",
       "  </thead>\n",
       "  <tbody>\n",
       "    <tr>\n",
       "      <th>percentuale_parole_significative</th>\n",
       "      <td>0.668931</td>\n",
       "      <td>0.676539</td>\n",
       "    </tr>\n",
       "    <tr>\n",
       "      <th>fre</th>\n",
       "      <td>62.598000</td>\n",
       "      <td>61.266685</td>\n",
       "    </tr>\n",
       "    <tr>\n",
       "      <th>sentiment</th>\n",
       "      <td>0.055445</td>\n",
       "      <td>0.054306</td>\n",
       "    </tr>\n",
       "    <tr>\n",
       "      <th>subjectivity</th>\n",
       "      <td>0.312102</td>\n",
       "      <td>0.237803</td>\n",
       "    </tr>\n",
       "    <tr>\n",
       "      <th>numero_parole_frase</th>\n",
       "      <td>18.107692</td>\n",
       "      <td>17.267760</td>\n",
       "    </tr>\n",
       "  </tbody>\n",
       "</table>\n",
       "</div>"
      ],
      "text/plain": [
       "doc_speaker_party                       DEM        REP\n",
       "percentuale_parole_significative   0.668931   0.676539\n",
       "fre                               62.598000  61.266685\n",
       "sentiment                          0.055445   0.054306\n",
       "subjectivity                       0.312102   0.237803\n",
       "numero_parole_frase               18.107692  17.267760"
      ]
     },
     "execution_count": 51,
     "metadata": {},
     "output_type": "execute_result"
    }
   ],
   "source": [
    "df_all.groupby(\"doc_speaker_party\").mean()[[\"percentuale_parole_significative\",\"fre\",\"sentiment\", \"subjectivity\",\"numero_parole_frase\"]].T"
   ]
  },
  {
   "cell_type": "code",
   "execution_count": 52,
   "metadata": {},
   "outputs": [
    {
     "data": {
      "text/html": [
       "<div>\n",
       "<style scoped>\n",
       "    .dataframe tbody tr th:only-of-type {\n",
       "        vertical-align: middle;\n",
       "    }\n",
       "\n",
       "    .dataframe tbody tr th {\n",
       "        vertical-align: top;\n",
       "    }\n",
       "\n",
       "    .dataframe thead th {\n",
       "        text-align: right;\n",
       "    }\n",
       "</style>\n",
       "<table border=\"1\" class=\"dataframe\">\n",
       "  <thead>\n",
       "    <tr style=\"text-align: right;\">\n",
       "      <th>doc_speaker_party</th>\n",
       "      <th>DEM</th>\n",
       "      <th>REP</th>\n",
       "    </tr>\n",
       "  </thead>\n",
       "  <tbody>\n",
       "    <tr>\n",
       "      <th>percentuale_parole_significative</th>\n",
       "      <td>0.611287</td>\n",
       "      <td>0.682107</td>\n",
       "    </tr>\n",
       "    <tr>\n",
       "      <th>fre</th>\n",
       "      <td>67.108333</td>\n",
       "      <td>60.342518</td>\n",
       "    </tr>\n",
       "    <tr>\n",
       "      <th>sentiment</th>\n",
       "      <td>0.062500</td>\n",
       "      <td>0.024880</td>\n",
       "    </tr>\n",
       "    <tr>\n",
       "      <th>subjectivity</th>\n",
       "      <td>0.310648</td>\n",
       "      <td>0.285072</td>\n",
       "    </tr>\n",
       "    <tr>\n",
       "      <th>numero_parole_frase</th>\n",
       "      <td>17.500000</td>\n",
       "      <td>19.568345</td>\n",
       "    </tr>\n",
       "  </tbody>\n",
       "</table>\n",
       "</div>"
      ],
      "text/plain": [
       "doc_speaker_party                       DEM        REP\n",
       "percentuale_parole_significative   0.611287   0.682107\n",
       "fre                               67.108333  60.342518\n",
       "sentiment                          0.062500   0.024880\n",
       "subjectivity                       0.310648   0.285072\n",
       "numero_parole_frase               17.500000  19.568345"
      ]
     },
     "execution_count": 52,
     "metadata": {},
     "output_type": "execute_result"
    }
   ],
   "source": [
    "df_false.groupby(\"doc_speaker_party\").mean()[[\"percentuale_parole_significative\",\"fre\",\"sentiment\", \"subjectivity\",\"numero_parole_frase\"]].T"
   ]
  },
  {
   "cell_type": "code",
   "execution_count": 53,
   "metadata": {},
   "outputs": [
    {
     "data": {
      "text/html": [
       "<div>\n",
       "<style scoped>\n",
       "    .dataframe tbody tr th:only-of-type {\n",
       "        vertical-align: middle;\n",
       "    }\n",
       "\n",
       "    .dataframe tbody tr th {\n",
       "        vertical-align: top;\n",
       "    }\n",
       "\n",
       "    .dataframe thead th {\n",
       "        text-align: right;\n",
       "    }\n",
       "</style>\n",
       "<table border=\"1\" class=\"dataframe\">\n",
       "  <thead>\n",
       "    <tr style=\"text-align: right;\">\n",
       "      <th>doc_speaker_party</th>\n",
       "      <th>DEM</th>\n",
       "      <th>REP</th>\n",
       "    </tr>\n",
       "  </thead>\n",
       "  <tbody>\n",
       "    <tr>\n",
       "      <th>percentuale_parole_significative</th>\n",
       "      <td>0.677153</td>\n",
       "      <td>0.693654</td>\n",
       "    </tr>\n",
       "    <tr>\n",
       "      <th>fre</th>\n",
       "      <td>62.851667</td>\n",
       "      <td>68.011250</td>\n",
       "    </tr>\n",
       "    <tr>\n",
       "      <th>sentiment</th>\n",
       "      <td>0.152346</td>\n",
       "      <td>0.108068</td>\n",
       "    </tr>\n",
       "    <tr>\n",
       "      <th>subjectivity</th>\n",
       "      <td>0.392814</td>\n",
       "      <td>0.282727</td>\n",
       "    </tr>\n",
       "    <tr>\n",
       "      <th>numero_parole_frase</th>\n",
       "      <td>15.500000</td>\n",
       "      <td>14.875000</td>\n",
       "    </tr>\n",
       "  </tbody>\n",
       "</table>\n",
       "</div>"
      ],
      "text/plain": [
       "doc_speaker_party                       DEM        REP\n",
       "percentuale_parole_significative   0.677153   0.693654\n",
       "fre                               62.851667  68.011250\n",
       "sentiment                          0.152346   0.108068\n",
       "subjectivity                       0.392814   0.282727\n",
       "numero_parole_frase               15.500000  14.875000"
      ]
     },
     "execution_count": 53,
     "metadata": {},
     "output_type": "execute_result"
    }
   ],
   "source": [
    "df_true.groupby(\"doc_speaker_party\").mean()[[\"percentuale_parole_significative\",\"fre\",\"sentiment\", \"subjectivity\",\"numero_parole_frase\"]].T"
   ]
  },
  {
   "cell_type": "code",
   "execution_count": 54,
   "metadata": {},
   "outputs": [
    {
     "name": "stdout",
     "output_type": "stream",
     "text": [
      "----------------------------------------------------------------------------------------------------\n",
      "doc_accuracy_index ~ (doc_comprehensibility_index + doc_confidence_index + doc_precision_index + doc_completeness_index + doc_informativeness_index) * doc_unbiasedness_index in df_all\n"
     ]
    },
    {
     "data": {
      "text/html": [
       "<div>\n",
       "<style scoped>\n",
       "    .dataframe tbody tr th:only-of-type {\n",
       "        vertical-align: middle;\n",
       "    }\n",
       "\n",
       "    .dataframe tbody tr th {\n",
       "        vertical-align: top;\n",
       "    }\n",
       "\n",
       "    .dataframe thead th {\n",
       "        text-align: right;\n",
       "    }\n",
       "</style>\n",
       "<table border=\"1\" class=\"dataframe\">\n",
       "  <thead>\n",
       "    <tr style=\"text-align: right;\">\n",
       "      <th></th>\n",
       "      <th>sum_sq</th>\n",
       "      <th>df</th>\n",
       "      <th>mean_sq</th>\n",
       "      <th>F</th>\n",
       "      <th>PR(&gt;F)</th>\n",
       "      <th>eta_sq</th>\n",
       "      <th>omega_sq</th>\n",
       "    </tr>\n",
       "  </thead>\n",
       "  <tbody>\n",
       "    <tr>\n",
       "      <th>doc_unbiasedness_index</th>\n",
       "      <td>309.468776</td>\n",
       "      <td>1.0</td>\n",
       "      <td>309.468776</td>\n",
       "      <td>387.906494</td>\n",
       "      <td>6.075332e-75</td>\n",
       "      <td>0.223513</td>\n",
       "      <td>0.222809</td>\n",
       "    </tr>\n",
       "    <tr>\n",
       "      <th>doc_informativeness_index</th>\n",
       "      <td>88.284720</td>\n",
       "      <td>1.0</td>\n",
       "      <td>88.284720</td>\n",
       "      <td>110.661297</td>\n",
       "      <td>8.329366e-25</td>\n",
       "      <td>0.063763</td>\n",
       "      <td>0.063151</td>\n",
       "    </tr>\n",
       "    <tr>\n",
       "      <th>doc_completeness_index</th>\n",
       "      <td>15.785576</td>\n",
       "      <td>1.0</td>\n",
       "      <td>15.785576</td>\n",
       "      <td>19.786576</td>\n",
       "      <td>9.471182e-06</td>\n",
       "      <td>0.011401</td>\n",
       "      <td>0.010819</td>\n",
       "    </tr>\n",
       "  </tbody>\n",
       "</table>\n",
       "</div>"
      ],
      "text/plain": [
       "                               sum_sq   df     mean_sq           F  \\\n",
       "doc_unbiasedness_index     309.468776  1.0  309.468776  387.906494   \n",
       "doc_informativeness_index   88.284720  1.0   88.284720  110.661297   \n",
       "doc_completeness_index      15.785576  1.0   15.785576   19.786576   \n",
       "\n",
       "                                 PR(>F)    eta_sq  omega_sq  \n",
       "doc_unbiasedness_index     6.075332e-75  0.223513  0.222809  \n",
       "doc_informativeness_index  8.329366e-25  0.063763  0.063151  \n",
       "doc_completeness_index     9.471182e-06  0.011401  0.010819  "
      ]
     },
     "metadata": {},
     "output_type": "display_data"
    },
    {
     "name": "stdout",
     "output_type": "stream",
     "text": [
      "doc_informativeness_index\n"
     ]
    },
    {
     "data": {
      "text/html": [
       "<div>\n",
       "<style scoped>\n",
       "    .dataframe tbody tr th:only-of-type {\n",
       "        vertical-align: middle;\n",
       "    }\n",
       "\n",
       "    .dataframe tbody tr th {\n",
       "        vertical-align: top;\n",
       "    }\n",
       "\n",
       "    .dataframe thead th {\n",
       "        text-align: right;\n",
       "    }\n",
       "</style>\n",
       "<table border=\"1\" class=\"dataframe\">\n",
       "  <thead>\n",
       "    <tr style=\"text-align: right;\">\n",
       "      <th></th>\n",
       "      <th>group1</th>\n",
       "      <th>group2</th>\n",
       "      <th>meandiff</th>\n",
       "      <th>p-adj</th>\n",
       "      <th>lower</th>\n",
       "      <th>upper</th>\n",
       "      <th>reject</th>\n",
       "    </tr>\n",
       "  </thead>\n",
       "  <tbody>\n",
       "    <tr>\n",
       "      <th>3</th>\n",
       "      <td>0.0</td>\n",
       "      <td>4.0</td>\n",
       "      <td>2.8692</td>\n",
       "      <td>0.0</td>\n",
       "      <td>2.5447</td>\n",
       "      <td>3.1937</td>\n",
       "      <td>True</td>\n",
       "    </tr>\n",
       "    <tr>\n",
       "      <th>6</th>\n",
       "      <td>1.0</td>\n",
       "      <td>4.0</td>\n",
       "      <td>2.1450</td>\n",
       "      <td>0.0</td>\n",
       "      <td>1.8798</td>\n",
       "      <td>2.4101</td>\n",
       "      <td>True</td>\n",
       "    </tr>\n",
       "    <tr>\n",
       "      <th>2</th>\n",
       "      <td>0.0</td>\n",
       "      <td>3.0</td>\n",
       "      <td>2.0373</td>\n",
       "      <td>0.0</td>\n",
       "      <td>1.7184</td>\n",
       "      <td>2.3561</td>\n",
       "      <td>True</td>\n",
       "    </tr>\n",
       "  </tbody>\n",
       "</table>\n",
       "</div>"
      ],
      "text/plain": [
       "   group1  group2  meandiff  p-adj   lower   upper  reject\n",
       "3     0.0     4.0    2.8692    0.0  2.5447  3.1937    True\n",
       "6     1.0     4.0    2.1450    0.0  1.8798  2.4101    True\n",
       "2     0.0     3.0    2.0373    0.0  1.7184  2.3561    True"
      ]
     },
     "metadata": {},
     "output_type": "display_data"
    },
    {
     "name": "stdout",
     "output_type": "stream",
     "text": [
      "doc_unbiasedness_index\n"
     ]
    },
    {
     "data": {
      "text/html": [
       "<div>\n",
       "<style scoped>\n",
       "    .dataframe tbody tr th:only-of-type {\n",
       "        vertical-align: middle;\n",
       "    }\n",
       "\n",
       "    .dataframe tbody tr th {\n",
       "        vertical-align: top;\n",
       "    }\n",
       "\n",
       "    .dataframe thead th {\n",
       "        text-align: right;\n",
       "    }\n",
       "</style>\n",
       "<table border=\"1\" class=\"dataframe\">\n",
       "  <thead>\n",
       "    <tr style=\"text-align: right;\">\n",
       "      <th></th>\n",
       "      <th>group1</th>\n",
       "      <th>group2</th>\n",
       "      <th>meandiff</th>\n",
       "      <th>p-adj</th>\n",
       "      <th>lower</th>\n",
       "      <th>upper</th>\n",
       "      <th>reject</th>\n",
       "    </tr>\n",
       "  </thead>\n",
       "  <tbody>\n",
       "    <tr>\n",
       "      <th>3</th>\n",
       "      <td>0.0</td>\n",
       "      <td>4.0</td>\n",
       "      <td>2.7493</td>\n",
       "      <td>0.0</td>\n",
       "      <td>2.5012</td>\n",
       "      <td>2.9973</td>\n",
       "      <td>True</td>\n",
       "    </tr>\n",
       "    <tr>\n",
       "      <th>2</th>\n",
       "      <td>0.0</td>\n",
       "      <td>3.0</td>\n",
       "      <td>2.2251</td>\n",
       "      <td>0.0</td>\n",
       "      <td>1.9738</td>\n",
       "      <td>2.4764</td>\n",
       "      <td>True</td>\n",
       "    </tr>\n",
       "    <tr>\n",
       "      <th>6</th>\n",
       "      <td>1.0</td>\n",
       "      <td>4.0</td>\n",
       "      <td>1.8017</td>\n",
       "      <td>0.0</td>\n",
       "      <td>1.5352</td>\n",
       "      <td>2.0683</td>\n",
       "      <td>True</td>\n",
       "    </tr>\n",
       "  </tbody>\n",
       "</table>\n",
       "</div>"
      ],
      "text/plain": [
       "   group1  group2  meandiff  p-adj   lower   upper  reject\n",
       "3     0.0     4.0    2.7493    0.0  2.5012  2.9973    True\n",
       "2     0.0     3.0    2.2251    0.0  1.9738  2.4764    True\n",
       "6     1.0     4.0    1.8017    0.0  1.5352  2.0683    True"
      ]
     },
     "metadata": {},
     "output_type": "display_data"
    },
    {
     "name": "stdout",
     "output_type": "stream",
     "text": [
      "----------------------------------------------------------------------------------------------------\n",
      "doc_accuracy_index ~ (doc_comprehensibility_index + doc_confidence_index + doc_precision_index + doc_completeness_index + doc_informativeness_index) * doc_unbiasedness_index in df_true\n"
     ]
    },
    {
     "data": {
      "text/html": [
       "<div>\n",
       "<style scoped>\n",
       "    .dataframe tbody tr th:only-of-type {\n",
       "        vertical-align: middle;\n",
       "    }\n",
       "\n",
       "    .dataframe tbody tr th {\n",
       "        vertical-align: top;\n",
       "    }\n",
       "\n",
       "    .dataframe thead th {\n",
       "        text-align: right;\n",
       "    }\n",
       "</style>\n",
       "<table border=\"1\" class=\"dataframe\">\n",
       "  <thead>\n",
       "    <tr style=\"text-align: right;\">\n",
       "      <th></th>\n",
       "      <th>sum_sq</th>\n",
       "      <th>df</th>\n",
       "      <th>mean_sq</th>\n",
       "      <th>F</th>\n",
       "      <th>PR(&gt;F)</th>\n",
       "      <th>eta_sq</th>\n",
       "      <th>omega_sq</th>\n",
       "    </tr>\n",
       "  </thead>\n",
       "  <tbody>\n",
       "    <tr>\n",
       "      <th>doc_unbiasedness_index</th>\n",
       "      <td>22.497762</td>\n",
       "      <td>1.0</td>\n",
       "      <td>22.497762</td>\n",
       "      <td>32.073997</td>\n",
       "      <td>5.487380e-08</td>\n",
       "      <td>0.126896</td>\n",
       "      <td>0.122455</td>\n",
       "    </tr>\n",
       "    <tr>\n",
       "      <th>doc_informativeness_index</th>\n",
       "      <td>12.397480</td>\n",
       "      <td>1.0</td>\n",
       "      <td>12.397480</td>\n",
       "      <td>17.674501</td>\n",
       "      <td>4.050006e-05</td>\n",
       "      <td>0.069927</td>\n",
       "      <td>0.065710</td>\n",
       "    </tr>\n",
       "    <tr>\n",
       "      <th>doc_confidence_index</th>\n",
       "      <td>3.918825</td>\n",
       "      <td>1.0</td>\n",
       "      <td>3.918825</td>\n",
       "      <td>5.586884</td>\n",
       "      <td>1.911579e-02</td>\n",
       "      <td>0.022104</td>\n",
       "      <td>0.018076</td>\n",
       "    </tr>\n",
       "  </tbody>\n",
       "</table>\n",
       "</div>"
      ],
      "text/plain": [
       "                              sum_sq   df    mean_sq          F        PR(>F)  \\\n",
       "doc_unbiasedness_index     22.497762  1.0  22.497762  32.073997  5.487380e-08   \n",
       "doc_informativeness_index  12.397480  1.0  12.397480  17.674501  4.050006e-05   \n",
       "doc_confidence_index        3.918825  1.0   3.918825   5.586884  1.911579e-02   \n",
       "\n",
       "                             eta_sq  omega_sq  \n",
       "doc_unbiasedness_index     0.126896  0.122455  \n",
       "doc_informativeness_index  0.069927  0.065710  \n",
       "doc_confidence_index       0.022104  0.018076  "
      ]
     },
     "metadata": {},
     "output_type": "display_data"
    },
    {
     "name": "stdout",
     "output_type": "stream",
     "text": [
      "doc_informativeness_index\n"
     ]
    },
    {
     "data": {
      "text/html": [
       "<div>\n",
       "<style scoped>\n",
       "    .dataframe tbody tr th:only-of-type {\n",
       "        vertical-align: middle;\n",
       "    }\n",
       "\n",
       "    .dataframe tbody tr th {\n",
       "        vertical-align: top;\n",
       "    }\n",
       "\n",
       "    .dataframe thead th {\n",
       "        text-align: right;\n",
       "    }\n",
       "</style>\n",
       "<table border=\"1\" class=\"dataframe\">\n",
       "  <thead>\n",
       "    <tr style=\"text-align: right;\">\n",
       "      <th></th>\n",
       "      <th>group1</th>\n",
       "      <th>group2</th>\n",
       "      <th>meandiff</th>\n",
       "      <th>p-adj</th>\n",
       "      <th>lower</th>\n",
       "      <th>upper</th>\n",
       "      <th>reject</th>\n",
       "    </tr>\n",
       "  </thead>\n",
       "  <tbody>\n",
       "    <tr>\n",
       "      <th>6</th>\n",
       "      <td>1.0</td>\n",
       "      <td>4.0</td>\n",
       "      <td>2.1364</td>\n",
       "      <td>0.0</td>\n",
       "      <td>1.5235</td>\n",
       "      <td>2.7492</td>\n",
       "      <td>True</td>\n",
       "    </tr>\n",
       "    <tr>\n",
       "      <th>8</th>\n",
       "      <td>2.0</td>\n",
       "      <td>4.0</td>\n",
       "      <td>1.6429</td>\n",
       "      <td>0.0</td>\n",
       "      <td>1.0185</td>\n",
       "      <td>2.2672</td>\n",
       "      <td>True</td>\n",
       "    </tr>\n",
       "    <tr>\n",
       "      <th>5</th>\n",
       "      <td>1.0</td>\n",
       "      <td>3.0</td>\n",
       "      <td>1.5792</td>\n",
       "      <td>0.0</td>\n",
       "      <td>0.9537</td>\n",
       "      <td>2.2047</td>\n",
       "      <td>True</td>\n",
       "    </tr>\n",
       "  </tbody>\n",
       "</table>\n",
       "</div>"
      ],
      "text/plain": [
       "   group1  group2  meandiff  p-adj   lower   upper  reject\n",
       "6     1.0     4.0    2.1364    0.0  1.5235  2.7492    True\n",
       "8     2.0     4.0    1.6429    0.0  1.0185  2.2672    True\n",
       "5     1.0     3.0    1.5792    0.0  0.9537  2.2047    True"
      ]
     },
     "metadata": {},
     "output_type": "display_data"
    },
    {
     "name": "stdout",
     "output_type": "stream",
     "text": [
      "doc_unbiasedness_index\n"
     ]
    },
    {
     "data": {
      "text/html": [
       "<div>\n",
       "<style scoped>\n",
       "    .dataframe tbody tr th:only-of-type {\n",
       "        vertical-align: middle;\n",
       "    }\n",
       "\n",
       "    .dataframe tbody tr th {\n",
       "        vertical-align: top;\n",
       "    }\n",
       "\n",
       "    .dataframe thead th {\n",
       "        text-align: right;\n",
       "    }\n",
       "</style>\n",
       "<table border=\"1\" class=\"dataframe\">\n",
       "  <thead>\n",
       "    <tr style=\"text-align: right;\">\n",
       "      <th></th>\n",
       "      <th>group1</th>\n",
       "      <th>group2</th>\n",
       "      <th>meandiff</th>\n",
       "      <th>p-adj</th>\n",
       "      <th>lower</th>\n",
       "      <th>upper</th>\n",
       "      <th>reject</th>\n",
       "    </tr>\n",
       "  </thead>\n",
       "  <tbody>\n",
       "    <tr>\n",
       "      <th>3</th>\n",
       "      <td>0.0</td>\n",
       "      <td>4.0</td>\n",
       "      <td>2.4141</td>\n",
       "      <td>0.0</td>\n",
       "      <td>1.7249</td>\n",
       "      <td>3.1034</td>\n",
       "      <td>True</td>\n",
       "    </tr>\n",
       "    <tr>\n",
       "      <th>2</th>\n",
       "      <td>0.0</td>\n",
       "      <td>3.0</td>\n",
       "      <td>2.1869</td>\n",
       "      <td>0.0</td>\n",
       "      <td>1.4767</td>\n",
       "      <td>2.8970</td>\n",
       "      <td>True</td>\n",
       "    </tr>\n",
       "    <tr>\n",
       "      <th>6</th>\n",
       "      <td>1.0</td>\n",
       "      <td>4.0</td>\n",
       "      <td>1.3605</td>\n",
       "      <td>0.0</td>\n",
       "      <td>0.7780</td>\n",
       "      <td>1.9430</td>\n",
       "      <td>True</td>\n",
       "    </tr>\n",
       "  </tbody>\n",
       "</table>\n",
       "</div>"
      ],
      "text/plain": [
       "   group1  group2  meandiff  p-adj   lower   upper  reject\n",
       "3     0.0     4.0    2.4141    0.0  1.7249  3.1034    True\n",
       "2     0.0     3.0    2.1869    0.0  1.4767  2.8970    True\n",
       "6     1.0     4.0    1.3605    0.0  0.7780  1.9430    True"
      ]
     },
     "metadata": {},
     "output_type": "display_data"
    },
    {
     "name": "stdout",
     "output_type": "stream",
     "text": [
      "----------------------------------------------------------------------------------------------------\n",
      "doc_accuracy_index ~ (doc_comprehensibility_index + doc_confidence_index + doc_precision_index + doc_completeness_index + doc_informativeness_index) * doc_unbiasedness_index in df_false\n"
     ]
    },
    {
     "data": {
      "text/html": [
       "<div>\n",
       "<style scoped>\n",
       "    .dataframe tbody tr th:only-of-type {\n",
       "        vertical-align: middle;\n",
       "    }\n",
       "\n",
       "    .dataframe tbody tr th {\n",
       "        vertical-align: top;\n",
       "    }\n",
       "\n",
       "    .dataframe thead th {\n",
       "        text-align: right;\n",
       "    }\n",
       "</style>\n",
       "<table border=\"1\" class=\"dataframe\">\n",
       "  <thead>\n",
       "    <tr style=\"text-align: right;\">\n",
       "      <th></th>\n",
       "      <th>sum_sq</th>\n",
       "      <th>df</th>\n",
       "      <th>mean_sq</th>\n",
       "      <th>F</th>\n",
       "      <th>PR(&gt;F)</th>\n",
       "      <th>eta_sq</th>\n",
       "      <th>omega_sq</th>\n",
       "    </tr>\n",
       "  </thead>\n",
       "  <tbody>\n",
       "    <tr>\n",
       "      <th>doc_unbiasedness_index</th>\n",
       "      <td>309.468776</td>\n",
       "      <td>1.0</td>\n",
       "      <td>309.468776</td>\n",
       "      <td>387.906494</td>\n",
       "      <td>6.075332e-75</td>\n",
       "      <td>0.223513</td>\n",
       "      <td>0.222809</td>\n",
       "    </tr>\n",
       "    <tr>\n",
       "      <th>doc_informativeness_index</th>\n",
       "      <td>88.284720</td>\n",
       "      <td>1.0</td>\n",
       "      <td>88.284720</td>\n",
       "      <td>110.661297</td>\n",
       "      <td>8.329366e-25</td>\n",
       "      <td>0.063763</td>\n",
       "      <td>0.063151</td>\n",
       "    </tr>\n",
       "    <tr>\n",
       "      <th>doc_completeness_index</th>\n",
       "      <td>15.785576</td>\n",
       "      <td>1.0</td>\n",
       "      <td>15.785576</td>\n",
       "      <td>19.786576</td>\n",
       "      <td>9.471182e-06</td>\n",
       "      <td>0.011401</td>\n",
       "      <td>0.010819</td>\n",
       "    </tr>\n",
       "  </tbody>\n",
       "</table>\n",
       "</div>"
      ],
      "text/plain": [
       "                               sum_sq   df     mean_sq           F  \\\n",
       "doc_unbiasedness_index     309.468776  1.0  309.468776  387.906494   \n",
       "doc_informativeness_index   88.284720  1.0   88.284720  110.661297   \n",
       "doc_completeness_index      15.785576  1.0   15.785576   19.786576   \n",
       "\n",
       "                                 PR(>F)    eta_sq  omega_sq  \n",
       "doc_unbiasedness_index     6.075332e-75  0.223513  0.222809  \n",
       "doc_informativeness_index  8.329366e-25  0.063763  0.063151  \n",
       "doc_completeness_index     9.471182e-06  0.011401  0.010819  "
      ]
     },
     "metadata": {},
     "output_type": "display_data"
    },
    {
     "name": "stdout",
     "output_type": "stream",
     "text": [
      "doc_informativeness_index\n"
     ]
    },
    {
     "data": {
      "text/html": [
       "<div>\n",
       "<style scoped>\n",
       "    .dataframe tbody tr th:only-of-type {\n",
       "        vertical-align: middle;\n",
       "    }\n",
       "\n",
       "    .dataframe tbody tr th {\n",
       "        vertical-align: top;\n",
       "    }\n",
       "\n",
       "    .dataframe thead th {\n",
       "        text-align: right;\n",
       "    }\n",
       "</style>\n",
       "<table border=\"1\" class=\"dataframe\">\n",
       "  <thead>\n",
       "    <tr style=\"text-align: right;\">\n",
       "      <th></th>\n",
       "      <th>group1</th>\n",
       "      <th>group2</th>\n",
       "      <th>meandiff</th>\n",
       "      <th>p-adj</th>\n",
       "      <th>lower</th>\n",
       "      <th>upper</th>\n",
       "      <th>reject</th>\n",
       "    </tr>\n",
       "  </thead>\n",
       "  <tbody>\n",
       "    <tr>\n",
       "      <th>3</th>\n",
       "      <td>0.0</td>\n",
       "      <td>4.0</td>\n",
       "      <td>2.8692</td>\n",
       "      <td>0.0</td>\n",
       "      <td>2.5447</td>\n",
       "      <td>3.1937</td>\n",
       "      <td>True</td>\n",
       "    </tr>\n",
       "    <tr>\n",
       "      <th>6</th>\n",
       "      <td>1.0</td>\n",
       "      <td>4.0</td>\n",
       "      <td>2.1450</td>\n",
       "      <td>0.0</td>\n",
       "      <td>1.8798</td>\n",
       "      <td>2.4101</td>\n",
       "      <td>True</td>\n",
       "    </tr>\n",
       "    <tr>\n",
       "      <th>2</th>\n",
       "      <td>0.0</td>\n",
       "      <td>3.0</td>\n",
       "      <td>2.0373</td>\n",
       "      <td>0.0</td>\n",
       "      <td>1.7184</td>\n",
       "      <td>2.3561</td>\n",
       "      <td>True</td>\n",
       "    </tr>\n",
       "  </tbody>\n",
       "</table>\n",
       "</div>"
      ],
      "text/plain": [
       "   group1  group2  meandiff  p-adj   lower   upper  reject\n",
       "3     0.0     4.0    2.8692    0.0  2.5447  3.1937    True\n",
       "6     1.0     4.0    2.1450    0.0  1.8798  2.4101    True\n",
       "2     0.0     3.0    2.0373    0.0  1.7184  2.3561    True"
      ]
     },
     "metadata": {},
     "output_type": "display_data"
    },
    {
     "name": "stdout",
     "output_type": "stream",
     "text": [
      "doc_unbiasedness_index\n"
     ]
    },
    {
     "data": {
      "text/html": [
       "<div>\n",
       "<style scoped>\n",
       "    .dataframe tbody tr th:only-of-type {\n",
       "        vertical-align: middle;\n",
       "    }\n",
       "\n",
       "    .dataframe tbody tr th {\n",
       "        vertical-align: top;\n",
       "    }\n",
       "\n",
       "    .dataframe thead th {\n",
       "        text-align: right;\n",
       "    }\n",
       "</style>\n",
       "<table border=\"1\" class=\"dataframe\">\n",
       "  <thead>\n",
       "    <tr style=\"text-align: right;\">\n",
       "      <th></th>\n",
       "      <th>group1</th>\n",
       "      <th>group2</th>\n",
       "      <th>meandiff</th>\n",
       "      <th>p-adj</th>\n",
       "      <th>lower</th>\n",
       "      <th>upper</th>\n",
       "      <th>reject</th>\n",
       "    </tr>\n",
       "  </thead>\n",
       "  <tbody>\n",
       "    <tr>\n",
       "      <th>3</th>\n",
       "      <td>0.0</td>\n",
       "      <td>4.0</td>\n",
       "      <td>2.7493</td>\n",
       "      <td>0.0</td>\n",
       "      <td>2.5012</td>\n",
       "      <td>2.9973</td>\n",
       "      <td>True</td>\n",
       "    </tr>\n",
       "    <tr>\n",
       "      <th>2</th>\n",
       "      <td>0.0</td>\n",
       "      <td>3.0</td>\n",
       "      <td>2.2251</td>\n",
       "      <td>0.0</td>\n",
       "      <td>1.9738</td>\n",
       "      <td>2.4764</td>\n",
       "      <td>True</td>\n",
       "    </tr>\n",
       "    <tr>\n",
       "      <th>6</th>\n",
       "      <td>1.0</td>\n",
       "      <td>4.0</td>\n",
       "      <td>1.8017</td>\n",
       "      <td>0.0</td>\n",
       "      <td>1.5352</td>\n",
       "      <td>2.0683</td>\n",
       "      <td>True</td>\n",
       "    </tr>\n",
       "  </tbody>\n",
       "</table>\n",
       "</div>"
      ],
      "text/plain": [
       "   group1  group2  meandiff  p-adj   lower   upper  reject\n",
       "3     0.0     4.0    2.7493    0.0  2.5012  2.9973    True\n",
       "2     0.0     3.0    2.2251    0.0  1.9738  2.4764    True\n",
       "6     1.0     4.0    1.8017    0.0  1.5352  2.0683    True"
      ]
     },
     "metadata": {},
     "output_type": "display_data"
    },
    {
     "name": "stdout",
     "output_type": "stream",
     "text": [
      "----------------------------------------------------------------------------------------------------\n",
      "----------------------------------------------------------------------------------------------------\n"
     ]
    }
   ],
   "source": [
    "## relazione tra l'accuratezza di un testo e le altre caratteristiche del testo\n",
    "\n",
    "txt = \"(doc_comprehensibility_index + doc_confidence_index + doc_precision_index + doc_completeness_index + doc_informativeness_index) * doc_unbiasedness_index\"\n",
    "valore_soglia = 0.05\n",
    "calcola_anova([\"doc_accuracy_index\"],[[\"df_all\",df_all],[\"df_true\",df_true],[\"df_false\",df_all]],txt,valore_soglia)"
   ]
  },
  {
   "cell_type": "code",
   "execution_count": 55,
   "metadata": {},
   "outputs": [
    {
     "data": {
      "text/plain": [
       "<Axes: xlabel='doc_unbiasedness_index', ylabel='doc_accuracy_index'>"
      ]
     },
     "execution_count": 55,
     "metadata": {},
     "output_type": "execute_result"
    },
    {
     "data": {
      "image/png": "[encoded data removed]",
      "text/plain": [
       "<Figure size 640x480 with 1 Axes>"
      ]
     },
     "metadata": {},
     "output_type": "display_data"
    }
   ],
   "source": [
    "sns.boxplot(x=\"doc_unbiasedness_index\", y=\"doc_accuracy_index\", data=df_all)"
   ]
  },
  {
   "cell_type": "code",
   "execution_count": 56,
   "metadata": {},
   "outputs": [
    {
     "data": {
      "text/plain": [
       "<Axes: xlabel='doc_precision_index', ylabel='doc_accuracy_index'>"
      ]
     },
     "execution_count": 56,
     "metadata": {},
     "output_type": "execute_result"
    },
    {
     "data": {
      "image/png": "[encoded data removed]",
      "text/plain": [
       "<Figure size 640x480 with 1 Axes>"
      ]
     },
     "metadata": {},
     "output_type": "display_data"
    }
   ],
   "source": [
    "sns.boxplot(x=\"doc_precision_index\", y=\"doc_accuracy_index\", data=df_all)"
   ]
  },
  {
   "attachments": {},
   "cell_type": "markdown",
   "metadata": {},
   "source": []
  },
  {
   "attachments": {},
   "cell_type": "markdown",
   "metadata": {},
   "source": []
  },
  {
   "attachments": {},
   "cell_type": "markdown",
   "metadata": {},
   "source": []
  },
  {
   "cell_type": "code",
   "execution_count": null,
   "metadata": {},
   "outputs": [],
   "source": []
  },
  {
   "cell_type": "code",
   "execution_count": 57,
   "metadata": {},
   "outputs": [
    {
     "name": "stdout",
     "output_type": "stream",
     "text": [
      "----------------------------------------------------------------------------------------------------\n",
      "df_all\n"
     ]
    },
    {
     "data": {
      "text/html": [
       "<div>\n",
       "<style scoped>\n",
       "    .dataframe tbody tr th:only-of-type {\n",
       "        vertical-align: middle;\n",
       "    }\n",
       "\n",
       "    .dataframe tbody tr th {\n",
       "        vertical-align: top;\n",
       "    }\n",
       "\n",
       "    .dataframe thead th {\n",
       "        text-align: right;\n",
       "    }\n",
       "</style>\n",
       "<table border=\"1\" class=\"dataframe\">\n",
       "  <thead>\n",
       "    <tr style=\"text-align: right;\">\n",
       "      <th></th>\n",
       "      <th>correct_false</th>\n",
       "      <th>wrong_false</th>\n",
       "      <th>wrong_true</th>\n",
       "      <th>correct_true</th>\n",
       "    </tr>\n",
       "  </thead>\n",
       "  <tbody>\n",
       "    <tr>\n",
       "      <th>doc_speaker_party_val</th>\n",
       "      <td>0.2</td>\n",
       "      <td>0.6</td>\n",
       "      <td>0.0</td>\n",
       "      <td>1.0</td>\n",
       "    </tr>\n",
       "    <tr>\n",
       "      <th>doc_precision_index</th>\n",
       "      <td>2.42</td>\n",
       "      <td>2.66</td>\n",
       "      <td>2.72</td>\n",
       "      <td>3.216667</td>\n",
       "    </tr>\n",
       "    <tr>\n",
       "      <th>doc_unbiasedness_index</th>\n",
       "      <td>0.88</td>\n",
       "      <td>1.66</td>\n",
       "      <td>1.8</td>\n",
       "      <td>2.716667</td>\n",
       "    </tr>\n",
       "    <tr>\n",
       "      <th>doc_accuracy_index</th>\n",
       "      <td>1.12</td>\n",
       "      <td>2.16</td>\n",
       "      <td>2.4</td>\n",
       "      <td>3.183333</td>\n",
       "    </tr>\n",
       "    <tr>\n",
       "      <th>doc_speaker_trustworthiness_index</th>\n",
       "      <td>1.1</td>\n",
       "      <td>2.16</td>\n",
       "      <td>1.96</td>\n",
       "      <td>2.833333</td>\n",
       "    </tr>\n",
       "    <tr>\n",
       "      <th>percentuale_parole_significative</th>\n",
       "      <td>0.754828</td>\n",
       "      <td>0.593333</td>\n",
       "      <td>0.676806</td>\n",
       "      <td>0.666979</td>\n",
       "    </tr>\n",
       "    <tr>\n",
       "      <th>numero_parole_frase</th>\n",
       "      <td>14.2</td>\n",
       "      <td>22.6</td>\n",
       "      <td>16.6</td>\n",
       "      <td>13.333333</td>\n",
       "    </tr>\n",
       "    <tr>\n",
       "      <th>fre</th>\n",
       "      <td>70.598</td>\n",
       "      <td>58.588</td>\n",
       "      <td>61.396</td>\n",
       "      <td>66.405</td>\n",
       "    </tr>\n",
       "    <tr>\n",
       "      <th>sentiment</th>\n",
       "      <td>-0.03</td>\n",
       "      <td>0.075</td>\n",
       "      <td>0.145636</td>\n",
       "      <td>0.106271</td>\n",
       "    </tr>\n",
       "    <tr>\n",
       "      <th>subjectivity</th>\n",
       "      <td>0.15</td>\n",
       "      <td>0.252778</td>\n",
       "      <td>0.361455</td>\n",
       "      <td>0.417508</td>\n",
       "    </tr>\n",
       "  </tbody>\n",
       "</table>\n",
       "</div>"
      ],
      "text/plain": [
       "                                  correct_false wrong_false wrong_true  \\\n",
       "doc_speaker_party_val                       0.2         0.6        0.0   \n",
       "doc_precision_index                        2.42        2.66       2.72   \n",
       "doc_unbiasedness_index                     0.88        1.66        1.8   \n",
       "doc_accuracy_index                         1.12        2.16        2.4   \n",
       "doc_speaker_trustworthiness_index           1.1        2.16       1.96   \n",
       "percentuale_parole_significative       0.754828    0.593333   0.676806   \n",
       "numero_parole_frase                        14.2        22.6       16.6   \n",
       "fre                                      70.598      58.588     61.396   \n",
       "sentiment                                 -0.03       0.075   0.145636   \n",
       "subjectivity                               0.15    0.252778   0.361455   \n",
       "\n",
       "                                  correct_true  \n",
       "doc_speaker_party_val                      1.0  \n",
       "doc_precision_index                   3.216667  \n",
       "doc_unbiasedness_index                2.716667  \n",
       "doc_accuracy_index                    3.183333  \n",
       "doc_speaker_trustworthiness_index     2.833333  \n",
       "percentuale_parole_significative      0.666979  \n",
       "numero_parole_frase                  13.333333  \n",
       "fre                                     66.405  \n",
       "sentiment                             0.106271  \n",
       "subjectivity                          0.417508  "
      ]
     },
     "metadata": {},
     "output_type": "display_data"
    }
   ],
   "source": [
    "for df in [[\"df_all\",df_all]]:\n",
    "    print(\"-\" * 100)\n",
    "    print(df[0])\n",
    "    df = pd.DataFrame(df[1].groupby(\"quartile\").mean()[[\"doc_speaker_party_val\",\"doc_precision_index\",\"doc_unbiasedness_index\",\"doc_accuracy_index\",\"doc_speaker_trustworthiness_index\",\"percentuale_parole_significative\",\"numero_parole_frase\",\"fre\",\"sentiment\", \"subjectivity\"]].reset_index(inplace=False))    \n",
    "    df = df[(df[\"quartile\"] != \"other_true\") & (df[\"quartile\"] != \"other_false\") & (df[\"quartile\"] != \"other\")].T\n",
    "    df.columns = df.iloc[0].values.tolist()\n",
    "    df = df.drop(df.index[0])\n",
    "    \n",
    "    \n",
    "    display(df[[\"correct_false\"\t, \"wrong_false\",\"wrong_true\",\"correct_true\"\t]])"
   ]
  }
 ],
 "metadata": {
  "kernelspec": {
   "display_name": "Env_ForTesi",
   "language": "python",
   "name": "python3"
  },
  "language_info": {
   "codemirror_mode": {
    "name": "ipython",
    "version": 3
   },
   "file_extension": ".py",
   "mimetype": "text/x-python",
   "name": "python",
   "nbconvert_exporter": "python",
   "pygments_lexer": "ipython3",
   "version": "3.9.16"
  },
  "orig_nbformat": 4
 },
 "nbformat": 4,
 "nbformat_minor": 2
}
